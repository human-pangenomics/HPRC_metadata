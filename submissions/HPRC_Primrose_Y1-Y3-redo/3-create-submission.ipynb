{
 "cells": [
  {
   "cell_type": "code",
   "execution_count": 30,
   "metadata": {},
   "outputs": [],
   "source": [
    "import pandas as pd\n",
    "import glob\n",
    "import os\n",
    "import shutil"
   ]
  },
  {
   "cell_type": "code",
   "execution_count": 31,
   "metadata": {},
   "outputs": [],
   "source": [
    "bam_files = glob.glob('primrose/HG*/analysis/primrose_outputs/*/*')"
   ]
  },
  {
   "cell_type": "code",
   "execution_count": 32,
   "metadata": {},
   "outputs": [
    {
     "data": {
      "text/plain": [
       "171"
      ]
     },
     "execution_count": 32,
     "metadata": {},
     "output_type": "execute_result"
    }
   ],
   "source": [
    "len(bam_files)"
   ]
  },
  {
   "cell_type": "code",
   "execution_count": 33,
   "metadata": {},
   "outputs": [],
   "source": [
    "bam_df = pd.DataFrame(bam_files)\n",
    "bam_df['file'] = [file.split('/')[1] for file in bam_df[0].tolist()]"
   ]
  },
  {
   "cell_type": "code",
   "execution_count": 34,
   "metadata": {},
   "outputs": [],
   "source": [
    "sample_df = pd.read_csv('primrose/primrose_sample_data.csv')\n",
    "sample_df['sample'] = [sample.split('-')[0] for sample in sample_df['sample_id'].tolist()]"
   ]
  },
  {
   "cell_type": "code",
   "execution_count": 35,
   "metadata": {},
   "outputs": [
    {
     "data": {
      "text/plain": [
       "'primrose/HG01255-m64043_210520_180149.hifi_reads.bam/analysis/primrose_outputs/6b2eb6b7-e860-4982-a03e-67e1c99ebff8/m64043_210520_180149.5mc.hifi_reads.bam'"
      ]
     },
     "execution_count": 35,
     "metadata": {},
     "output_type": "execute_result"
    }
   ],
   "source": [
    "bam_df[0].tolist()[0]"
   ]
  },
  {
   "cell_type": "code",
   "execution_count": 36,
   "metadata": {},
   "outputs": [],
   "source": [
    "# Function to restructure the paths\n",
    "def restructure_path(path):\n",
    "    # Extract sample ID and file name\n",
    "    sample_id = path.split('/')[1].split('-')[0]\n",
    "    file_name = os.path.basename(path)\n",
    "    \n",
    "    # Construct the new path\n",
    "    new_path = f\"HPRC_Primrose_Y1-Y3-redo/{sample_id}/raw_data/PacBio_HiFi/primrose/{file_name}\"\n",
    "    \n",
    "    return new_path\n",
    "\n",
    "# Apply the function to the DataFrame\n",
    "bam_df['new_relative_path'] = bam_df[0].apply(restructure_path)"
   ]
  },
  {
   "cell_type": "code",
   "execution_count": 1,
   "metadata": {},
   "outputs": [],
   "source": [
    "import os\n",
    "import shutil\n",
    "\n",
    "def move_files(bam_pairs):\n",
    "    for original_path, new_path in bam_pairs:\n",
    "        # Ensure the destination directory exists\n",
    "        os.makedirs(os.path.dirname(new_path), exist_ok=True)\n",
    "\n",
    "        # Move the file to the new location\n",
    "        shutil.move(original_path, new_path)\n",
    "        print(f\"Moved {original_path} to {new_path}\")\n",
    "\n",
    "# Example usage with your DataFrame\n",
    "# move_files(bam_df[[0, 'new_relative_path']].values)\n",
    "\n",
    "move_files(bam_df[[0,'new_relative_path']].values)"
   ]
  }
 ],
 "metadata": {
  "kernelspec": {
   "display_name": "Python 3",
   "language": "python",
   "name": "python3"
  },
  "language_info": {
   "codemirror_mode": {
    "name": "ipython",
    "version": 3
   },
   "file_extension": ".py",
   "mimetype": "text/x-python",
   "name": "python",
   "nbconvert_exporter": "python",
   "pygments_lexer": "ipython3",
   "version": "3.10.14"
  }
 },
 "nbformat": 4,
 "nbformat_minor": 2
}
