{
 "cells": [
  {
   "cell_type": "code",
   "execution_count": 1,
   "metadata": {},
   "outputs": [],
   "source": [
    "import pandas as pd"
   ]
  },
  {
   "cell_type": "code",
   "execution_count": 2,
   "metadata": {},
   "outputs": [],
   "source": [
    "hprc_primrose = pd.read_csv('/private/groups/hprc/human-pangenomics/HPRC_metadata/submissions/HPRC_Primrose_Y1-Y3/hifi_qc/hifi_qc_samples_output_table.csv') # submission file"
   ]
  },
  {
   "cell_type": "code",
   "execution_count": 3,
   "metadata": {},
   "outputs": [],
   "source": [
    "def aws_working(file_paths):\n",
    "\tnew_path_list = []\n",
    "\tfor data in file_paths:\n",
    "\t\tsample_id = data.split('/')[-3]\n",
    "\t\tnew_path = f\"s3://human-pangenomics/working/HPRC/{sample_id}/raw_data/PacBio_HiFi/primrose/{data.split('/')[-1]}\"\n",
    "\t\tnew_path_list.append(new_path)\n",
    "\treturn new_path_list\n",
    "hprc_primrose_working = aws_working(hprc_primrose['hifi_reads'].tolist())"
   ]
  },
  {
   "cell_type": "code",
   "execution_count": 4,
   "metadata": {},
   "outputs": [],
   "source": [
    "aws_df = pd.DataFrame(hprc_primrose['hifi_reads'])\n",
    "aws_df['release'] = hprc_primrose_working"
   ]
  },
  {
   "cell_type": "code",
   "execution_count": 8,
   "metadata": {},
   "outputs": [],
   "source": [
    "aws_df.to_csv('HPRC_Primrose_Y1-Y3.transfer.csv', header=None, index=None)"
   ]
  },
  {
   "cell_type": "code",
   "execution_count": null,
   "metadata": {},
   "outputs": [],
   "source": []
  }
 ],
 "metadata": {
  "kernelspec": {
   "display_name": "Python 3",
   "language": "python",
   "name": "python3"
  },
  "language_info": {
   "codemirror_mode": {
    "name": "ipython",
    "version": 3
   },
   "file_extension": ".py",
   "mimetype": "text/x-python",
   "name": "python",
   "nbconvert_exporter": "python",
   "pygments_lexer": "ipython3",
   "version": "3.10.14"
  }
 },
 "nbformat": 4,
 "nbformat_minor": 2
}
