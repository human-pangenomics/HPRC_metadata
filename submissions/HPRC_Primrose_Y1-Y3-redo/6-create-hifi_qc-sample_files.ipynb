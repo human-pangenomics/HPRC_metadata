{
 "cells": [
  {
   "cell_type": "code",
   "execution_count": 8,
   "metadata": {},
   "outputs": [],
   "source": [
    "import glob\n",
    "import pandas as pd"
   ]
  },
  {
   "cell_type": "code",
   "execution_count": 6,
   "metadata": {},
   "outputs": [],
   "source": [
    "# Create sample identifiers for hifi_qc_sample_files.csv\n",
    "\n",
    "# sample_id,hifi_reads,other_reads,perform_methylation_check\n",
    "hprc_primrose = pd.read_csv('HPRC_Primrose_Y1-Y3-redo.csv',header=None)\n",
    "hprc_primrose['ChildID'] = [sample.split('/')[-5] for sample in hprc_primrose[0].tolist()] # NOTE: Same as sample_id\n",
    "hprc_primrose['bam_file'] = [sample.split('/')[-1] for sample in hprc_primrose[0].tolist()]\n",
    "hprc_primrose['flow_cell'] = [sample.split('/')[-1].split('.')[0] for sample in hprc_primrose[0].tolist()]\n",
    "hprc_primrose['bam_file'] = [sample.split('/')[-1] for sample in hprc_primrose[0].tolist()]\n",
    "hprc_primrose['sample_id'] = hprc_primrose['ChildID'] + '_' + hprc_primrose['bam_file']\n",
    "hprc_primrose['perform_methylation_check'] = 'true'"
   ]
  },
  {
   "cell_type": "code",
   "execution_count": 9,
   "metadata": {},
   "outputs": [],
   "source": [
    "# Check for Illumina files on \n",
    "sample_pull = []\n",
    "other_reads = []\n",
    "for sample in [sample.split('_')[0] for sample in hprc_primrose['ChildID']]:\n",
    "\tother_reads_path = glob.glob('/private/groups/hprc/human-pangenomics/1000G_local/child/cram_to_bam/'+sample+'/*/*/*/*')\n",
    "\tif other_reads_path == []:\n",
    "\n",
    "\t\tother_reads_path = glob.glob('/private/groups/hprc/1000G_local/child/fastq/' + sample + '.*')\n",
    "\t\tif other_reads_path == []:\n",
    "\t\t\tsample_pull.append(sample)\n",
    "\t\telse:\n",
    "\t\t\tother_reads.append([other_reads_path[0]])\n",
    "\telse:\n",
    "\t\tother_reads.append([other_reads_path[0]])\n",
    "\n",
    "hprc_primrose['other_reads'] = other_reads\n",
    "hprc_primrose.rename(columns={0:'hifi_reads'},inplace=True)\n",
    "hprc_primrose = hprc_primrose[['sample_id','hifi_reads','other_reads','perform_methylation_check']]\n",
    "# hprc_primrose.to_csv('hifi_qc/hifi_qc_sample_files.csv',index=False)\n"
   ]
  },
  {
   "cell_type": "code",
   "execution_count": 11,
   "metadata": {},
   "outputs": [],
   "source": [
    "hprc_primrose.to_csv('hifi_qc/hifi_qc_sample_files.csv',index=False)"
   ]
  }
 ],
 "metadata": {
  "kernelspec": {
   "display_name": "Python 3",
   "language": "python",
   "name": "python3"
  },
  "language_info": {
   "codemirror_mode": {
    "name": "ipython",
    "version": 3
   },
   "file_extension": ".py",
   "mimetype": "text/x-python",
   "name": "python",
   "nbconvert_exporter": "python",
   "pygments_lexer": "ipython3",
   "version": "3.10.14"
  }
 },
 "nbformat": 4,
 "nbformat_minor": 2
}
