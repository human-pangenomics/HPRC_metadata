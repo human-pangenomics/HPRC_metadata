{
 "cells": [
  {
   "cell_type": "code",
   "execution_count": 1,
   "metadata": {},
   "outputs": [],
   "source": [
    "import pandas as pd"
   ]
  },
  {
   "cell_type": "code",
   "execution_count": 2,
   "metadata": {},
   "outputs": [],
   "source": [
    "ru_y3_meta = pd.read_csv('HPRC_RU_Y3_HiFi_Metadata_Submission_Final.csv')"
   ]
  },
  {
   "cell_type": "code",
   "execution_count": 7,
   "metadata": {},
   "outputs": [],
   "source": [
    "hprc_biosample=pd.read_csv('/private/groups/hprc/human-pangenomics/documentation-metadata/HPRC_metadata/data/production/hprc-production-biosample-table.tsv',sep='\\t')\n",
    "hprc_biosample.rename(columns={'Sample':'sample_ID'},inplace=True)"
   ]
  },
  {
   "cell_type": "code",
   "execution_count": 3,
   "metadata": {},
   "outputs": [],
   "source": [
    "ru_y3_meta = ru_y3_meta[['sample_ID', 'filename','library_ID', 'library_strategy','library_source','library_selection', 'library_layout',\n",
    "\t\t\t\t'platform','instrument_model','shear_method', 'size_selection', 'ccs_algorithm', 'polymerase_version',\n",
    "\t\t\t\t'seq_plate_chemistry_version', 'generator_facility','generator_contact','filetype']]\n",
    "ru_y3_meta['assembly'] = 'unaligned'"
   ]
  },
  {
   "cell_type": "code",
   "execution_count": 6,
   "metadata": {},
   "outputs": [],
   "source": [
    "ru_y3_meta['title'] = ['PacBio HiFi sequencing of ' + sample_id for sample_id in ru_y3_meta['sample_ID'].tolist()]\n",
    "ru_y3_meta['design_description'] = 'HiFi sequencing of 20kb fractionated gDNA'\n",
    "\n",
    "ru_y3_meta['flow_cell'] = [flow_cell.split('.')[0] for flow_cell in ru_y3_meta['filename'].tolist()]\n",
    "ru_y3_meta['library_ID'] = ru_y3_meta['library_ID'] + '_' + ru_y3_meta['flow_cell']\n",
    "ru_y3_meta['instrument_model'] = 'Sequel II'\n"
   ]
  },
  {
   "cell_type": "code",
   "execution_count": 11,
   "metadata": {},
   "outputs": [
    {
     "data": {
      "text/html": [
       "<div>\n",
       "<style scoped>\n",
       "    .dataframe tbody tr th:only-of-type {\n",
       "        vertical-align: middle;\n",
       "    }\n",
       "\n",
       "    .dataframe tbody tr th {\n",
       "        vertical-align: top;\n",
       "    }\n",
       "\n",
       "    .dataframe thead th {\n",
       "        text-align: right;\n",
       "    }\n",
       "</style>\n",
       "<table border=\"1\" class=\"dataframe\">\n",
       "  <thead>\n",
       "    <tr style=\"text-align: right;\">\n",
       "      <th></th>\n",
       "      <th>sample_ID</th>\n",
       "      <th>Accession</th>\n",
       "      <th>familyID</th>\n",
       "      <th>Subpopulation</th>\n",
       "      <th>Superpopulation</th>\n",
       "      <th>Production Year</th>\n",
       "    </tr>\n",
       "  </thead>\n",
       "  <tbody>\n",
       "    <tr>\n",
       "      <th>0</th>\n",
       "      <td>HG01891</td>\n",
       "      <td>SAMN17861236</td>\n",
       "      <td>BB05</td>\n",
       "      <td>ACB</td>\n",
       "      <td>AFR</td>\n",
       "      <td>YR1</td>\n",
       "    </tr>\n",
       "    <tr>\n",
       "      <th>1</th>\n",
       "      <td>HG00673</td>\n",
       "      <td>SAMN17861654</td>\n",
       "      <td>SH079</td>\n",
       "      <td>CHS</td>\n",
       "      <td>EAS</td>\n",
       "      <td>YR1</td>\n",
       "    </tr>\n",
       "    <tr>\n",
       "      <th>2</th>\n",
       "      <td>HG00438</td>\n",
       "      <td>SAMN17861652</td>\n",
       "      <td>SH012</td>\n",
       "      <td>CHS</td>\n",
       "      <td>EAS</td>\n",
       "      <td>YR1</td>\n",
       "    </tr>\n",
       "    <tr>\n",
       "      <th>3</th>\n",
       "      <td>HG01071</td>\n",
       "      <td>SAMN17861657</td>\n",
       "      <td>PR17</td>\n",
       "      <td>PUR</td>\n",
       "      <td>AMR</td>\n",
       "      <td>YR1</td>\n",
       "    </tr>\n",
       "    <tr>\n",
       "      <th>4</th>\n",
       "      <td>HG00735</td>\n",
       "      <td>SAMN17861655</td>\n",
       "      <td>PR06</td>\n",
       "      <td>PUR</td>\n",
       "      <td>AMR</td>\n",
       "      <td>YR1</td>\n",
       "    </tr>\n",
       "  </tbody>\n",
       "</table>\n",
       "</div>"
      ],
      "text/plain": [
       "  sample_ID     Accession familyID Subpopulation Superpopulation  \\\n",
       "0   HG01891  SAMN17861236     BB05           ACB             AFR   \n",
       "1   HG00673  SAMN17861654    SH079           CHS             EAS   \n",
       "2   HG00438  SAMN17861652    SH012           CHS             EAS   \n",
       "3   HG01071  SAMN17861657     PR17           PUR             AMR   \n",
       "4   HG00735  SAMN17861655     PR06           PUR             AMR   \n",
       "\n",
       "  Production Year  \n",
       "0             YR1  \n",
       "1             YR1  \n",
       "2             YR1  \n",
       "3             YR1  \n",
       "4             YR1  "
      ]
     },
     "execution_count": 11,
     "metadata": {},
     "output_type": "execute_result"
    }
   ],
   "source": [
    "hprc_biosample.head()"
   ]
  },
  {
   "cell_type": "code",
   "execution_count": 13,
   "metadata": {},
   "outputs": [],
   "source": [
    "ru_y3_sra_meta = pd.merge(hprc_biosample[['sample_ID','Accession']],ru_y3_meta, on='sample_ID', how='inner')"
   ]
  },
  {
   "cell_type": "code",
   "execution_count": 15,
   "metadata": {},
   "outputs": [],
   "source": [
    "ru_y3_sra_meta.drop(columns=['sample_ID','flow_cell'],inplace=True)"
   ]
  },
  {
   "cell_type": "code",
   "execution_count": null,
   "metadata": {},
   "outputs": [],
   "source": [
    "ru_y3_sra_meta.to_csv('sra_biosample_RU_Y3_metadata.tsv',sep='\\t', index=False)"
   ]
  }
 ],
 "metadata": {
  "kernelspec": {
   "display_name": "Python 3",
   "language": "python",
   "name": "python3"
  },
  "language_info": {
   "codemirror_mode": {
    "name": "ipython",
    "version": 3
   },
   "file_extension": ".py",
   "mimetype": "text/x-python",
   "name": "python",
   "nbconvert_exporter": "python",
   "pygments_lexer": "ipython3",
   "version": "3.10.14"
  }
 },
 "nbformat": 4,
 "nbformat_minor": 2
}
