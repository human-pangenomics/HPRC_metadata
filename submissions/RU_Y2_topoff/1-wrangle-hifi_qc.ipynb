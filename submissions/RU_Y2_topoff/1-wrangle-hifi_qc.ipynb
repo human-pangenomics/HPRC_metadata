{
 "cells": [
  {
   "cell_type": "code",
   "execution_count": 22,
   "metadata": {},
   "outputs": [],
   "source": [
    "import pandas as pd\n",
    "import glob"
   ]
  },
  {
   "cell_type": "code",
   "execution_count": 9,
   "metadata": {},
   "outputs": [],
   "source": [
    "ru_y2_topoff = pd.read_csv('RU_Y2_topoff.csv',header=None)"
   ]
  },
  {
   "cell_type": "code",
   "execution_count": 16,
   "metadata": {},
   "outputs": [],
   "source": [
    "ru_y2_topoff = ru_y2_topoff[ru_y2_topoff[0].str.contains('hifi_reads')]\n",
    "ru_y2_topoff = ru_y2_topoff[~ru_y2_topoff[0].str.contains('unassigned')]\n"
   ]
  },
  {
   "cell_type": "code",
   "execution_count": 20,
   "metadata": {},
   "outputs": [
    {
     "data": {
      "text/plain": [
       "['HG00706', 'HG02668', 'HG03804', 'HG03816', 'HG04157', 'HG04160', 'HG04187']"
      ]
     },
     "execution_count": 20,
     "metadata": {},
     "output_type": "execute_result"
    }
   ],
   "source": [
    "[sample.split('/')[-3] for sample in ru_y2_topoff[0].tolist()]"
   ]
  },
  {
   "cell_type": "code",
   "execution_count": 25,
   "metadata": {},
   "outputs": [],
   "source": [
    "other_reads = []\n",
    "for sample in [sample.split('/')[-3] for sample in ru_y2_topoff[0].tolist()]:\n",
    "\tother_reads_path = glob.glob('/private/groups/hprc/human-pangenomics/1000G_local/child/cram_to_bam/'+sample+'/*/*/*/*')\n",
    "\tif other_reads_path == []:\n",
    "\t\tother_reads_path = glob.glob('/private/groups/hprc/1000G_local/child/fastq/' + sample + '.*')\n",
    "\t\tother_reads.append([other_reads_path[0]])\n",
    "\telse:\n",
    "\t\tother_reads.append([other_reads_path[0]])\n",
    "ru_y2_topoff['other_reads'] = other_reads\n",
    "ru_y2_topoff['perform_methylation_check'] = 'true'\n"
   ]
  },
  {
   "cell_type": "code",
   "execution_count": null,
   "metadata": {},
   "outputs": [],
   "source": [
    "{\n",
    "  \"hifi_qc_wf.hifi_reads\": \"s3://human-pangenomics/submissions/746FF75B-3C32-42AF-92BB-290BA92CF89A--RU_Y2_HIFI/HG00706/primrose/m64055e_210731_145204.5mc.hifi_reads.bam\",\n",
    "  \"hifi_qc_wf.sample_id\": \"HG00706_m64055e_210731_145204.5mc.hifi_reads.bam\",\n",
    "  \"hifi_qc_wf.other_reads\": [\n",
    "    \"/private/groups/hprc/1000G_local/child/fastq/HG00706.final.fq.gz\"\n",
    "  ],\n",
    "  \"hifi_qc_wf.perform_methylation_check\": true\n",
    "}"
   ]
  },
  {
   "cell_type": "code",
   "execution_count": 27,
   "metadata": {},
   "outputs": [],
   "source": [
    "ru_y2_topoff['sample_id'] = [sample.split('/')[-1] for sample in ru_y2_topoff[0].tolist()]"
   ]
  },
  {
   "cell_type": "code",
   "execution_count": 33,
   "metadata": {},
   "outputs": [],
   "source": [
    "ru_y2_topoff.rename(columns={0:'hifi_reads'},inplace=True)"
   ]
  },
  {
   "cell_type": "code",
   "execution_count": 35,
   "metadata": {},
   "outputs": [
    {
     "data": {
      "text/plain": [
       "(7, 4)"
      ]
     },
     "execution_count": 35,
     "metadata": {},
     "output_type": "execute_result"
    }
   ],
   "source": [
    "ru_y2_topoff.shape"
   ]
  },
  {
   "cell_type": "code",
   "execution_count": 34,
   "metadata": {},
   "outputs": [],
   "source": [
    "ru_y2_topoff[['sample_id','hifi_reads', 'other_reads', 'perform_methylation_check']].to_csv('hifi_qc/hifi_qc_sample_files.csv', index=False)"
   ]
  }
 ],
 "metadata": {
  "kernelspec": {
   "display_name": "Python 3",
   "language": "python",
   "name": "python3"
  },
  "language_info": {
   "codemirror_mode": {
    "name": "ipython",
    "version": 3
   },
   "file_extension": ".py",
   "mimetype": "text/x-python",
   "name": "python",
   "nbconvert_exporter": "python",
   "pygments_lexer": "ipython3",
   "version": "3.10.14"
  }
 },
 "nbformat": 4,
 "nbformat_minor": 2
}
