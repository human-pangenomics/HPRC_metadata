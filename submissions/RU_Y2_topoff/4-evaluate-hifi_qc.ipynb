{
 "cells": [
  {
   "cell_type": "code",
   "execution_count": 1,
   "metadata": {},
   "outputs": [],
   "source": [
    "import pandas as pd"
   ]
  },
  {
   "cell_type": "code",
   "execution_count": 54,
   "metadata": {},
   "outputs": [],
   "source": [
    "ru_y2_output_df = pd.read_csv('hifi_qc/hifi_qc_samples_output_table.csv')"
   ]
  },
  {
   "cell_type": "code",
   "execution_count": 55,
   "metadata": {},
   "outputs": [
    {
     "data": {
      "text/plain": [
       "(7, 11)"
      ]
     },
     "execution_count": 55,
     "metadata": {},
     "output_type": "execute_result"
    }
   ],
   "source": [
    "ru_y2_output_df.shape"
   ]
  },
  {
   "cell_type": "code",
   "execution_count": 47,
   "metadata": {},
   "outputs": [],
   "source": [
    "hifi_dict = {}\n",
    "for data in ru_y2_output_df[['sample_id','hifi_reads','hifi_qc_summary']].values:\n",
    "\tsample_id = data[1].split('/')[-3]\n",
    "\thifi_df = pd.read_csv(data[2], sep='\\t')\n",
    "\thifi_df['filename'] = sample_id+'_'+data[0]\n",
    "\thifi_dict[sample_id+'_'+data[0]]  = hifi_df\t"
   ]
  },
  {
   "cell_type": "code",
   "execution_count": 48,
   "metadata": {},
   "outputs": [],
   "source": [
    "hifi_df = pd.concat(hifi_dict.values())\n",
    "hifi_df['sample_ID'] = [sample_id.split('_')[0] for sample_id in hifi_df['filename'].tolist()]"
   ]
  },
  {
   "cell_type": "code",
   "execution_count": 49,
   "metadata": {},
   "outputs": [
    {
     "data": {
      "text/plain": [
       "dict_keys(['HG00706_m84091_230817_140121_s1.hifi_reads.bc1011.bam', 'HG02668_m84091_230804_170925_s2.hifi_reads.bc1010.bam', 'HG03804_m84091_230804_181137_s4.hifi_reads.bc1002.bam', 'HG03816_m84091_230802_183430_s4.hifi_reads.bc1009.bam', 'HG04157_m84091_230817_143140_s2.hifi_reads.bc1008.bam', 'HG04160_m84091_230802_180324_s3.hifi_reads.bc1003.bam', 'HG04187_m84091_230802_173218_s2.hifi_reads.bc1001.bam'])"
      ]
     },
     "execution_count": 49,
     "metadata": {},
     "output_type": "execute_result"
    }
   ],
   "source": [
    "hifi_dict.keys()"
   ]
  },
  {
   "cell_type": "code",
   "execution_count": 50,
   "metadata": {},
   "outputs": [],
   "source": [
    "hifi_df.drop(columns=['all_kinetics_flag', 'keep_kinetics_flag', 'hifi_kinetics_tag', 'PP_PRIMROSE', 'fi_tag', 'ri_tag','fp_tag', 'rp_tag'],inplace=True)"
   ]
  },
  {
   "cell_type": "code",
   "execution_count": 67,
   "metadata": {},
   "outputs": [],
   "source": [
    "hifi_df.to_csv('RU_Y2_topoff_sample_file_hifi_qc.csv',index=False)"
   ]
  }
 ],
 "metadata": {
  "kernelspec": {
   "display_name": "Python 3",
   "language": "python",
   "name": "python3"
  },
  "language_info": {
   "codemirror_mode": {
    "name": "ipython",
    "version": 3
   },
   "file_extension": ".py",
   "mimetype": "text/x-python",
   "name": "python",
   "nbconvert_exporter": "python",
   "pygments_lexer": "ipython3",
   "version": "3.10.14"
  }
 },
 "nbformat": 4,
 "nbformat_minor": 2
}
