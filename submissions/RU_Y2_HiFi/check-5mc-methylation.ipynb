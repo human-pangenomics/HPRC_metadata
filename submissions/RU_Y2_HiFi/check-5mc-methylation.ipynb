{
 "cells": [
  {
   "cell_type": "code",
   "execution_count": 2,
   "metadata": {},
   "outputs": [],
   "source": [
    "import pandas as pd\n",
    "file_df = pd.read_csv('RU_Y2_HIFI.csv',header=None)\n",
    "meth_df = pd.read_csv('methylation_summary.tsv',sep='\\t')\n",
    "meth_df['sample_id'] = [sample_id.split('/')[5] for sample_id in meth_df['file'].tolist()]\n",
    "meth_df[meth_df['fi_tag'].isin([False])].to_csv('RU_Y2_HIFI_HG04187_no_methylation.csv',index=False)"
   ]
  }
 ],
 "metadata": {
  "kernelspec": {
   "display_name": "Python 3",
   "language": "python",
   "name": "python3"
  },
  "language_info": {
   "codemirror_mode": {
    "name": "ipython",
    "version": 3
   },
   "file_extension": ".py",
   "mimetype": "text/x-python",
   "name": "python",
   "nbconvert_exporter": "python",
   "pygments_lexer": "ipython3",
   "version": "3.10.12"
  }
 },
 "nbformat": 4,
 "nbformat_minor": 2
}
