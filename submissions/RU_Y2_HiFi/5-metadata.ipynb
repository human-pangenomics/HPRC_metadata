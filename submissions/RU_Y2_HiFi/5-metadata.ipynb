{
 "cells": [
  {
   "cell_type": "code",
   "execution_count": 1,
   "metadata": {},
   "outputs": [],
   "source": [
    "import pandas as pd"
   ]
  },
  {
   "cell_type": "code",
   "execution_count": 2,
   "metadata": {},
   "outputs": [
    {
     "data": {
      "text/plain": [
       "(54, 24)"
      ]
     },
     "execution_count": 2,
     "metadata": {},
     "output_type": "execute_result"
    }
   ],
   "source": [
    "ru_y2_metadata = pd.read_csv('HPRC_RU_Y2_Sequel_Metadata_PacBio_HiFi_Submission.csv')\n",
    "ru_y2_metadata['flow_cell'] = [flow_cell.split('.')[0] for flow_cell in ru_y2_metadata['filename'].tolist()]\n",
    "ru_y2_metadata.shape"
   ]
  },
  {
   "cell_type": "code",
   "execution_count": 3,
   "metadata": {},
   "outputs": [
    {
     "name": "stdout",
     "output_type": "stream",
     "text": [
      "(36, 20)\n"
     ]
    }
   ],
   "source": [
    "ru_y2_qc = pd.read_csv('RU_Y2_HIFI_post_sra_metadata.csv')\n",
    "ru_y2_qc.rename(columns={'filename':'sample_ID_filename', 'bam_file':'filename'},inplace=True)\n",
    "print(ru_y2_qc.shape)\n"
   ]
  },
  {
   "cell_type": "code",
   "execution_count": 4,
   "metadata": {},
   "outputs": [
    {
     "data": {
      "text/plain": [
       "(18, 24)"
      ]
     },
     "execution_count": 4,
     "metadata": {},
     "output_type": "execute_result"
    }
   ],
   "source": [
    "# 18 files are not present in qc sample: HG04187\n",
    "ru_y2_metadata[~ru_y2_metadata['flow_cell'].isin(ru_y2_qc['flow_cell'].tolist())].shape "
   ]
  },
  {
   "cell_type": "code",
   "execution_count": 5,
   "metadata": {},
   "outputs": [
    {
     "name": "stderr",
     "output_type": "stream",
     "text": [
      "/data/tmp/ipykernel_3688859/2943073831.py:2: UserWarning: Boolean Series key will be reindexed to match DataFrame index.\n",
      "  ru_y2_qc = ru_y2_qc[ru_y2_metadata['flow_cell'].isin(ru_y2_metadata['flow_cell'].tolist())]\n"
     ]
    }
   ],
   "source": [
    "# all flow cells are present between qc and metadata\n",
    "ru_y2_qc = ru_y2_qc[ru_y2_metadata['flow_cell'].isin(ru_y2_metadata['flow_cell'].tolist())]"
   ]
  },
  {
   "cell_type": "code",
   "execution_count": 6,
   "metadata": {},
   "outputs": [],
   "source": [
    "ru_y2_df = pd.merge( ru_y2_metadata, ru_y2_qc[['flow_cell','filename']], on='flow_cell', how='inner')\n",
    "ru_y2_df.drop('filename_x', axis=1, inplace=True)\n",
    "ru_y2_df.rename(columns={'filename_y':'filename'}, inplace=True)"
   ]
  },
  {
   "cell_type": "code",
   "execution_count": 7,
   "metadata": {},
   "outputs": [],
   "source": [
    "ru_y2_setup = pd.read_csv('RU_Y2_HIFI.csv', header=None)"
   ]
  },
  {
   "cell_type": "code",
   "execution_count": 8,
   "metadata": {},
   "outputs": [],
   "source": [
    "ru_y2_setup = ru_y2_setup[ru_y2_setup[0].str.contains('primrose')]\n",
    "ru_y2_setup['filename'] = [filename.split('/')[-1] for filename in ru_y2_setup[0].tolist()]\n",
    "ru_y2_setup.rename(columns={0:'s3-submission'},inplace=True)"
   ]
  },
  {
   "cell_type": "code",
   "execution_count": 9,
   "metadata": {},
   "outputs": [],
   "source": [
    "# ru_y2_setup\n",
    "# RU_Y2_HiFi.transfer_ec2.csv\n",
    "# s3://human-pangenomics/working/HPRC"
   ]
  },
  {
   "cell_type": "code",
   "execution_count": 10,
   "metadata": {},
   "outputs": [],
   "source": [
    "transfer_list = []\n",
    "for data in ru_y2_setup['s3-submission'].tolist():\n",
    "\tpath = data.split('/746FF75B-3C32-42AF-92BB-290BA92CF89A--RU_Y2_HIFI')[1].split('primrose')\n",
    "\tpath.insert(1, 'raw_data/PacBio_HiFi')\n",
    "\tpath = ''.join(path)\n",
    "\trelease = 's3://human-pangenomics/working/HPRC' + path\n",
    "\ttransfer_list.append(release)\n",
    "ru_y2_setup['s3-working'] = transfer_list\n",
    "ru_y2_setup[['s3-submission','s3-working']].to_csv('RU_Y2_HiFi.transfer_ec2.csv',index=False, header=None)\n"
   ]
  },
  {
   "cell_type": "code",
   "execution_count": 11,
   "metadata": {},
   "outputs": [],
   "source": [
    "ru_y2_df = pd.merge(ru_y2_df,ru_y2_setup, on='filename', how='inner')"
   ]
  },
  {
   "cell_type": "code",
   "execution_count": 13,
   "metadata": {},
   "outputs": [],
   "source": [
    "ru_y2_df.to_csv('HPRC_RU_Y2_Sequel_Metadata_PacBio_HiFi_Submission_Final.csv',index=False)"
   ]
  }
 ],
 "metadata": {
  "kernelspec": {
   "display_name": "Python 3",
   "language": "python",
   "name": "python3"
  },
  "language_info": {
   "codemirror_mode": {
    "name": "ipython",
    "version": 3
   },
   "file_extension": ".py",
   "mimetype": "text/x-python",
   "name": "python",
   "nbconvert_exporter": "python",
   "pygments_lexer": "ipython3",
   "version": "3.10.14"
  }
 },
 "nbformat": 4,
 "nbformat_minor": 2
}
