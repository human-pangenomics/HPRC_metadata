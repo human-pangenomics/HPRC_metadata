{
 "cells": [
  {
   "cell_type": "code",
   "execution_count": 4,
   "metadata": {},
   "outputs": [],
   "source": [
    "import pandas as pd\n",
    "import glob\n",
    "import os\n",
    "import shutil"
   ]
  },
  {
   "cell_type": "code",
   "execution_count": 5,
   "metadata": {},
   "outputs": [],
   "source": [
    "bam_files = glob.glob('primrose/HG*/analysis/primrose_outputs/*/*')"
   ]
  },
  {
   "cell_type": "code",
   "execution_count": 8,
   "metadata": {},
   "outputs": [
    {
     "name": "stdout",
     "output_type": "stream",
     "text": [
      "Moved primrose/HG00706/analysis/primrose_outputs/5a97cb07-6931-4bc8-b53d-27b3524e55ac/m64055e_210731_145204.5mc.hifi_reads.bam to upload-primrose/HG00706/primrose/m64055e_210731_145204.5mc.hifi_reads.bam\n",
      "Moved primrose/HG00706/analysis/primrose_outputs/66b91d3e-ed38-4ca3-87ec-218365ce1a99/m64055e_210813_141904.5mc.hifi_reads.bam to upload-primrose/HG00706/primrose/m64055e_210813_141904.5mc.hifi_reads.bam\n",
      "Moved primrose/HG00706/analysis/primrose_outputs/efba9cfa-5eb9-40e2-a87a-92ca59e7472b/m64055e_210812_050522.5mc.hifi_reads.bam to upload-primrose/HG00706/primrose/m64055e_210812_050522.5mc.hifi_reads.bam\n",
      "Moved primrose/HG00706/analysis/primrose_outputs/a32ca7ff-9a72-491f-97bf-485c36dd2be9/m64055e_210814_234047.5mc.hifi_reads.bam to upload-primrose/HG00706/primrose/m64055e_210814_234047.5mc.hifi_reads.bam\n",
      "Moved primrose/HG02656/analysis/primrose_outputs/e800228a-2c10-4d8e-8597-3753fb6fbb5c/m64055e_210825_211340.5mc.hifi_reads.bam to upload-primrose/HG02656/primrose/m64055e_210825_211340.5mc.hifi_reads.bam\n",
      "Moved primrose/HG02656/analysis/primrose_outputs/f0d2dfc9-d5f1-4954-bf7b-2eff24800f4f/m64055e_210819_161540.5mc.hifi_reads.bam to upload-primrose/HG02656/primrose/m64055e_210819_161540.5mc.hifi_reads.bam\n",
      "Moved primrose/HG02656/analysis/primrose_outputs/d5717b3b-7729-44b9-b89d-12b0529ee513/m54306Ue_210825_213503.5mc.hifi_reads.bam to upload-primrose/HG02656/primrose/m54306Ue_210825_213503.5mc.hifi_reads.bam\n",
      "Moved primrose/HG02656/analysis/primrose_outputs/4cd5cf98-a544-4385-bfb0-14db46bc5858/m64055e_210825_211340.5mc.hifi_reads.bam to upload-primrose/HG02656/primrose/m64055e_210825_211340.5mc.hifi_reads.bam\n",
      "Moved primrose/HG02656/analysis/primrose_outputs/b7d3eb1a-d7b7-4e48-9fe3-35ce76eed83d/m54306Ue_210817_152605.5mc.hifi_reads.bam to upload-primrose/HG02656/primrose/m54306Ue_210817_152605.5mc.hifi_reads.bam\n",
      "Moved primrose/HG02656/analysis/primrose_outputs/264beb24-eb81-46e5-b73c-e7505c6d1de5/m54306Ue_210817_152605.5mc.hifi_reads.bam to upload-primrose/HG02656/primrose/m54306Ue_210817_152605.5mc.hifi_reads.bam\n",
      "Moved primrose/HG02656/analysis/primrose_outputs/056df829-2179-4404-b71d-a648411fdc8f/m64055e_210819_161540.5mc.hifi_reads.bam to upload-primrose/HG02656/primrose/m64055e_210819_161540.5mc.hifi_reads.bam\n",
      "Moved primrose/HG02656/analysis/primrose_outputs/0d5b0626-3de2-4972-8c75-ecc840aee1da/m54306Ue_210825_213503.5mc.hifi_reads.bam to upload-primrose/HG02656/primrose/m54306Ue_210825_213503.5mc.hifi_reads.bam\n",
      "Moved primrose/HG03825/analysis/primrose_outputs/8938a9ce-6be2-4616-9153-b7cb5c1ea560/m54306Ue_210819_153346.5mc.hifi_reads.bam to upload-primrose/HG03825/primrose/m54306Ue_210819_153346.5mc.hifi_reads.bam\n",
      "Moved primrose/HG03825/analysis/primrose_outputs/a7213fa6-9aed-482b-9431-9453f71d6e67/m54306Ue_210821_010021.5mc.hifi_reads.bam to upload-primrose/HG03825/primrose/m54306Ue_210821_010021.5mc.hifi_reads.bam\n",
      "Moved primrose/HG03825/analysis/primrose_outputs/307555ab-cb8b-43e2-bfb9-3cb13b55cdb1/m64055e_210817_150614.5mc.hifi_reads.bam to upload-primrose/HG03825/primrose/m64055e_210817_150614.5mc.hifi_reads.bam\n",
      "Moved primrose/HG03825/analysis/primrose_outputs/6c20930e-24c6-4e1d-9441-a04f7de6703c/m54306Ue_210822_102836.5mc.hifi_reads.bam to upload-primrose/HG03825/primrose/m54306Ue_210822_102836.5mc.hifi_reads.bam\n",
      "Moved primrose/HG01887/analysis/primrose_outputs/2166e1db-595a-4256-8928-fb7c88813ab6/m64055e_210831_160520.5mc.hifi_reads.bam to upload-primrose/HG01887/primrose/m64055e_210831_160520.5mc.hifi_reads.bam\n",
      "Moved primrose/HG01887/analysis/primrose_outputs/b0d9cdd1-77e6-4d4f-8670-31796a1762ab/m64055e_210828_161538.5mc.hifi_reads.bam to upload-primrose/HG01887/primrose/m64055e_210828_161538.5mc.hifi_reads.bam\n",
      "Moved primrose/HG01887/analysis/primrose_outputs/7f60d55f-b73a-49df-9faa-66cc2fa6d35c/m54306Ue_210830_185043.5mc.hifi_reads.bam to upload-primrose/HG01887/primrose/m54306Ue_210830_185043.5mc.hifi_reads.bam\n",
      "Moved primrose/HG01887/analysis/primrose_outputs/b6c43763-560f-4192-bbb1-c10e35d23afe/m54306Ue_210901_041827.5mc.hifi_reads.bam to upload-primrose/HG01887/primrose/m54306Ue_210901_041827.5mc.hifi_reads.bam\n",
      "Moved primrose/HG01887/analysis/primrose_outputs/36f2331c-92c4-4a74-ba65-fdaecc786d0f/m54306Ue_210901_041827.5mc.hifi_reads.bam to upload-primrose/HG01887/primrose/m54306Ue_210901_041827.5mc.hifi_reads.bam\n",
      "Moved primrose/HG01887/analysis/primrose_outputs/87460847-8b3b-4d22-8a5e-f2d46498958b/m54306Ue_210830_185043.5mc.hifi_reads.bam to upload-primrose/HG01887/primrose/m54306Ue_210830_185043.5mc.hifi_reads.bam\n",
      "Moved primrose/HG01887/analysis/primrose_outputs/df2b2663-896b-42fa-8302-8d105da29b4f/m64055e_210831_160520.5mc.hifi_reads.bam to upload-primrose/HG01887/primrose/m64055e_210831_160520.5mc.hifi_reads.bam\n",
      "Moved primrose/HG01887/analysis/primrose_outputs/d364c48c-02eb-4c3a-a55e-c5741d1da2c7/m64055e_210828_161538.5mc.hifi_reads.bam to upload-primrose/HG01887/primrose/m64055e_210828_161538.5mc.hifi_reads.bam\n",
      "Moved primrose/HG03804/analysis/primrose_outputs/187ac6bc-50d2-4e2c-a191-7f0cd39bd6ec/m64055e_210712_200125.5mc.hifi_reads.bam to upload-primrose/HG03804/primrose/m64055e_210712_200125.5mc.hifi_reads.bam\n",
      "Moved primrose/HG03804/analysis/primrose_outputs/f06fbf29-1674-404f-9323-f189ef6169eb/m64055e_210714_052746.5mc.hifi_reads.bam to upload-primrose/HG03804/primrose/m64055e_210714_052746.5mc.hifi_reads.bam\n",
      "Moved primrose/HG03804/analysis/primrose_outputs/5069eba1-4921-46a3-9e0b-cf4a6ff0ee4f/m64055e_210709_184151.5mc.hifi_reads.bam to upload-primrose/HG03804/primrose/m64055e_210709_184151.5mc.hifi_reads.bam\n",
      "Moved primrose/HG03804/analysis/primrose_outputs/ce645af6-e333-4296-9f9c-7581949dc651/m54306Ue_210716_134443.5mc.hifi_reads.bam to upload-primrose/HG03804/primrose/m54306Ue_210716_134443.5mc.hifi_reads.bam\n",
      "Moved primrose/HG04157/analysis/primrose_outputs/fa03248d-9c02-44d7-9bb3-cf4441776b59/m54306Ue_210729_003128.5mc.hifi_reads.bam to upload-primrose/HG04157/primrose/m54306Ue_210729_003128.5mc.hifi_reads.bam\n",
      "Moved primrose/HG04157/analysis/primrose_outputs/86a5541c-7a4f-44c1-b13d-0fa58f749eca/m54306Ue_210725_040349.5mc.hifi_reads.bam to upload-primrose/HG04157/primrose/m54306Ue_210725_040349.5mc.hifi_reads.bam\n",
      "Moved primrose/HG04157/analysis/primrose_outputs/e8167ddf-a750-4713-af46-86ce5b7f6d52/m54306Ue_210730_180007.5mc.hifi_reads.bam to upload-primrose/HG04157/primrose/m54306Ue_210730_180007.5mc.hifi_reads.bam\n",
      "Moved primrose/HG04157/analysis/primrose_outputs/3cd8c65d-33d4-457e-9bc8-05adbe6ce39c/m54306Ue_210727_144948.5mc.hifi_reads.bam to upload-primrose/HG04157/primrose/m54306Ue_210727_144948.5mc.hifi_reads.bam\n",
      "Moved primrose/HG04160/analysis/primrose_outputs/285ba70e-8c8a-45ac-9cb1-e539aa9c727f/m64055e_210715_181933.5mc.hifi_reads.bam to upload-primrose/HG04160/primrose/m64055e_210715_181933.5mc.hifi_reads.bam\n",
      "Moved primrose/HG04160/analysis/primrose_outputs/c18547aa-8074-42bb-b315-b9f193374d93/m64055e_210711_053617.5mc.hifi_reads.bam to upload-primrose/HG04160/primrose/m64055e_210711_053617.5mc.hifi_reads.bam\n",
      "Moved primrose/HG04160/analysis/primrose_outputs/eb930a55-8f51-4d38-8cc7-7acf17694d77/m54306Ue_210713_140744.5mc.hifi_reads.bam to upload-primrose/HG04160/primrose/m54306Ue_210713_140744.5mc.hifi_reads.bam\n",
      "Moved primrose/HG04160/analysis/primrose_outputs/4789d243-d76d-4a36-a8c6-b99c58f1c994/m54306Ue_210715_000620.5mc.hifi_reads.bam to upload-primrose/HG04160/primrose/m54306Ue_210715_000620.5mc.hifi_reads.bam\n",
      "Moved primrose/HG02668/analysis/primrose_outputs/85f7aaf1-11ea-46ea-b226-f2524fd0905b/m54306Ue_210801_045414.5mc.hifi_reads.bam to upload-primrose/HG02668/primrose/m54306Ue_210801_045414.5mc.hifi_reads.bam\n",
      "Moved primrose/HG02668/analysis/primrose_outputs/56eeff3a-db70-4713-986f-7c12b9b9c40b/m54306Ue_210802_164702.5mc.hifi_reads.bam to upload-primrose/HG02668/primrose/m54306Ue_210802_164702.5mc.hifi_reads.bam\n",
      "Moved primrose/HG02668/analysis/primrose_outputs/bd237410-fdf1-46f3-b723-201500b5e5e1/m54306Ue_210804_021745.5mc.hifi_reads.bam to upload-primrose/HG02668/primrose/m54306Ue_210804_021745.5mc.hifi_reads.bam\n",
      "Moved primrose/HG02668/analysis/primrose_outputs/03deebeb-9011-44de-93d7-3a05dbdd153d/m64055e_210810_194150.5mc.hifi_reads.bam to upload-primrose/HG02668/primrose/m64055e_210810_194150.5mc.hifi_reads.bam\n",
      "Moved primrose/HG03816/analysis/primrose_outputs/fd6881d9-c11d-41e0-9c30-000aa7ba159a/m64055e_210728_024601.5mc.hifi_reads.bam to upload-primrose/HG03816/primrose/m64055e_210728_024601.5mc.hifi_reads.bam\n",
      "Moved primrose/HG03816/analysis/primrose_outputs/b61a6cab-e38c-428d-b846-cf9cbd61b415/m64055e_210726_155147.5mc.hifi_reads.bam to upload-primrose/HG03816/primrose/m64055e_210726_155147.5mc.hifi_reads.bam\n",
      "Moved primrose/HG03816/analysis/primrose_outputs/309d1b05-1354-46ff-9c37-db82b2b350a9/m54306Ue_210723_183738.5mc.hifi_reads.bam to upload-primrose/HG03816/primrose/m54306Ue_210723_183738.5mc.hifi_reads.bam\n",
      "Moved primrose/HG03816/analysis/primrose_outputs/d307c8b1-1bbb-4719-9591-29bf89e08c66/m64055e_210729_122949.5mc.hifi_reads.bam to upload-primrose/HG03816/primrose/m64055e_210729_122949.5mc.hifi_reads.bam\n"
     ]
    }
   ],
   "source": [
    "\n",
    "\n",
    "target_base_dir = 'upload-primrose/'\n",
    "\n",
    "def restructure_files(bam_files, target_base_dir):\n",
    "    for bam_file in bam_files:\n",
    "         # Extract parts from the file path\n",
    "        parts = bam_file.split('/')\n",
    "        if '.bam.5mc.hifi_reads.bam' in bam_file:\n",
    "            bam_filename = parts[-1]\n",
    "            bam_filename = bam_filename.replace('.bam.5mc.hifi_reads.bam', '.5mc.hifi_reads.bam')\n",
    "        else:\n",
    "            bam_filename = parts[-1]\n",
    "\n",
    "       \n",
    "        sample_id = parts[-5].split('_')[0]\n",
    "        run_id = parts[-4]\n",
    "        \n",
    "        new_dir = os.path.join(target_base_dir, sample_id, 'primrose')\n",
    "        os.makedirs(new_dir, exist_ok=True)\n",
    "\n",
    "        new_file_path = os.path.join(new_dir, bam_filename)\n",
    "        shutil.move(bam_file, new_file_path)\n",
    "        print(f\"Moved {bam_file} to {new_file_path}\")\n",
    "\n",
    "\n",
    "# Run the restructuring function\n",
    "restructure_files(bam_files, target_base_dir)"
   ]
  },
  {
   "cell_type": "code",
   "execution_count": null,
   "metadata": {},
   "outputs": [],
   "source": [
    "ssds staging upload \\\n",
    "--deployment default \\\n",
    "--submission-id 746FF75B-3C32-42AF-92BB-290BA92CF89A  \\\n",
    "upload-primrose"
   ]
  }
 ],
 "metadata": {
  "kernelspec": {
   "display_name": "Python 3",
   "language": "python",
   "name": "python3"
  },
  "language_info": {
   "codemirror_mode": {
    "name": "ipython",
    "version": 3
   },
   "file_extension": ".py",
   "mimetype": "text/x-python",
   "name": "python",
   "nbconvert_exporter": "python",
   "pygments_lexer": "ipython3",
   "version": "3.10.14"
  }
 },
 "nbformat": 4,
 "nbformat_minor": 2
}
