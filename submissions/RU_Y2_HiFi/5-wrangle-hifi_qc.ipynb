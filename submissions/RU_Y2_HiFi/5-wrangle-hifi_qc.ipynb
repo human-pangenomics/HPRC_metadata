{
 "cells": [
  {
   "cell_type": "code",
   "execution_count": 2,
   "metadata": {},
   "outputs": [],
   "source": [
    "import glob\n",
    "import pandas as pd"
   ]
  },
  {
   "cell_type": "code",
   "execution_count": 13,
   "metadata": {},
   "outputs": [],
   "source": [
    "ru_y2_df = pd.read_csv('RU_Y2_HIFI.csv',header=None)\n",
    "ru_y2_df.rename(columns={0:'hifi_reads'},inplace=True)\n",
    "\n",
    "ru_y2_df = ru_y2_df[ru_y2_df.hifi_reads.str.contains('primrose')]\n",
    "ru_y2_df['sample_id'] = [sample.split('/')[-3] + '_' +sample.split('/')[-1] for sample in ru_y2_df['hifi_reads'].tolist()]"
   ]
  },
  {
   "cell_type": "code",
   "execution_count": 14,
   "metadata": {},
   "outputs": [
    {
     "data": {
      "text/plain": [
       "(36, 2)"
      ]
     },
     "execution_count": 14,
     "metadata": {},
     "output_type": "execute_result"
    }
   ],
   "source": [
    "ru_y2_df.shape"
   ]
  },
  {
   "cell_type": "code",
   "execution_count": 25,
   "metadata": {},
   "outputs": [],
   "source": [
    "sample_pull = []\n",
    "other_reads = []\n",
    "for sample in [sample.split('_')[0] for sample in ru_y2_df['sample_id'].tolist()]:\n",
    "\tother_reads_path = glob.glob('/private/groups/hprc/human-pangenomics/1000G_local/child/cram_to_bam/'+sample+'/*/*/*/*')\n",
    "\tif other_reads_path == []:\n",
    "\n",
    "\t\tother_reads_path = glob.glob('/private/groups/hprc/1000G_local/child/fastq/' + sample + '.*')\n",
    "\t\tif other_reads_path == []:\n",
    "\t\t\tsample_pull.append(sample)\n",
    "\t\telse:\n",
    "\t\t\tother_reads.append([other_reads_path[0]])\n",
    "\telse:\n",
    "\t\tother_reads.append([other_reads_path[0]])\n",
    "ru_y2_df['other_reads'] = other_reads\n",
    "ru_y2_df['perform_methylation_check'] = 'true'\n"
   ]
  },
  {
   "cell_type": "code",
   "execution_count": 28,
   "metadata": {},
   "outputs": [],
   "source": [
    "ru_y2_df[['sample_id','hifi_reads', 'other_reads', 'perform_methylation_check']].to_csv('hifi_qc/hifi_qc_sample_files.csv', index=False)"
   ]
  }
 ],
 "metadata": {
  "kernelspec": {
   "display_name": "Python 3",
   "language": "python",
   "name": "python3"
  },
  "language_info": {
   "codemirror_mode": {
    "name": "ipython",
    "version": 3
   },
   "file_extension": ".py",
   "mimetype": "text/x-python",
   "name": "python",
   "nbconvert_exporter": "python",
   "pygments_lexer": "ipython3",
   "version": "3.10.14"
  }
 },
 "nbformat": 4,
 "nbformat_minor": 2
}
