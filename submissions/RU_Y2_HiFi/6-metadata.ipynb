{
 "cells": [
  {
   "cell_type": "code",
   "execution_count": 2,
   "metadata": {},
   "outputs": [],
   "source": [
    "import collections\n",
    "import pandas as pd\n",
    "import mechanicalsoup"
   ]
  },
  {
   "cell_type": "code",
   "execution_count": 50,
   "metadata": {},
   "outputs": [
    {
     "data": {
      "text/plain": [
       "(54, 24)"
      ]
     },
     "execution_count": 50,
     "metadata": {},
     "output_type": "execute_result"
    }
   ],
   "source": [
    "ru_y2_metadata = pd.read_csv('HPRC_RU_Y2_Sequel_Metadata_PacBio_HiFi_Submission_Initial.csv')\n",
    "ru_y2_metadata['flow_cell'] = [flow_cell.split('.')[0] for flow_cell in ru_y2_metadata['filename'].tolist()]\n",
    "ru_y2_metadata.shape"
   ]
  },
  {
   "cell_type": "code",
   "execution_count": 51,
   "metadata": {},
   "outputs": [
    {
     "name": "stdout",
     "output_type": "stream",
     "text": [
      "(36, 20)\n"
     ]
    }
   ],
   "source": [
    "ru_y2_qc = pd.read_csv('RU_Y2_HIFI_post_sra_metadata.csv')\n",
    "ru_y2_qc.rename(columns={'filename':'sample_ID_filename', 'bam_file':'filename'},inplace=True)\n",
    "print(ru_y2_qc.shape)\n"
   ]
  },
  {
   "cell_type": "code",
   "execution_count": 52,
   "metadata": {},
   "outputs": [
    {
     "data": {
      "text/plain": [
       "(18, 24)"
      ]
     },
     "execution_count": 52,
     "metadata": {},
     "output_type": "execute_result"
    }
   ],
   "source": [
    "# 18 files are not present in qc sample: HG04187\n",
    "ru_y2_metadata[~ru_y2_metadata['flow_cell'].isin(ru_y2_qc['flow_cell'].tolist())].shape "
   ]
  },
  {
   "cell_type": "code",
   "execution_count": 53,
   "metadata": {},
   "outputs": [
    {
     "name": "stderr",
     "output_type": "stream",
     "text": [
      "/data/tmp/ipykernel_1196988/2943073831.py:2: UserWarning: Boolean Series key will be reindexed to match DataFrame index.\n",
      "  ru_y2_qc = ru_y2_qc[ru_y2_metadata['flow_cell'].isin(ru_y2_metadata['flow_cell'].tolist())]\n"
     ]
    }
   ],
   "source": [
    "# all flow cells are present between qc and metadata\n",
    "ru_y2_qc = ru_y2_qc[ru_y2_metadata['flow_cell'].isin(ru_y2_metadata['flow_cell'].tolist())]"
   ]
  },
  {
   "cell_type": "code",
   "execution_count": 54,
   "metadata": {},
   "outputs": [],
   "source": [
    "ru_y2_df = pd.merge( ru_y2_metadata, ru_y2_qc[['flow_cell','filename']], on='flow_cell', how='inner')\n",
    "ru_y2_df.drop('filename_x', axis=1, inplace=True)\n",
    "ru_y2_df.rename(columns={'filename_y':'filename'}, inplace=True)"
   ]
  },
  {
   "cell_type": "code",
   "execution_count": 55,
   "metadata": {},
   "outputs": [],
   "source": [
    "ru_y2_setup = pd.read_csv('RU_Y2_HIFI.csv', header=None)"
   ]
  },
  {
   "cell_type": "code",
   "execution_count": 56,
   "metadata": {},
   "outputs": [],
   "source": [
    "ru_y2_setup = ru_y2_setup[ru_y2_setup[0].str.contains('primrose')]\n",
    "ru_y2_setup['filename'] = [filename.split('/')[-1] for filename in ru_y2_setup[0].tolist()]\n",
    "ru_y2_setup.rename(columns={0:'s3-submission'},inplace=True)"
   ]
  },
  {
   "cell_type": "code",
   "execution_count": 59,
   "metadata": {},
   "outputs": [],
   "source": [
    "# update primrose working paths\n",
    "transfer_list = []\n",
    "for data in ru_y2_setup['s3-submission'].tolist():\n",
    "\tpath = data.split('/746FF75B-3C32-42AF-92BB-290BA92CF89A--RU_Y2_HIFI')[1].split('primrose')\n",
    "\tpath.insert(1, 'raw_data/PacBio_HiFi/primrose')\n",
    "\tpath = ''.join(path)\n",
    "\trelease = 's3://human-pangenomics/working/HPRC' + path\n",
    "\ttransfer_list.append(release)\n",
    "ru_y2_setup['s3-working'] = transfer_list\n",
    "ru_y2_setup[['s3-submission','s3-working']].to_csv('RU_Y2_HiFi.transfer_ec2.csv',index=False, header=None)\n"
   ]
  },
  {
   "cell_type": "code",
   "execution_count": 11,
   "metadata": {},
   "outputs": [],
   "source": [
    "ru_y2_df = pd.merge(ru_y2_df,ru_y2_setup, on='filename', how='inner')"
   ]
  },
  {
   "cell_type": "code",
   "execution_count": 13,
   "metadata": {},
   "outputs": [],
   "source": [
    "ru_y2_df.to_csv('HPRC_RU_Y2_Sequel_Metadata_PacBio_HiFi_Submission_Final.csv',index=False)"
   ]
  },
  {
   "cell_type": "code",
   "execution_count": 2,
   "metadata": {},
   "outputs": [],
   "source": [
    "ru_y2_df = pd.read_csv('HPRC_RU_Y2_Sequel_Metadata_PacBio_HiFi_Submission_Final.csv')"
   ]
  },
  {
   "cell_type": "code",
   "execution_count": 5,
   "metadata": {},
   "outputs": [
    {
     "data": {
      "text/html": [
       "<div>\n",
       "<style scoped>\n",
       "    .dataframe tbody tr th:only-of-type {\n",
       "        vertical-align: middle;\n",
       "    }\n",
       "\n",
       "    .dataframe tbody tr th {\n",
       "        vertical-align: top;\n",
       "    }\n",
       "\n",
       "    .dataframe thead th {\n",
       "        text-align: right;\n",
       "    }\n",
       "</style>\n",
       "<table border=\"1\" class=\"dataframe\">\n",
       "  <thead>\n",
       "    <tr style=\"text-align: right;\">\n",
       "      <th></th>\n",
       "      <th>filetype</th>\n",
       "      <th>sample_ID</th>\n",
       "      <th>library_ID</th>\n",
       "      <th>library_strategy</th>\n",
       "      <th>library_source</th>\n",
       "      <th>library_selection</th>\n",
       "      <th>library_layout</th>\n",
       "      <th>platform</th>\n",
       "      <th>instrument_model</th>\n",
       "      <th>design_description</th>\n",
       "      <th>...</th>\n",
       "      <th>primrose_version</th>\n",
       "      <th>polymerase_version</th>\n",
       "      <th>seq_plate_chemistry_version</th>\n",
       "      <th>generator_facility</th>\n",
       "      <th>generator_contact</th>\n",
       "      <th>notes</th>\n",
       "      <th>flow_cell</th>\n",
       "      <th>filename</th>\n",
       "      <th>s3-submission</th>\n",
       "      <th>s3-working</th>\n",
       "    </tr>\n",
       "  </thead>\n",
       "  <tbody>\n",
       "    <tr>\n",
       "      <th>0</th>\n",
       "      <td>bam</td>\n",
       "      <td>HG00706</td>\n",
       "      <td>HG00706_PB1</td>\n",
       "      <td>WGS</td>\n",
       "      <td>GENOMIC</td>\n",
       "      <td>size fractionation</td>\n",
       "      <td>single</td>\n",
       "      <td>PACBIO_SMRT</td>\n",
       "      <td>PacBio Sequel IIe</td>\n",
       "      <td>HiFi sequencing of 20kb fractionated gDNA</td>\n",
       "      <td>...</td>\n",
       "      <td>P2</td>\n",
       "      <td>c2</td>\n",
       "      <td>C2</td>\n",
       "      <td>Rockefeller University</td>\n",
       "      <td>vgl-lab@rockefeller.edu</td>\n",
       "      <td>NaN</td>\n",
       "      <td>m64055e_210731_145204</td>\n",
       "      <td>m64055e_210731_145204.5mc.hifi_reads.bam</td>\n",
       "      <td>s3://human-pangenomics/submissions/746FF75B-3C...</td>\n",
       "      <td>s3://human-pangenomics/working/HPRC/HG00706/ra...</td>\n",
       "    </tr>\n",
       "    <tr>\n",
       "      <th>1</th>\n",
       "      <td>bam</td>\n",
       "      <td>HG00706</td>\n",
       "      <td>HG00706_PB1</td>\n",
       "      <td>WGS</td>\n",
       "      <td>GENOMIC</td>\n",
       "      <td>size fractionation</td>\n",
       "      <td>single</td>\n",
       "      <td>PACBIO_SMRT</td>\n",
       "      <td>PacBio Sequel IIe</td>\n",
       "      <td>HiFi sequencing of 20kb fractionated gDNA</td>\n",
       "      <td>...</td>\n",
       "      <td>P2</td>\n",
       "      <td>c2</td>\n",
       "      <td>C2</td>\n",
       "      <td>Rockefeller University</td>\n",
       "      <td>vgl-lab@rockefeller.edu</td>\n",
       "      <td>NaN</td>\n",
       "      <td>m64055e_210812_050522</td>\n",
       "      <td>m64055e_210812_050522.5mc.hifi_reads.bam</td>\n",
       "      <td>s3://human-pangenomics/submissions/746FF75B-3C...</td>\n",
       "      <td>s3://human-pangenomics/working/HPRC/HG00706/ra...</td>\n",
       "    </tr>\n",
       "    <tr>\n",
       "      <th>2</th>\n",
       "      <td>bam</td>\n",
       "      <td>HG00706</td>\n",
       "      <td>HG00706_PB1</td>\n",
       "      <td>WGS</td>\n",
       "      <td>GENOMIC</td>\n",
       "      <td>size fractionation</td>\n",
       "      <td>single</td>\n",
       "      <td>PACBIO_SMRT</td>\n",
       "      <td>PacBio Sequel IIe</td>\n",
       "      <td>HiFi sequencing of 20kb fractionated gDNA</td>\n",
       "      <td>...</td>\n",
       "      <td>P2</td>\n",
       "      <td>c2</td>\n",
       "      <td>C2</td>\n",
       "      <td>Rockefeller University</td>\n",
       "      <td>vgl-lab@rockefeller.edu</td>\n",
       "      <td>NaN</td>\n",
       "      <td>m64055e_210813_141904</td>\n",
       "      <td>m64055e_210813_141904.5mc.hifi_reads.bam</td>\n",
       "      <td>s3://human-pangenomics/submissions/746FF75B-3C...</td>\n",
       "      <td>s3://human-pangenomics/working/HPRC/HG00706/ra...</td>\n",
       "    </tr>\n",
       "    <tr>\n",
       "      <th>3</th>\n",
       "      <td>bam</td>\n",
       "      <td>HG00706</td>\n",
       "      <td>HG00706_PB1</td>\n",
       "      <td>WGS</td>\n",
       "      <td>GENOMIC</td>\n",
       "      <td>size fractionation</td>\n",
       "      <td>single</td>\n",
       "      <td>PACBIO_SMRT</td>\n",
       "      <td>PacBio Sequel IIe</td>\n",
       "      <td>HiFi sequencing of 20kb fractionated gDNA</td>\n",
       "      <td>...</td>\n",
       "      <td>P2</td>\n",
       "      <td>c2</td>\n",
       "      <td>C2</td>\n",
       "      <td>Rockefeller University</td>\n",
       "      <td>vgl-lab@rockefeller.edu</td>\n",
       "      <td>NaN</td>\n",
       "      <td>m64055e_210814_234047</td>\n",
       "      <td>m64055e_210814_234047.5mc.hifi_reads.bam</td>\n",
       "      <td>s3://human-pangenomics/submissions/746FF75B-3C...</td>\n",
       "      <td>s3://human-pangenomics/working/HPRC/HG00706/ra...</td>\n",
       "    </tr>\n",
       "    <tr>\n",
       "      <th>4</th>\n",
       "      <td>bam</td>\n",
       "      <td>HG01887</td>\n",
       "      <td>HG01887_PB1</td>\n",
       "      <td>WGS</td>\n",
       "      <td>GENOMIC</td>\n",
       "      <td>size fractionation</td>\n",
       "      <td>single</td>\n",
       "      <td>PACBIO_SMRT</td>\n",
       "      <td>PacBio Sequel IIe</td>\n",
       "      <td>HiFi sequencing of 20kb fractionated gDNA</td>\n",
       "      <td>...</td>\n",
       "      <td>P2</td>\n",
       "      <td>c2</td>\n",
       "      <td>C2</td>\n",
       "      <td>Rockefeller University</td>\n",
       "      <td>vgl-lab@rockefeller.edu</td>\n",
       "      <td>NaN</td>\n",
       "      <td>m54306Ue_210830_185043</td>\n",
       "      <td>m54306Ue_210830_185043.5mc.hifi_reads.bam</td>\n",
       "      <td>s3://human-pangenomics/submissions/746FF75B-3C...</td>\n",
       "      <td>s3://human-pangenomics/working/HPRC/HG01887/ra...</td>\n",
       "    </tr>\n",
       "  </tbody>\n",
       "</table>\n",
       "<p>5 rows × 26 columns</p>\n",
       "</div>"
      ],
      "text/plain": [
       "  filetype sample_ID   library_ID library_strategy library_source  \\\n",
       "0      bam   HG00706  HG00706_PB1              WGS        GENOMIC   \n",
       "1      bam   HG00706  HG00706_PB1              WGS        GENOMIC   \n",
       "2      bam   HG00706  HG00706_PB1              WGS        GENOMIC   \n",
       "3      bam   HG00706  HG00706_PB1              WGS        GENOMIC   \n",
       "4      bam   HG01887  HG01887_PB1              WGS        GENOMIC   \n",
       "\n",
       "    library_selection library_layout     platform   instrument_model  \\\n",
       "0  size fractionation         single  PACBIO_SMRT  PacBio Sequel IIe   \n",
       "1  size fractionation         single  PACBIO_SMRT  PacBio Sequel IIe   \n",
       "2  size fractionation         single  PACBIO_SMRT  PacBio Sequel IIe   \n",
       "3  size fractionation         single  PACBIO_SMRT  PacBio Sequel IIe   \n",
       "4  size fractionation         single  PACBIO_SMRT  PacBio Sequel IIe   \n",
       "\n",
       "                          design_description  ... primrose_version  \\\n",
       "0  HiFi sequencing of 20kb fractionated gDNA  ...               P2   \n",
       "1  HiFi sequencing of 20kb fractionated gDNA  ...               P2   \n",
       "2  HiFi sequencing of 20kb fractionated gDNA  ...               P2   \n",
       "3  HiFi sequencing of 20kb fractionated gDNA  ...               P2   \n",
       "4  HiFi sequencing of 20kb fractionated gDNA  ...               P2   \n",
       "\n",
       "   polymerase_version seq_plate_chemistry_version      generator_facility  \\\n",
       "0                  c2                          C2  Rockefeller University   \n",
       "1                  c2                          C2  Rockefeller University   \n",
       "2                  c2                          C2  Rockefeller University   \n",
       "3                  c2                          C2  Rockefeller University   \n",
       "4                  c2                          C2  Rockefeller University   \n",
       "\n",
       "         generator_contact notes               flow_cell  \\\n",
       "0  vgl-lab@rockefeller.edu   NaN   m64055e_210731_145204   \n",
       "1  vgl-lab@rockefeller.edu   NaN   m64055e_210812_050522   \n",
       "2  vgl-lab@rockefeller.edu   NaN   m64055e_210813_141904   \n",
       "3  vgl-lab@rockefeller.edu   NaN   m64055e_210814_234047   \n",
       "4  vgl-lab@rockefeller.edu   NaN  m54306Ue_210830_185043   \n",
       "\n",
       "                                    filename  \\\n",
       "0   m64055e_210731_145204.5mc.hifi_reads.bam   \n",
       "1   m64055e_210812_050522.5mc.hifi_reads.bam   \n",
       "2   m64055e_210813_141904.5mc.hifi_reads.bam   \n",
       "3   m64055e_210814_234047.5mc.hifi_reads.bam   \n",
       "4  m54306Ue_210830_185043.5mc.hifi_reads.bam   \n",
       "\n",
       "                                       s3-submission  \\\n",
       "0  s3://human-pangenomics/submissions/746FF75B-3C...   \n",
       "1  s3://human-pangenomics/submissions/746FF75B-3C...   \n",
       "2  s3://human-pangenomics/submissions/746FF75B-3C...   \n",
       "3  s3://human-pangenomics/submissions/746FF75B-3C...   \n",
       "4  s3://human-pangenomics/submissions/746FF75B-3C...   \n",
       "\n",
       "                                          s3-working  \n",
       "0  s3://human-pangenomics/working/HPRC/HG00706/ra...  \n",
       "1  s3://human-pangenomics/working/HPRC/HG00706/ra...  \n",
       "2  s3://human-pangenomics/working/HPRC/HG00706/ra...  \n",
       "3  s3://human-pangenomics/working/HPRC/HG00706/ra...  \n",
       "4  s3://human-pangenomics/working/HPRC/HG01887/ra...  \n",
       "\n",
       "[5 rows x 26 columns]"
      ]
     },
     "execution_count": 5,
     "metadata": {},
     "output_type": "execute_result"
    }
   ],
   "source": [
    "ru_y2_df.head()"
   ]
  },
  {
   "cell_type": "markdown",
   "metadata": {},
   "source": [
    "# Create BioSample Ids"
   ]
  },
  {
   "cell_type": "code",
   "execution_count": 12,
   "metadata": {},
   "outputs": [],
   "source": [
    "# biosample check\n",
    "hprc_biosample = pd.read_csv('/private/groups/hprc/human-pangenomics/documentation-metadata/HPRC_metadata/data/production/hprc-production-biosample-table.tsv', sep='\\t')\n",
    "hprc_biosample.rename(columns={'Sample':'sample_ID'},inplace=True)\n",
    "\n",
    "ncbi_biosample_df = pd.read_csv('ncbi-biosample-07.31.24.tsv',sep='\\t')\n",
    "ncbi_biosample_df.rename(columns={'BioSample.name':'sample_ID'},inplace=True)"
   ]
  },
  {
   "cell_type": "code",
   "execution_count": 34,
   "metadata": {},
   "outputs": [],
   "source": [
    "assert set(ru_y2_df[~ru_y2_df['sample_ID'].isin(ncbi_biosample_df.sample_ID.tolist())].sample_ID.tolist()) == set(ru_y2_df[~ru_y2_df['sample_ID'].isin(hprc_biosample.sample_ID.tolist())].sample_ID.tolist())"
   ]
  },
  {
   "cell_type": "code",
   "execution_count": 24,
   "metadata": {},
   "outputs": [],
   "source": [
    "# Create a MechanicalSoup browser object\n",
    "manual_resolve = []\n",
    "browser = mechanicalsoup.Browser()\n",
    "sample_collection_dict = {sample : {\"tissue\": None,\n",
    "                                    \"geo_loc_name\": None,\n",
    "                                    \"sex\": None\n",
    "                                   } for sample in ru_y2_df[~ru_y2_df['sample_ID'].isin(hprc_production.sample_ID.tolist())].sample_ID.tolist()}"
   ]
  },
  {
   "cell_type": "code",
   "execution_count": 25,
   "metadata": {},
   "outputs": [
    {
     "data": {
      "text/plain": [
       "{'HG01887': {'tissue': None, 'geo_loc_name': None, 'sex': None},\n",
       " 'HG02656': {'tissue': None, 'geo_loc_name': None, 'sex': None},\n",
       " 'HG03825': {'tissue': None, 'geo_loc_name': None, 'sex': None}}"
      ]
     },
     "execution_count": 25,
     "metadata": {},
     "output_type": "execute_result"
    }
   ],
   "source": [
    "sample_collection_dict"
   ]
  },
  {
   "cell_type": "code",
   "execution_count": 26,
   "metadata": {},
   "outputs": [],
   "source": [
    "for sample in sample_collection_dict.keys():\n",
    "    \n",
    "    url = 'https://catalog.coriell.org/0/Sections/Search/Sample_Detail.aspx?Ref='+sample+'&Product=DNA' # +'&product=CC'\n",
    "    page = browser.get(url)\n",
    "    \n",
    "    form = page.soup.select('form')[0]\n",
    "\n",
    "    try:\n",
    "        country_span = form.select_one('#lblCountry').text\n",
    "        cell_type_span = form.select_one('#lblCell_Type').text\n",
    "        sex_span = form.select_one('#lblGender').text\n",
    "        sample_collection_dict[sample]['tissue'] = cell_type_span\n",
    "        sample_collection_dict[sample]['geo_loc_name'] = country_span\n",
    "        sample_collection_dict[sample]['sex'] = sex_span\n",
    "    except AttributeError:\n",
    "        print(sample)"
   ]
  },
  {
   "cell_type": "code",
   "execution_count": 43,
   "metadata": {},
   "outputs": [],
   "source": [
    "# create biosample identifiers and import\n",
    "sample_collection_dict['HG01887']['Accession'] = 'SAMN42953248'\n",
    "sample_collection_dict['HG02656']['Accession'] = 'SAMN42953249'\n",
    "sample_collection_dict['HG03825']['Accession'] = 'SAMN42953250'\n"
   ]
  },
  {
   "cell_type": "code",
   "execution_count": 44,
   "metadata": {},
   "outputs": [],
   "source": [
    "sample_collection_df = pd.DataFrame.from_dict(sample_collection_dict,orient='index')"
   ]
  },
  {
   "cell_type": "code",
   "execution_count": 45,
   "metadata": {},
   "outputs": [
    {
     "data": {
      "text/html": [
       "<div>\n",
       "<style scoped>\n",
       "    .dataframe tbody tr th:only-of-type {\n",
       "        vertical-align: middle;\n",
       "    }\n",
       "\n",
       "    .dataframe tbody tr th {\n",
       "        vertical-align: top;\n",
       "    }\n",
       "\n",
       "    .dataframe thead th {\n",
       "        text-align: right;\n",
       "    }\n",
       "</style>\n",
       "<table border=\"1\" class=\"dataframe\">\n",
       "  <thead>\n",
       "    <tr style=\"text-align: right;\">\n",
       "      <th></th>\n",
       "      <th>tissue</th>\n",
       "      <th>geo_loc_name</th>\n",
       "      <th>sex</th>\n",
       "      <th>Accession</th>\n",
       "    </tr>\n",
       "  </thead>\n",
       "  <tbody>\n",
       "    <tr>\n",
       "      <th>HG01887</th>\n",
       "      <td>B-Lymphocyte</td>\n",
       "      <td>BARBADOS</td>\n",
       "      <td>Male</td>\n",
       "      <td>SAMN42953248</td>\n",
       "    </tr>\n",
       "    <tr>\n",
       "      <th>HG02656</th>\n",
       "      <td>B-Lymphocyte</td>\n",
       "      <td>PAKISTAN</td>\n",
       "      <td>Male</td>\n",
       "      <td>SAMN42953249</td>\n",
       "    </tr>\n",
       "    <tr>\n",
       "      <th>HG03825</th>\n",
       "      <td>B-Lymphocyte</td>\n",
       "      <td>BANGLADESH</td>\n",
       "      <td>Female</td>\n",
       "      <td>SAMN42953250</td>\n",
       "    </tr>\n",
       "  </tbody>\n",
       "</table>\n",
       "</div>"
      ],
      "text/plain": [
       "               tissue geo_loc_name     sex     Accession\n",
       "HG01887  B-Lymphocyte     BARBADOS    Male  SAMN42953248\n",
       "HG02656  B-Lymphocyte     PAKISTAN    Male  SAMN42953249\n",
       "HG03825  B-Lymphocyte   BANGLADESH  Female  SAMN42953250"
      ]
     },
     "execution_count": 45,
     "metadata": {},
     "output_type": "execute_result"
    }
   ],
   "source": [
    "sample_collection_df"
   ]
  },
  {
   "cell_type": "code",
   "execution_count": 13,
   "metadata": {},
   "outputs": [],
   "source": [
    "hprc_production = pd.read_csv('hprc-production-07.31.24.tsv',sep='\\t',header=1)"
   ]
  },
  {
   "cell_type": "code",
   "execution_count": 15,
   "metadata": {},
   "outputs": [],
   "source": [
    "# hprc_production[hprc_production['ChildID'].isin(['HG01626'])]"
   ]
  },
  {
   "cell_type": "code",
   "execution_count": 41,
   "metadata": {},
   "outputs": [
    {
     "data": {
      "text/html": [
       "<div>\n",
       "<style scoped>\n",
       "    .dataframe tbody tr th:only-of-type {\n",
       "        vertical-align: middle;\n",
       "    }\n",
       "\n",
       "    .dataframe tbody tr th {\n",
       "        vertical-align: top;\n",
       "    }\n",
       "\n",
       "    .dataframe thead th {\n",
       "        text-align: right;\n",
       "    }\n",
       "</style>\n",
       "<table border=\"1\" class=\"dataframe\">\n",
       "  <thead>\n",
       "    <tr style=\"text-align: right;\">\n",
       "      <th></th>\n",
       "      <th>ChildID</th>\n",
       "      <th>N</th>\n",
       "      <th>Sex</th>\n",
       "      <th>Subpopulation</th>\n",
       "      <th>Superpopulation</th>\n",
       "      <th>Production Year</th>\n",
       "      <th>Pellets Status: Production</th>\n",
       "      <th>QC: Karyotyping</th>\n",
       "      <th>QC: OMNI Microarray</th>\n",
       "      <th>Pellets Status: UL Nanopore Production</th>\n",
       "      <th>...</th>\n",
       "      <th>Hi-C data generation</th>\n",
       "      <th>Hi-C data submitted to AnVIL</th>\n",
       "      <th>Strand-seq Center Information</th>\n",
       "      <th>Strand-seq sample received</th>\n",
       "      <th>Strand-seq data generation</th>\n",
       "      <th>Strand-seq data  submitted to AnVIL</th>\n",
       "      <th>Kinnex Center Information</th>\n",
       "      <th>Kinnex sample received</th>\n",
       "      <th>Kinnex data generation</th>\n",
       "      <th>Kinnex data  submitted to AnVIL</th>\n",
       "    </tr>\n",
       "  </thead>\n",
       "  <tbody>\n",
       "    <tr>\n",
       "      <th>62</th>\n",
       "      <td>HG03825</td>\n",
       "      <td>BD25</td>\n",
       "      <td>female</td>\n",
       "      <td>BEB</td>\n",
       "      <td>SAS</td>\n",
       "      <td>Fail Karyo\\nEval HPRC+?</td>\n",
       "      <td>Pellets Banked (12/8/20)</td>\n",
       "      <td>Completed (3/8/21)</td>\n",
       "      <td>Completed (2/16/21)</td>\n",
       "      <td>Pellets Banked (12/8/20)</td>\n",
       "      <td>...</td>\n",
       "      <td>NaN</td>\n",
       "      <td>NaN</td>\n",
       "      <td>NaN</td>\n",
       "      <td>NaN</td>\n",
       "      <td>NaN</td>\n",
       "      <td>NaN</td>\n",
       "      <td>NaN</td>\n",
       "      <td>NaN</td>\n",
       "      <td>NaN</td>\n",
       "      <td>NaN</td>\n",
       "    </tr>\n",
       "    <tr>\n",
       "      <th>63</th>\n",
       "      <td>HG02656</td>\n",
       "      <td>PK13</td>\n",
       "      <td>male</td>\n",
       "      <td>PJL</td>\n",
       "      <td>SAS</td>\n",
       "      <td>Fail Karyo\\nEval HPRC+?</td>\n",
       "      <td>Pellets Banked (12/10/20)</td>\n",
       "      <td>Completed (3/1/21)</td>\n",
       "      <td>Completed (2/16/21)</td>\n",
       "      <td>Pellets Banked (12/10/20)</td>\n",
       "      <td>...</td>\n",
       "      <td>NaN</td>\n",
       "      <td>NaN</td>\n",
       "      <td>NaN</td>\n",
       "      <td>NaN</td>\n",
       "      <td>NaN</td>\n",
       "      <td>NaN</td>\n",
       "      <td>NaN</td>\n",
       "      <td>NaN</td>\n",
       "      <td>NaN</td>\n",
       "      <td>NaN</td>\n",
       "    </tr>\n",
       "    <tr>\n",
       "      <th>64</th>\n",
       "      <td>HG01887</td>\n",
       "      <td>BB04</td>\n",
       "      <td>male</td>\n",
       "      <td>ACB</td>\n",
       "      <td>AFR</td>\n",
       "      <td>Fail Karyo\\nEval HPRC+?</td>\n",
       "      <td>Pellets Banked (12/8/20)</td>\n",
       "      <td>Completed (3/1/21)</td>\n",
       "      <td>Completed (2/16/21)</td>\n",
       "      <td>Pellets Banked (12/8/20)</td>\n",
       "      <td>...</td>\n",
       "      <td>NaN</td>\n",
       "      <td>NaN</td>\n",
       "      <td>NaN</td>\n",
       "      <td>NaN</td>\n",
       "      <td>NaN</td>\n",
       "      <td>NaN</td>\n",
       "      <td>NaN</td>\n",
       "      <td>NaN</td>\n",
       "      <td>NaN</td>\n",
       "      <td>NaN</td>\n",
       "    </tr>\n",
       "  </tbody>\n",
       "</table>\n",
       "<p>3 rows × 42 columns</p>\n",
       "</div>"
      ],
      "text/plain": [
       "    ChildID     N     Sex Subpopulation Superpopulation  \\\n",
       "62  HG03825  BD25  female           BEB             SAS   \n",
       "63  HG02656  PK13    male           PJL             SAS   \n",
       "64  HG01887  BB04    male           ACB             AFR   \n",
       "\n",
       "            Production Year Pellets Status: Production    QC: Karyotyping   \\\n",
       "62  Fail Karyo\\nEval HPRC+?   Pellets Banked (12/8/20)  Completed (3/8/21)   \n",
       "63  Fail Karyo\\nEval HPRC+?  Pellets Banked (12/10/20)  Completed (3/1/21)   \n",
       "64  Fail Karyo\\nEval HPRC+?   Pellets Banked (12/8/20)  Completed (3/1/21)   \n",
       "\n",
       "    QC: OMNI Microarray Pellets Status: UL Nanopore Production  ...  \\\n",
       "62  Completed (2/16/21)               Pellets Banked (12/8/20)  ...   \n",
       "63  Completed (2/16/21)              Pellets Banked (12/10/20)  ...   \n",
       "64  Completed (2/16/21)               Pellets Banked (12/8/20)  ...   \n",
       "\n",
       "   Hi-C data generation Hi-C data submitted to AnVIL  \\\n",
       "62                  NaN                          NaN   \n",
       "63                  NaN                          NaN   \n",
       "64                  NaN                          NaN   \n",
       "\n",
       "   Strand-seq Center Information Strand-seq sample received  \\\n",
       "62                           NaN                        NaN   \n",
       "63                           NaN                        NaN   \n",
       "64                           NaN                        NaN   \n",
       "\n",
       "   Strand-seq data generation Strand-seq data  submitted to AnVIL  \\\n",
       "62                        NaN                                 NaN   \n",
       "63                        NaN                                 NaN   \n",
       "64                        NaN                                 NaN   \n",
       "\n",
       "   Kinnex Center Information  Kinnex sample received Kinnex data generation  \\\n",
       "62                       NaN                     NaN                    NaN   \n",
       "63                       NaN                     NaN                    NaN   \n",
       "64                       NaN                     NaN                    NaN   \n",
       "\n",
       "   Kinnex data  submitted to AnVIL  \n",
       "62                             NaN  \n",
       "63                             NaN  \n",
       "64                             NaN  \n",
       "\n",
       "[3 rows x 42 columns]"
      ]
     },
     "execution_count": 41,
     "metadata": {},
     "output_type": "execute_result"
    }
   ],
   "source": [
    "hprc_production[hprc_production['ChildID'].isin(sample_collection_df.index.tolist())]"
   ]
  },
  {
   "cell_type": "code",
   "execution_count": 25,
   "metadata": {},
   "outputs": [],
   "source": [
    "ru_y2_bio_obj = pd.read_csv('RU_Y2_HIFI_BioSampleObject.tsv',sep='\\t')\n",
    "ru_y2_bio_obj.rename(columns={'Sample Name': 'ChildID'},inplace=True)"
   ]
  },
  {
   "cell_type": "code",
   "execution_count": 31,
   "metadata": {},
   "outputs": [
    {
     "data": {
      "text/html": [
       "<div>\n",
       "<style scoped>\n",
       "    .dataframe tbody tr th:only-of-type {\n",
       "        vertical-align: middle;\n",
       "    }\n",
       "\n",
       "    .dataframe tbody tr th {\n",
       "        vertical-align: top;\n",
       "    }\n",
       "\n",
       "    .dataframe thead th {\n",
       "        text-align: right;\n",
       "    }\n",
       "</style>\n",
       "<table border=\"1\" class=\"dataframe\">\n",
       "  <thead>\n",
       "    <tr style=\"text-align: right;\">\n",
       "      <th></th>\n",
       "      <th>Accession</th>\n",
       "      <th>ChildID</th>\n",
       "      <th>SPUID</th>\n",
       "      <th>Organism</th>\n",
       "      <th>Tax ID</th>\n",
       "      <th>Isolate</th>\n",
       "      <th>N</th>\n",
       "      <th>Subpopulation</th>\n",
       "      <th>Superpopulation</th>\n",
       "      <th>Production Year</th>\n",
       "    </tr>\n",
       "  </thead>\n",
       "  <tbody>\n",
       "    <tr>\n",
       "      <th>0</th>\n",
       "      <td>SAMN42953248</td>\n",
       "      <td>HG01887</td>\n",
       "      <td>HG01887</td>\n",
       "      <td>Homo sapiens</td>\n",
       "      <td>9606</td>\n",
       "      <td>HG01887</td>\n",
       "      <td>BB04</td>\n",
       "      <td>ACB</td>\n",
       "      <td>AFR</td>\n",
       "      <td>Fail Karyo\\nEval HPRC+?</td>\n",
       "    </tr>\n",
       "    <tr>\n",
       "      <th>1</th>\n",
       "      <td>SAMN42953249</td>\n",
       "      <td>HG02656</td>\n",
       "      <td>HG02656</td>\n",
       "      <td>Homo sapiens</td>\n",
       "      <td>9606</td>\n",
       "      <td>HG02656</td>\n",
       "      <td>PK13</td>\n",
       "      <td>PJL</td>\n",
       "      <td>SAS</td>\n",
       "      <td>Fail Karyo\\nEval HPRC+?</td>\n",
       "    </tr>\n",
       "    <tr>\n",
       "      <th>2</th>\n",
       "      <td>SAMN42953250</td>\n",
       "      <td>HG03825</td>\n",
       "      <td>HG03825</td>\n",
       "      <td>Homo sapiens</td>\n",
       "      <td>9606</td>\n",
       "      <td>HG03825</td>\n",
       "      <td>BD25</td>\n",
       "      <td>BEB</td>\n",
       "      <td>SAS</td>\n",
       "      <td>Fail Karyo\\nEval HPRC+?</td>\n",
       "    </tr>\n",
       "  </tbody>\n",
       "</table>\n",
       "</div>"
      ],
      "text/plain": [
       "      Accession  ChildID    SPUID      Organism  Tax ID  Isolate     N  \\\n",
       "0  SAMN42953248  HG01887  HG01887  Homo sapiens    9606  HG01887  BB04   \n",
       "1  SAMN42953249  HG02656  HG02656  Homo sapiens    9606  HG02656  PK13   \n",
       "2  SAMN42953250  HG03825  HG03825  Homo sapiens    9606  HG03825  BD25   \n",
       "\n",
       "  Subpopulation Superpopulation          Production Year  \n",
       "0           ACB             AFR  Fail Karyo\\nEval HPRC+?  \n",
       "1           PJL             SAS  Fail Karyo\\nEval HPRC+?  \n",
       "2           BEB             SAS  Fail Karyo\\nEval HPRC+?  "
      ]
     },
     "execution_count": 31,
     "metadata": {},
     "output_type": "execute_result"
    }
   ],
   "source": [
    "pd.merge(ru_y2_bio_obj,hprc_production[['ChildID', 'N', 'Subpopulation', 'Superpopulation', 'Production Year']], on='ChildID')"
   ]
  },
  {
   "cell_type": "code",
   "execution_count": null,
   "metadata": {},
   "outputs": [],
   "source": []
  },
  {
   "cell_type": "code",
   "execution_count": 26,
   "metadata": {},
   "outputs": [
    {
     "data": {
      "text/html": [
       "<div>\n",
       "<style scoped>\n",
       "    .dataframe tbody tr th:only-of-type {\n",
       "        vertical-align: middle;\n",
       "    }\n",
       "\n",
       "    .dataframe tbody tr th {\n",
       "        vertical-align: top;\n",
       "    }\n",
       "\n",
       "    .dataframe thead th {\n",
       "        text-align: right;\n",
       "    }\n",
       "</style>\n",
       "<table border=\"1\" class=\"dataframe\">\n",
       "  <thead>\n",
       "    <tr style=\"text-align: right;\">\n",
       "      <th></th>\n",
       "      <th>sample_ID</th>\n",
       "      <th>Accession</th>\n",
       "      <th>familyID</th>\n",
       "      <th>Subpopulation</th>\n",
       "      <th>Superpopulation</th>\n",
       "      <th>Production Year</th>\n",
       "    </tr>\n",
       "  </thead>\n",
       "  <tbody>\n",
       "    <tr>\n",
       "      <th>0</th>\n",
       "      <td>HG01891</td>\n",
       "      <td>SAMN17861236</td>\n",
       "      <td>BB05</td>\n",
       "      <td>ACB</td>\n",
       "      <td>AFR</td>\n",
       "      <td>YR1</td>\n",
       "    </tr>\n",
       "    <tr>\n",
       "      <th>1</th>\n",
       "      <td>HG00673</td>\n",
       "      <td>SAMN17861654</td>\n",
       "      <td>SH079</td>\n",
       "      <td>CHS</td>\n",
       "      <td>EAS</td>\n",
       "      <td>YR1</td>\n",
       "    </tr>\n",
       "    <tr>\n",
       "      <th>2</th>\n",
       "      <td>HG00438</td>\n",
       "      <td>SAMN17861652</td>\n",
       "      <td>SH012</td>\n",
       "      <td>CHS</td>\n",
       "      <td>EAS</td>\n",
       "      <td>YR1</td>\n",
       "    </tr>\n",
       "    <tr>\n",
       "      <th>3</th>\n",
       "      <td>HG01071</td>\n",
       "      <td>SAMN17861657</td>\n",
       "      <td>PR17</td>\n",
       "      <td>PUR</td>\n",
       "      <td>AMR</td>\n",
       "      <td>YR1</td>\n",
       "    </tr>\n",
       "    <tr>\n",
       "      <th>4</th>\n",
       "      <td>HG00735</td>\n",
       "      <td>SAMN17861655</td>\n",
       "      <td>PR06</td>\n",
       "      <td>PUR</td>\n",
       "      <td>AMR</td>\n",
       "      <td>YR1</td>\n",
       "    </tr>\n",
       "    <tr>\n",
       "      <th>...</th>\n",
       "      <td>...</td>\n",
       "      <td>...</td>\n",
       "      <td>...</td>\n",
       "      <td>...</td>\n",
       "      <td>...</td>\n",
       "      <td>...</td>\n",
       "    </tr>\n",
       "    <tr>\n",
       "      <th>247</th>\n",
       "      <td>HG03270</td>\n",
       "      <td>SAMN41021631</td>\n",
       "      <td>NaN</td>\n",
       "      <td>ESN</td>\n",
       "      <td>AFR</td>\n",
       "      <td>YR4</td>\n",
       "    </tr>\n",
       "    <tr>\n",
       "      <th>248</th>\n",
       "      <td>NA20503</td>\n",
       "      <td>SAMN41021630</td>\n",
       "      <td>NaN</td>\n",
       "      <td>TSI</td>\n",
       "      <td>EUR</td>\n",
       "      <td>YR4</td>\n",
       "    </tr>\n",
       "    <tr>\n",
       "      <th>249</th>\n",
       "      <td>NA21106</td>\n",
       "      <td>SAMN41021629</td>\n",
       "      <td>NaN</td>\n",
       "      <td>GIH</td>\n",
       "      <td>SAS</td>\n",
       "      <td>YR4</td>\n",
       "    </tr>\n",
       "    <tr>\n",
       "      <th>250</th>\n",
       "      <td>NA19443</td>\n",
       "      <td>SAMN41021640</td>\n",
       "      <td>NaN</td>\n",
       "      <td>LWK</td>\n",
       "      <td>AFR</td>\n",
       "      <td>YR4</td>\n",
       "    </tr>\n",
       "    <tr>\n",
       "      <th>251</th>\n",
       "      <td>HG03445</td>\n",
       "      <td>SAMN41021704</td>\n",
       "      <td>NaN</td>\n",
       "      <td>MSL</td>\n",
       "      <td>AFR</td>\n",
       "      <td>YR4</td>\n",
       "    </tr>\n",
       "  </tbody>\n",
       "</table>\n",
       "<p>252 rows × 6 columns</p>\n",
       "</div>"
      ],
      "text/plain": [
       "    sample_ID     Accession familyID Subpopulation Superpopulation  \\\n",
       "0     HG01891  SAMN17861236     BB05           ACB             AFR   \n",
       "1     HG00673  SAMN17861654    SH079           CHS             EAS   \n",
       "2     HG00438  SAMN17861652    SH012           CHS             EAS   \n",
       "3     HG01071  SAMN17861657     PR17           PUR             AMR   \n",
       "4     HG00735  SAMN17861655     PR06           PUR             AMR   \n",
       "..        ...           ...      ...           ...             ...   \n",
       "247   HG03270  SAMN41021631      NaN           ESN             AFR   \n",
       "248   NA20503  SAMN41021630      NaN           TSI             EUR   \n",
       "249   NA21106  SAMN41021629      NaN           GIH             SAS   \n",
       "250   NA19443  SAMN41021640      NaN           LWK             AFR   \n",
       "251   HG03445  SAMN41021704      NaN           MSL             AFR   \n",
       "\n",
       "    Production Year  \n",
       "0               YR1  \n",
       "1               YR1  \n",
       "2               YR1  \n",
       "3               YR1  \n",
       "4               YR1  \n",
       "..              ...  \n",
       "247             YR4  \n",
       "248             YR4  \n",
       "249             YR4  \n",
       "250             YR4  \n",
       "251             YR4  \n",
       "\n",
       "[252 rows x 6 columns]"
      ]
     },
     "execution_count": 26,
     "metadata": {},
     "output_type": "execute_result"
    }
   ],
   "source": [
    "# update biosample tracking\n",
    "hprc_biosample"
   ]
  },
  {
   "cell_type": "markdown",
   "metadata": {},
   "source": [
    "# AWS Release Check"
   ]
  },
  {
   "cell_type": "code",
   "execution_count": 66,
   "metadata": {},
   "outputs": [],
   "source": [
    "# Check sampleID-flow cell id combo in primrose with top level \n",
    "aws_df = pd.read_csv('RU_Y2_HIFI.csv', header=None)"
   ]
  },
  {
   "cell_type": "code",
   "execution_count": 67,
   "metadata": {},
   "outputs": [],
   "source": [
    "aws_df['flow_cell'] = [flow_cell.split('/')[-1].split('.')[0] for flow_cell in aws_df[0].tolist()]\n",
    "aws_df['sample_id'] = [flow_cell.split('/')[-2] for flow_cell in aws_df[0].tolist()]"
   ]
  },
  {
   "cell_type": "code",
   "execution_count": 69,
   "metadata": {},
   "outputs": [],
   "source": [
    "aws_df = aws_df[~aws_df['sample_id'].isin(['746FF75B-3C32-42AF-92BB-290BA92CF89A--RU_Y2_HIFI'])]\n",
    "aws_df = aws_df[~aws_df[0].str.contains('HG04187')]"
   ]
  },
  {
   "cell_type": "code",
   "execution_count": 70,
   "metadata": {},
   "outputs": [
    {
     "name": "stderr",
     "output_type": "stream",
     "text": [
      "/data/tmp/ipykernel_2282294/1651813280.py:2: SettingWithCopyWarning: \n",
      "A value is trying to be set on a copy of a slice from a DataFrame.\n",
      "Try using .loc[row_indexer,col_indexer] = value instead\n",
      "\n",
      "See the caveats in the documentation: https://pandas.pydata.org/pandas-docs/stable/user_guide/indexing.html#returning-a-view-versus-a-copy\n",
      "  aws_primrose['sample_id'] = [sample.split('/')[-3] for sample in aws_primrose[0].tolist()]\n"
     ]
    }
   ],
   "source": [
    "aws_primrose = aws_df[aws_df['sample_id'].isin(['primrose'])]\n",
    "aws_primrose['sample_id'] = [sample.split('/')[-3] for sample in aws_primrose[0].tolist()]"
   ]
  },
  {
   "cell_type": "code",
   "execution_count": 71,
   "metadata": {},
   "outputs": [],
   "source": [
    "aws_df = aws_df[~aws_df['sample_id'].isin(['primrose'])]"
   ]
  },
  {
   "cell_type": "code",
   "execution_count": 72,
   "metadata": {},
   "outputs": [
    {
     "data": {
      "text/plain": [
       "0"
      ]
     },
     "execution_count": 72,
     "metadata": {},
     "output_type": "execute_result"
    }
   ],
   "source": [
    "len([sample for sample in set(aws_primrose['flow_cell'].tolist()) if sample not in set(aws_df['flow_cell'].tolist())])"
   ]
  },
  {
   "cell_type": "code",
   "execution_count": 73,
   "metadata": {},
   "outputs": [
    {
     "data": {
      "text/plain": [
       "0"
      ]
     },
     "execution_count": 73,
     "metadata": {},
     "output_type": "execute_result"
    }
   ],
   "source": [
    "len([sample for sample in set(aws_df['flow_cell'].tolist()) if sample not in set(aws_primrose['flow_cell'].tolist())])"
   ]
  },
  {
   "cell_type": "code",
   "execution_count": 74,
   "metadata": {},
   "outputs": [
    {
     "name": "stdout",
     "output_type": "stream",
     "text": [
      "36\n",
      "36\n"
     ]
    }
   ],
   "source": [
    "print(len(set(aws_df['flow_cell'].tolist())))\n",
    "print(len(set(aws_df['flow_cell'].tolist())))"
   ]
  },
  {
   "cell_type": "code",
   "execution_count": 75,
   "metadata": {},
   "outputs": [
    {
     "data": {
      "text/plain": [
       "True"
      ]
     },
     "execution_count": 75,
     "metadata": {},
     "output_type": "execute_result"
    }
   ],
   "source": [
    "set(aws_df['flow_cell'].tolist()) == set(aws_df['flow_cell'].tolist())"
   ]
  },
  {
   "cell_type": "code",
   "execution_count": 76,
   "metadata": {},
   "outputs": [],
   "source": [
    "aws_primrose['sampleID-flowcellID'] = aws_primrose['sample_id'] + '_' + aws_primrose['flow_cell']"
   ]
  },
  {
   "cell_type": "code",
   "execution_count": 81,
   "metadata": {},
   "outputs": [
    {
     "data": {
      "text/html": [
       "<div>\n",
       "<style scoped>\n",
       "    .dataframe tbody tr th:only-of-type {\n",
       "        vertical-align: middle;\n",
       "    }\n",
       "\n",
       "    .dataframe tbody tr th {\n",
       "        vertical-align: top;\n",
       "    }\n",
       "\n",
       "    .dataframe thead th {\n",
       "        text-align: right;\n",
       "    }\n",
       "</style>\n",
       "<table border=\"1\" class=\"dataframe\">\n",
       "  <thead>\n",
       "    <tr style=\"text-align: right;\">\n",
       "      <th></th>\n",
       "      <th>0</th>\n",
       "      <th>flow_cell</th>\n",
       "      <th>sample_id</th>\n",
       "    </tr>\n",
       "  </thead>\n",
       "  <tbody>\n",
       "    <tr>\n",
       "      <th>0</th>\n",
       "      <td>s3://human-pangenomics/submissions/746FF75B-3C...</td>\n",
       "      <td>m64055e_210731_145204</td>\n",
       "      <td>HG00706</td>\n",
       "    </tr>\n",
       "    <tr>\n",
       "      <th>1</th>\n",
       "      <td>s3://human-pangenomics/submissions/746FF75B-3C...</td>\n",
       "      <td>m64055e_210812_050522</td>\n",
       "      <td>HG00706</td>\n",
       "    </tr>\n",
       "    <tr>\n",
       "      <th>2</th>\n",
       "      <td>s3://human-pangenomics/submissions/746FF75B-3C...</td>\n",
       "      <td>m64055e_210813_141904</td>\n",
       "      <td>HG00706</td>\n",
       "    </tr>\n",
       "    <tr>\n",
       "      <th>3</th>\n",
       "      <td>s3://human-pangenomics/submissions/746FF75B-3C...</td>\n",
       "      <td>m64055e_210814_234047</td>\n",
       "      <td>HG00706</td>\n",
       "    </tr>\n",
       "    <tr>\n",
       "      <th>8</th>\n",
       "      <td>s3://human-pangenomics/submissions/746FF75B-3C...</td>\n",
       "      <td>m54306Ue_210830_185043</td>\n",
       "      <td>PacBio_HiFi</td>\n",
       "    </tr>\n",
       "  </tbody>\n",
       "</table>\n",
       "</div>"
      ],
      "text/plain": [
       "                                                   0               flow_cell  \\\n",
       "0  s3://human-pangenomics/submissions/746FF75B-3C...   m64055e_210731_145204   \n",
       "1  s3://human-pangenomics/submissions/746FF75B-3C...   m64055e_210812_050522   \n",
       "2  s3://human-pangenomics/submissions/746FF75B-3C...   m64055e_210813_141904   \n",
       "3  s3://human-pangenomics/submissions/746FF75B-3C...   m64055e_210814_234047   \n",
       "8  s3://human-pangenomics/submissions/746FF75B-3C...  m54306Ue_210830_185043   \n",
       "\n",
       "     sample_id  \n",
       "0      HG00706  \n",
       "1      HG00706  \n",
       "2      HG00706  \n",
       "3      HG00706  \n",
       "8  PacBio_HiFi  "
      ]
     },
     "execution_count": 81,
     "metadata": {},
     "output_type": "execute_result"
    }
   ],
   "source": [
    "aws_df.head()"
   ]
  },
  {
   "cell_type": "code",
   "execution_count": 82,
   "metadata": {},
   "outputs": [],
   "source": [
    "aws_df = aws_df[~aws_df['sample_id'].isin(['PacBio_HiFi'])]"
   ]
  },
  {
   "cell_type": "code",
   "execution_count": 84,
   "metadata": {},
   "outputs": [
    {
     "name": "stderr",
     "output_type": "stream",
     "text": [
      "/data/tmp/ipykernel_2282294/123282300.py:1: SettingWithCopyWarning: \n",
      "A value is trying to be set on a copy of a slice from a DataFrame.\n",
      "Try using .loc[row_indexer,col_indexer] = value instead\n",
      "\n",
      "See the caveats in the documentation: https://pandas.pydata.org/pandas-docs/stable/user_guide/indexing.html#returning-a-view-versus-a-copy\n",
      "  aws_df['sampleID-flowcellID'] = aws_df['sample_id'] + '_' + aws_df['flow_cell']\n"
     ]
    }
   ],
   "source": [
    "aws_df['sampleID-flowcellID'] = aws_df['sample_id'] + '_' + aws_df['flow_cell']"
   ]
  },
  {
   "cell_type": "code",
   "execution_count": 87,
   "metadata": {},
   "outputs": [
    {
     "data": {
      "text/plain": [
       "36"
      ]
     },
     "execution_count": 87,
     "metadata": {},
     "output_type": "execute_result"
    }
   ],
   "source": [
    "len(collections.Counter(aws_primrose['sampleID-flowcellID'].tolist()).keys())"
   ]
  },
  {
   "cell_type": "code",
   "execution_count": 88,
   "metadata": {},
   "outputs": [
    {
     "data": {
      "text/plain": [
       "36"
      ]
     },
     "execution_count": 88,
     "metadata": {},
     "output_type": "execute_result"
    }
   ],
   "source": [
    "len(collections.Counter(aws_df['sampleID-flowcellID'].tolist()))"
   ]
  },
  {
   "cell_type": "code",
   "execution_count": 96,
   "metadata": {},
   "outputs": [],
   "source": [
    "for data in list(collections.Counter(aws_df['sampleID-flowcellID'].tolist()).keys()):\n",
    "\tif data not in list(collections.Counter(aws_primrose['sampleID-flowcellID'].tolist()).keys()):\n",
    "\t\tprint(data)"
   ]
  },
  {
   "cell_type": "code",
   "execution_count": 97,
   "metadata": {},
   "outputs": [],
   "source": [
    "for data in list(collections.Counter(aws_primrose['sampleID-flowcellID'].tolist()).keys()):\n",
    "\tif data not in list(collections.Counter(aws_df['sampleID-flowcellID'].tolist()).keys()):\n",
    "\t\tprint(data)"
   ]
  },
  {
   "cell_type": "code",
   "execution_count": null,
   "metadata": {},
   "outputs": [],
   "source": [
    "ssds staging release     --deployment default     --submission-id 746FF75B-3C32-42AF-92BB-290BA92CF89A    --transfer-csv RU_Y2_HiFi.transfer_ec2.csv     &> RU_Y2_HiFi.transfer_aws.stdout\n"
   ]
  },
  {
   "cell_type": "markdown",
   "metadata": {},
   "source": [
    "# SRA"
   ]
  },
  {
   "cell_type": "code",
   "execution_count": 92,
   "metadata": {},
   "outputs": [],
   "source": [
    "ru_y2_metadata = pd.read_csv('/private/groups/hprc/human-pangenomics/HPRC_metadata/submissions/RU_Y2_HiFi/HPRC_RU_Y2_Sequel_Metadata_PacBio_HiFi_Submission_Final.csv')"
   ]
  },
  {
   "cell_type": "code",
   "execution_count": 93,
   "metadata": {},
   "outputs": [
    {
     "data": {
      "text/html": [
       "<div>\n",
       "<style scoped>\n",
       "    .dataframe tbody tr th:only-of-type {\n",
       "        vertical-align: middle;\n",
       "    }\n",
       "\n",
       "    .dataframe tbody tr th {\n",
       "        vertical-align: top;\n",
       "    }\n",
       "\n",
       "    .dataframe thead th {\n",
       "        text-align: right;\n",
       "    }\n",
       "</style>\n",
       "<table border=\"1\" class=\"dataframe\">\n",
       "  <thead>\n",
       "    <tr style=\"text-align: right;\">\n",
       "      <th></th>\n",
       "      <th>filetype</th>\n",
       "      <th>sample_ID</th>\n",
       "      <th>library_ID</th>\n",
       "      <th>library_strategy</th>\n",
       "      <th>library_source</th>\n",
       "      <th>library_selection</th>\n",
       "      <th>library_layout</th>\n",
       "      <th>platform</th>\n",
       "      <th>instrument_model</th>\n",
       "      <th>design_description</th>\n",
       "      <th>...</th>\n",
       "      <th>primrose_version</th>\n",
       "      <th>polymerase_version</th>\n",
       "      <th>seq_plate_chemistry_version</th>\n",
       "      <th>generator_facility</th>\n",
       "      <th>generator_contact</th>\n",
       "      <th>notes</th>\n",
       "      <th>flow_cell</th>\n",
       "      <th>filename</th>\n",
       "      <th>s3-submission</th>\n",
       "      <th>s3-working</th>\n",
       "    </tr>\n",
       "  </thead>\n",
       "  <tbody>\n",
       "    <tr>\n",
       "      <th>0</th>\n",
       "      <td>bam</td>\n",
       "      <td>HG00706</td>\n",
       "      <td>HG00706_PB1</td>\n",
       "      <td>WGS</td>\n",
       "      <td>GENOMIC</td>\n",
       "      <td>size fractionation</td>\n",
       "      <td>single</td>\n",
       "      <td>PACBIO_SMRT</td>\n",
       "      <td>PacBio Sequel IIe</td>\n",
       "      <td>HiFi sequencing of 20kb fractionated gDNA</td>\n",
       "      <td>...</td>\n",
       "      <td>P2</td>\n",
       "      <td>c2</td>\n",
       "      <td>C2</td>\n",
       "      <td>Rockefeller University</td>\n",
       "      <td>vgl-lab@rockefeller.edu</td>\n",
       "      <td>NaN</td>\n",
       "      <td>m64055e_210731_145204</td>\n",
       "      <td>m64055e_210731_145204.5mc.hifi_reads.bam</td>\n",
       "      <td>s3://human-pangenomics/submissions/746FF75B-3C...</td>\n",
       "      <td>s3://human-pangenomics/working/HPRC/HG00706/ra...</td>\n",
       "    </tr>\n",
       "    <tr>\n",
       "      <th>1</th>\n",
       "      <td>bam</td>\n",
       "      <td>HG00706</td>\n",
       "      <td>HG00706_PB1</td>\n",
       "      <td>WGS</td>\n",
       "      <td>GENOMIC</td>\n",
       "      <td>size fractionation</td>\n",
       "      <td>single</td>\n",
       "      <td>PACBIO_SMRT</td>\n",
       "      <td>PacBio Sequel IIe</td>\n",
       "      <td>HiFi sequencing of 20kb fractionated gDNA</td>\n",
       "      <td>...</td>\n",
       "      <td>P2</td>\n",
       "      <td>c2</td>\n",
       "      <td>C2</td>\n",
       "      <td>Rockefeller University</td>\n",
       "      <td>vgl-lab@rockefeller.edu</td>\n",
       "      <td>NaN</td>\n",
       "      <td>m64055e_210812_050522</td>\n",
       "      <td>m64055e_210812_050522.5mc.hifi_reads.bam</td>\n",
       "      <td>s3://human-pangenomics/submissions/746FF75B-3C...</td>\n",
       "      <td>s3://human-pangenomics/working/HPRC/HG00706/ra...</td>\n",
       "    </tr>\n",
       "    <tr>\n",
       "      <th>2</th>\n",
       "      <td>bam</td>\n",
       "      <td>HG00706</td>\n",
       "      <td>HG00706_PB1</td>\n",
       "      <td>WGS</td>\n",
       "      <td>GENOMIC</td>\n",
       "      <td>size fractionation</td>\n",
       "      <td>single</td>\n",
       "      <td>PACBIO_SMRT</td>\n",
       "      <td>PacBio Sequel IIe</td>\n",
       "      <td>HiFi sequencing of 20kb fractionated gDNA</td>\n",
       "      <td>...</td>\n",
       "      <td>P2</td>\n",
       "      <td>c2</td>\n",
       "      <td>C2</td>\n",
       "      <td>Rockefeller University</td>\n",
       "      <td>vgl-lab@rockefeller.edu</td>\n",
       "      <td>NaN</td>\n",
       "      <td>m64055e_210813_141904</td>\n",
       "      <td>m64055e_210813_141904.5mc.hifi_reads.bam</td>\n",
       "      <td>s3://human-pangenomics/submissions/746FF75B-3C...</td>\n",
       "      <td>s3://human-pangenomics/working/HPRC/HG00706/ra...</td>\n",
       "    </tr>\n",
       "    <tr>\n",
       "      <th>3</th>\n",
       "      <td>bam</td>\n",
       "      <td>HG00706</td>\n",
       "      <td>HG00706_PB1</td>\n",
       "      <td>WGS</td>\n",
       "      <td>GENOMIC</td>\n",
       "      <td>size fractionation</td>\n",
       "      <td>single</td>\n",
       "      <td>PACBIO_SMRT</td>\n",
       "      <td>PacBio Sequel IIe</td>\n",
       "      <td>HiFi sequencing of 20kb fractionated gDNA</td>\n",
       "      <td>...</td>\n",
       "      <td>P2</td>\n",
       "      <td>c2</td>\n",
       "      <td>C2</td>\n",
       "      <td>Rockefeller University</td>\n",
       "      <td>vgl-lab@rockefeller.edu</td>\n",
       "      <td>NaN</td>\n",
       "      <td>m64055e_210814_234047</td>\n",
       "      <td>m64055e_210814_234047.5mc.hifi_reads.bam</td>\n",
       "      <td>s3://human-pangenomics/submissions/746FF75B-3C...</td>\n",
       "      <td>s3://human-pangenomics/working/HPRC/HG00706/ra...</td>\n",
       "    </tr>\n",
       "    <tr>\n",
       "      <th>4</th>\n",
       "      <td>bam</td>\n",
       "      <td>HG01887</td>\n",
       "      <td>HG01887_PB1</td>\n",
       "      <td>WGS</td>\n",
       "      <td>GENOMIC</td>\n",
       "      <td>size fractionation</td>\n",
       "      <td>single</td>\n",
       "      <td>PACBIO_SMRT</td>\n",
       "      <td>PacBio Sequel IIe</td>\n",
       "      <td>HiFi sequencing of 20kb fractionated gDNA</td>\n",
       "      <td>...</td>\n",
       "      <td>P2</td>\n",
       "      <td>c2</td>\n",
       "      <td>C2</td>\n",
       "      <td>Rockefeller University</td>\n",
       "      <td>vgl-lab@rockefeller.edu</td>\n",
       "      <td>NaN</td>\n",
       "      <td>m54306Ue_210830_185043</td>\n",
       "      <td>m54306Ue_210830_185043.5mc.hifi_reads.bam</td>\n",
       "      <td>s3://human-pangenomics/submissions/746FF75B-3C...</td>\n",
       "      <td>s3://human-pangenomics/working/HPRC/HG01887/ra...</td>\n",
       "    </tr>\n",
       "  </tbody>\n",
       "</table>\n",
       "<p>5 rows × 26 columns</p>\n",
       "</div>"
      ],
      "text/plain": [
       "  filetype sample_ID   library_ID library_strategy library_source  \\\n",
       "0      bam   HG00706  HG00706_PB1              WGS        GENOMIC   \n",
       "1      bam   HG00706  HG00706_PB1              WGS        GENOMIC   \n",
       "2      bam   HG00706  HG00706_PB1              WGS        GENOMIC   \n",
       "3      bam   HG00706  HG00706_PB1              WGS        GENOMIC   \n",
       "4      bam   HG01887  HG01887_PB1              WGS        GENOMIC   \n",
       "\n",
       "    library_selection library_layout     platform   instrument_model  \\\n",
       "0  size fractionation         single  PACBIO_SMRT  PacBio Sequel IIe   \n",
       "1  size fractionation         single  PACBIO_SMRT  PacBio Sequel IIe   \n",
       "2  size fractionation         single  PACBIO_SMRT  PacBio Sequel IIe   \n",
       "3  size fractionation         single  PACBIO_SMRT  PacBio Sequel IIe   \n",
       "4  size fractionation         single  PACBIO_SMRT  PacBio Sequel IIe   \n",
       "\n",
       "                          design_description  ... primrose_version  \\\n",
       "0  HiFi sequencing of 20kb fractionated gDNA  ...               P2   \n",
       "1  HiFi sequencing of 20kb fractionated gDNA  ...               P2   \n",
       "2  HiFi sequencing of 20kb fractionated gDNA  ...               P2   \n",
       "3  HiFi sequencing of 20kb fractionated gDNA  ...               P2   \n",
       "4  HiFi sequencing of 20kb fractionated gDNA  ...               P2   \n",
       "\n",
       "   polymerase_version seq_plate_chemistry_version      generator_facility  \\\n",
       "0                  c2                          C2  Rockefeller University   \n",
       "1                  c2                          C2  Rockefeller University   \n",
       "2                  c2                          C2  Rockefeller University   \n",
       "3                  c2                          C2  Rockefeller University   \n",
       "4                  c2                          C2  Rockefeller University   \n",
       "\n",
       "         generator_contact notes               flow_cell  \\\n",
       "0  vgl-lab@rockefeller.edu   NaN   m64055e_210731_145204   \n",
       "1  vgl-lab@rockefeller.edu   NaN   m64055e_210812_050522   \n",
       "2  vgl-lab@rockefeller.edu   NaN   m64055e_210813_141904   \n",
       "3  vgl-lab@rockefeller.edu   NaN   m64055e_210814_234047   \n",
       "4  vgl-lab@rockefeller.edu   NaN  m54306Ue_210830_185043   \n",
       "\n",
       "                                    filename  \\\n",
       "0   m64055e_210731_145204.5mc.hifi_reads.bam   \n",
       "1   m64055e_210812_050522.5mc.hifi_reads.bam   \n",
       "2   m64055e_210813_141904.5mc.hifi_reads.bam   \n",
       "3   m64055e_210814_234047.5mc.hifi_reads.bam   \n",
       "4  m54306Ue_210830_185043.5mc.hifi_reads.bam   \n",
       "\n",
       "                                       s3-submission  \\\n",
       "0  s3://human-pangenomics/submissions/746FF75B-3C...   \n",
       "1  s3://human-pangenomics/submissions/746FF75B-3C...   \n",
       "2  s3://human-pangenomics/submissions/746FF75B-3C...   \n",
       "3  s3://human-pangenomics/submissions/746FF75B-3C...   \n",
       "4  s3://human-pangenomics/submissions/746FF75B-3C...   \n",
       "\n",
       "                                          s3-working  \n",
       "0  s3://human-pangenomics/working/HPRC/HG00706/ra...  \n",
       "1  s3://human-pangenomics/working/HPRC/HG00706/ra...  \n",
       "2  s3://human-pangenomics/working/HPRC/HG00706/ra...  \n",
       "3  s3://human-pangenomics/working/HPRC/HG00706/ra...  \n",
       "4  s3://human-pangenomics/working/HPRC/HG01887/ra...  \n",
       "\n",
       "[5 rows x 26 columns]"
      ]
     },
     "execution_count": 93,
     "metadata": {},
     "output_type": "execute_result"
    }
   ],
   "source": [
    "ru_y2_metadata.head()"
   ]
  },
  {
   "cell_type": "code",
   "execution_count": 103,
   "metadata": {},
   "outputs": [],
   "source": [
    "ru_y2_metadata = ru_y2_metadata[['sample_ID', 'filename','library_ID', 'library_strategy','library_source','library_selection', 'library_layout',\n",
    "\t\t\t\t'platform','instrument_model','shear_method', 'size_selection', 'ccs_algorithm', 'polymerase_version',\n",
    "\t\t\t\t'seq_plate_chemistry_version', 'generator_facility','generator_contact','filetype']]\n",
    "ru_y2_metadata['assembly'] = 'unaligned'"
   ]
  },
  {
   "cell_type": "code",
   "execution_count": 104,
   "metadata": {},
   "outputs": [],
   "source": [
    "ru_y2_sra = pd.merge(ru_y2_metadata, hprc_biosample[['sample_ID','Accession']], on='sample_ID', how='inner')"
   ]
  },
  {
   "cell_type": "code",
   "execution_count": 105,
   "metadata": {},
   "outputs": [],
   "source": [
    "ru_y2_sra['title'] = ['PacBio HiFi sequencing of ' + sample_id for sample_id in ru_y2_sra['sample_ID'].tolist()]\n",
    "ru_y2_sra['design_description'] = 'HiFi sequencing of 20kb fractionated gDNA'"
   ]
  },
  {
   "cell_type": "code",
   "execution_count": 106,
   "metadata": {},
   "outputs": [],
   "source": [
    "ru_y2_sra.rename(columns={'Accession':'biosample_accession'},inplace=True)"
   ]
  },
  {
   "cell_type": "code",
   "execution_count": 107,
   "metadata": {},
   "outputs": [],
   "source": [
    "ru_y2_sra['flow_cell'] = [flow_cell.split('.')[0] for flow_cell in ru_y2_sra['filename'].tolist()]\n",
    "ru_y2_sra['library_ID'] = ru_y2_sra['library_ID'] + '_' + ru_y2_sra['flow_cell']"
   ]
  },
  {
   "cell_type": "code",
   "execution_count": 108,
   "metadata": {},
   "outputs": [],
   "source": [
    "ru_y2_sra.drop(columns=['sample_ID','flow_cell'],inplace=True)"
   ]
  },
  {
   "cell_type": "code",
   "execution_count": null,
   "metadata": {},
   "outputs": [],
   "source": [
    "ru_y2_sra['instrument_model'] = 'Sequel II'"
   ]
  },
  {
   "cell_type": "code",
   "execution_count": 111,
   "metadata": {},
   "outputs": [],
   "source": [
    "ru_y2_sra.to_csv('sra_biosample_RU_Y2_metadata.tsv',sep='\\t', index=False)"
   ]
  }
 ],
 "metadata": {
  "kernelspec": {
   "display_name": "Python 3",
   "language": "python",
   "name": "python3"
  },
  "language_info": {
   "codemirror_mode": {
    "name": "ipython",
    "version": 3
   },
   "file_extension": ".py",
   "mimetype": "text/x-python",
   "name": "python",
   "nbconvert_exporter": "python",
   "pygments_lexer": "ipython3",
   "version": "3.10.14"
  }
 },
 "nbformat": 4,
 "nbformat_minor": 2
}
