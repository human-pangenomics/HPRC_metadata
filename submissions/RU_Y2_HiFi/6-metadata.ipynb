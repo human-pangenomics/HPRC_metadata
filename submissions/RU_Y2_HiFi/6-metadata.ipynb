{
 "cells": [
  {
   "cell_type": "code",
   "execution_count": 19,
   "metadata": {},
   "outputs": [],
   "source": [
    "import pandas as pd\n",
    "import mechanicalsoup"
   ]
  },
  {
   "cell_type": "code",
   "execution_count": 2,
   "metadata": {},
   "outputs": [
    {
     "data": {
      "text/plain": [
       "(54, 24)"
      ]
     },
     "execution_count": 2,
     "metadata": {},
     "output_type": "execute_result"
    }
   ],
   "source": [
    "ru_y2_metadata = pd.read_csv('HPRC_RU_Y2_Sequel_Metadata_PacBio_HiFi_Submission.csv')\n",
    "ru_y2_metadata['flow_cell'] = [flow_cell.split('.')[0] for flow_cell in ru_y2_metadata['filename'].tolist()]\n",
    "ru_y2_metadata.shape"
   ]
  },
  {
   "cell_type": "code",
   "execution_count": 3,
   "metadata": {},
   "outputs": [
    {
     "name": "stdout",
     "output_type": "stream",
     "text": [
      "(36, 20)\n"
     ]
    }
   ],
   "source": [
    "ru_y2_qc = pd.read_csv('RU_Y2_HIFI_post_sra_metadata.csv')\n",
    "ru_y2_qc.rename(columns={'filename':'sample_ID_filename', 'bam_file':'filename'},inplace=True)\n",
    "print(ru_y2_qc.shape)\n"
   ]
  },
  {
   "cell_type": "code",
   "execution_count": 4,
   "metadata": {},
   "outputs": [
    {
     "data": {
      "text/plain": [
       "(18, 24)"
      ]
     },
     "execution_count": 4,
     "metadata": {},
     "output_type": "execute_result"
    }
   ],
   "source": [
    "# 18 files are not present in qc sample: HG04187\n",
    "ru_y2_metadata[~ru_y2_metadata['flow_cell'].isin(ru_y2_qc['flow_cell'].tolist())].shape "
   ]
  },
  {
   "cell_type": "code",
   "execution_count": 5,
   "metadata": {},
   "outputs": [
    {
     "name": "stderr",
     "output_type": "stream",
     "text": [
      "/data/tmp/ipykernel_3688859/2943073831.py:2: UserWarning: Boolean Series key will be reindexed to match DataFrame index.\n",
      "  ru_y2_qc = ru_y2_qc[ru_y2_metadata['flow_cell'].isin(ru_y2_metadata['flow_cell'].tolist())]\n"
     ]
    }
   ],
   "source": [
    "# all flow cells are present between qc and metadata\n",
    "ru_y2_qc = ru_y2_qc[ru_y2_metadata['flow_cell'].isin(ru_y2_metadata['flow_cell'].tolist())]"
   ]
  },
  {
   "cell_type": "code",
   "execution_count": 6,
   "metadata": {},
   "outputs": [],
   "source": [
    "ru_y2_df = pd.merge( ru_y2_metadata, ru_y2_qc[['flow_cell','filename']], on='flow_cell', how='inner')\n",
    "ru_y2_df.drop('filename_x', axis=1, inplace=True)\n",
    "ru_y2_df.rename(columns={'filename_y':'filename'}, inplace=True)"
   ]
  },
  {
   "cell_type": "code",
   "execution_count": 7,
   "metadata": {},
   "outputs": [],
   "source": [
    "ru_y2_setup = pd.read_csv('RU_Y2_HIFI.csv', header=None)"
   ]
  },
  {
   "cell_type": "code",
   "execution_count": 8,
   "metadata": {},
   "outputs": [],
   "source": [
    "ru_y2_setup = ru_y2_setup[ru_y2_setup[0].str.contains('primrose')]\n",
    "ru_y2_setup['filename'] = [filename.split('/')[-1] for filename in ru_y2_setup[0].tolist()]\n",
    "ru_y2_setup.rename(columns={0:'s3-submission'},inplace=True)"
   ]
  },
  {
   "cell_type": "code",
   "execution_count": 9,
   "metadata": {},
   "outputs": [],
   "source": [
    "# ru_y2_setup\n",
    "# RU_Y2_HiFi.transfer_ec2.csv\n",
    "# s3://human-pangenomics/working/HPRC"
   ]
  },
  {
   "cell_type": "code",
   "execution_count": 10,
   "metadata": {},
   "outputs": [],
   "source": [
    "transfer_list = []\n",
    "for data in ru_y2_setup['s3-submission'].tolist():\n",
    "\tpath = data.split('/746FF75B-3C32-42AF-92BB-290BA92CF89A--RU_Y2_HIFI')[1].split('primrose')\n",
    "\tpath.insert(1, 'raw_data/PacBio_HiFi')\n",
    "\tpath = ''.join(path)\n",
    "\trelease = 's3://human-pangenomics/working/HPRC' + path\n",
    "\ttransfer_list.append(release)\n",
    "ru_y2_setup['s3-working'] = transfer_list\n",
    "ru_y2_setup[['s3-submission','s3-working']].to_csv('RU_Y2_HiFi.transfer_ec2.csv',index=False, header=None)\n"
   ]
  },
  {
   "cell_type": "code",
   "execution_count": 11,
   "metadata": {},
   "outputs": [],
   "source": [
    "ru_y2_df = pd.merge(ru_y2_df,ru_y2_setup, on='filename', how='inner')"
   ]
  },
  {
   "cell_type": "code",
   "execution_count": 13,
   "metadata": {},
   "outputs": [],
   "source": [
    "ru_y2_df.to_csv('HPRC_RU_Y2_Sequel_Metadata_PacBio_HiFi_Submission_Final.csv',index=False)"
   ]
  },
  {
   "cell_type": "code",
   "execution_count": 2,
   "metadata": {},
   "outputs": [],
   "source": [
    "ru_y2_df = pd.read_csv('HPRC_RU_Y2_Sequel_Metadata_PacBio_HiFi_Submission_Final.csv')"
   ]
  },
  {
   "cell_type": "code",
   "execution_count": 5,
   "metadata": {},
   "outputs": [
    {
     "data": {
      "text/html": [
       "<div>\n",
       "<style scoped>\n",
       "    .dataframe tbody tr th:only-of-type {\n",
       "        vertical-align: middle;\n",
       "    }\n",
       "\n",
       "    .dataframe tbody tr th {\n",
       "        vertical-align: top;\n",
       "    }\n",
       "\n",
       "    .dataframe thead th {\n",
       "        text-align: right;\n",
       "    }\n",
       "</style>\n",
       "<table border=\"1\" class=\"dataframe\">\n",
       "  <thead>\n",
       "    <tr style=\"text-align: right;\">\n",
       "      <th></th>\n",
       "      <th>filetype</th>\n",
       "      <th>sample_ID</th>\n",
       "      <th>library_ID</th>\n",
       "      <th>library_strategy</th>\n",
       "      <th>library_source</th>\n",
       "      <th>library_selection</th>\n",
       "      <th>library_layout</th>\n",
       "      <th>platform</th>\n",
       "      <th>instrument_model</th>\n",
       "      <th>design_description</th>\n",
       "      <th>...</th>\n",
       "      <th>primrose_version</th>\n",
       "      <th>polymerase_version</th>\n",
       "      <th>seq_plate_chemistry_version</th>\n",
       "      <th>generator_facility</th>\n",
       "      <th>generator_contact</th>\n",
       "      <th>notes</th>\n",
       "      <th>flow_cell</th>\n",
       "      <th>filename</th>\n",
       "      <th>s3-submission</th>\n",
       "      <th>s3-working</th>\n",
       "    </tr>\n",
       "  </thead>\n",
       "  <tbody>\n",
       "    <tr>\n",
       "      <th>0</th>\n",
       "      <td>bam</td>\n",
       "      <td>HG00706</td>\n",
       "      <td>HG00706_PB1</td>\n",
       "      <td>WGS</td>\n",
       "      <td>GENOMIC</td>\n",
       "      <td>size fractionation</td>\n",
       "      <td>single</td>\n",
       "      <td>PACBIO_SMRT</td>\n",
       "      <td>PacBio Sequel IIe</td>\n",
       "      <td>HiFi sequencing of 20kb fractionated gDNA</td>\n",
       "      <td>...</td>\n",
       "      <td>P2</td>\n",
       "      <td>c2</td>\n",
       "      <td>C2</td>\n",
       "      <td>Rockefeller University</td>\n",
       "      <td>vgl-lab@rockefeller.edu</td>\n",
       "      <td>NaN</td>\n",
       "      <td>m64055e_210731_145204</td>\n",
       "      <td>m64055e_210731_145204.5mc.hifi_reads.bam</td>\n",
       "      <td>s3://human-pangenomics/submissions/746FF75B-3C...</td>\n",
       "      <td>s3://human-pangenomics/working/HPRC/HG00706/ra...</td>\n",
       "    </tr>\n",
       "    <tr>\n",
       "      <th>1</th>\n",
       "      <td>bam</td>\n",
       "      <td>HG00706</td>\n",
       "      <td>HG00706_PB1</td>\n",
       "      <td>WGS</td>\n",
       "      <td>GENOMIC</td>\n",
       "      <td>size fractionation</td>\n",
       "      <td>single</td>\n",
       "      <td>PACBIO_SMRT</td>\n",
       "      <td>PacBio Sequel IIe</td>\n",
       "      <td>HiFi sequencing of 20kb fractionated gDNA</td>\n",
       "      <td>...</td>\n",
       "      <td>P2</td>\n",
       "      <td>c2</td>\n",
       "      <td>C2</td>\n",
       "      <td>Rockefeller University</td>\n",
       "      <td>vgl-lab@rockefeller.edu</td>\n",
       "      <td>NaN</td>\n",
       "      <td>m64055e_210812_050522</td>\n",
       "      <td>m64055e_210812_050522.5mc.hifi_reads.bam</td>\n",
       "      <td>s3://human-pangenomics/submissions/746FF75B-3C...</td>\n",
       "      <td>s3://human-pangenomics/working/HPRC/HG00706/ra...</td>\n",
       "    </tr>\n",
       "    <tr>\n",
       "      <th>2</th>\n",
       "      <td>bam</td>\n",
       "      <td>HG00706</td>\n",
       "      <td>HG00706_PB1</td>\n",
       "      <td>WGS</td>\n",
       "      <td>GENOMIC</td>\n",
       "      <td>size fractionation</td>\n",
       "      <td>single</td>\n",
       "      <td>PACBIO_SMRT</td>\n",
       "      <td>PacBio Sequel IIe</td>\n",
       "      <td>HiFi sequencing of 20kb fractionated gDNA</td>\n",
       "      <td>...</td>\n",
       "      <td>P2</td>\n",
       "      <td>c2</td>\n",
       "      <td>C2</td>\n",
       "      <td>Rockefeller University</td>\n",
       "      <td>vgl-lab@rockefeller.edu</td>\n",
       "      <td>NaN</td>\n",
       "      <td>m64055e_210813_141904</td>\n",
       "      <td>m64055e_210813_141904.5mc.hifi_reads.bam</td>\n",
       "      <td>s3://human-pangenomics/submissions/746FF75B-3C...</td>\n",
       "      <td>s3://human-pangenomics/working/HPRC/HG00706/ra...</td>\n",
       "    </tr>\n",
       "    <tr>\n",
       "      <th>3</th>\n",
       "      <td>bam</td>\n",
       "      <td>HG00706</td>\n",
       "      <td>HG00706_PB1</td>\n",
       "      <td>WGS</td>\n",
       "      <td>GENOMIC</td>\n",
       "      <td>size fractionation</td>\n",
       "      <td>single</td>\n",
       "      <td>PACBIO_SMRT</td>\n",
       "      <td>PacBio Sequel IIe</td>\n",
       "      <td>HiFi sequencing of 20kb fractionated gDNA</td>\n",
       "      <td>...</td>\n",
       "      <td>P2</td>\n",
       "      <td>c2</td>\n",
       "      <td>C2</td>\n",
       "      <td>Rockefeller University</td>\n",
       "      <td>vgl-lab@rockefeller.edu</td>\n",
       "      <td>NaN</td>\n",
       "      <td>m64055e_210814_234047</td>\n",
       "      <td>m64055e_210814_234047.5mc.hifi_reads.bam</td>\n",
       "      <td>s3://human-pangenomics/submissions/746FF75B-3C...</td>\n",
       "      <td>s3://human-pangenomics/working/HPRC/HG00706/ra...</td>\n",
       "    </tr>\n",
       "    <tr>\n",
       "      <th>4</th>\n",
       "      <td>bam</td>\n",
       "      <td>HG01887</td>\n",
       "      <td>HG01887_PB1</td>\n",
       "      <td>WGS</td>\n",
       "      <td>GENOMIC</td>\n",
       "      <td>size fractionation</td>\n",
       "      <td>single</td>\n",
       "      <td>PACBIO_SMRT</td>\n",
       "      <td>PacBio Sequel IIe</td>\n",
       "      <td>HiFi sequencing of 20kb fractionated gDNA</td>\n",
       "      <td>...</td>\n",
       "      <td>P2</td>\n",
       "      <td>c2</td>\n",
       "      <td>C2</td>\n",
       "      <td>Rockefeller University</td>\n",
       "      <td>vgl-lab@rockefeller.edu</td>\n",
       "      <td>NaN</td>\n",
       "      <td>m54306Ue_210830_185043</td>\n",
       "      <td>m54306Ue_210830_185043.5mc.hifi_reads.bam</td>\n",
       "      <td>s3://human-pangenomics/submissions/746FF75B-3C...</td>\n",
       "      <td>s3://human-pangenomics/working/HPRC/HG01887/ra...</td>\n",
       "    </tr>\n",
       "  </tbody>\n",
       "</table>\n",
       "<p>5 rows × 26 columns</p>\n",
       "</div>"
      ],
      "text/plain": [
       "  filetype sample_ID   library_ID library_strategy library_source  \\\n",
       "0      bam   HG00706  HG00706_PB1              WGS        GENOMIC   \n",
       "1      bam   HG00706  HG00706_PB1              WGS        GENOMIC   \n",
       "2      bam   HG00706  HG00706_PB1              WGS        GENOMIC   \n",
       "3      bam   HG00706  HG00706_PB1              WGS        GENOMIC   \n",
       "4      bam   HG01887  HG01887_PB1              WGS        GENOMIC   \n",
       "\n",
       "    library_selection library_layout     platform   instrument_model  \\\n",
       "0  size fractionation         single  PACBIO_SMRT  PacBio Sequel IIe   \n",
       "1  size fractionation         single  PACBIO_SMRT  PacBio Sequel IIe   \n",
       "2  size fractionation         single  PACBIO_SMRT  PacBio Sequel IIe   \n",
       "3  size fractionation         single  PACBIO_SMRT  PacBio Sequel IIe   \n",
       "4  size fractionation         single  PACBIO_SMRT  PacBio Sequel IIe   \n",
       "\n",
       "                          design_description  ... primrose_version  \\\n",
       "0  HiFi sequencing of 20kb fractionated gDNA  ...               P2   \n",
       "1  HiFi sequencing of 20kb fractionated gDNA  ...               P2   \n",
       "2  HiFi sequencing of 20kb fractionated gDNA  ...               P2   \n",
       "3  HiFi sequencing of 20kb fractionated gDNA  ...               P2   \n",
       "4  HiFi sequencing of 20kb fractionated gDNA  ...               P2   \n",
       "\n",
       "   polymerase_version seq_plate_chemistry_version      generator_facility  \\\n",
       "0                  c2                          C2  Rockefeller University   \n",
       "1                  c2                          C2  Rockefeller University   \n",
       "2                  c2                          C2  Rockefeller University   \n",
       "3                  c2                          C2  Rockefeller University   \n",
       "4                  c2                          C2  Rockefeller University   \n",
       "\n",
       "         generator_contact notes               flow_cell  \\\n",
       "0  vgl-lab@rockefeller.edu   NaN   m64055e_210731_145204   \n",
       "1  vgl-lab@rockefeller.edu   NaN   m64055e_210812_050522   \n",
       "2  vgl-lab@rockefeller.edu   NaN   m64055e_210813_141904   \n",
       "3  vgl-lab@rockefeller.edu   NaN   m64055e_210814_234047   \n",
       "4  vgl-lab@rockefeller.edu   NaN  m54306Ue_210830_185043   \n",
       "\n",
       "                                    filename  \\\n",
       "0   m64055e_210731_145204.5mc.hifi_reads.bam   \n",
       "1   m64055e_210812_050522.5mc.hifi_reads.bam   \n",
       "2   m64055e_210813_141904.5mc.hifi_reads.bam   \n",
       "3   m64055e_210814_234047.5mc.hifi_reads.bam   \n",
       "4  m54306Ue_210830_185043.5mc.hifi_reads.bam   \n",
       "\n",
       "                                       s3-submission  \\\n",
       "0  s3://human-pangenomics/submissions/746FF75B-3C...   \n",
       "1  s3://human-pangenomics/submissions/746FF75B-3C...   \n",
       "2  s3://human-pangenomics/submissions/746FF75B-3C...   \n",
       "3  s3://human-pangenomics/submissions/746FF75B-3C...   \n",
       "4  s3://human-pangenomics/submissions/746FF75B-3C...   \n",
       "\n",
       "                                          s3-working  \n",
       "0  s3://human-pangenomics/working/HPRC/HG00706/ra...  \n",
       "1  s3://human-pangenomics/working/HPRC/HG00706/ra...  \n",
       "2  s3://human-pangenomics/working/HPRC/HG00706/ra...  \n",
       "3  s3://human-pangenomics/working/HPRC/HG00706/ra...  \n",
       "4  s3://human-pangenomics/working/HPRC/HG01887/ra...  \n",
       "\n",
       "[5 rows x 26 columns]"
      ]
     },
     "execution_count": 5,
     "metadata": {},
     "output_type": "execute_result"
    }
   ],
   "source": [
    "ru_y2_df.head()"
   ]
  },
  {
   "cell_type": "code",
   "execution_count": 33,
   "metadata": {},
   "outputs": [],
   "source": [
    "# biosample check\n",
    "hprc_biosample = pd.read_csv('/private/groups/hprc/human-pangenomics/working/HPRC_metadata/data/production/hprc-production-biosample-table.tsv', sep='\\t')\n",
    "hprc_biosample.rename(columns={'Sample':'sample_ID'},inplace=True)\n",
    "\n",
    "ncbi_biosample_df = pd.read_csv('ncbi-biosample-07.31.24.tsv',sep='\\t')\n",
    "ncbi_biosample_df.rename(columns={'BioSample.name':'sample_ID'},inplace=True)"
   ]
  },
  {
   "cell_type": "code",
   "execution_count": 34,
   "metadata": {},
   "outputs": [],
   "source": [
    "assert set(ru_y2_df[~ru_y2_df['sample_ID'].isin(ncbi_biosample_df.sample_ID.tolist())].sample_ID.tolist()) == set(ru_y2_df[~ru_y2_df['sample_ID'].isin(hprc_biosample.sample_ID.tolist())].sample_ID.tolist())"
   ]
  },
  {
   "cell_type": "code",
   "execution_count": 24,
   "metadata": {},
   "outputs": [],
   "source": [
    "# Create a MechanicalSoup browser object\n",
    "manual_resolve = []\n",
    "browser = mechanicalsoup.Browser()\n",
    "sample_collection_dict = {sample : {\"tissue\": None,\n",
    "                                    \"geo_loc_name\": None,\n",
    "                                    \"sex\": None\n",
    "                                   } for sample in ru_y2_df[~ru_y2_df['sample_ID'].isin(hprc_production.sample_ID.tolist())].sample_ID.tolist()}"
   ]
  },
  {
   "cell_type": "code",
   "execution_count": 25,
   "metadata": {},
   "outputs": [
    {
     "data": {
      "text/plain": [
       "{'HG01887': {'tissue': None, 'geo_loc_name': None, 'sex': None},\n",
       " 'HG02656': {'tissue': None, 'geo_loc_name': None, 'sex': None},\n",
       " 'HG03825': {'tissue': None, 'geo_loc_name': None, 'sex': None}}"
      ]
     },
     "execution_count": 25,
     "metadata": {},
     "output_type": "execute_result"
    }
   ],
   "source": [
    "sample_collection_dict"
   ]
  },
  {
   "cell_type": "code",
   "execution_count": 26,
   "metadata": {},
   "outputs": [],
   "source": [
    "for sample in sample_collection_dict.keys():\n",
    "    \n",
    "    url = 'https://catalog.coriell.org/0/Sections/Search/Sample_Detail.aspx?Ref='+sample+'&Product=DNA' # +'&product=CC'\n",
    "    page = browser.get(url)\n",
    "    \n",
    "    form = page.soup.select('form')[0]\n",
    "\n",
    "    try:\n",
    "        country_span = form.select_one('#lblCountry').text\n",
    "        cell_type_span = form.select_one('#lblCell_Type').text\n",
    "        sex_span = form.select_one('#lblGender').text\n",
    "        sample_collection_dict[sample]['tissue'] = cell_type_span\n",
    "        sample_collection_dict[sample]['geo_loc_name'] = country_span\n",
    "        sample_collection_dict[sample]['sex'] = sex_span\n",
    "    except AttributeError:\n",
    "        print(sample)"
   ]
  },
  {
   "cell_type": "code",
   "execution_count": 43,
   "metadata": {},
   "outputs": [],
   "source": [
    "# create biosample identifiers and import\n",
    "sample_collection_dict['HG01887']['Accession'] = 'SAMN42953248'\n",
    "sample_collection_dict['HG02656']['Accession'] = 'SAMN42953249'\n",
    "sample_collection_dict['HG03825']['Accession'] = 'SAMN42953250'\n"
   ]
  },
  {
   "cell_type": "code",
   "execution_count": 44,
   "metadata": {},
   "outputs": [],
   "source": [
    "sample_collection_df = pd.DataFrame.from_dict(sample_collection_dict,orient='index')"
   ]
  },
  {
   "cell_type": "code",
   "execution_count": 45,
   "metadata": {},
   "outputs": [
    {
     "data": {
      "text/html": [
       "<div>\n",
       "<style scoped>\n",
       "    .dataframe tbody tr th:only-of-type {\n",
       "        vertical-align: middle;\n",
       "    }\n",
       "\n",
       "    .dataframe tbody tr th {\n",
       "        vertical-align: top;\n",
       "    }\n",
       "\n",
       "    .dataframe thead th {\n",
       "        text-align: right;\n",
       "    }\n",
       "</style>\n",
       "<table border=\"1\" class=\"dataframe\">\n",
       "  <thead>\n",
       "    <tr style=\"text-align: right;\">\n",
       "      <th></th>\n",
       "      <th>tissue</th>\n",
       "      <th>geo_loc_name</th>\n",
       "      <th>sex</th>\n",
       "      <th>Accession</th>\n",
       "    </tr>\n",
       "  </thead>\n",
       "  <tbody>\n",
       "    <tr>\n",
       "      <th>HG01887</th>\n",
       "      <td>B-Lymphocyte</td>\n",
       "      <td>BARBADOS</td>\n",
       "      <td>Male</td>\n",
       "      <td>SAMN42953248</td>\n",
       "    </tr>\n",
       "    <tr>\n",
       "      <th>HG02656</th>\n",
       "      <td>B-Lymphocyte</td>\n",
       "      <td>PAKISTAN</td>\n",
       "      <td>Male</td>\n",
       "      <td>SAMN42953249</td>\n",
       "    </tr>\n",
       "    <tr>\n",
       "      <th>HG03825</th>\n",
       "      <td>B-Lymphocyte</td>\n",
       "      <td>BANGLADESH</td>\n",
       "      <td>Female</td>\n",
       "      <td>SAMN42953250</td>\n",
       "    </tr>\n",
       "  </tbody>\n",
       "</table>\n",
       "</div>"
      ],
      "text/plain": [
       "               tissue geo_loc_name     sex     Accession\n",
       "HG01887  B-Lymphocyte     BARBADOS    Male  SAMN42953248\n",
       "HG02656  B-Lymphocyte     PAKISTAN    Male  SAMN42953249\n",
       "HG03825  B-Lymphocyte   BANGLADESH  Female  SAMN42953250"
      ]
     },
     "execution_count": 45,
     "metadata": {},
     "output_type": "execute_result"
    }
   ],
   "source": [
    "sample_collection_df"
   ]
  },
  {
   "cell_type": "code",
   "execution_count": 35,
   "metadata": {},
   "outputs": [],
   "source": [
    "hprc_production = pd.read_csv('hprc-production-07.31.24.tsv',sep='\\t',header=1)"
   ]
  },
  {
   "cell_type": "code",
   "execution_count": 40,
   "metadata": {},
   "outputs": [
    {
     "data": {
      "text/html": [
       "<div>\n",
       "<style scoped>\n",
       "    .dataframe tbody tr th:only-of-type {\n",
       "        vertical-align: middle;\n",
       "    }\n",
       "\n",
       "    .dataframe tbody tr th {\n",
       "        vertical-align: top;\n",
       "    }\n",
       "\n",
       "    .dataframe thead th {\n",
       "        text-align: right;\n",
       "    }\n",
       "</style>\n",
       "<table border=\"1\" class=\"dataframe\">\n",
       "  <thead>\n",
       "    <tr style=\"text-align: right;\">\n",
       "      <th></th>\n",
       "      <th>ChildID</th>\n",
       "      <th>N</th>\n",
       "      <th>Sex</th>\n",
       "      <th>Subpopulation</th>\n",
       "      <th>Superpopulation</th>\n",
       "      <th>Production Year</th>\n",
       "      <th>Pellets Status: Production</th>\n",
       "      <th>QC: Karyotyping</th>\n",
       "      <th>QC: OMNI Microarray</th>\n",
       "      <th>Pellets Status: UL Nanopore Production</th>\n",
       "      <th>...</th>\n",
       "      <th>Hi-C data generation</th>\n",
       "      <th>Hi-C data submitted to AnVIL</th>\n",
       "      <th>Strand-seq Center Information</th>\n",
       "      <th>Strand-seq sample received</th>\n",
       "      <th>Strand-seq data generation</th>\n",
       "      <th>Strand-seq data  submitted to AnVIL</th>\n",
       "      <th>Kinnex Center Information</th>\n",
       "      <th>Kinnex sample received</th>\n",
       "      <th>Kinnex data generation</th>\n",
       "      <th>Kinnex data  submitted to AnVIL</th>\n",
       "    </tr>\n",
       "  </thead>\n",
       "  <tbody>\n",
       "    <tr>\n",
       "      <th>277</th>\n",
       "      <td>HG01626</td>\n",
       "      <td>NaN</td>\n",
       "      <td>NaN</td>\n",
       "      <td>IBS</td>\n",
       "      <td>EUR</td>\n",
       "      <td>Fail Karyo</td>\n",
       "      <td>Pellets Banked (07/18/2023)</td>\n",
       "      <td>Completed (10/1/2023)</td>\n",
       "      <td>Completed (08/24/2023)</td>\n",
       "      <td>Pellets Banked (07/18/2023)</td>\n",
       "      <td>...</td>\n",
       "      <td>NaN</td>\n",
       "      <td>NaN</td>\n",
       "      <td>NaN</td>\n",
       "      <td>NaN</td>\n",
       "      <td>NaN</td>\n",
       "      <td>NaN</td>\n",
       "      <td>NaN</td>\n",
       "      <td>NaN</td>\n",
       "      <td>NaN</td>\n",
       "      <td>NaN</td>\n",
       "    </tr>\n",
       "  </tbody>\n",
       "</table>\n",
       "<p>1 rows × 42 columns</p>\n",
       "</div>"
      ],
      "text/plain": [
       "     ChildID    N  Sex Subpopulation Superpopulation Production Year  \\\n",
       "277  HG01626  NaN  NaN           IBS             EUR      Fail Karyo   \n",
       "\n",
       "      Pellets Status: Production       QC: Karyotyping   \\\n",
       "277  Pellets Banked (07/18/2023)  Completed (10/1/2023)   \n",
       "\n",
       "        QC: OMNI Microarray Pellets Status: UL Nanopore Production  ...  \\\n",
       "277  Completed (08/24/2023)            Pellets Banked (07/18/2023)  ...   \n",
       "\n",
       "    Hi-C data generation Hi-C data submitted to AnVIL  \\\n",
       "277                  NaN                          NaN   \n",
       "\n",
       "    Strand-seq Center Information Strand-seq sample received  \\\n",
       "277                           NaN                        NaN   \n",
       "\n",
       "    Strand-seq data generation Strand-seq data  submitted to AnVIL  \\\n",
       "277                        NaN                                 NaN   \n",
       "\n",
       "    Kinnex Center Information  Kinnex sample received Kinnex data generation  \\\n",
       "277                       NaN                     NaN                    NaN   \n",
       "\n",
       "    Kinnex data  submitted to AnVIL  \n",
       "277                             NaN  \n",
       "\n",
       "[1 rows x 42 columns]"
      ]
     },
     "execution_count": 40,
     "metadata": {},
     "output_type": "execute_result"
    }
   ],
   "source": [
    "hprc_production[hprc_production['ChildID'].isin(['HG01626'])]"
   ]
  },
  {
   "cell_type": "code",
   "execution_count": 41,
   "metadata": {},
   "outputs": [
    {
     "data": {
      "text/html": [
       "<div>\n",
       "<style scoped>\n",
       "    .dataframe tbody tr th:only-of-type {\n",
       "        vertical-align: middle;\n",
       "    }\n",
       "\n",
       "    .dataframe tbody tr th {\n",
       "        vertical-align: top;\n",
       "    }\n",
       "\n",
       "    .dataframe thead th {\n",
       "        text-align: right;\n",
       "    }\n",
       "</style>\n",
       "<table border=\"1\" class=\"dataframe\">\n",
       "  <thead>\n",
       "    <tr style=\"text-align: right;\">\n",
       "      <th></th>\n",
       "      <th>ChildID</th>\n",
       "      <th>N</th>\n",
       "      <th>Sex</th>\n",
       "      <th>Subpopulation</th>\n",
       "      <th>Superpopulation</th>\n",
       "      <th>Production Year</th>\n",
       "      <th>Pellets Status: Production</th>\n",
       "      <th>QC: Karyotyping</th>\n",
       "      <th>QC: OMNI Microarray</th>\n",
       "      <th>Pellets Status: UL Nanopore Production</th>\n",
       "      <th>...</th>\n",
       "      <th>Hi-C data generation</th>\n",
       "      <th>Hi-C data submitted to AnVIL</th>\n",
       "      <th>Strand-seq Center Information</th>\n",
       "      <th>Strand-seq sample received</th>\n",
       "      <th>Strand-seq data generation</th>\n",
       "      <th>Strand-seq data  submitted to AnVIL</th>\n",
       "      <th>Kinnex Center Information</th>\n",
       "      <th>Kinnex sample received</th>\n",
       "      <th>Kinnex data generation</th>\n",
       "      <th>Kinnex data  submitted to AnVIL</th>\n",
       "    </tr>\n",
       "  </thead>\n",
       "  <tbody>\n",
       "    <tr>\n",
       "      <th>62</th>\n",
       "      <td>HG03825</td>\n",
       "      <td>BD25</td>\n",
       "      <td>female</td>\n",
       "      <td>BEB</td>\n",
       "      <td>SAS</td>\n",
       "      <td>Fail Karyo\\nEval HPRC+?</td>\n",
       "      <td>Pellets Banked (12/8/20)</td>\n",
       "      <td>Completed (3/8/21)</td>\n",
       "      <td>Completed (2/16/21)</td>\n",
       "      <td>Pellets Banked (12/8/20)</td>\n",
       "      <td>...</td>\n",
       "      <td>NaN</td>\n",
       "      <td>NaN</td>\n",
       "      <td>NaN</td>\n",
       "      <td>NaN</td>\n",
       "      <td>NaN</td>\n",
       "      <td>NaN</td>\n",
       "      <td>NaN</td>\n",
       "      <td>NaN</td>\n",
       "      <td>NaN</td>\n",
       "      <td>NaN</td>\n",
       "    </tr>\n",
       "    <tr>\n",
       "      <th>63</th>\n",
       "      <td>HG02656</td>\n",
       "      <td>PK13</td>\n",
       "      <td>male</td>\n",
       "      <td>PJL</td>\n",
       "      <td>SAS</td>\n",
       "      <td>Fail Karyo\\nEval HPRC+?</td>\n",
       "      <td>Pellets Banked (12/10/20)</td>\n",
       "      <td>Completed (3/1/21)</td>\n",
       "      <td>Completed (2/16/21)</td>\n",
       "      <td>Pellets Banked (12/10/20)</td>\n",
       "      <td>...</td>\n",
       "      <td>NaN</td>\n",
       "      <td>NaN</td>\n",
       "      <td>NaN</td>\n",
       "      <td>NaN</td>\n",
       "      <td>NaN</td>\n",
       "      <td>NaN</td>\n",
       "      <td>NaN</td>\n",
       "      <td>NaN</td>\n",
       "      <td>NaN</td>\n",
       "      <td>NaN</td>\n",
       "    </tr>\n",
       "    <tr>\n",
       "      <th>64</th>\n",
       "      <td>HG01887</td>\n",
       "      <td>BB04</td>\n",
       "      <td>male</td>\n",
       "      <td>ACB</td>\n",
       "      <td>AFR</td>\n",
       "      <td>Fail Karyo\\nEval HPRC+?</td>\n",
       "      <td>Pellets Banked (12/8/20)</td>\n",
       "      <td>Completed (3/1/21)</td>\n",
       "      <td>Completed (2/16/21)</td>\n",
       "      <td>Pellets Banked (12/8/20)</td>\n",
       "      <td>...</td>\n",
       "      <td>NaN</td>\n",
       "      <td>NaN</td>\n",
       "      <td>NaN</td>\n",
       "      <td>NaN</td>\n",
       "      <td>NaN</td>\n",
       "      <td>NaN</td>\n",
       "      <td>NaN</td>\n",
       "      <td>NaN</td>\n",
       "      <td>NaN</td>\n",
       "      <td>NaN</td>\n",
       "    </tr>\n",
       "  </tbody>\n",
       "</table>\n",
       "<p>3 rows × 42 columns</p>\n",
       "</div>"
      ],
      "text/plain": [
       "    ChildID     N     Sex Subpopulation Superpopulation  \\\n",
       "62  HG03825  BD25  female           BEB             SAS   \n",
       "63  HG02656  PK13    male           PJL             SAS   \n",
       "64  HG01887  BB04    male           ACB             AFR   \n",
       "\n",
       "            Production Year Pellets Status: Production    QC: Karyotyping   \\\n",
       "62  Fail Karyo\\nEval HPRC+?   Pellets Banked (12/8/20)  Completed (3/8/21)   \n",
       "63  Fail Karyo\\nEval HPRC+?  Pellets Banked (12/10/20)  Completed (3/1/21)   \n",
       "64  Fail Karyo\\nEval HPRC+?   Pellets Banked (12/8/20)  Completed (3/1/21)   \n",
       "\n",
       "    QC: OMNI Microarray Pellets Status: UL Nanopore Production  ...  \\\n",
       "62  Completed (2/16/21)               Pellets Banked (12/8/20)  ...   \n",
       "63  Completed (2/16/21)              Pellets Banked (12/10/20)  ...   \n",
       "64  Completed (2/16/21)               Pellets Banked (12/8/20)  ...   \n",
       "\n",
       "   Hi-C data generation Hi-C data submitted to AnVIL  \\\n",
       "62                  NaN                          NaN   \n",
       "63                  NaN                          NaN   \n",
       "64                  NaN                          NaN   \n",
       "\n",
       "   Strand-seq Center Information Strand-seq sample received  \\\n",
       "62                           NaN                        NaN   \n",
       "63                           NaN                        NaN   \n",
       "64                           NaN                        NaN   \n",
       "\n",
       "   Strand-seq data generation Strand-seq data  submitted to AnVIL  \\\n",
       "62                        NaN                                 NaN   \n",
       "63                        NaN                                 NaN   \n",
       "64                        NaN                                 NaN   \n",
       "\n",
       "   Kinnex Center Information  Kinnex sample received Kinnex data generation  \\\n",
       "62                       NaN                     NaN                    NaN   \n",
       "63                       NaN                     NaN                    NaN   \n",
       "64                       NaN                     NaN                    NaN   \n",
       "\n",
       "   Kinnex data  submitted to AnVIL  \n",
       "62                             NaN  \n",
       "63                             NaN  \n",
       "64                             NaN  \n",
       "\n",
       "[3 rows x 42 columns]"
      ]
     },
     "execution_count": 41,
     "metadata": {},
     "output_type": "execute_result"
    }
   ],
   "source": [
    "hprc_production[hprc_production['ChildID'].isin(sample_collection_df.index.tolist())]"
   ]
  },
  {
   "cell_type": "code",
   "execution_count": null,
   "metadata": {},
   "outputs": [],
   "source": []
  }
 ],
 "metadata": {
  "kernelspec": {
   "display_name": "Python 3",
   "language": "python",
   "name": "python3"
  },
  "language_info": {
   "codemirror_mode": {
    "name": "ipython",
    "version": 3
   },
   "file_extension": ".py",
   "mimetype": "text/x-python",
   "name": "python",
   "nbconvert_exporter": "python",
   "pygments_lexer": "ipython3",
   "version": "3.10.14"
  }
 },
 "nbformat": 4,
 "nbformat_minor": 2
}
