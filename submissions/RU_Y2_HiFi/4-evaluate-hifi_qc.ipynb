{
 "cells": [
  {
   "cell_type": "code",
   "execution_count": 2,
   "metadata": {},
   "outputs": [],
   "source": [
    "import pandas as pd"
   ]
  },
  {
   "cell_type": "code",
   "execution_count": 3,
   "metadata": {},
   "outputs": [],
   "source": [
    "hifi_qc = pd.read_csv('/private/groups/hprc/human-pangenomics/HPRC_metadata/submissions/RU_Y2_HiFi/hifi_qc/hifi_qc_samples_output_table.csv')\n",
    "hifi_meta = pd.read_csv('HPRC_RU_Y2_Sequel_Metadata_PacBio_HiFi_Submission.csv')"
   ]
  },
  {
   "cell_type": "code",
   "execution_count": 4,
   "metadata": {},
   "outputs": [],
   "source": [
    "hifi_dict = {data[0]:pd.read_csv(data[1], sep='\\t') for data in hifi_qc[['sample_id', 'hifi_qc_summary']].values}"
   ]
  },
  {
   "cell_type": "code",
   "execution_count": 5,
   "metadata": {},
   "outputs": [],
   "source": [
    "hifi_df = pd.concat(hifi_dict.values())\n",
    "hifi_df['sample_ID'] = [sample_id.split('_')[0] for sample_id in hifi_df['filename'].tolist()]\n",
    "# hifi_df.drop(columns=['bam_file'],inplace=True)\n",
    "# hifi_df.rename(columns={'bam_file':'filename'},inplace=True)"
   ]
  },
  {
   "cell_type": "code",
   "execution_count": 6,
   "metadata": {},
   "outputs": [],
   "source": [
    "hifi_df = hifi_df[['sample_ID',\n",
    "'filename',\n",
    "'bam_file',\n",
    " 'total_reads',\n",
    " 'total_bp',\n",
    " 'total_Gbp',\n",
    " 'min',\n",
    " 'max',\n",
    " 'mean',\n",
    " 'quartile_25',\n",
    " 'quartile_50',\n",
    " 'quartile_75',\n",
    " 'N25',\n",
    " 'N50',\n",
    " 'N75',\n",
    " 'ntsm_score',\n",
    " 'ntsm_result',\n",
    " 'MM_tag',\n",
    " 'ML_tag']]"
   ]
  },
  {
   "cell_type": "code",
   "execution_count": 7,
   "metadata": {},
   "outputs": [],
   "source": [
    "hifi_meta['flow_cell'] = hifi_meta['filename']\n",
    "hifi_df['flow_cell'] = [flow_cell.split('.5mc.')[0].split('_',1)[1] for flow_cell in hifi_df['filename'].tolist()]"
   ]
  },
  {
   "cell_type": "code",
   "execution_count": 10,
   "metadata": {},
   "outputs": [],
   "source": [
    "hifi_df.to_csv('RU_Y2_HIFI_post_sra_metadata.csv',index=False)"
   ]
  }
 ],
 "metadata": {
  "kernelspec": {
   "display_name": "Python 3",
   "language": "python",
   "name": "python3"
  },
  "language_info": {
   "codemirror_mode": {
    "name": "ipython",
    "version": 3
   },
   "file_extension": ".py",
   "mimetype": "text/x-python",
   "name": "python",
   "nbconvert_exporter": "python",
   "pygments_lexer": "ipython3",
   "version": "3.10.14"
  }
 },
 "nbformat": 4,
 "nbformat_minor": 2
}
