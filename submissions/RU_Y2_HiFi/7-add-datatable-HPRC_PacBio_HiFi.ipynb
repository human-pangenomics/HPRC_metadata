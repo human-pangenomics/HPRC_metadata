{
 "cells": [
  {
   "cell_type": "code",
   "execution_count": 23,
   "metadata": {},
   "outputs": [],
   "source": [
    "import numpy as np\n",
    "import pandas as pd\n",
    "pd.set_option('display.max_columns', 500)\n",
    "pd.set_option('display.width', 1000)"
   ]
  },
  {
   "cell_type": "code",
   "execution_count": 62,
   "metadata": {},
   "outputs": [],
   "source": [
    "sra_identifiers = pd.read_csv('/private/groups/hprc/human-pangenomics/documentation-metadata/HPRC_metadata/submissions/RU_Y2_HiFi/metadata-14647736-processed-ok.tsv',sep='\\t')"
   ]
  },
  {
   "cell_type": "code",
   "execution_count": 63,
   "metadata": {},
   "outputs": [],
   "source": [
    "post_sra = pd.read_csv('/private/groups/hprc/human-pangenomics/documentation-metadata/HPRC_metadata/submissions/RU_Y2_HiFi/RU_Y2_HIFI_post_sra_metadata.csv')"
   ]
  },
  {
   "cell_type": "code",
   "execution_count": 64,
   "metadata": {},
   "outputs": [],
   "source": [
    "sra_identifiers['bam_file'] = sra_identifiers['filename']"
   ]
  },
  {
   "cell_type": "code",
   "execution_count": 65,
   "metadata": {},
   "outputs": [
    {
     "data": {
      "text/html": [
       "<div>\n",
       "<style scoped>\n",
       "    .dataframe tbody tr th:only-of-type {\n",
       "        vertical-align: middle;\n",
       "    }\n",
       "\n",
       "    .dataframe tbody tr th {\n",
       "        vertical-align: top;\n",
       "    }\n",
       "\n",
       "    .dataframe thead th {\n",
       "        text-align: right;\n",
       "    }\n",
       "</style>\n",
       "<table border=\"1\" class=\"dataframe\">\n",
       "  <thead>\n",
       "    <tr style=\"text-align: right;\">\n",
       "      <th></th>\n",
       "      <th>sample_ID</th>\n",
       "      <th>filename</th>\n",
       "      <th>bam_file</th>\n",
       "      <th>total_reads</th>\n",
       "      <th>total_bp</th>\n",
       "      <th>total_Gbp</th>\n",
       "      <th>min</th>\n",
       "      <th>max</th>\n",
       "      <th>mean</th>\n",
       "      <th>quartile_25</th>\n",
       "      <th>quartile_50</th>\n",
       "      <th>quartile_75</th>\n",
       "      <th>N25</th>\n",
       "      <th>N50</th>\n",
       "      <th>N75</th>\n",
       "      <th>ntsm_score</th>\n",
       "      <th>ntsm_result</th>\n",
       "      <th>MM_tag</th>\n",
       "      <th>ML_tag</th>\n",
       "      <th>flow_cell</th>\n",
       "    </tr>\n",
       "  </thead>\n",
       "  <tbody>\n",
       "    <tr>\n",
       "      <th>4</th>\n",
       "      <td>HG01887</td>\n",
       "      <td>HG01887_m54306Ue_210830_185043.5mc.hifi_reads.bam</td>\n",
       "      <td>m54306Ue_210830_185043.5mc.hifi_reads.bam</td>\n",
       "      <td>1713953</td>\n",
       "      <td>27010781444</td>\n",
       "      <td>27.01</td>\n",
       "      <td>85</td>\n",
       "      <td>56725</td>\n",
       "      <td>15759</td>\n",
       "      <td>12689</td>\n",
       "      <td>15054</td>\n",
       "      <td>18124</td>\n",
       "      <td>13489</td>\n",
       "      <td>16153</td>\n",
       "      <td>19522</td>\n",
       "      <td>0.609606</td>\n",
       "      <td>Similar</td>\n",
       "      <td>True</td>\n",
       "      <td>True</td>\n",
       "      <td>m54306Ue_210830_185043</td>\n",
       "    </tr>\n",
       "    <tr>\n",
       "      <th>5</th>\n",
       "      <td>HG01887</td>\n",
       "      <td>HG01887_m54306Ue_210901_041827.5mc.hifi_reads.bam</td>\n",
       "      <td>m54306Ue_210901_041827.5mc.hifi_reads.bam</td>\n",
       "      <td>1663243</td>\n",
       "      <td>27802895431</td>\n",
       "      <td>27.80</td>\n",
       "      <td>84</td>\n",
       "      <td>61507</td>\n",
       "      <td>16716</td>\n",
       "      <td>13552</td>\n",
       "      <td>16107</td>\n",
       "      <td>19263</td>\n",
       "      <td>14432</td>\n",
       "      <td>17220</td>\n",
       "      <td>20613</td>\n",
       "      <td>0.609732</td>\n",
       "      <td>Similar</td>\n",
       "      <td>True</td>\n",
       "      <td>True</td>\n",
       "      <td>m54306Ue_210901_041827</td>\n",
       "    </tr>\n",
       "    <tr>\n",
       "      <th>6</th>\n",
       "      <td>HG01887</td>\n",
       "      <td>HG01887_m64055e_210828_161538.5mc.hifi_reads.bam</td>\n",
       "      <td>m64055e_210828_161538.5mc.hifi_reads.bam</td>\n",
       "      <td>1678078</td>\n",
       "      <td>26927466275</td>\n",
       "      <td>26.93</td>\n",
       "      <td>51</td>\n",
       "      <td>48702</td>\n",
       "      <td>16046</td>\n",
       "      <td>13151</td>\n",
       "      <td>15442</td>\n",
       "      <td>18339</td>\n",
       "      <td>13906</td>\n",
       "      <td>16423</td>\n",
       "      <td>19580</td>\n",
       "      <td>0.587635</td>\n",
       "      <td>Similar</td>\n",
       "      <td>True</td>\n",
       "      <td>True</td>\n",
       "      <td>m64055e_210828_161538</td>\n",
       "    </tr>\n",
       "    <tr>\n",
       "      <th>7</th>\n",
       "      <td>HG01887</td>\n",
       "      <td>HG01887_m64055e_210831_160520.5mc.hifi_reads.bam</td>\n",
       "      <td>m64055e_210831_160520.5mc.hifi_reads.bam</td>\n",
       "      <td>1685345</td>\n",
       "      <td>26576024032</td>\n",
       "      <td>26.58</td>\n",
       "      <td>47</td>\n",
       "      <td>55121</td>\n",
       "      <td>15768</td>\n",
       "      <td>12711</td>\n",
       "      <td>15067</td>\n",
       "      <td>18120</td>\n",
       "      <td>13506</td>\n",
       "      <td>16156</td>\n",
       "      <td>19514</td>\n",
       "      <td>0.608575</td>\n",
       "      <td>Similar</td>\n",
       "      <td>True</td>\n",
       "      <td>True</td>\n",
       "      <td>m64055e_210831_160520</td>\n",
       "    </tr>\n",
       "    <tr>\n",
       "      <th>8</th>\n",
       "      <td>HG02656</td>\n",
       "      <td>HG02656_m54306Ue_210817_152605.5mc.hifi_reads.bam</td>\n",
       "      <td>m54306Ue_210817_152605.5mc.hifi_reads.bam</td>\n",
       "      <td>1632775</td>\n",
       "      <td>27009600517</td>\n",
       "      <td>27.01</td>\n",
       "      <td>64</td>\n",
       "      <td>55149</td>\n",
       "      <td>16542</td>\n",
       "      <td>13106</td>\n",
       "      <td>15827</td>\n",
       "      <td>19245</td>\n",
       "      <td>14142</td>\n",
       "      <td>17149</td>\n",
       "      <td>20888</td>\n",
       "      <td>0.588631</td>\n",
       "      <td>Similar</td>\n",
       "      <td>True</td>\n",
       "      <td>True</td>\n",
       "      <td>m54306Ue_210817_152605</td>\n",
       "    </tr>\n",
       "    <tr>\n",
       "      <th>9</th>\n",
       "      <td>HG02656</td>\n",
       "      <td>HG02656_m54306Ue_210825_213503.5mc.hifi_reads.bam</td>\n",
       "      <td>m54306Ue_210825_213503.5mc.hifi_reads.bam</td>\n",
       "      <td>1973024</td>\n",
       "      <td>33967047327</td>\n",
       "      <td>33.97</td>\n",
       "      <td>85</td>\n",
       "      <td>56293</td>\n",
       "      <td>17215</td>\n",
       "      <td>13896</td>\n",
       "      <td>16454</td>\n",
       "      <td>19787</td>\n",
       "      <td>14759</td>\n",
       "      <td>17635</td>\n",
       "      <td>21307</td>\n",
       "      <td>0.581859</td>\n",
       "      <td>Similar</td>\n",
       "      <td>True</td>\n",
       "      <td>True</td>\n",
       "      <td>m54306Ue_210825_213503</td>\n",
       "    </tr>\n",
       "    <tr>\n",
       "      <th>10</th>\n",
       "      <td>HG02656</td>\n",
       "      <td>HG02656_m64055e_210819_161540.5mc.hifi_reads.bam</td>\n",
       "      <td>m64055e_210819_161540.5mc.hifi_reads.bam</td>\n",
       "      <td>1739354</td>\n",
       "      <td>29295892201</td>\n",
       "      <td>29.30</td>\n",
       "      <td>85</td>\n",
       "      <td>55855</td>\n",
       "      <td>16842</td>\n",
       "      <td>13362</td>\n",
       "      <td>16156</td>\n",
       "      <td>19639</td>\n",
       "      <td>14433</td>\n",
       "      <td>17500</td>\n",
       "      <td>21270</td>\n",
       "      <td>0.569400</td>\n",
       "      <td>Similar</td>\n",
       "      <td>True</td>\n",
       "      <td>True</td>\n",
       "      <td>m64055e_210819_161540</td>\n",
       "    </tr>\n",
       "    <tr>\n",
       "      <th>11</th>\n",
       "      <td>HG02656</td>\n",
       "      <td>HG02656_m64055e_210825_211340.5mc.hifi_reads.bam</td>\n",
       "      <td>m64055e_210825_211340.5mc.hifi_reads.bam</td>\n",
       "      <td>1703862</td>\n",
       "      <td>29068176013</td>\n",
       "      <td>29.07</td>\n",
       "      <td>85</td>\n",
       "      <td>56910</td>\n",
       "      <td>17060</td>\n",
       "      <td>13792</td>\n",
       "      <td>16299</td>\n",
       "      <td>19580</td>\n",
       "      <td>14629</td>\n",
       "      <td>17451</td>\n",
       "      <td>21070</td>\n",
       "      <td>0.575933</td>\n",
       "      <td>Similar</td>\n",
       "      <td>True</td>\n",
       "      <td>True</td>\n",
       "      <td>m64055e_210825_211340</td>\n",
       "    </tr>\n",
       "    <tr>\n",
       "      <th>24</th>\n",
       "      <td>HG03825</td>\n",
       "      <td>HG03825_m54306Ue_210819_153346.5mc.hifi_reads.bam</td>\n",
       "      <td>m54306Ue_210819_153346.5mc.hifi_reads.bam</td>\n",
       "      <td>1686395</td>\n",
       "      <td>25563140885</td>\n",
       "      <td>25.56</td>\n",
       "      <td>47</td>\n",
       "      <td>55801</td>\n",
       "      <td>15158</td>\n",
       "      <td>11922</td>\n",
       "      <td>14390</td>\n",
       "      <td>17587</td>\n",
       "      <td>12812</td>\n",
       "      <td>15637</td>\n",
       "      <td>19139</td>\n",
       "      <td>0.579312</td>\n",
       "      <td>Similar</td>\n",
       "      <td>True</td>\n",
       "      <td>True</td>\n",
       "      <td>m54306Ue_210819_153346</td>\n",
       "    </tr>\n",
       "    <tr>\n",
       "      <th>25</th>\n",
       "      <td>HG03825</td>\n",
       "      <td>HG03825_m54306Ue_210821_010021.5mc.hifi_reads.bam</td>\n",
       "      <td>m54306Ue_210821_010021.5mc.hifi_reads.bam</td>\n",
       "      <td>1780100</td>\n",
       "      <td>26992309883</td>\n",
       "      <td>26.99</td>\n",
       "      <td>51</td>\n",
       "      <td>48823</td>\n",
       "      <td>15163</td>\n",
       "      <td>11929</td>\n",
       "      <td>14406</td>\n",
       "      <td>17582</td>\n",
       "      <td>12821</td>\n",
       "      <td>15643</td>\n",
       "      <td>19120</td>\n",
       "      <td>0.577947</td>\n",
       "      <td>Similar</td>\n",
       "      <td>True</td>\n",
       "      <td>True</td>\n",
       "      <td>m54306Ue_210821_010021</td>\n",
       "    </tr>\n",
       "    <tr>\n",
       "      <th>26</th>\n",
       "      <td>HG03825</td>\n",
       "      <td>HG03825_m54306Ue_210822_102836.5mc.hifi_reads.bam</td>\n",
       "      <td>m54306Ue_210822_102836.5mc.hifi_reads.bam</td>\n",
       "      <td>1532497</td>\n",
       "      <td>22974849499</td>\n",
       "      <td>22.97</td>\n",
       "      <td>49</td>\n",
       "      <td>52269</td>\n",
       "      <td>14991</td>\n",
       "      <td>11814</td>\n",
       "      <td>14230</td>\n",
       "      <td>17361</td>\n",
       "      <td>12672</td>\n",
       "      <td>15444</td>\n",
       "      <td>18875</td>\n",
       "      <td>0.586998</td>\n",
       "      <td>Similar</td>\n",
       "      <td>True</td>\n",
       "      <td>True</td>\n",
       "      <td>m54306Ue_210822_102836</td>\n",
       "    </tr>\n",
       "    <tr>\n",
       "      <th>27</th>\n",
       "      <td>HG03825</td>\n",
       "      <td>HG03825_m64055e_210817_150614.5mc.hifi_reads.bam</td>\n",
       "      <td>m64055e_210817_150614.5mc.hifi_reads.bam</td>\n",
       "      <td>1573853</td>\n",
       "      <td>23878947029</td>\n",
       "      <td>23.88</td>\n",
       "      <td>49</td>\n",
       "      <td>55896</td>\n",
       "      <td>15172</td>\n",
       "      <td>11948</td>\n",
       "      <td>14418</td>\n",
       "      <td>17593</td>\n",
       "      <td>12839</td>\n",
       "      <td>15652</td>\n",
       "      <td>19125</td>\n",
       "      <td>0.587198</td>\n",
       "      <td>Similar</td>\n",
       "      <td>True</td>\n",
       "      <td>True</td>\n",
       "      <td>m64055e_210817_150614</td>\n",
       "    </tr>\n",
       "  </tbody>\n",
       "</table>\n",
       "</div>"
      ],
      "text/plain": [
       "   sample_ID                                           filename                                   bam_file  total_reads     total_bp  total_Gbp  min    max   mean  quartile_25  quartile_50  quartile_75    N25    N50    N75  ntsm_score ntsm_result  MM_tag  ML_tag               flow_cell\n",
       "4    HG01887  HG01887_m54306Ue_210830_185043.5mc.hifi_reads.bam  m54306Ue_210830_185043.5mc.hifi_reads.bam      1713953  27010781444      27.01   85  56725  15759        12689        15054        18124  13489  16153  19522    0.609606     Similar    True    True  m54306Ue_210830_185043\n",
       "5    HG01887  HG01887_m54306Ue_210901_041827.5mc.hifi_reads.bam  m54306Ue_210901_041827.5mc.hifi_reads.bam      1663243  27802895431      27.80   84  61507  16716        13552        16107        19263  14432  17220  20613    0.609732     Similar    True    True  m54306Ue_210901_041827\n",
       "6    HG01887   HG01887_m64055e_210828_161538.5mc.hifi_reads.bam   m64055e_210828_161538.5mc.hifi_reads.bam      1678078  26927466275      26.93   51  48702  16046        13151        15442        18339  13906  16423  19580    0.587635     Similar    True    True   m64055e_210828_161538\n",
       "7    HG01887   HG01887_m64055e_210831_160520.5mc.hifi_reads.bam   m64055e_210831_160520.5mc.hifi_reads.bam      1685345  26576024032      26.58   47  55121  15768        12711        15067        18120  13506  16156  19514    0.608575     Similar    True    True   m64055e_210831_160520\n",
       "8    HG02656  HG02656_m54306Ue_210817_152605.5mc.hifi_reads.bam  m54306Ue_210817_152605.5mc.hifi_reads.bam      1632775  27009600517      27.01   64  55149  16542        13106        15827        19245  14142  17149  20888    0.588631     Similar    True    True  m54306Ue_210817_152605\n",
       "9    HG02656  HG02656_m54306Ue_210825_213503.5mc.hifi_reads.bam  m54306Ue_210825_213503.5mc.hifi_reads.bam      1973024  33967047327      33.97   85  56293  17215        13896        16454        19787  14759  17635  21307    0.581859     Similar    True    True  m54306Ue_210825_213503\n",
       "10   HG02656   HG02656_m64055e_210819_161540.5mc.hifi_reads.bam   m64055e_210819_161540.5mc.hifi_reads.bam      1739354  29295892201      29.30   85  55855  16842        13362        16156        19639  14433  17500  21270    0.569400     Similar    True    True   m64055e_210819_161540\n",
       "11   HG02656   HG02656_m64055e_210825_211340.5mc.hifi_reads.bam   m64055e_210825_211340.5mc.hifi_reads.bam      1703862  29068176013      29.07   85  56910  17060        13792        16299        19580  14629  17451  21070    0.575933     Similar    True    True   m64055e_210825_211340\n",
       "24   HG03825  HG03825_m54306Ue_210819_153346.5mc.hifi_reads.bam  m54306Ue_210819_153346.5mc.hifi_reads.bam      1686395  25563140885      25.56   47  55801  15158        11922        14390        17587  12812  15637  19139    0.579312     Similar    True    True  m54306Ue_210819_153346\n",
       "25   HG03825  HG03825_m54306Ue_210821_010021.5mc.hifi_reads.bam  m54306Ue_210821_010021.5mc.hifi_reads.bam      1780100  26992309883      26.99   51  48823  15163        11929        14406        17582  12821  15643  19120    0.577947     Similar    True    True  m54306Ue_210821_010021\n",
       "26   HG03825  HG03825_m54306Ue_210822_102836.5mc.hifi_reads.bam  m54306Ue_210822_102836.5mc.hifi_reads.bam      1532497  22974849499      22.97   49  52269  14991        11814        14230        17361  12672  15444  18875    0.586998     Similar    True    True  m54306Ue_210822_102836\n",
       "27   HG03825   HG03825_m64055e_210817_150614.5mc.hifi_reads.bam   m64055e_210817_150614.5mc.hifi_reads.bam      1573853  23878947029      23.88   49  55896  15172        11948        14418        17593  12839  15652  19125    0.587198     Similar    True    True   m64055e_210817_150614"
      ]
     },
     "execution_count": 65,
     "metadata": {},
     "output_type": "execute_result"
    }
   ],
   "source": [
    "post_sra[~post_sra['bam_file'].isin(sra_identifiers.bam_file.tolist())]"
   ]
  },
  {
   "cell_type": "code",
   "execution_count": 66,
   "metadata": {},
   "outputs": [
    {
     "data": {
      "text/plain": [
       "(24, 25)"
      ]
     },
     "execution_count": 66,
     "metadata": {},
     "output_type": "execute_result"
    }
   ],
   "source": [
    "sra_identifiers[sra_identifiers['bam_file'].isin(post_sra.bam_file.tolist())].shape"
   ]
  },
  {
   "cell_type": "code",
   "execution_count": 67,
   "metadata": {},
   "outputs": [],
   "source": [
    "ru_y2_hifi = pd.merge(sra_identifiers, post_sra, on='bam_file',how='inner')"
   ]
  },
  {
   "cell_type": "code",
   "execution_count": 68,
   "metadata": {},
   "outputs": [],
   "source": [
    "ru_y2_hifi.to_csv('RU_Y2_HiFi_final_table.csv',index=False)"
   ]
  },
  {
   "cell_type": "code",
   "execution_count": 69,
   "metadata": {},
   "outputs": [],
   "source": [
    "hprc_pacbio_hifi = pd.read_csv('/private/groups/hprc/human-pangenomics/documentation-metadata/HPRC_metadata/data/hprc-data-explorer-tables/HPRC_PacBio_HiFi.tsv',sep='\\t')"
   ]
  },
  {
   "cell_type": "code",
   "execution_count": 70,
   "metadata": {},
   "outputs": [],
   "source": [
    "hprc_pacbio_hifi['MM_tag'] = False"
   ]
  },
  {
   "cell_type": "code",
   "execution_count": 71,
   "metadata": {},
   "outputs": [],
   "source": [
    "# ru_y2_hifi[['filename_x', 'filename_y']]\n",
    "ru_y2_hifi.drop('filename_y', axis=1,inplace=True)\n",
    "ru_y2_hifi.rename(columns={'filename_x':'filename'},inplace=True)"
   ]
  },
  {
   "cell_type": "code",
   "execution_count": 72,
   "metadata": {},
   "outputs": [],
   "source": [
    "ru_y2_hifi_release = pd.read_csv('/private/groups/hprc/human-pangenomics/documentation-metadata/HPRC_metadata/submissions/RU_Y2_HiFi/RU_Y2_HiFi.transfer_ec2.csv',header=None)\n"
   ]
  },
  {
   "cell_type": "code",
   "execution_count": 73,
   "metadata": {},
   "outputs": [],
   "source": [
    "ru_y2_hifi_release['filename'] = [filename.split('/')[-1] for filename in ru_y2_hifi_release[1].tolist()]\n",
    "ru_y2_hifi_release.rename(columns={1:'path'},inplace=True)"
   ]
  },
  {
   "cell_type": "code",
   "execution_count": 74,
   "metadata": {},
   "outputs": [],
   "source": [
    "ru_y2_hifi = pd.merge(ru_y2_hifi, ru_y2_hifi_release[['filename','path']], on='filename', how='inner')"
   ]
  },
  {
   "cell_type": "code",
   "execution_count": 75,
   "metadata": {},
   "outputs": [],
   "source": [
    "ru_y2_hifi['data_type'] = 'unaligned reads'"
   ]
  },
  {
   "cell_type": "code",
   "execution_count": 76,
   "metadata": {},
   "outputs": [],
   "source": [
    "ru_y2_hifi['MM_tag'] = True\n",
    "ru_y2_hifi['DeepConsensus_version'] = np.nan\n",
    "ru_y2_hifi['notes'] = np.nan"
   ]
  },
  {
   "cell_type": "code",
   "execution_count": 77,
   "metadata": {},
   "outputs": [],
   "source": [
    "hprc_pacbio_hifi = pd.concat([hprc_pacbio_hifi, ru_y2_hifi[list(hprc_pacbio_hifi)]])"
   ]
  },
  {
   "cell_type": "code",
   "execution_count": 78,
   "metadata": {},
   "outputs": [
    {
     "data": {
      "text/plain": [
       "[]"
      ]
     },
     "execution_count": 78,
     "metadata": {},
     "output_type": "execute_result"
    }
   ],
   "source": [
    "# List of example columns (from the metadata sheet)\n",
    "\n",
    "# Check for missing columns in the new data\n",
    "missing_columns = [col for col in list(hprc_pacbio_hifi) if col not in ru_y2_hifi.columns]\n",
    "\n",
    "# Check for extra columns in the new data\n",
    "extra_columns = [col for col in ru_y2_hifi.columns if col not in list(hprc_pacbio_hifi)]\n",
    "\n",
    "missing_columns"
   ]
  },
  {
   "cell_type": "code",
   "execution_count": 83,
   "metadata": {},
   "outputs": [],
   "source": [
    "hprc_pacbio_hifi.to_csv('/private/groups/hprc/human-pangenomics/documentation-metadata/HPRC_metadata/data/hprc-data-explorer-tables/HPRC_PacBio_HiFi.tsv',sep='\\t', index=False)"
   ]
  }
 ],
 "metadata": {
  "kernelspec": {
   "display_name": "Python 3",
   "language": "python",
   "name": "python3"
  },
  "language_info": {
   "codemirror_mode": {
    "name": "ipython",
    "version": 3
   },
   "file_extension": ".py",
   "mimetype": "text/x-python",
   "name": "python",
   "nbconvert_exporter": "python",
   "pygments_lexer": "ipython3",
   "version": "3.10.14"
  }
 },
 "nbformat": 4,
 "nbformat_minor": 2
}
