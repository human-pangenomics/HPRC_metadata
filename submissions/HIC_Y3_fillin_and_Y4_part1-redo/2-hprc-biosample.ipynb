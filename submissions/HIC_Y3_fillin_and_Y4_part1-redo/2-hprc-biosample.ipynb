{
 "cells": [
  {
   "cell_type": "code",
   "execution_count": 1,
   "metadata": {},
   "outputs": [],
   "source": [
    "import pandas as pd"
   ]
  },
  {
   "cell_type": "code",
   "execution_count": 39,
   "metadata": {},
   "outputs": [],
   "source": [
    "hprc_biosample = pd.read_csv('/private/groups/hprc/human-pangenomics/HPRC_metadata/data/production/hprc-production-biosample-table.tsv',sep='\\t')\n",
    "hprc_biosample.rename(columns={'Sample':'sample_id'},inplace=True)"
   ]
  },
  {
   "cell_type": "code",
   "execution_count": 36,
   "metadata": {},
   "outputs": [],
   "source": [
    "hic_df = pd.read_csv('/private/groups/hprc/human-pangenomics/HPRC_metadata/submissions/HIC_Y3_fillin_and_Y4_part1-redo/HIC_Y3_fillin_and_Y4_part1-redo-sample_file_hifi_qc_aggregate.csv')"
   ]
  },
  {
   "cell_type": "code",
   "execution_count": 37,
   "metadata": {},
   "outputs": [
    {
     "data": {
      "text/plain": [
       "(366, 5)"
      ]
     },
     "execution_count": 37,
     "metadata": {},
     "output_type": "execute_result"
    }
   ],
   "source": [
    "hic_df.shape"
   ]
  },
  {
   "cell_type": "code",
   "execution_count": 40,
   "metadata": {},
   "outputs": [],
   "source": [
    "hic_df['sample_id'] = [sample_id.split('-')[0] for sample_id in hic_df['file_name'].tolist()]"
   ]
  },
  {
   "cell_type": "code",
   "execution_count": 41,
   "metadata": {},
   "outputs": [
    {
     "data": {
      "text/plain": [
       "62"
      ]
     },
     "execution_count": 41,
     "metadata": {},
     "output_type": "execute_result"
    }
   ],
   "source": [
    "hic_df['sample_id'].nunique()"
   ]
  },
  {
   "cell_type": "code",
   "execution_count": 42,
   "metadata": {},
   "outputs": [],
   "source": [
    "hic_df = pd.merge(hic_df, hprc_biosample[hprc_biosample['sample_id'].isin(hic_df['sample_id'])], on='sample_id', how='inner')"
   ]
  },
  {
   "cell_type": "code",
   "execution_count": 43,
   "metadata": {},
   "outputs": [],
   "source": [
    "hic_sra_df = pd.read_csv('/private/groups/hprc/human-pangenomics/HPRC_metadata/submissions/HIC_Y3_fillin_and_Y4_part1-redo/sra_biosample_HIC_Y3_fillin_and_Y4_part1.csv')"
   ]
  },
  {
   "cell_type": "code",
   "execution_count": 44,
   "metadata": {},
   "outputs": [
    {
     "data": {
      "text/html": [
       "<div>\n",
       "<style scoped>\n",
       "    .dataframe tbody tr th:only-of-type {\n",
       "        vertical-align: middle;\n",
       "    }\n",
       "\n",
       "    .dataframe tbody tr th {\n",
       "        vertical-align: top;\n",
       "    }\n",
       "\n",
       "    .dataframe thead th {\n",
       "        text-align: right;\n",
       "    }\n",
       "</style>\n",
       "<table border=\"1\" class=\"dataframe\">\n",
       "  <thead>\n",
       "    <tr style=\"text-align: right;\">\n",
       "      <th></th>\n",
       "      <th>file_name</th>\n",
       "      <th>total_bp</th>\n",
       "      <th>coverage</th>\n",
       "      <th>ntsm_score</th>\n",
       "      <th>ntsm_result</th>\n",
       "      <th>sample_id</th>\n",
       "      <th>Accession</th>\n",
       "      <th>familyID</th>\n",
       "      <th>Subpopulation</th>\n",
       "      <th>Superpopulation</th>\n",
       "      <th>Production Year</th>\n",
       "    </tr>\n",
       "  </thead>\n",
       "  <tbody>\n",
       "    <tr>\n",
       "      <th>356</th>\n",
       "      <td>HG01940-1_S4_L004_R1_001.fastq.gz</td>\n",
       "      <td>92221589</td>\n",
       "      <td>0.03</td>\n",
       "      <td>0.978455</td>\n",
       "      <td>Similar</td>\n",
       "      <td>HG01940</td>\n",
       "      <td>SAMN37797101</td>\n",
       "      <td>PEL015</td>\n",
       "      <td>PEL</td>\n",
       "      <td>AMR</td>\n",
       "      <td>YR3</td>\n",
       "    </tr>\n",
       "    <tr>\n",
       "      <th>357</th>\n",
       "      <td>HG01940-1_S4_L004_R2_001.fastq.gz</td>\n",
       "      <td>92221589</td>\n",
       "      <td>0.03</td>\n",
       "      <td>0.979933</td>\n",
       "      <td>Similar</td>\n",
       "      <td>HG01940</td>\n",
       "      <td>SAMN37797101</td>\n",
       "      <td>PEL015</td>\n",
       "      <td>PEL</td>\n",
       "      <td>AMR</td>\n",
       "      <td>YR3</td>\n",
       "    </tr>\n",
       "    <tr>\n",
       "      <th>358</th>\n",
       "      <td>HG03611-2_FC2_S6_L002_R2_001.fastq.gz</td>\n",
       "      <td>151</td>\n",
       "      <td>0.00</td>\n",
       "      <td>1.000000</td>\n",
       "      <td>Similar</td>\n",
       "      <td>HG03611</td>\n",
       "      <td>SAMN41021628</td>\n",
       "      <td>NaN</td>\n",
       "      <td>BEB</td>\n",
       "      <td>SAS</td>\n",
       "      <td>YR4</td>\n",
       "    </tr>\n",
       "    <tr>\n",
       "      <th>359</th>\n",
       "      <td>HG03611-2_FC2_S6_L002_R1_001.fastq.gz</td>\n",
       "      <td>151</td>\n",
       "      <td>0.00</td>\n",
       "      <td>1.000000</td>\n",
       "      <td>Similar</td>\n",
       "      <td>HG03611</td>\n",
       "      <td>SAMN41021628</td>\n",
       "      <td>NaN</td>\n",
       "      <td>BEB</td>\n",
       "      <td>SAS</td>\n",
       "      <td>YR4</td>\n",
       "    </tr>\n",
       "    <tr>\n",
       "      <th>360</th>\n",
       "      <td>HG02015-2_S9_L004_R2_001.fastq.gz</td>\n",
       "      <td>3926</td>\n",
       "      <td>0.00</td>\n",
       "      <td>1.000000</td>\n",
       "      <td>Similar</td>\n",
       "      <td>HG02015</td>\n",
       "      <td>SAMN33621948</td>\n",
       "      <td>VN046</td>\n",
       "      <td>KHV</td>\n",
       "      <td>EAS</td>\n",
       "      <td>YR3</td>\n",
       "    </tr>\n",
       "    <tr>\n",
       "      <th>361</th>\n",
       "      <td>HG02015-2_S9_L004_R1_001.fastq.gz</td>\n",
       "      <td>3926</td>\n",
       "      <td>0.00</td>\n",
       "      <td>1.000000</td>\n",
       "      <td>Similar</td>\n",
       "      <td>HG02015</td>\n",
       "      <td>SAMN33621948</td>\n",
       "      <td>VN046</td>\n",
       "      <td>KHV</td>\n",
       "      <td>EAS</td>\n",
       "      <td>YR3</td>\n",
       "    </tr>\n",
       "    <tr>\n",
       "      <th>362</th>\n",
       "      <td>HG01252-1_S2_L002_R2_001.fastq.gz</td>\n",
       "      <td>453</td>\n",
       "      <td>0.00</td>\n",
       "      <td>1.000000</td>\n",
       "      <td>Similar</td>\n",
       "      <td>HG01252</td>\n",
       "      <td>SAMN37797098</td>\n",
       "      <td>CLM14</td>\n",
       "      <td>CLM</td>\n",
       "      <td>AMR</td>\n",
       "      <td>YR3</td>\n",
       "    </tr>\n",
       "    <tr>\n",
       "      <th>363</th>\n",
       "      <td>HG01252-1_S2_L002_R1_001.fastq.gz</td>\n",
       "      <td>453</td>\n",
       "      <td>0.00</td>\n",
       "      <td>1.000000</td>\n",
       "      <td>Similar</td>\n",
       "      <td>HG01252</td>\n",
       "      <td>SAMN37797098</td>\n",
       "      <td>CLM14</td>\n",
       "      <td>CLM</td>\n",
       "      <td>AMR</td>\n",
       "      <td>YR3</td>\n",
       "    </tr>\n",
       "    <tr>\n",
       "      <th>364</th>\n",
       "      <td>NA21110-2_FC1_S2_L002_R1_001.fastq.gz</td>\n",
       "      <td>151</td>\n",
       "      <td>0.00</td>\n",
       "      <td>1.000000</td>\n",
       "      <td>Similar</td>\n",
       "      <td>NA21110</td>\n",
       "      <td>SAMN41021624</td>\n",
       "      <td>NaN</td>\n",
       "      <td>GIH</td>\n",
       "      <td>SAS</td>\n",
       "      <td>YR4</td>\n",
       "    </tr>\n",
       "    <tr>\n",
       "      <th>365</th>\n",
       "      <td>NA21110-2_FC1_S2_L002_R2_001.fastq.gz</td>\n",
       "      <td>151</td>\n",
       "      <td>0.00</td>\n",
       "      <td>1.000000</td>\n",
       "      <td>Similar</td>\n",
       "      <td>NA21110</td>\n",
       "      <td>SAMN41021624</td>\n",
       "      <td>NaN</td>\n",
       "      <td>GIH</td>\n",
       "      <td>SAS</td>\n",
       "      <td>YR4</td>\n",
       "    </tr>\n",
       "  </tbody>\n",
       "</table>\n",
       "</div>"
      ],
      "text/plain": [
       "                                 file_name  total_bp  coverage  ntsm_score  \\\n",
       "356      HG01940-1_S4_L004_R1_001.fastq.gz  92221589      0.03    0.978455   \n",
       "357      HG01940-1_S4_L004_R2_001.fastq.gz  92221589      0.03    0.979933   \n",
       "358  HG03611-2_FC2_S6_L002_R2_001.fastq.gz       151      0.00    1.000000   \n",
       "359  HG03611-2_FC2_S6_L002_R1_001.fastq.gz       151      0.00    1.000000   \n",
       "360      HG02015-2_S9_L004_R2_001.fastq.gz      3926      0.00    1.000000   \n",
       "361      HG02015-2_S9_L004_R1_001.fastq.gz      3926      0.00    1.000000   \n",
       "362      HG01252-1_S2_L002_R2_001.fastq.gz       453      0.00    1.000000   \n",
       "363      HG01252-1_S2_L002_R1_001.fastq.gz       453      0.00    1.000000   \n",
       "364  NA21110-2_FC1_S2_L002_R1_001.fastq.gz       151      0.00    1.000000   \n",
       "365  NA21110-2_FC1_S2_L002_R2_001.fastq.gz       151      0.00    1.000000   \n",
       "\n",
       "    ntsm_result sample_id     Accession familyID Subpopulation  \\\n",
       "356     Similar   HG01940  SAMN37797101   PEL015           PEL   \n",
       "357     Similar   HG01940  SAMN37797101   PEL015           PEL   \n",
       "358     Similar   HG03611  SAMN41021628      NaN           BEB   \n",
       "359     Similar   HG03611  SAMN41021628      NaN           BEB   \n",
       "360     Similar   HG02015  SAMN33621948    VN046           KHV   \n",
       "361     Similar   HG02015  SAMN33621948    VN046           KHV   \n",
       "362     Similar   HG01252  SAMN37797098    CLM14           CLM   \n",
       "363     Similar   HG01252  SAMN37797098    CLM14           CLM   \n",
       "364     Similar   NA21110  SAMN41021624      NaN           GIH   \n",
       "365     Similar   NA21110  SAMN41021624      NaN           GIH   \n",
       "\n",
       "    Superpopulation Production Year  \n",
       "356             AMR             YR3  \n",
       "357             AMR             YR3  \n",
       "358             SAS             YR4  \n",
       "359             SAS             YR4  \n",
       "360             EAS             YR3  \n",
       "361             EAS             YR3  \n",
       "362             AMR             YR3  \n",
       "363             AMR             YR3  \n",
       "364             SAS             YR4  \n",
       "365             SAS             YR4  "
      ]
     },
     "execution_count": 44,
     "metadata": {},
     "output_type": "execute_result"
    }
   ],
   "source": [
    "# not included\n",
    "hic_df[~hic_df['file_name'].isin(hic_sra_df['filename'])]"
   ]
  },
  {
   "cell_type": "code",
   "execution_count": 45,
   "metadata": {},
   "outputs": [],
   "source": [
    "hic_sra_df = hic_sra_df[hic_sra_df['filename'].isin(hic_df['file_name'])]\n",
    "hic_sra_df['common_id'] = hic_sra_df['filename'].str.extract(r'(^.+_L\\d{3})')"
   ]
  },
  {
   "cell_type": "code",
   "execution_count": 49,
   "metadata": {},
   "outputs": [],
   "source": [
    "df_R1 = hic_sra_df[hic_sra_df['filename'].str.contains('_R1_')].copy()\n",
    "df_R2 = hic_sra_df[hic_sra_df['filename'].str.contains('_R2_')].copy()"
   ]
  },
  {
   "cell_type": "code",
   "execution_count": 64,
   "metadata": {},
   "outputs": [],
   "source": [
    "hic_sra_merge_df = pd.merge(df_R1, df_R2, on='common_id', how='inner')"
   ]
  },
  {
   "cell_type": "code",
   "execution_count": 66,
   "metadata": {},
   "outputs": [],
   "source": [
    "hic_sra_merge_df = hic_sra_merge_df.loc[:, ~hic_sra_merge_df.columns.str.endswith('_y')]\n",
    "hic_sra_merge_df.columns = hic_sra_merge_df.columns.str.replace('_x$', '', regex=True)"
   ]
  },
  {
   "cell_type": "code",
   "execution_count": 72,
   "metadata": {},
   "outputs": [],
   "source": [
    "hic_sra_merge_df['library_ID'] = hic_sra_merge_df['library_ID'].str.extract(r'(.+_L\\d{3})')"
   ]
  },
  {
   "cell_type": "code",
   "execution_count": 76,
   "metadata": {},
   "outputs": [],
   "source": [
    "hic_sra_merge_df.drop(columns=['common_id'],inplace=True)"
   ]
  },
  {
   "cell_type": "code",
   "execution_count": 77,
   "metadata": {},
   "outputs": [],
   "source": [
    "hic_sra_merge_df.to_csv('sra_biosample_HIC_Y3_fillin_and_Y4_part1-redo.tsv',index=False, sep='\\t')"
   ]
  },
  {
   "cell_type": "code",
   "execution_count": null,
   "metadata": {},
   "outputs": [],
   "source": []
  },
  {
   "cell_type": "code",
   "execution_count": null,
   "metadata": {},
   "outputs": [],
   "source": []
  }
 ],
 "metadata": {
  "kernelspec": {
   "display_name": "Python 3",
   "language": "python",
   "name": "python3"
  },
  "language_info": {
   "codemirror_mode": {
    "name": "ipython",
    "version": 3
   },
   "file_extension": ".py",
   "mimetype": "text/x-python",
   "name": "python",
   "nbconvert_exporter": "python",
   "pygments_lexer": "ipython3",
   "version": "3.10.14"
  }
 },
 "nbformat": 4,
 "nbformat_minor": 2
}
