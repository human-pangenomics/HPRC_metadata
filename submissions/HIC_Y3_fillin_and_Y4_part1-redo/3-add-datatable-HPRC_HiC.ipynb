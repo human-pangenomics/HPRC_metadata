{
 "cells": [
  {
   "cell_type": "code",
   "execution_count": 21,
   "metadata": {},
   "outputs": [],
   "source": [
    "import numpy as np\n",
    "import pandas as pd\n",
    "pd.set_option('display.max_columns', 500)\n",
    "pd.set_option('display.width', 1000)\n",
    "pd.set_option('display.max_rows', 30)\n"
   ]
  },
  {
   "cell_type": "code",
   "execution_count": 2,
   "metadata": {},
   "outputs": [],
   "source": [
    "hprc_hic = pd.read_csv('/private/groups/hprc/human-pangenomics/documentation-metadata/HPRC_metadata/data/hprc-data-explorer-tables/HPRC_HiC.tsv',sep='\\t')"
   ]
  },
  {
   "cell_type": "code",
   "execution_count": 6,
   "metadata": {},
   "outputs": [],
   "source": [
    "hic_y3_fillin_y4 = pd.read_csv('/private/groups/hprc/human-pangenomics/documentation-metadata/HPRC_metadata/submissions/HIC_Y3_fillin_and_Y4_part1-redo/HIC_Y3_fillin_and_Y4_part1-redo-sample_file_hifi_qc_aggregate.csv')"
   ]
  },
  {
   "cell_type": "code",
   "execution_count": 10,
   "metadata": {},
   "outputs": [],
   "source": [
    "sra_identifiers = pd.read_csv('/private/groups/hprc/human-pangenomics/documentation-metadata/HPRC_metadata/submissions/HIC_Y3_fillin_and_Y4_part1-redo/metadata-14673240-processed-ok.tsv',sep='\\t')"
   ]
  },
  {
   "cell_type": "code",
   "execution_count": 22,
   "metadata": {},
   "outputs": [
    {
     "data": {
      "text/html": [
       "<div>\n",
       "<style scoped>\n",
       "    .dataframe tbody tr th:only-of-type {\n",
       "        vertical-align: middle;\n",
       "    }\n",
       "\n",
       "    .dataframe tbody tr th {\n",
       "        vertical-align: top;\n",
       "    }\n",
       "\n",
       "    .dataframe thead th {\n",
       "        text-align: right;\n",
       "    }\n",
       "</style>\n",
       "<table border=\"1\" class=\"dataframe\">\n",
       "  <thead>\n",
       "    <tr style=\"text-align: right;\">\n",
       "      <th></th>\n",
       "      <th>file_name</th>\n",
       "      <th>total_bp</th>\n",
       "      <th>coverage</th>\n",
       "      <th>ntsm_score</th>\n",
       "      <th>ntsm_result</th>\n",
       "    </tr>\n",
       "  </thead>\n",
       "  <tbody>\n",
       "    <tr>\n",
       "      <th>0</th>\n",
       "      <td>HG01261-1_S2_L001_R2_001.fastq.gz</td>\n",
       "      <td>113858604745</td>\n",
       "      <td>36.73</td>\n",
       "      <td>0.163687</td>\n",
       "      <td>Similar</td>\n",
       "    </tr>\n",
       "    <tr>\n",
       "      <th>2</th>\n",
       "      <td>HG01192-2_S7_L002_R2_001.fastq.gz</td>\n",
       "      <td>60842911086</td>\n",
       "      <td>19.63</td>\n",
       "      <td>0.226754</td>\n",
       "      <td>Similar</td>\n",
       "    </tr>\n",
       "    <tr>\n",
       "      <th>3</th>\n",
       "      <td>HG03704-2_S1_L002_R2_001.fastq.gz</td>\n",
       "      <td>56722768121</td>\n",
       "      <td>18.30</td>\n",
       "      <td>0.232199</td>\n",
       "      <td>Similar</td>\n",
       "    </tr>\n",
       "    <tr>\n",
       "      <th>4</th>\n",
       "      <td>HG01261-2_S2_L002_R2_001.fastq.gz</td>\n",
       "      <td>60396447725</td>\n",
       "      <td>19.48</td>\n",
       "      <td>0.232618</td>\n",
       "      <td>Similar</td>\n",
       "    </tr>\n",
       "    <tr>\n",
       "      <th>5</th>\n",
       "      <td>HG03704-1_S1_L001_R2_001.fastq.gz</td>\n",
       "      <td>74878233793</td>\n",
       "      <td>24.15</td>\n",
       "      <td>0.235250</td>\n",
       "      <td>Similar</td>\n",
       "    </tr>\n",
       "    <tr>\n",
       "      <th>...</th>\n",
       "      <td>...</td>\n",
       "      <td>...</td>\n",
       "      <td>...</td>\n",
       "      <td>...</td>\n",
       "      <td>...</td>\n",
       "    </tr>\n",
       "    <tr>\n",
       "      <th>361</th>\n",
       "      <td>HG02015-2_S9_L004_R1_001.fastq.gz</td>\n",
       "      <td>3926</td>\n",
       "      <td>0.00</td>\n",
       "      <td>1.000000</td>\n",
       "      <td>Similar</td>\n",
       "    </tr>\n",
       "    <tr>\n",
       "      <th>362</th>\n",
       "      <td>HG01252-1_S2_L002_R2_001.fastq.gz</td>\n",
       "      <td>453</td>\n",
       "      <td>0.00</td>\n",
       "      <td>1.000000</td>\n",
       "      <td>Similar</td>\n",
       "    </tr>\n",
       "    <tr>\n",
       "      <th>363</th>\n",
       "      <td>HG01252-1_S2_L002_R1_001.fastq.gz</td>\n",
       "      <td>453</td>\n",
       "      <td>0.00</td>\n",
       "      <td>1.000000</td>\n",
       "      <td>Similar</td>\n",
       "    </tr>\n",
       "    <tr>\n",
       "      <th>364</th>\n",
       "      <td>NA21110-2_FC1_S2_L002_R1_001.fastq.gz</td>\n",
       "      <td>151</td>\n",
       "      <td>0.00</td>\n",
       "      <td>1.000000</td>\n",
       "      <td>Similar</td>\n",
       "    </tr>\n",
       "    <tr>\n",
       "      <th>365</th>\n",
       "      <td>NA21110-2_FC1_S2_L002_R2_001.fastq.gz</td>\n",
       "      <td>151</td>\n",
       "      <td>0.00</td>\n",
       "      <td>1.000000</td>\n",
       "      <td>Similar</td>\n",
       "    </tr>\n",
       "  </tbody>\n",
       "</table>\n",
       "<p>188 rows × 5 columns</p>\n",
       "</div>"
      ],
      "text/plain": [
       "                                 file_name      total_bp  coverage  ntsm_score ntsm_result\n",
       "0        HG01261-1_S2_L001_R2_001.fastq.gz  113858604745     36.73    0.163687     Similar\n",
       "2        HG01192-2_S7_L002_R2_001.fastq.gz   60842911086     19.63    0.226754     Similar\n",
       "3        HG03704-2_S1_L002_R2_001.fastq.gz   56722768121     18.30    0.232199     Similar\n",
       "4        HG01261-2_S2_L002_R2_001.fastq.gz   60396447725     19.48    0.232618     Similar\n",
       "5        HG03704-1_S1_L001_R2_001.fastq.gz   74878233793     24.15    0.235250     Similar\n",
       "..                                     ...           ...       ...         ...         ...\n",
       "361      HG02015-2_S9_L004_R1_001.fastq.gz          3926      0.00    1.000000     Similar\n",
       "362      HG01252-1_S2_L002_R2_001.fastq.gz           453      0.00    1.000000     Similar\n",
       "363      HG01252-1_S2_L002_R1_001.fastq.gz           453      0.00    1.000000     Similar\n",
       "364  NA21110-2_FC1_S2_L002_R1_001.fastq.gz           151      0.00    1.000000     Similar\n",
       "365  NA21110-2_FC1_S2_L002_R2_001.fastq.gz           151      0.00    1.000000     Similar\n",
       "\n",
       "[188 rows x 5 columns]"
      ]
     },
     "execution_count": 22,
     "metadata": {},
     "output_type": "execute_result"
    }
   ],
   "source": [
    "hic_y3_fillin_y4[~hic_y3_fillin_y4['file_name'].isin(sra_identifiers['filename'].tolist())]"
   ]
  },
  {
   "cell_type": "code",
   "execution_count": 15,
   "metadata": {},
   "outputs": [
    {
     "data": {
      "text/plain": [
       "(178, 22)"
      ]
     },
     "execution_count": 15,
     "metadata": {},
     "output_type": "execute_result"
    }
   ],
   "source": [
    "sra_identifiers[sra_identifiers['filename'].isin(hic_y3_fillin_y4['file_name'].tolist())].shape"
   ]
  },
  {
   "cell_type": "code",
   "execution_count": 24,
   "metadata": {},
   "outputs": [],
   "source": [
    "hic_y3_fillin_y4.rename(columns={'file_name':'filename'},inplace=True)"
   ]
  },
  {
   "cell_type": "code",
   "execution_count": 27,
   "metadata": {},
   "outputs": [],
   "source": [
    "hic_y3_fillin_y4 = pd.merge(sra_identifiers,hic_y3_fillin_y4,on='filename',how='inner')"
   ]
  },
  {
   "cell_type": "code",
   "execution_count": 32,
   "metadata": {},
   "outputs": [],
   "source": [
    "hic_y3_fillin_y4 = hic_y3_fillin_y4[list(hprc_hic)]"
   ]
  },
  {
   "cell_type": "code",
   "execution_count": 33,
   "metadata": {},
   "outputs": [
    {
     "name": "stdout",
     "output_type": "stream",
     "text": [
      "[]\n",
      "[]\n"
     ]
    }
   ],
   "source": [
    "# List of example columns (from the metadata sheet)\n",
    "\n",
    "# Check for missing columns in the new data\n",
    "missing_columns = [col for col in list(hprc_hic) if col not in hic_y3_fillin_y4.columns]\n",
    "\n",
    "# Check for extra columns in the new data\n",
    "extra_columns = [col for col in hic_y3_fillin_y4.columns if col not in list(hprc_hic)]\n",
    "\n",
    "print(missing_columns)\n",
    "print(extra_columns)"
   ]
  },
  {
   "cell_type": "code",
   "execution_count": 35,
   "metadata": {},
   "outputs": [],
   "source": [
    "hprc_hic = pd.concat([hprc_hic,hic_y3_fillin_y4])\n",
    "hprc_hic['total_Gbp'] = hprc_hic['total_bp'] / 1_000_000_000\n"
   ]
  },
  {
   "cell_type": "code",
   "execution_count": 37,
   "metadata": {},
   "outputs": [],
   "source": [
    "hprc_hic.to_csv('/private/groups/hprc/human-pangenomics/documentation-metadata/HPRC_metadata/data/hprc-data-explorer-tables/HPRC_HiC.tsv',sep='\\t',index=False)"
   ]
  }
 ],
 "metadata": {
  "kernelspec": {
   "display_name": "Python 3",
   "language": "python",
   "name": "python3"
  },
  "language_info": {
   "codemirror_mode": {
    "name": "ipython",
    "version": 3
   },
   "file_extension": ".py",
   "mimetype": "text/x-python",
   "name": "python",
   "nbconvert_exporter": "python",
   "pygments_lexer": "ipython3",
   "version": "3.10.14"
  }
 },
 "nbformat": 4,
 "nbformat_minor": 2
}
