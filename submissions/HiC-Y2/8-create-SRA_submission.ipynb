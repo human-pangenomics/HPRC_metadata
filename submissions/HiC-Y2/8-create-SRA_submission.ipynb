{
 "cells": [
  {
   "cell_type": "code",
   "execution_count": 5,
   "metadata": {},
   "outputs": [],
   "source": [
    "import pandas as pd"
   ]
  },
  {
   "cell_type": "code",
   "execution_count": 6,
   "metadata": {},
   "outputs": [],
   "source": [
    "hic_y2_metadata = pd.read_csv('HPRC_Illumina_HiC_Metadata_HIC_Y2.csv')\n",
    "hic_y2_transfer = pd.read_csv('HiC-Y2.transfer.csv',header=None)"
   ]
  },
  {
   "cell_type": "code",
   "execution_count": 7,
   "metadata": {},
   "outputs": [],
   "source": [
    "hprc_production_biosample = pd.read_csv('/private/groups/hprc/human-pangenomics/HPRC_metadata/data/production/hprc-production-biosample-table.tsv',sep='\\t')\n",
    "hprc_production_biosample.rename(columns={'Sample':'sample_id'},inplace=True)"
   ]
  },
  {
   "cell_type": "code",
   "execution_count": 8,
   "metadata": {},
   "outputs": [],
   "source": [
    "# title, data_type, library_layout, library_selection, shear_method\n",
    "hic_y2_metadata['assembly'] = 'unaligned'\n",
    "hic_y2_metadata = hic_y2_metadata[['filename', 'library_ID','library_strategy', 'library_source','platform', 'instrument_model','design_description',\\\n",
    "\t\t\t\t 'generator_facility','generator_contact','assembly','data_type','filetype']]\n",
    "# library_source, data type\n",
    "hic_y2_metadata['library_source'] ='GENOMIC'\n",
    "hic_y2_metadata['data_type'] = 'unaligned reads'\n",
    "hic_y2_metadata['library_layout'] = 'paired'\n",
    "hic_y2_metadata['library_strategy'] = 'Hi-C'\n",
    "hic_y2_metadata['library_selection'] = 'RANDOM'\n",
    "hic_y2_metadata['shear_method'] = 'no shear'\n",
    "title_list = []\n",
    "# hic_y3_metadata['title']\n",
    "for data in hic_y2_metadata['library_ID'].tolist():\n",
    "\ttitle_list.append('Illumina Sequencing of Omni-C Libraries of ' + data.split('-')[0])\n",
    "hic_y2_metadata['title'] = title_list"
   ]
  },
  {
   "cell_type": "code",
   "execution_count": 10,
   "metadata": {},
   "outputs": [],
   "source": [
    "df_R1 = hic_y2_metadata[hic_y2_metadata['filename'].str.contains('_R1_')].copy()\n",
    "df_R2 = hic_y2_metadata[hic_y2_metadata['filename'].str.contains('_R2_')].copy()"
   ]
  },
  {
   "cell_type": "code",
   "execution_count": 13,
   "metadata": {},
   "outputs": [],
   "source": [
    "# hic_sra_merge_df = pd.merge(df_R1, df_R2, on='common_id', how='inner')"
   ]
  },
  {
   "cell_type": "code",
   "execution_count": null,
   "metadata": {},
   "outputs": [],
   "source": []
  }
 ],
 "metadata": {
  "kernelspec": {
   "display_name": "Python 3",
   "language": "python",
   "name": "python3"
  },
  "language_info": {
   "codemirror_mode": {
    "name": "ipython",
    "version": 3
   },
   "file_extension": ".py",
   "mimetype": "text/x-python",
   "name": "python",
   "nbconvert_exporter": "python",
   "pygments_lexer": "ipython3",
   "version": "3.10.12"
  }
 },
 "nbformat": 4,
 "nbformat_minor": 2
}
