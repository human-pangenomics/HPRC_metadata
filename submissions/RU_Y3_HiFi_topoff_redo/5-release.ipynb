{
 "cells": [
  {
   "cell_type": "code",
   "execution_count": 1,
   "metadata": {},
   "outputs": [],
   "source": [
    "import pandas as pd"
   ]
  },
  {
   "cell_type": "code",
   "execution_count": 2,
   "metadata": {},
   "outputs": [],
   "source": [
    "ru_y3_topoff_sub = pd.read_csv('/private/groups/hprc/human-pangenomics/HPRC_metadata/submissions/RU_Y3_topoff_redo/hifi_qc/hifi_qc_samples_output_table.csv') # submission file\n"
   ]
  },
  {
   "cell_type": "code",
   "execution_count": 3,
   "metadata": {},
   "outputs": [],
   "source": [
    "def aws_working(file_paths):\n",
    "\tnew_path_list = []\n",
    "\tfor data in file_paths:\n",
    "\t\tsample_id = data.split('/')[-3]\n",
    "\t\tnew_path = f\"s3://human-pangenomics/working/HPRC/{sample_id}/raw_data/PacBio_HiFi/{data.split('/')[-1]}\"\n",
    "\t\tnew_path_list.append(new_path)\n",
    "\treturn new_path_list\n",
    "ru_y3_topoff_working = aws_working(ru_y3_topoff_sub['hifi_reads'].tolist())"
   ]
  },
  {
   "cell_type": "code",
   "execution_count": 4,
   "metadata": {},
   "outputs": [],
   "source": [
    "aws_df = pd.DataFrame(ru_y3_topoff_sub['hifi_reads'])\n",
    "aws_df['release'] = ru_y3_topoff_working"
   ]
  },
  {
   "cell_type": "code",
   "execution_count": 5,
   "metadata": {},
   "outputs": [],
   "source": [
    "aws_df.to_csv('RU_Y3_topoff_redo.transfer.csv', header=None, index=None)"
   ]
  }
 ],
 "metadata": {
  "kernelspec": {
   "display_name": "Python 3",
   "language": "python",
   "name": "python3"
  },
  "language_info": {
   "codemirror_mode": {
    "name": "ipython",
    "version": 3
   },
   "file_extension": ".py",
   "mimetype": "text/x-python",
   "name": "python",
   "nbconvert_exporter": "python",
   "pygments_lexer": "ipython3",
   "version": "3.10.14"
  }
 },
 "nbformat": 4,
 "nbformat_minor": 2
}
