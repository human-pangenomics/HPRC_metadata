{
 "cells": [
  {
   "cell_type": "code",
   "execution_count": 1,
   "metadata": {},
   "outputs": [],
   "source": [
    "import pandas as pd"
   ]
  },
  {
   "cell_type": "code",
   "execution_count": 32,
   "metadata": {},
   "outputs": [],
   "source": [
    "ru_y3_topoff_sra = pd.read_csv('HPRC_RU_Y3_topoff_Metadata_Submission.tsv',sep='\\t')"
   ]
  },
  {
   "cell_type": "code",
   "execution_count": 33,
   "metadata": {},
   "outputs": [],
   "source": [
    "ru_y3_topoff_sra['sample_id'] = ru_y3_topoff_sra['sample_ID'] + '-' + ru_y3_topoff_sra['filename']"
   ]
  },
  {
   "cell_type": "code",
   "execution_count": 34,
   "metadata": {},
   "outputs": [
    {
     "data": {
      "text/plain": [
       "(266, 23)"
      ]
     },
     "execution_count": 34,
     "metadata": {},
     "output_type": "execute_result"
    }
   ],
   "source": [
    "ru_y3_topoff_sra.shape"
   ]
  },
  {
   "cell_type": "code",
   "execution_count": 35,
   "metadata": {},
   "outputs": [
    {
     "name": "stdout",
     "output_type": "stream",
     "text": [
      "Missing columns: ['biosample_accession', 'title', 'assembly']\n"
     ]
    }
   ],
   "source": [
    "# List of column names from your metadata sheet\n",
    "metadata_columns = [\n",
    "    'filename', 'library_ID', 'library_strategy', 'library_source', \n",
    "    'library_selection', 'library_layout', 'platform', 'instrument_model', \n",
    "    'design_description', 'data_type', 'shear_method', 'size_selection', \n",
    "    'ccs_algorithm', 'polymerase_version', 'seq_plate_chemistry_version', \n",
    "    'generator_facility', 'generator_contact', 'biosample_accession', \n",
    "    'title', 'filetype', 'assembly'\n",
    "]\n",
    "\n",
    "# Assume you have another DataFrame named 'other_df'\n",
    "# Example: other_df = pd.read_csv('path_to_other_file.csv')\n",
    "\n",
    "# Check if the metadata columns are present in the other DataFrame\n",
    "missing_columns = [col for col in metadata_columns if col not in ru_y3_topoff_sra.columns]\n",
    "\n",
    "# Output the missing columns\n",
    "print(\"Missing columns:\", missing_columns)\n"
   ]
  },
  {
   "cell_type": "code",
   "execution_count": 36,
   "metadata": {},
   "outputs": [],
   "source": [
    "ru_y3_topoff_output_df = pd.read_csv('/private/groups/hprc/human-pangenomics/HPRC_metadata/submissions/RU_Y3_topoff_redo/hifi_qc/hifi_qc_samples_output_table.csv')"
   ]
  },
  {
   "cell_type": "code",
   "execution_count": 40,
   "metadata": {},
   "outputs": [
    {
     "data": {
      "text/plain": [
       "(38, 11)"
      ]
     },
     "execution_count": 40,
     "metadata": {},
     "output_type": "execute_result"
    }
   ],
   "source": [
    "ru_y3_topoff_output_df.shape"
   ]
  },
  {
   "cell_type": "code",
   "execution_count": 42,
   "metadata": {},
   "outputs": [],
   "source": [
    "ru_y3_topoff_sra = ru_y3_topoff_sra[ru_y3_topoff_sra['sample_id'].isin(ru_y3_topoff_output_df['sample_id'].tolist())]"
   ]
  },
  {
   "cell_type": "code",
   "execution_count": null,
   "metadata": {},
   "outputs": [],
   "source": [
    "ru_y3_topoff_sra['assembly'] = 'unaligned'"
   ]
  },
  {
   "cell_type": "code",
   "execution_count": 47,
   "metadata": {},
   "outputs": [],
   "source": [
    "hprc_biosample = pd.read_csv('/private/groups/hprc/human-pangenomics/documentation-metadata/HPRC_metadata/data/production/hprc-production-biosample-table.tsv', sep='\\t')\n",
    "hprc_biosample.rename(columns={'Sample':'sample_ID'}, inplace=True)"
   ]
  },
  {
   "cell_type": "code",
   "execution_count": 48,
   "metadata": {},
   "outputs": [],
   "source": [
    "ru_y3_topoff_sra = pd.merge(hprc_biosample, ru_y3_topoff_sra, on='sample_ID', how='inner')"
   ]
  },
  {
   "cell_type": "code",
   "execution_count": 49,
   "metadata": {},
   "outputs": [],
   "source": [
    "ru_y3_topoff_sra['title'] = 'PacBio HiFi sequencing of ' + ru_y3_topoff_sra['sample_ID']\n"
   ]
  },
  {
   "cell_type": "code",
   "execution_count": 51,
   "metadata": {},
   "outputs": [],
   "source": [
    "ru_y3_topoff_sra.rename(columns={'Accession':'biosample_accession'},inplace=True)"
   ]
  },
  {
   "cell_type": "code",
   "execution_count": 54,
   "metadata": {},
   "outputs": [],
   "source": [
    "ru_y3_topoff_sra = ru_y3_topoff_sra[metadata_columns]"
   ]
  },
  {
   "cell_type": "code",
   "execution_count": 55,
   "metadata": {},
   "outputs": [
    {
     "name": "stderr",
     "output_type": "stream",
     "text": [
      "/data/tmp/ipykernel_3121292/2796214912.py:1: SettingWithCopyWarning: \n",
      "A value is trying to be set on a copy of a slice from a DataFrame.\n",
      "Try using .loc[row_indexer,col_indexer] = value instead\n",
      "\n",
      "See the caveats in the documentation: https://pandas.pydata.org/pandas-docs/stable/user_guide/indexing.html#returning-a-view-versus-a-copy\n",
      "  ru_y3_topoff_sra['instrument_model'] = 'Revio'\n"
     ]
    }
   ],
   "source": [
    "ru_y3_topoff_sra['instrument_model'] = 'Revio'"
   ]
  },
  {
   "cell_type": "code",
   "execution_count": 57,
   "metadata": {},
   "outputs": [
    {
     "name": "stderr",
     "output_type": "stream",
     "text": [
      "/data/tmp/ipykernel_3121292/2330255341.py:1: SettingWithCopyWarning: \n",
      "A value is trying to be set on a copy of a slice from a DataFrame.\n",
      "Try using .loc[row_indexer,col_indexer] = value instead\n",
      "\n",
      "See the caveats in the documentation: https://pandas.pydata.org/pandas-docs/stable/user_guide/indexing.html#returning-a-view-versus-a-copy\n",
      "  ru_y3_topoff_sra['library_ID'] = ru_y3_topoff_sra['library_ID'] + '_' + ru_y3_topoff_sra['filename']\n"
     ]
    }
   ],
   "source": [
    "ru_y3_topoff_sra['library_ID'] = ru_y3_topoff_sra['library_ID'] + '_' + ru_y3_topoff_sra['filename']"
   ]
  },
  {
   "cell_type": "code",
   "execution_count": 59,
   "metadata": {},
   "outputs": [
    {
     "name": "stderr",
     "output_type": "stream",
     "text": [
      "/data/tmp/ipykernel_3121292/3779724160.py:1: SettingWithCopyWarning: \n",
      "A value is trying to be set on a copy of a slice from a DataFrame.\n",
      "Try using .loc[row_indexer,col_indexer] = value instead\n",
      "\n",
      "See the caveats in the documentation: https://pandas.pydata.org/pandas-docs/stable/user_guide/indexing.html#returning-a-view-versus-a-copy\n",
      "  ru_y3_topoff_sra['library_layout'] = 'single'\n"
     ]
    }
   ],
   "source": [
    "ru_y3_topoff_sra['library_layout'] = 'single'"
   ]
  },
  {
   "cell_type": "code",
   "execution_count": 62,
   "metadata": {},
   "outputs": [],
   "source": [
    "ru_y3_topoff_sra.to_csv('sra_biosample_RU_Y3_topoff_redo.tsv',index=False, sep='\\t')"
   ]
  },
  {
   "cell_type": "code",
   "execution_count": 63,
   "metadata": {},
   "outputs": [
    {
     "data": {
      "text/plain": [
       "(38, 21)"
      ]
     },
     "execution_count": 63,
     "metadata": {},
     "output_type": "execute_result"
    }
   ],
   "source": [
    "ru_y3_topoff_sra.shape"
   ]
  }
 ],
 "metadata": {
  "kernelspec": {
   "display_name": "Python 3",
   "language": "python",
   "name": "python3"
  },
  "language_info": {
   "codemirror_mode": {
    "name": "ipython",
    "version": 3
   },
   "file_extension": ".py",
   "mimetype": "text/x-python",
   "name": "python",
   "nbconvert_exporter": "python",
   "pygments_lexer": "ipython3",
   "version": "3.10.14"
  }
 },
 "nbformat": 4,
 "nbformat_minor": 2
}
