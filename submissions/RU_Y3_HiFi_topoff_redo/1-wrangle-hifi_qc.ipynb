{
 "cells": [
  {
   "cell_type": "code",
   "execution_count": 65,
   "metadata": {},
   "outputs": [],
   "source": [
    "import glob\n",
    "import pandas as pd"
   ]
  },
  {
   "cell_type": "code",
   "execution_count": 66,
   "metadata": {},
   "outputs": [],
   "source": [
    "ru_y3_redo = pd.read_csv('RU_Y3_topoff_redo.csv',header=None)\n",
    "ru_y3_redo = ru_y3_redo[~ru_y3_redo[0].str.contains('fail')]"
   ]
  },
  {
   "cell_type": "code",
   "execution_count": 67,
   "metadata": {},
   "outputs": [],
   "source": [
    "other_reads = []\n",
    "for sample in [sample.split('/')[-3] for sample in ru_y3_redo[0].tolist()]:\n",
    "\tother_reads_path = glob.glob('/private/groups/hprc/human-pangenomics/1000G_local/child/cram_to_bam/'+sample+'/*/*/*/*')\n",
    "\tif other_reads_path == []:\n",
    "\t\tother_reads_path = glob.glob('/private/groups/hprc/1000G_local/child/fastq/' + sample + '.*')\n",
    "\t\tother_reads.append([other_reads_path[0]])\n",
    "\telse:\n",
    "\t\tother_reads.append([other_reads_path[0]])\n",
    "ru_y3_redo['other_reads'] = other_reads\n",
    "ru_y3_redo['perform_methylation_check'] = 'true'\n"
   ]
  },
  {
   "cell_type": "code",
   "execution_count": 68,
   "metadata": {},
   "outputs": [],
   "source": [
    "ru_y3_redo['sample_id'] = [sample.split('/')[-1] for sample in ru_y3_redo[0].tolist()]\n",
    "ru_y3_redo.rename(columns={0:'hifi_reads'},inplace=True)"
   ]
  },
  {
   "cell_type": "code",
   "execution_count": 71,
   "metadata": {},
   "outputs": [],
   "source": [
    "sample_id_list = []\n",
    "for sample_id in [sample.split('/')[5] for sample in ru_y3_redo['hifi_reads'].tolist()]:\n",
    "\tsample_id_list.append(sample_id)\n",
    "ru_y3_redo['sample'] = sample_id_list\n",
    "ru_y3_redo['sample_id'] = ru_y3_redo['sample'] + '-' + ru_y3_redo['sample_id'] \n"
   ]
  },
  {
   "cell_type": "code",
   "execution_count": 76,
   "metadata": {},
   "outputs": [],
   "source": [
    "ru_y3_redo[['sample_id','hifi_reads', 'other_reads', 'perform_methylation_check']].to_csv('hifi_qc/hifi_qc_sample_files.csv', index=False)"
   ]
  }
 ],
 "metadata": {
  "kernelspec": {
   "display_name": "Python 3",
   "language": "python",
   "name": "python3"
  },
  "language_info": {
   "codemirror_mode": {
    "name": "ipython",
    "version": 3
   },
   "file_extension": ".py",
   "mimetype": "text/x-python",
   "name": "python",
   "nbconvert_exporter": "python",
   "pygments_lexer": "ipython3",
   "version": "3.10.14"
  }
 },
 "nbformat": 4,
 "nbformat_minor": 2
}
