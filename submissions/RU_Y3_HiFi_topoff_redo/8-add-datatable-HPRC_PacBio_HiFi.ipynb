{
 "cells": [
  {
   "cell_type": "code",
   "execution_count": 1,
   "metadata": {},
   "outputs": [],
   "source": [
    "import numpy as np\n",
    "import pandas as pd\n",
    "pd.set_option('display.max_columns', 500)\n",
    "pd.set_option('display.width', 1000)"
   ]
  },
  {
   "cell_type": "code",
   "execution_count": 24,
   "metadata": {},
   "outputs": [],
   "source": [
    "hprc_pacbio_hifi = pd.read_csv('/private/groups/hprc/human-pangenomics/documentation-metadata/HPRC_metadata/data/hprc-data-explorer-tables/HPRC_PacBio_HiFi.tsv',sep='\\t')"
   ]
  },
  {
   "cell_type": "code",
   "execution_count": 25,
   "metadata": {},
   "outputs": [],
   "source": [
    "sra_identifiers = pd.read_csv('/private/groups/hprc/human-pangenomics/documentation-metadata/HPRC_metadata/submissions/RU_Y3_HiFi_topoff_redo/metadata-14678794-processed-ok.tsv',sep='\\t')"
   ]
  },
  {
   "cell_type": "code",
   "execution_count": 26,
   "metadata": {},
   "outputs": [],
   "source": [
    "ru_y3_topoff = pd.read_csv('/private/groups/hprc/human-pangenomics/documentation-metadata/HPRC_metadata/submissions/RU_Y3_HiFi_topoff_redo/RU_Y3_topoff_sample_file_hifi_qc.csv')"
   ]
  },
  {
   "cell_type": "code",
   "execution_count": null,
   "metadata": {},
   "outputs": [],
   "source": [
    "ru_y3_topoff_transfer = pd.read_csv('/private/groups/hprc/human-pangenomics/documentation-metadata/HPRC_metadata/submissions/RU_Y3_HiFi_topoff_redo/RU_Y3_topoff_redo.transfer.csv',header=None)\n",
    "ru_y3_topoff_transfer['filename'] = [filename.split('/')[-1] for filename in ru_y3_topoff_transfer[1].tolist()]\n",
    "ru_y3_topoff_transfer.rename(columns={1:'path'},inplace=True)"
   ]
  },
  {
   "cell_type": "code",
   "execution_count": 27,
   "metadata": {},
   "outputs": [
    {
     "data": {
      "text/html": [
       "<div>\n",
       "<style scoped>\n",
       "    .dataframe tbody tr th:only-of-type {\n",
       "        vertical-align: middle;\n",
       "    }\n",
       "\n",
       "    .dataframe tbody tr th {\n",
       "        vertical-align: top;\n",
       "    }\n",
       "\n",
       "    .dataframe thead th {\n",
       "        text-align: right;\n",
       "    }\n",
       "</style>\n",
       "<table border=\"1\" class=\"dataframe\">\n",
       "  <thead>\n",
       "    <tr style=\"text-align: right;\">\n",
       "      <th></th>\n",
       "      <th>accession</th>\n",
       "      <th>study</th>\n",
       "      <th>object_status</th>\n",
       "      <th>bioproject_accession</th>\n",
       "      <th>biosample_accession</th>\n",
       "      <th>filename</th>\n",
       "      <th>library_ID</th>\n",
       "      <th>library_strategy</th>\n",
       "      <th>library_source</th>\n",
       "      <th>library_selection</th>\n",
       "      <th>library_layout</th>\n",
       "      <th>platform</th>\n",
       "      <th>instrument_model</th>\n",
       "      <th>design_description</th>\n",
       "      <th>data_type</th>\n",
       "      <th>shear_method</th>\n",
       "      <th>size_selection</th>\n",
       "      <th>ccs_algorithm</th>\n",
       "      <th>polymerase_version</th>\n",
       "      <th>seq_plate_chemistry_version</th>\n",
       "      <th>generator_facility</th>\n",
       "      <th>generator_contact</th>\n",
       "      <th>title</th>\n",
       "      <th>filetype</th>\n",
       "      <th>assembly</th>\n",
       "    </tr>\n",
       "  </thead>\n",
       "  <tbody>\n",
       "    <tr>\n",
       "      <th>0</th>\n",
       "      <td>SRR30336761</td>\n",
       "      <td>SRP305758</td>\n",
       "      <td>new</td>\n",
       "      <td>PRJNA701308</td>\n",
       "      <td>SAMN37797091</td>\n",
       "      <td>m84091_230705_174256_s2.hifi_reads.bc1002.bam</td>\n",
       "      <td>NA19338_PB2_m84091_230705_174256_s2.hifi_reads...</td>\n",
       "      <td>WGS</td>\n",
       "      <td>GENOMIC</td>\n",
       "      <td>size fractionation</td>\n",
       "      <td>single</td>\n",
       "      <td>PACBIO_SMRT</td>\n",
       "      <td>Revio</td>\n",
       "      <td>HiFi sequencing of 20kb fractionated gDNA</td>\n",
       "      <td>unaligned reads</td>\n",
       "      <td>Megaruptor 3</td>\n",
       "      <td>Pippin HT</td>\n",
       "      <td>7.0.0</td>\n",
       "      <td>Revio P1</td>\n",
       "      <td>Revio C1</td>\n",
       "      <td>Rockefeller University</td>\n",
       "      <td>vgl-lab@rockefeller.edu</td>\n",
       "      <td>PacBio HiFi sequencing of NA19338</td>\n",
       "      <td>bam</td>\n",
       "      <td>unaligned</td>\n",
       "    </tr>\n",
       "    <tr>\n",
       "      <th>1</th>\n",
       "      <td>SRR30336760</td>\n",
       "      <td>SRP305758</td>\n",
       "      <td>new</td>\n",
       "      <td>PRJNA701308</td>\n",
       "      <td>SAMN37797091</td>\n",
       "      <td>m84091_230705_184508_s4.hifi_reads.bc1002.bam</td>\n",
       "      <td>NA19338_PB2_m84091_230705_184508_s4.hifi_reads...</td>\n",
       "      <td>WGS</td>\n",
       "      <td>GENOMIC</td>\n",
       "      <td>size fractionation</td>\n",
       "      <td>single</td>\n",
       "      <td>PACBIO_SMRT</td>\n",
       "      <td>Revio</td>\n",
       "      <td>HiFi sequencing of 20kb fractionated gDNA</td>\n",
       "      <td>unaligned reads</td>\n",
       "      <td>Megaruptor 3</td>\n",
       "      <td>Pippin HT</td>\n",
       "      <td>7.0.0</td>\n",
       "      <td>Revio P1</td>\n",
       "      <td>Revio C1</td>\n",
       "      <td>Rockefeller University</td>\n",
       "      <td>vgl-lab@rockefeller.edu</td>\n",
       "      <td>PacBio HiFi sequencing of NA19338</td>\n",
       "      <td>bam</td>\n",
       "      <td>unaligned</td>\n",
       "    </tr>\n",
       "    <tr>\n",
       "      <th>2</th>\n",
       "      <td>SRR30336749</td>\n",
       "      <td>SRP305758</td>\n",
       "      <td>new</td>\n",
       "      <td>PRJNA701308</td>\n",
       "      <td>SAMN37797091</td>\n",
       "      <td>m84091_231120_175800_s4.hifi_reads.bc1002.bam</td>\n",
       "      <td>NA19338_PB2_m84091_231120_175800_s4.hifi_reads...</td>\n",
       "      <td>WGS</td>\n",
       "      <td>GENOMIC</td>\n",
       "      <td>size fractionation</td>\n",
       "      <td>single</td>\n",
       "      <td>PACBIO_SMRT</td>\n",
       "      <td>Revio</td>\n",
       "      <td>HiFi sequencing of 20kb fractionated gDNA</td>\n",
       "      <td>unaligned reads</td>\n",
       "      <td>Megaruptor 3</td>\n",
       "      <td>Pippin HT</td>\n",
       "      <td>7.0.0</td>\n",
       "      <td>Revio P1</td>\n",
       "      <td>Revio C1</td>\n",
       "      <td>Rockefeller University</td>\n",
       "      <td>vgl-lab@rockefeller.edu</td>\n",
       "      <td>PacBio HiFi sequencing of NA19338</td>\n",
       "      <td>bam</td>\n",
       "      <td>unaligned</td>\n",
       "    </tr>\n",
       "    <tr>\n",
       "      <th>3</th>\n",
       "      <td>SRR30336738</td>\n",
       "      <td>SRP305758</td>\n",
       "      <td>new</td>\n",
       "      <td>PRJNA701308</td>\n",
       "      <td>SAMN37797093</td>\n",
       "      <td>m84091_231208_194716_s4.hifi_reads.bc1008.bam</td>\n",
       "      <td>NA19468_PB2_m84091_231208_194716_s4.hifi_reads...</td>\n",
       "      <td>WGS</td>\n",
       "      <td>GENOMIC</td>\n",
       "      <td>size fractionation</td>\n",
       "      <td>single</td>\n",
       "      <td>PACBIO_SMRT</td>\n",
       "      <td>Revio</td>\n",
       "      <td>HiFi sequencing of 20kb fractionated gDNA</td>\n",
       "      <td>unaligned reads</td>\n",
       "      <td>Megaruptor 3</td>\n",
       "      <td>Pippin HT</td>\n",
       "      <td>7.0.0</td>\n",
       "      <td>Revio P1</td>\n",
       "      <td>Revio C1</td>\n",
       "      <td>Rockefeller University</td>\n",
       "      <td>vgl-lab@rockefeller.edu</td>\n",
       "      <td>PacBio HiFi sequencing of NA19468</td>\n",
       "      <td>bam</td>\n",
       "      <td>unaligned</td>\n",
       "    </tr>\n",
       "    <tr>\n",
       "      <th>4</th>\n",
       "      <td>SRR30336729</td>\n",
       "      <td>SRP305758</td>\n",
       "      <td>new</td>\n",
       "      <td>PRJNA701308</td>\n",
       "      <td>SAMN37797093</td>\n",
       "      <td>m84091_231211_215746_s3.hifi_reads.bc1008.bam</td>\n",
       "      <td>NA19468_PB2_m84091_231211_215746_s3.hifi_reads...</td>\n",
       "      <td>WGS</td>\n",
       "      <td>GENOMIC</td>\n",
       "      <td>size fractionation</td>\n",
       "      <td>single</td>\n",
       "      <td>PACBIO_SMRT</td>\n",
       "      <td>Revio</td>\n",
       "      <td>HiFi sequencing of 20kb fractionated gDNA</td>\n",
       "      <td>unaligned reads</td>\n",
       "      <td>Megaruptor 3</td>\n",
       "      <td>Pippin HT</td>\n",
       "      <td>7.0.0</td>\n",
       "      <td>Revio P1</td>\n",
       "      <td>Revio C1</td>\n",
       "      <td>Rockefeller University</td>\n",
       "      <td>vgl-lab@rockefeller.edu</td>\n",
       "      <td>PacBio HiFi sequencing of NA19468</td>\n",
       "      <td>bam</td>\n",
       "      <td>unaligned</td>\n",
       "    </tr>\n",
       "  </tbody>\n",
       "</table>\n",
       "</div>"
      ],
      "text/plain": [
       "     accession      study object_status bioproject_accession biosample_accession                                       filename                                         library_ID library_strategy library_source   library_selection library_layout     platform instrument_model                         design_description        data_type  shear_method size_selection ccs_algorithm polymerase_version seq_plate_chemistry_version      generator_facility        generator_contact                              title filetype   assembly\n",
       "0  SRR30336761  SRP305758           new          PRJNA701308        SAMN37797091  m84091_230705_174256_s2.hifi_reads.bc1002.bam  NA19338_PB2_m84091_230705_174256_s2.hifi_reads...              WGS        GENOMIC  size fractionation         single  PACBIO_SMRT            Revio  HiFi sequencing of 20kb fractionated gDNA  unaligned reads  Megaruptor 3      Pippin HT         7.0.0           Revio P1                    Revio C1  Rockefeller University  vgl-lab@rockefeller.edu  PacBio HiFi sequencing of NA19338      bam  unaligned\n",
       "1  SRR30336760  SRP305758           new          PRJNA701308        SAMN37797091  m84091_230705_184508_s4.hifi_reads.bc1002.bam  NA19338_PB2_m84091_230705_184508_s4.hifi_reads...              WGS        GENOMIC  size fractionation         single  PACBIO_SMRT            Revio  HiFi sequencing of 20kb fractionated gDNA  unaligned reads  Megaruptor 3      Pippin HT         7.0.0           Revio P1                    Revio C1  Rockefeller University  vgl-lab@rockefeller.edu  PacBio HiFi sequencing of NA19338      bam  unaligned\n",
       "2  SRR30336749  SRP305758           new          PRJNA701308        SAMN37797091  m84091_231120_175800_s4.hifi_reads.bc1002.bam  NA19338_PB2_m84091_231120_175800_s4.hifi_reads...              WGS        GENOMIC  size fractionation         single  PACBIO_SMRT            Revio  HiFi sequencing of 20kb fractionated gDNA  unaligned reads  Megaruptor 3      Pippin HT         7.0.0           Revio P1                    Revio C1  Rockefeller University  vgl-lab@rockefeller.edu  PacBio HiFi sequencing of NA19338      bam  unaligned\n",
       "3  SRR30336738  SRP305758           new          PRJNA701308        SAMN37797093  m84091_231208_194716_s4.hifi_reads.bc1008.bam  NA19468_PB2_m84091_231208_194716_s4.hifi_reads...              WGS        GENOMIC  size fractionation         single  PACBIO_SMRT            Revio  HiFi sequencing of 20kb fractionated gDNA  unaligned reads  Megaruptor 3      Pippin HT         7.0.0           Revio P1                    Revio C1  Rockefeller University  vgl-lab@rockefeller.edu  PacBio HiFi sequencing of NA19468      bam  unaligned\n",
       "4  SRR30336729  SRP305758           new          PRJNA701308        SAMN37797093  m84091_231211_215746_s3.hifi_reads.bc1008.bam  NA19468_PB2_m84091_231211_215746_s3.hifi_reads...              WGS        GENOMIC  size fractionation         single  PACBIO_SMRT            Revio  HiFi sequencing of 20kb fractionated gDNA  unaligned reads  Megaruptor 3      Pippin HT         7.0.0           Revio P1                    Revio C1  Rockefeller University  vgl-lab@rockefeller.edu  PacBio HiFi sequencing of NA19468      bam  unaligned"
      ]
     },
     "execution_count": 27,
     "metadata": {},
     "output_type": "execute_result"
    }
   ],
   "source": [
    "sra_identifiers.head()"
   ]
  },
  {
   "cell_type": "code",
   "execution_count": 28,
   "metadata": {},
   "outputs": [],
   "source": [
    "ru_y3_topoff.drop(columns=['filename'],inplace=True)\n",
    "ru_y3_topoff.rename(columns={'bam_file':'filename'},inplace=True)"
   ]
  },
  {
   "cell_type": "code",
   "execution_count": 29,
   "metadata": {},
   "outputs": [],
   "source": [
    "ru_y3_topoff = pd.merge(sra_identifiers, ru_y3_topoff, on='filename',how='inner')"
   ]
  },
  {
   "cell_type": "code",
   "execution_count": 31,
   "metadata": {},
   "outputs": [],
   "source": [
    "ru_y3_topoff.rename(columns={'sample_id':'sample_ID'},inplace=True)"
   ]
  },
  {
   "cell_type": "code",
   "execution_count": 33,
   "metadata": {},
   "outputs": [],
   "source": [
    "ru_y3_topoff['DeepConsensus_version'] = np.nan\n",
    "ru_y3_topoff['notes'] = np.nan"
   ]
  },
  {
   "cell_type": "code",
   "execution_count": 41,
   "metadata": {},
   "outputs": [],
   "source": [
    "ru_y3_topoff = pd.merge(ru_y3_topoff, ru_y3_topoff_transfer[['filename','path']], on='filename', how='inner')"
   ]
  },
  {
   "cell_type": "code",
   "execution_count": 43,
   "metadata": {},
   "outputs": [
    {
     "data": {
      "text/plain": [
       "[]"
      ]
     },
     "execution_count": 43,
     "metadata": {},
     "output_type": "execute_result"
    }
   ],
   "source": [
    "# List of example columns (from the metadata sheet)\n",
    "\n",
    "# Check for missing columns in the new data\n",
    "missing_columns = [col for col in list(hprc_pacbio_hifi) if col not in ru_y3_topoff.columns]\n",
    "\n",
    "# Check for extra columns in the new data\n",
    "extra_columns = [col for col in ru_y3_topoff.columns if col not in list(hprc_pacbio_hifi)]\n",
    "\n",
    "missing_columns"
   ]
  },
  {
   "cell_type": "code",
   "execution_count": 45,
   "metadata": {},
   "outputs": [],
   "source": [
    "hprc_pacbio_hifi = pd.concat([hprc_pacbio_hifi, ru_y3_topoff[list(hprc_pacbio_hifi)]])"
   ]
  },
  {
   "cell_type": "code",
   "execution_count": 46,
   "metadata": {},
   "outputs": [],
   "source": [
    "hprc_pacbio_hifi.to_csv('/private/groups/hprc/human-pangenomics/documentation-metadata/HPRC_metadata/data/hprc-data-explorer-tables/HPRC_PacBio_HiFi.tsv',sep='\\t', index=False)"
   ]
  }
 ],
 "metadata": {
  "kernelspec": {
   "display_name": "Python 3",
   "language": "python",
   "name": "python3"
  },
  "language_info": {
   "codemirror_mode": {
    "name": "ipython",
    "version": 3
   },
   "file_extension": ".py",
   "mimetype": "text/x-python",
   "name": "python",
   "nbconvert_exporter": "python",
   "pygments_lexer": "ipython3",
   "version": "3.10.14"
  }
 },
 "nbformat": 4,
 "nbformat_minor": 2
}
