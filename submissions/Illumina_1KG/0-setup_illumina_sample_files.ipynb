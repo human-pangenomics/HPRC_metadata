{
 "cells": [
  {
   "cell_type": "code",
   "execution_count": 215,
   "metadata": {},
   "outputs": [],
   "source": [
    "import glob\n",
    "import pandas as pd"
   ]
  },
  {
   "cell_type": "code",
   "execution_count": 217,
   "metadata": {},
   "outputs": [
    {
     "name": "stdout",
     "output_type": "stream",
     "text": [
      "(171, 2)\n"
     ]
    }
   ],
   "source": [
    "# Local copy of Illumina QC\n",
    "illumina_sample_df = pd.DataFrame(glob.glob('/private/groups/hprc/1000G_local/child/fastq/*.fq.gz'))\n",
    "illumina_sample_df['sample_id'] = [sample.split('/')[-1].split('.')[0] for sample in illumina_sample_df[0].tolist()]\n",
    "print(illumina_sample_df.shape)"
   ]
  },
  {
   "cell_type": "code",
   "execution_count": 218,
   "metadata": {},
   "outputs": [
    {
     "name": "stdout",
     "output_type": "stream",
     "text": [
      "(108, 2)\n"
     ]
    }
   ],
   "source": [
    "# AWS Submission\n",
    "illumina_y1_y4 = pd.read_csv('Illumina_Y1-Y4.csv',header=None)\n",
    "illumina_y1_y4.head()\n",
    "illumina_y1_y4 = illumina_y1_y4[illumina_y1_y4[0].str.contains('final.cram') & ~illumina_y1_y4[0].str.contains('.md5') & ~illumina_y1_y4[0].str.contains('.cram.crai')]\n",
    "illumina_y1_y4['sample_id'] = [sample.split('/')[-1].split('.')[0] for sample in illumina_y1_y4[0].tolist()]\n",
    "print(illumina_y1_y4.shape)"
   ]
  },
  {
   "cell_type": "code",
   "execution_count": 130,
   "metadata": {},
   "outputs": [],
   "source": [
    "# len([sample for sample in illumina_sample_df.sample_id.tolist() if sample  not in illumina_y1_y4.sample_id.tolist()])"
   ]
  },
  {
   "cell_type": "code",
   "execution_count": 121,
   "metadata": {},
   "outputs": [],
   "source": [
    "# # Check if all values in the list are in the column and if the number of values matches the DataFrame length\n",
    "# set(illumina_sample_df['sample_id'].tolist()).issubset(set(illumina_y1_y4['sample_id'])) and len(illumina_sample_df['sample_id'].tolist()) == len(illumina_y1_y4)"
   ]
  },
  {
   "cell_type": "code",
   "execution_count": 219,
   "metadata": {},
   "outputs": [
    {
     "name": "stdout",
     "output_type": "stream",
     "text": [
      "(108, 2)\n"
     ]
    }
   ],
   "source": [
    "# AWS Submission\n",
    "illumina_y4 = pd.read_csv('Y4_1000G_DATA.csv', header=None)\n",
    "illumina_y4['sample_id'] = [sample.split('/')[-1].split('.')[0] for sample in illumina_y4[0].tolist()]\n",
    "print(illumina_y4.shape)"
   ]
  },
  {
   "cell_type": "code",
   "execution_count": 133,
   "metadata": {},
   "outputs": [],
   "source": [
    "# assert illumina_y4[illumina_y4['sample_id'].isin(illumina_sample_df.sample_id.tolist())].shape[0] == 0"
   ]
  },
  {
   "cell_type": "code",
   "execution_count": 227,
   "metadata": {},
   "outputs": [],
   "source": [
    "# concatenate aws submission tables\n",
    "illumina_aws_submission = pd.concat([illumina_y1_y4, illumina_y4])\n",
    "illumina_aws_submission['location'] = 'aws'\n",
    "illumina_sample_df['location'] = 'local'"
   ]
  },
  {
   "cell_type": "code",
   "execution_count": 228,
   "metadata": {},
   "outputs": [
    {
     "name": "stdout",
     "output_type": "stream",
     "text": [
      "(387, 3)\n"
     ]
    }
   ],
   "source": [
    "illumina_df = pd.concat([illumina_aws_submission, illumina_sample_df])\n",
    "print(illumina_df.shape)"
   ]
  },
  {
   "cell_type": "code",
   "execution_count": 229,
   "metadata": {},
   "outputs": [],
   "source": [
    "# subset by duplicated sample_id and keep the aws location\n",
    "test = illumina_df[illumina_df.duplicated(subset='sample_id', keep=False)]\n",
    "test = test[test['location'].isin(['aws'])]"
   ]
  },
  {
   "cell_type": "code",
   "execution_count": 231,
   "metadata": {},
   "outputs": [],
   "source": [
    "illumina_df = illumina_df[~illumina_df['sample_id'].isin(test['sample_id'].tolist())]\n",
    "\n",
    "illumina_final_df = pd.concat([illumina_df, test])"
   ]
  },
  {
   "cell_type": "code",
   "execution_count": 237,
   "metadata": {},
   "outputs": [
    {
     "data": {
      "text/plain": [
       "{'aws', 'local'}"
      ]
     },
     "execution_count": 237,
     "metadata": {},
     "output_type": "execute_result"
    }
   ],
   "source": [
    "set(illumina_final_df.location.tolist())"
   ]
  },
  {
   "cell_type": "code",
   "execution_count": null,
   "metadata": {},
   "outputs": [],
   "source": []
  },
  {
   "cell_type": "code",
   "execution_count": 202,
   "metadata": {},
   "outputs": [
    {
     "data": {
      "text/html": [
       "<div>\n",
       "<style scoped>\n",
       "    .dataframe tbody tr th:only-of-type {\n",
       "        vertical-align: middle;\n",
       "    }\n",
       "\n",
       "    .dataframe tbody tr th {\n",
       "        vertical-align: top;\n",
       "    }\n",
       "\n",
       "    .dataframe thead th {\n",
       "        text-align: right;\n",
       "    }\n",
       "</style>\n",
       "<table border=\"1\" class=\"dataframe\">\n",
       "  <thead>\n",
       "    <tr style=\"text-align: right;\">\n",
       "      <th></th>\n",
       "      <th>0</th>\n",
       "      <th>sample_id</th>\n",
       "      <th>location</th>\n",
       "    </tr>\n",
       "  </thead>\n",
       "  <tbody>\n",
       "    <tr>\n",
       "      <th>82</th>\n",
       "      <td>s3://human-pangenomics/submissions/325b4b1c-9f...</td>\n",
       "      <td>HG02027</td>\n",
       "      <td>aws</td>\n",
       "    </tr>\n",
       "  </tbody>\n",
       "</table>\n",
       "</div>"
      ],
      "text/plain": [
       "                                                    0 sample_id location\n",
       "82  s3://human-pangenomics/submissions/325b4b1c-9f...   HG02027      aws"
      ]
     },
     "execution_count": 202,
     "metadata": {},
     "output_type": "execute_result"
    }
   ],
   "source": [
    "test[test['sample_id'].isin(['HG02027'])]"
   ]
  },
  {
   "cell_type": "code",
   "execution_count": null,
   "metadata": {},
   "outputs": [],
   "source": []
  },
  {
   "cell_type": "code",
   "execution_count": 197,
   "metadata": {},
   "outputs": [
    {
     "data": {
      "text/html": [
       "<div>\n",
       "<style scoped>\n",
       "    .dataframe tbody tr th:only-of-type {\n",
       "        vertical-align: middle;\n",
       "    }\n",
       "\n",
       "    .dataframe tbody tr th {\n",
       "        vertical-align: top;\n",
       "    }\n",
       "\n",
       "    .dataframe thead th {\n",
       "        text-align: right;\n",
       "    }\n",
       "</style>\n",
       "<table border=\"1\" class=\"dataframe\">\n",
       "  <thead>\n",
       "    <tr style=\"text-align: right;\">\n",
       "      <th></th>\n",
       "      <th>0</th>\n",
       "      <th>sample_id</th>\n",
       "      <th>location</th>\n",
       "    </tr>\n",
       "  </thead>\n",
       "  <tbody>\n",
       "    <tr>\n",
       "      <th>1</th>\n",
       "      <td>s3://human-pangenomics/submissions/325b4b1c-9f...</td>\n",
       "      <td>HG00099</td>\n",
       "      <td>aws</td>\n",
       "    </tr>\n",
       "    <tr>\n",
       "      <th>3</th>\n",
       "      <td>s3://human-pangenomics/submissions/325b4b1c-9f...</td>\n",
       "      <td>HG00140</td>\n",
       "      <td>aws</td>\n",
       "    </tr>\n",
       "    <tr>\n",
       "      <th>5</th>\n",
       "      <td>s3://human-pangenomics/submissions/325b4b1c-9f...</td>\n",
       "      <td>HG00280</td>\n",
       "      <td>aws</td>\n",
       "    </tr>\n",
       "    <tr>\n",
       "      <th>7</th>\n",
       "      <td>s3://human-pangenomics/submissions/325b4b1c-9f...</td>\n",
       "      <td>HG00323</td>\n",
       "      <td>aws</td>\n",
       "    </tr>\n",
       "    <tr>\n",
       "      <th>9</th>\n",
       "      <td>s3://human-pangenomics/submissions/325b4b1c-9f...</td>\n",
       "      <td>HG00423</td>\n",
       "      <td>aws</td>\n",
       "    </tr>\n",
       "    <tr>\n",
       "      <th>...</th>\n",
       "      <td>...</td>\n",
       "      <td>...</td>\n",
       "      <td>...</td>\n",
       "    </tr>\n",
       "    <tr>\n",
       "      <th>276</th>\n",
       "      <td>s3://human-pangenomics/submissions/325b4b1c-9f...</td>\n",
       "      <td>NA20129</td>\n",
       "      <td>aws</td>\n",
       "    </tr>\n",
       "    <tr>\n",
       "      <th>279</th>\n",
       "      <td>s3://human-pangenomics/submissions/325b4b1c-9f...</td>\n",
       "      <td>NA20752</td>\n",
       "      <td>aws</td>\n",
       "    </tr>\n",
       "    <tr>\n",
       "      <th>281</th>\n",
       "      <td>s3://human-pangenomics/submissions/325b4b1c-9f...</td>\n",
       "      <td>NA20799</td>\n",
       "      <td>aws</td>\n",
       "    </tr>\n",
       "    <tr>\n",
       "      <th>283</th>\n",
       "      <td>s3://human-pangenomics/submissions/325b4b1c-9f...</td>\n",
       "      <td>NA20805</td>\n",
       "      <td>aws</td>\n",
       "    </tr>\n",
       "    <tr>\n",
       "      <th>285</th>\n",
       "      <td>s3://human-pangenomics/submissions/325b4b1c-9f...</td>\n",
       "      <td>NA20905</td>\n",
       "      <td>aws</td>\n",
       "    </tr>\n",
       "  </tbody>\n",
       "</table>\n",
       "<p>108 rows × 3 columns</p>\n",
       "</div>"
      ],
      "text/plain": [
       "                                                     0 sample_id location\n",
       "1    s3://human-pangenomics/submissions/325b4b1c-9f...   HG00099      aws\n",
       "3    s3://human-pangenomics/submissions/325b4b1c-9f...   HG00140      aws\n",
       "5    s3://human-pangenomics/submissions/325b4b1c-9f...   HG00280      aws\n",
       "7    s3://human-pangenomics/submissions/325b4b1c-9f...   HG00323      aws\n",
       "9    s3://human-pangenomics/submissions/325b4b1c-9f...   HG00423      aws\n",
       "..                                                 ...       ...      ...\n",
       "276  s3://human-pangenomics/submissions/325b4b1c-9f...   NA20129      aws\n",
       "279  s3://human-pangenomics/submissions/325b4b1c-9f...   NA20752      aws\n",
       "281  s3://human-pangenomics/submissions/325b4b1c-9f...   NA20799      aws\n",
       "283  s3://human-pangenomics/submissions/325b4b1c-9f...   NA20805      aws\n",
       "285  s3://human-pangenomics/submissions/325b4b1c-9f...   NA20905      aws\n",
       "\n",
       "[108 rows x 3 columns]"
      ]
     },
     "execution_count": 197,
     "metadata": {},
     "output_type": "execute_result"
    }
   ],
   "source": [
    "test"
   ]
  },
  {
   "cell_type": "code",
   "execution_count": null,
   "metadata": {},
   "outputs": [],
   "source": []
  },
  {
   "cell_type": "code",
   "execution_count": null,
   "metadata": {},
   "outputs": [],
   "source": []
  },
  {
   "cell_type": "code",
   "execution_count": null,
   "metadata": {},
   "outputs": [],
   "source": []
  },
  {
   "cell_type": "code",
   "execution_count": null,
   "metadata": {},
   "outputs": [],
   "source": [
    "# Sort the DataFrame so that 'aws' values appear first for each 'sample_id'\n",
    "df_sorted = df.sort_values(by=['sample_id', 'location'], ascending=[True, False])\n",
    "\n",
    "# Drop duplicates based on 'sample_id', keeping the first (which will be 'aws' if present)\n",
    "df_unique = df_sorted.drop_duplicates(subset='sample_id', keep='first')\n"
   ]
  },
  {
   "cell_type": "code",
   "execution_count": null,
   "metadata": {},
   "outputs": [],
   "source": []
  },
  {
   "cell_type": "code",
   "execution_count": null,
   "metadata": {},
   "outputs": [],
   "source": []
  },
  {
   "cell_type": "code",
   "execution_count": 153,
   "metadata": {},
   "outputs": [
    {
     "data": {
      "text/plain": [
       "(387, 3)"
      ]
     },
     "execution_count": 153,
     "metadata": {},
     "output_type": "execute_result"
    }
   ],
   "source": []
  },
  {
   "cell_type": "code",
   "execution_count": 152,
   "metadata": {},
   "outputs": [
    {
     "data": {
      "text/plain": [
       "279"
      ]
     },
     "execution_count": 152,
     "metadata": {},
     "output_type": "execute_result"
    }
   ],
   "source": [
    "pd.concat([illumina_aws_submission, illumina_sample_df]).sample_id.nunique()"
   ]
  },
  {
   "cell_type": "code",
   "execution_count": 144,
   "metadata": {},
   "outputs": [
    {
     "data": {
      "text/plain": [
       "108"
      ]
     },
     "execution_count": 144,
     "metadata": {},
     "output_type": "execute_result"
    }
   ],
   "source": [
    "len([sample for sample in illumina_aws_submission.sample_id.tolist() if sample not in illumina_sample_df['sample_id'].tolist()])"
   ]
  },
  {
   "cell_type": "code",
   "execution_count": 143,
   "metadata": {},
   "outputs": [
    {
     "data": {
      "text/plain": [
       "63"
      ]
     },
     "execution_count": 143,
     "metadata": {},
     "output_type": "execute_result"
    }
   ],
   "source": [
    "len([sample for sample in illumina_sample_df.sample_id.tolist() if sample not in illumina_aws_submission['sample_id'].tolist()])"
   ]
  },
  {
   "cell_type": "code",
   "execution_count": null,
   "metadata": {},
   "outputs": [],
   "source": []
  },
  {
   "cell_type": "code",
   "execution_count": null,
   "metadata": {},
   "outputs": [],
   "source": []
  },
  {
   "cell_type": "code",
   "execution_count": null,
   "metadata": {},
   "outputs": [],
   "source": []
  },
  {
   "cell_type": "code",
   "execution_count": null,
   "metadata": {},
   "outputs": [],
   "source": []
  },
  {
   "cell_type": "code",
   "execution_count": null,
   "metadata": {},
   "outputs": [],
   "source": []
  },
  {
   "cell_type": "code",
   "execution_count": null,
   "metadata": {},
   "outputs": [],
   "source": []
  },
  {
   "cell_type": "code",
   "execution_count": 110,
   "metadata": {},
   "outputs": [
    {
     "data": {
      "text/plain": [
       "(63, 2)"
      ]
     },
     "execution_count": 110,
     "metadata": {},
     "output_type": "execute_result"
    }
   ],
   "source": [
    "illumina_sample_df[~illumina_sample_df['sample_id'].isin(illumina_aws_submission['sample_id'].tolist())].shape"
   ]
  },
  {
   "cell_type": "code",
   "execution_count": 103,
   "metadata": {},
   "outputs": [
    {
     "data": {
      "text/plain": [
       "(108, 2)"
      ]
     },
     "execution_count": 103,
     "metadata": {},
     "output_type": "execute_result"
    }
   ],
   "source": [
    "illumina_aws_submission[illumina_aws_submission['sample_id'].isin(illumina_sample_df['sample_id'].tolist())].shape"
   ]
  },
  {
   "cell_type": "code",
   "execution_count": 53,
   "metadata": {},
   "outputs": [
    {
     "data": {
      "text/html": [
       "<div>\n",
       "<style scoped>\n",
       "    .dataframe tbody tr th:only-of-type {\n",
       "        vertical-align: middle;\n",
       "    }\n",
       "\n",
       "    .dataframe tbody tr th {\n",
       "        vertical-align: top;\n",
       "    }\n",
       "\n",
       "    .dataframe thead th {\n",
       "        text-align: right;\n",
       "    }\n",
       "</style>\n",
       "<table border=\"1\" class=\"dataframe\">\n",
       "  <thead>\n",
       "    <tr style=\"text-align: right;\">\n",
       "      <th></th>\n",
       "      <th>0</th>\n",
       "      <th>sample_id</th>\n",
       "    </tr>\n",
       "  </thead>\n",
       "  <tbody>\n",
       "  </tbody>\n",
       "</table>\n",
       "</div>"
      ],
      "text/plain": [
       "Empty DataFrame\n",
       "Columns: [0, sample_id]\n",
       "Index: []"
      ]
     },
     "execution_count": 53,
     "metadata": {},
     "output_type": "execute_result"
    }
   ],
   "source": [
    "illumina_y1_y4[~illumina_y1_y4['sample_id'].isin(illumina_sample_df['sample_id'].tolist())]"
   ]
  },
  {
   "cell_type": "code",
   "execution_count": 52,
   "metadata": {},
   "outputs": [
    {
     "data": {
      "text/plain": [
       "True"
      ]
     },
     "execution_count": 52,
     "metadata": {},
     "output_type": "execute_result"
    }
   ],
   "source": [
    "illumina_y1_y4[illumina_y1_y4['sample_id'].isin(illumina_sample_df['sample_id'].tolist())].shape[0] == illumina_y1_y4.shape[0]"
   ]
  },
  {
   "cell_type": "code",
   "execution_count": 29,
   "metadata": {},
   "outputs": [
    {
     "data": {
      "text/plain": [
       "279"
      ]
     },
     "execution_count": 29,
     "metadata": {},
     "output_type": "execute_result"
    }
   ],
   "source": [
    "# Number of Illumina samples\n",
    "illumina_sample_df.shape[0] + illumina_y4.shape[0]"
   ]
  },
  {
   "cell_type": "code",
   "execution_count": null,
   "metadata": {},
   "outputs": [],
   "source": []
  },
  {
   "cell_type": "code",
   "execution_count": 5,
   "metadata": {},
   "outputs": [],
   "source": [
    "illumina_sample_df.rename(columns={0:'illumina_reads'},inplace=True)"
   ]
  },
  {
   "cell_type": "code",
   "execution_count": 12,
   "metadata": {},
   "outputs": [],
   "source": [
    "illumina_sample_df[['sample_id',\n",
    "\t\t\t\t\t'illumina_reads']].to_csv('illumina_qc/illumina_sample_files.csv',index=False)"
   ]
  }
 ],
 "metadata": {
  "kernelspec": {
   "display_name": "Python 3",
   "language": "python",
   "name": "python3"
  },
  "language_info": {
   "codemirror_mode": {
    "name": "ipython",
    "version": 3
   },
   "file_extension": ".py",
   "mimetype": "text/x-python",
   "name": "python",
   "nbconvert_exporter": "python",
   "pygments_lexer": "ipython3",
   "version": "3.10.12"
  }
 },
 "nbformat": 4,
 "nbformat_minor": 2
}
