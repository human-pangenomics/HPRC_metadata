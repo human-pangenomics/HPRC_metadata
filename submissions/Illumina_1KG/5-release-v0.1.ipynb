{
 "cells": [
  {
   "cell_type": "code",
   "execution_count": 29,
   "metadata": {},
   "outputs": [],
   "source": [
    "import pandas as pd"
   ]
  },
  {
   "cell_type": "code",
   "execution_count": 30,
   "metadata": {},
   "outputs": [],
   "source": [
    "illumina_df = pd.read_csv('Illumina_Y1-Y4.csv',header=None)\n",
    "illumina_df = illumina_df[illumina_df[0].str.contains('final.cram') & ~illumina_df[0].str.contains('.md5') & ~illumina_df[0].str.contains('.cram.crai')]"
   ]
  },
  {
   "cell_type": "code",
   "execution_count": 31,
   "metadata": {},
   "outputs": [],
   "source": [
    "release_path = []\n",
    "for data in illumina_df[0].tolist():\n",
    "\tsample_id = data[0].split('/')[-1].split('.')[0]\n",
    "\tsample_file = data[0].split('/')[-1]\n",
    "\trelease_path.append(f\"s3://human-pangenomics/working/HPRC/{sample_id}/raw_data/Illumina/child/{sample_file}\")\n",
    "illumina_df[1] = release_path"
   ]
  },
  {
   "cell_type": "code",
   "execution_count": 33,
   "metadata": {},
   "outputs": [],
   "source": [
    "illumina_df.to_csv('Illumina_Y1-Y4.transfer.csv',index=False, header=False)"
   ]
  }
 ],
 "metadata": {
  "kernelspec": {
   "display_name": "Python 3",
   "language": "python",
   "name": "python3"
  },
  "language_info": {
   "codemirror_mode": {
    "name": "ipython",
    "version": 3
   },
   "file_extension": ".py",
   "mimetype": "text/x-python",
   "name": "python",
   "nbconvert_exporter": "python",
   "pygments_lexer": "ipython3",
   "version": "3.10.12"
  }
 },
 "nbformat": 4,
 "nbformat_minor": 2
}
