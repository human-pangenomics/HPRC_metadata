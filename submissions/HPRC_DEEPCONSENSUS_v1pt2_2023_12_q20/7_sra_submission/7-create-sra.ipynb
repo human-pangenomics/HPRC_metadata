{
 "cells": [
  {
   "cell_type": "code",
   "execution_count": 38,
   "metadata": {},
   "outputs": [],
   "source": [
    "import pandas as pd\n",
    "# Set the maximum number of columns to display\n",
    "pd.set_option('display.max_columns', 500)\n",
    "# Set the maximum number of rows to display\n",
    "pd.set_option('display.max_rows', None)"
   ]
  },
  {
   "cell_type": "code",
   "execution_count": 39,
   "metadata": {},
   "outputs": [],
   "source": [
    "hprc_dc = pd.read_csv('HPRC_DEEPCONSENSUS_v1pt2_2023_12_q20_SRA_sub.csv')"
   ]
  },
  {
   "cell_type": "code",
   "execution_count": 40,
   "metadata": {},
   "outputs": [
    {
     "data": {
      "text/html": [
       "<div>\n",
       "<style scoped>\n",
       "    .dataframe tbody tr th:only-of-type {\n",
       "        vertical-align: middle;\n",
       "    }\n",
       "\n",
       "    .dataframe tbody tr th {\n",
       "        vertical-align: top;\n",
       "    }\n",
       "\n",
       "    .dataframe thead th {\n",
       "        text-align: right;\n",
       "    }\n",
       "</style>\n",
       "<table border=\"1\" class=\"dataframe\">\n",
       "  <thead>\n",
       "    <tr style=\"text-align: right;\">\n",
       "      <th></th>\n",
       "      <th>biosample_accession</th>\n",
       "      <th>library_ID</th>\n",
       "      <th>title</th>\n",
       "      <th>filename</th>\n",
       "      <th>filetype</th>\n",
       "      <th>sample_ID</th>\n",
       "      <th>study</th>\n",
       "      <th>library_strategy</th>\n",
       "      <th>library_source</th>\n",
       "      <th>library_selection</th>\n",
       "      <th>library_layout</th>\n",
       "      <th>platform</th>\n",
       "      <th>instrument_model</th>\n",
       "      <th>design_description</th>\n",
       "      <th>data_type</th>\n",
       "      <th>shear_method</th>\n",
       "      <th>size_selection</th>\n",
       "      <th>DeepConsensus_version</th>\n",
       "      <th>polymerase_version</th>\n",
       "      <th>seq_plate_chemistry_version</th>\n",
       "      <th>generator_facility</th>\n",
       "      <th>generator_contact</th>\n",
       "      <th>notes</th>\n",
       "    </tr>\n",
       "  </thead>\n",
       "  <tbody>\n",
       "    <tr>\n",
       "      <th>0</th>\n",
       "      <td>SAMN17861652</td>\n",
       "      <td>HG00438_lib1_dc</td>\n",
       "      <td>PacBio HiFi sequencing of HG00438 rebasecalled...</td>\n",
       "      <td>HG00438.m64043_200710_174426.dc.q20.fastq.gz</td>\n",
       "      <td>fastq</td>\n",
       "      <td>HG00438</td>\n",
       "      <td>SRP305758</td>\n",
       "      <td>WGS</td>\n",
       "      <td>GENOMIC</td>\n",
       "      <td>size fractionation</td>\n",
       "      <td>single</td>\n",
       "      <td>PACBIO_SMRT</td>\n",
       "      <td>PacBio Sequel II</td>\n",
       "      <td>HiFi sequencing of 20kb fractionated gDNA</td>\n",
       "      <td>unaligned reads</td>\n",
       "      <td>Megaruptor 1</td>\n",
       "      <td>SageELF</td>\n",
       "      <td>1.2</td>\n",
       "      <td>NaN</td>\n",
       "      <td>NaN</td>\n",
       "      <td>Washington University</td>\n",
       "      <td>tgraves@wustl.edu</td>\n",
       "      <td>NaN</td>\n",
       "    </tr>\n",
       "    <tr>\n",
       "      <th>1</th>\n",
       "      <td>SAMN17861652</td>\n",
       "      <td>HG00438_lib1_dc</td>\n",
       "      <td>PacBio HiFi sequencing of HG00438 rebasecalled...</td>\n",
       "      <td>HG00438.m64043_200711_235708.dc.q20.fastq.gz</td>\n",
       "      <td>fastq</td>\n",
       "      <td>HG00438</td>\n",
       "      <td>SRP305758</td>\n",
       "      <td>WGS</td>\n",
       "      <td>GENOMIC</td>\n",
       "      <td>size fractionation</td>\n",
       "      <td>single</td>\n",
       "      <td>PACBIO_SMRT</td>\n",
       "      <td>PacBio Sequel II</td>\n",
       "      <td>HiFi sequencing of 20kb fractionated gDNA</td>\n",
       "      <td>unaligned reads</td>\n",
       "      <td>Megaruptor 1</td>\n",
       "      <td>SageELF</td>\n",
       "      <td>1.2</td>\n",
       "      <td>NaN</td>\n",
       "      <td>NaN</td>\n",
       "      <td>Washington University</td>\n",
       "      <td>tgraves@wustl.edu</td>\n",
       "      <td>NaN</td>\n",
       "    </tr>\n",
       "    <tr>\n",
       "      <th>2</th>\n",
       "      <td>SAMN17861652</td>\n",
       "      <td>HG00438_lib1_dc</td>\n",
       "      <td>PacBio HiFi sequencing of HG00438 rebasecalled...</td>\n",
       "      <td>HG00438.m64043_200713_062240.dc.q20.fastq.gz</td>\n",
       "      <td>fastq</td>\n",
       "      <td>HG00438</td>\n",
       "      <td>SRP305758</td>\n",
       "      <td>WGS</td>\n",
       "      <td>GENOMIC</td>\n",
       "      <td>size fractionation</td>\n",
       "      <td>single</td>\n",
       "      <td>PACBIO_SMRT</td>\n",
       "      <td>PacBio Sequel II</td>\n",
       "      <td>HiFi sequencing of 20kb fractionated gDNA</td>\n",
       "      <td>unaligned reads</td>\n",
       "      <td>Megaruptor 1</td>\n",
       "      <td>SageELF</td>\n",
       "      <td>1.2</td>\n",
       "      <td>NaN</td>\n",
       "      <td>NaN</td>\n",
       "      <td>Washington University</td>\n",
       "      <td>tgraves@wustl.edu</td>\n",
       "      <td>NaN</td>\n",
       "    </tr>\n",
       "    <tr>\n",
       "      <th>3</th>\n",
       "      <td>SAMN17861652</td>\n",
       "      <td>HG00438_lib1_dc</td>\n",
       "      <td>PacBio HiFi sequencing of HG00438 rebasecalled...</td>\n",
       "      <td>HG00438.m64043_200714_124814.dc.q20.fastq.gz</td>\n",
       "      <td>fastq</td>\n",
       "      <td>HG00438</td>\n",
       "      <td>SRP305758</td>\n",
       "      <td>WGS</td>\n",
       "      <td>GENOMIC</td>\n",
       "      <td>size fractionation</td>\n",
       "      <td>single</td>\n",
       "      <td>PACBIO_SMRT</td>\n",
       "      <td>PacBio Sequel II</td>\n",
       "      <td>HiFi sequencing of 20kb fractionated gDNA</td>\n",
       "      <td>unaligned reads</td>\n",
       "      <td>Megaruptor 1</td>\n",
       "      <td>SageELF</td>\n",
       "      <td>1.2</td>\n",
       "      <td>NaN</td>\n",
       "      <td>NaN</td>\n",
       "      <td>Washington University</td>\n",
       "      <td>tgraves@wustl.edu</td>\n",
       "      <td>NaN</td>\n",
       "    </tr>\n",
       "    <tr>\n",
       "      <th>4</th>\n",
       "      <td>SAMN17861653</td>\n",
       "      <td>HG00621_lib1_dc</td>\n",
       "      <td>PacBio HiFi sequencing of HG00621 rebasecalled...</td>\n",
       "      <td>HG00621.m64136_200710_174522.dc.q20.fastq.gz</td>\n",
       "      <td>fastq</td>\n",
       "      <td>HG00621</td>\n",
       "      <td>SRP305758</td>\n",
       "      <td>WGS</td>\n",
       "      <td>GENOMIC</td>\n",
       "      <td>size fractionation</td>\n",
       "      <td>single</td>\n",
       "      <td>PACBIO_SMRT</td>\n",
       "      <td>PacBio Sequel II</td>\n",
       "      <td>HiFi sequencing of 20kb fractionated gDNA</td>\n",
       "      <td>unaligned reads</td>\n",
       "      <td>Megaruptor 1</td>\n",
       "      <td>SageELF</td>\n",
       "      <td>1.2</td>\n",
       "      <td>NaN</td>\n",
       "      <td>NaN</td>\n",
       "      <td>Washington University</td>\n",
       "      <td>tgraves@wustl.edu</td>\n",
       "      <td>NaN</td>\n",
       "    </tr>\n",
       "  </tbody>\n",
       "</table>\n",
       "</div>"
      ],
      "text/plain": [
       "  biosample_accession       library_ID  \\\n",
       "0        SAMN17861652  HG00438_lib1_dc   \n",
       "1        SAMN17861652  HG00438_lib1_dc   \n",
       "2        SAMN17861652  HG00438_lib1_dc   \n",
       "3        SAMN17861652  HG00438_lib1_dc   \n",
       "4        SAMN17861653  HG00621_lib1_dc   \n",
       "\n",
       "                                               title  \\\n",
       "0  PacBio HiFi sequencing of HG00438 rebasecalled...   \n",
       "1  PacBio HiFi sequencing of HG00438 rebasecalled...   \n",
       "2  PacBio HiFi sequencing of HG00438 rebasecalled...   \n",
       "3  PacBio HiFi sequencing of HG00438 rebasecalled...   \n",
       "4  PacBio HiFi sequencing of HG00621 rebasecalled...   \n",
       "\n",
       "                                       filename filetype sample_ID      study  \\\n",
       "0  HG00438.m64043_200710_174426.dc.q20.fastq.gz    fastq   HG00438  SRP305758   \n",
       "1  HG00438.m64043_200711_235708.dc.q20.fastq.gz    fastq   HG00438  SRP305758   \n",
       "2  HG00438.m64043_200713_062240.dc.q20.fastq.gz    fastq   HG00438  SRP305758   \n",
       "3  HG00438.m64043_200714_124814.dc.q20.fastq.gz    fastq   HG00438  SRP305758   \n",
       "4  HG00621.m64136_200710_174522.dc.q20.fastq.gz    fastq   HG00621  SRP305758   \n",
       "\n",
       "  library_strategy library_source   library_selection library_layout  \\\n",
       "0              WGS        GENOMIC  size fractionation         single   \n",
       "1              WGS        GENOMIC  size fractionation         single   \n",
       "2              WGS        GENOMIC  size fractionation         single   \n",
       "3              WGS        GENOMIC  size fractionation         single   \n",
       "4              WGS        GENOMIC  size fractionation         single   \n",
       "\n",
       "      platform  instrument_model                         design_description  \\\n",
       "0  PACBIO_SMRT  PacBio Sequel II  HiFi sequencing of 20kb fractionated gDNA   \n",
       "1  PACBIO_SMRT  PacBio Sequel II  HiFi sequencing of 20kb fractionated gDNA   \n",
       "2  PACBIO_SMRT  PacBio Sequel II  HiFi sequencing of 20kb fractionated gDNA   \n",
       "3  PACBIO_SMRT  PacBio Sequel II  HiFi sequencing of 20kb fractionated gDNA   \n",
       "4  PACBIO_SMRT  PacBio Sequel II  HiFi sequencing of 20kb fractionated gDNA   \n",
       "\n",
       "         data_type  shear_method size_selection  DeepConsensus_version  \\\n",
       "0  unaligned reads  Megaruptor 1        SageELF                    1.2   \n",
       "1  unaligned reads  Megaruptor 1        SageELF                    1.2   \n",
       "2  unaligned reads  Megaruptor 1        SageELF                    1.2   \n",
       "3  unaligned reads  Megaruptor 1        SageELF                    1.2   \n",
       "4  unaligned reads  Megaruptor 1        SageELF                    1.2   \n",
       "\n",
       "  polymerase_version seq_plate_chemistry_version     generator_facility  \\\n",
       "0                NaN                         NaN  Washington University   \n",
       "1                NaN                         NaN  Washington University   \n",
       "2                NaN                         NaN  Washington University   \n",
       "3                NaN                         NaN  Washington University   \n",
       "4                NaN                         NaN  Washington University   \n",
       "\n",
       "   generator_contact notes  \n",
       "0  tgraves@wustl.edu   NaN  \n",
       "1  tgraves@wustl.edu   NaN  \n",
       "2  tgraves@wustl.edu   NaN  \n",
       "3  tgraves@wustl.edu   NaN  \n",
       "4  tgraves@wustl.edu   NaN  "
      ]
     },
     "execution_count": 40,
     "metadata": {},
     "output_type": "execute_result"
    }
   ],
   "source": [
    "hprc_dc.head()"
   ]
  },
  {
   "cell_type": "code",
   "execution_count": 41,
   "metadata": {},
   "outputs": [],
   "source": [
    "library_name_list = []\n",
    "for library_name in hprc_dc[['library_ID','filename']].values:\n",
    "\tlibrary_name_list.append(library_name[0] + '_' + library_name[-1].split('.')[1])"
   ]
  },
  {
   "cell_type": "code",
   "execution_count": 42,
   "metadata": {},
   "outputs": [],
   "source": [
    "# create a unique library id\n",
    "hprc_dc['library_ID'] = library_name_list"
   ]
  },
  {
   "cell_type": "code",
   "execution_count": 43,
   "metadata": {},
   "outputs": [],
   "source": [
    "column_list = [\n",
    "    \"biosample_accession\", \"library_ID\", \"title\", \"filename\", \"filetype\", \n",
    "    \"sample_ID\", \"study\", \"library_strategy\", \"library_source\", \n",
    "    \"library_selection\", \"library_layout\", \"platform\", \"instrument_model\", \n",
    "    \"design_description\", \"data_type\", \"shear_method\", \"size_selection\", \n",
    "    \"DeepConsensus_version\", \"polymerase_version\", \n",
    "    \"seq_plate_chemistry_version\", \"generator_facility\", \n",
    "    \"generator_contact\", \"notes\"\n",
    "]"
   ]
  },
  {
   "cell_type": "code",
   "execution_count": 44,
   "metadata": {},
   "outputs": [
    {
     "data": {
      "text/plain": [
       "False"
      ]
     },
     "execution_count": 44,
     "metadata": {},
     "output_type": "execute_result"
    }
   ],
   "source": [
    "hprc_dc.instrument_model[0] == 'Sequel II'"
   ]
  },
  {
   "cell_type": "code",
   "execution_count": 45,
   "metadata": {},
   "outputs": [
    {
     "data": {
      "text/plain": [
       "[]"
      ]
     },
     "execution_count": 45,
     "metadata": {},
     "output_type": "execute_result"
    }
   ],
   "source": [
    "# Checking if columns from column_list exist in the dataframe\n",
    "missing_columns = [col for col in column_list if col not in hprc_dc.columns]\n",
    "\n",
    "missing_columns"
   ]
  },
  {
   "cell_type": "code",
   "execution_count": null,
   "metadata": {},
   "outputs": [],
   "source": [
    "hprc_dc['instrument_model'] = 'Sequel II'"
   ]
  },
  {
   "cell_type": "code",
   "execution_count": 25,
   "metadata": {},
   "outputs": [],
   "source": [
    "hprc_dc.to_csv('HPRC_DEEPCONSENSUS_v1pt2_2023_12_q20_SRA_sub.tsv',sep='\\t', index=False)"
   ]
  }
 ],
 "metadata": {
  "kernelspec": {
   "display_name": "Python 3",
   "language": "python",
   "name": "python3"
  },
  "language_info": {
   "codemirror_mode": {
    "name": "ipython",
    "version": 3
   },
   "file_extension": ".py",
   "mimetype": "text/x-python",
   "name": "python",
   "nbconvert_exporter": "python",
   "pygments_lexer": "ipython3",
   "version": "3.10.12"
  }
 },
 "nbformat": 4,
 "nbformat_minor": 2
}
