{
 "cells": [
  {
   "cell_type": "code",
   "execution_count": 103,
   "metadata": {},
   "outputs": [],
   "source": [
    "import pandas as pd\n",
    "# Reset the options to default\n",
    "# Set the maximum number of columns to display\n",
    "pd.set_option('display.max_columns', 500)\n",
    "\n",
    "# Set the maximum number of rows to display\n",
    "pd.set_option('display.max_rows', None)"
   ]
  },
  {
   "cell_type": "code",
   "execution_count": 104,
   "metadata": {},
   "outputs": [],
   "source": [
    "hprc_biosample = pd.read_csv('/private/groups/hprc/human-pangenomics/documentation-metadata/HPRC_metadata/data/production/hprc-production-biosample-table.tsv', sep='\\t')\n",
    "hprc_biosample.rename(columns={'Sample':'sample_ID'}, inplace=True)"
   ]
  },
  {
   "cell_type": "code",
   "execution_count": 105,
   "metadata": {},
   "outputs": [],
   "source": [
    "wustl_y1_topup_sra = pd.read_csv('HPRC_WUSTL_Y1_PacBio_HiFi_TopUp_Metadata_Submission_v0.1.tsv',sep='\\t')\n",
    "wustl_y1_topup_sra['sample_id'] = wustl_y1_topup_sra['sample_ID'] + '-' + wustl_y1_topup_sra['filename']\n",
    "wustl_y1_topup_sra['sample_id'] = [sample.split('.')[0] for sample in wustl_y1_topup_sra['sample_id'].tolist()]"
   ]
  },
  {
   "cell_type": "code",
   "execution_count": 106,
   "metadata": {},
   "outputs": [
    {
     "name": "stdout",
     "output_type": "stream",
     "text": [
      "Missing columns: ['biosample_accession', 'title', 'assembly']\n"
     ]
    }
   ],
   "source": [
    "# List of column names from your metadata sheet\n",
    "metadata_columns = [\n",
    "    'filename', 'library_ID', 'library_strategy', 'library_source', \n",
    "    'library_selection', 'library_layout', 'platform', 'instrument_model', \n",
    "    'design_description', 'data_type', 'shear_method', 'size_selection', \n",
    "    'ccs_algorithm', 'polymerase_version', 'seq_plate_chemistry_version', \n",
    "    'generator_facility', 'generator_contact', 'biosample_accession', \n",
    "    'title', 'filetype', 'assembly'\n",
    "]\n",
    "\n",
    "# Assume you have another DataFrame named 'other_df'\n",
    "# Example: other_df = pd.read_csv('path_to_other_file.csv')\n",
    "\n",
    "# Check if the metadata columns are present in the other DataFrame\n",
    "missing_columns = [col for col in metadata_columns if col not in wustl_y1_topup_sra.columns]\n",
    "\n",
    "# Output the missing columns\n",
    "print(\"Missing columns:\", missing_columns)\n"
   ]
  },
  {
   "cell_type": "code",
   "execution_count": 107,
   "metadata": {},
   "outputs": [],
   "source": [
    "wustl_y1_topup_output_df = pd.read_csv('/private/groups/hprc/human-pangenomics/HPRC_metadata/submissions/WUSTL_HPRC_HiFi_Year1_TopUp/hifi_qc/hifi_qc_samples_output_table.csv')"
   ]
  },
  {
   "cell_type": "code",
   "execution_count": 108,
   "metadata": {},
   "outputs": [],
   "source": [
    "wustl_y1_topup_sra = wustl_y1_topup_sra[wustl_y1_topup_sra['sample_id'].isin(wustl_y1_topup_output_df['sample_id'].tolist())]"
   ]
  },
  {
   "cell_type": "code",
   "execution_count": 109,
   "metadata": {},
   "outputs": [],
   "source": [
    "assert wustl_y1_topup_output_df.shape[0] == wustl_y1_topup_sra.shape[0]"
   ]
  },
  {
   "cell_type": "code",
   "execution_count": 110,
   "metadata": {},
   "outputs": [],
   "source": [
    "wustl_y1_topup_sra['assembly'] = 'unaligned'"
   ]
  },
  {
   "cell_type": "code",
   "execution_count": 111,
   "metadata": {},
   "outputs": [],
   "source": [
    "wustl_y1_topup_sra = pd.merge(hprc_biosample, wustl_y1_topup_sra, on='sample_ID', how='inner')"
   ]
  },
  {
   "cell_type": "code",
   "execution_count": 112,
   "metadata": {},
   "outputs": [],
   "source": [
    "wustl_y1_topup_sra['title'] = 'PacBio HiFi sequencing of ' + wustl_y1_topup_sra['sample_ID']"
   ]
  },
  {
   "cell_type": "code",
   "execution_count": 113,
   "metadata": {},
   "outputs": [],
   "source": [
    "wustl_y1_topup_sra.rename(columns={'Accession':'biosample_accession'},inplace=True)"
   ]
  },
  {
   "cell_type": "code",
   "execution_count": 114,
   "metadata": {},
   "outputs": [],
   "source": [
    "wustl_y1_topup_sra = wustl_y1_topup_sra[metadata_columns]"
   ]
  },
  {
   "cell_type": "code",
   "execution_count": 115,
   "metadata": {},
   "outputs": [],
   "source": [
    "wustl_y1_topup_sra['instrument_model'] = 'Revio'"
   ]
  },
  {
   "cell_type": "code",
   "execution_count": 116,
   "metadata": {},
   "outputs": [],
   "source": [
    "wustl_y1_topup_sra['library_ID'] = wustl_y1_topup_sra['library_ID'] + '_' + wustl_y1_topup_sra['filename']"
   ]
  },
  {
   "cell_type": "code",
   "execution_count": 117,
   "metadata": {},
   "outputs": [],
   "source": [
    "wustl_y1_topup_sra['library_ID'] = [library_id.split('.')[0] for library_id in wustl_y1_topup_sra['library_ID'].tolist()]"
   ]
  },
  {
   "cell_type": "code",
   "execution_count": 118,
   "metadata": {},
   "outputs": [],
   "source": [
    "wustl_y1_topup_sra['library_layout'] = 'single'"
   ]
  },
  {
   "cell_type": "code",
   "execution_count": 119,
   "metadata": {},
   "outputs": [],
   "source": [
    "wustl_y1_topup_sra.to_csv('sra_biosample_WUSTL_Y1_TopUp.tsv',index=False, sep='\\t')"
   ]
  }
 ],
 "metadata": {
  "kernelspec": {
   "display_name": "Python 3",
   "language": "python",
   "name": "python3"
  },
  "language_info": {
   "codemirror_mode": {
    "name": "ipython",
    "version": 3
   },
   "file_extension": ".py",
   "mimetype": "text/x-python",
   "name": "python",
   "nbconvert_exporter": "python",
   "pygments_lexer": "ipython3",
   "version": "3.10.12"
  }
 },
 "nbformat": 4,
 "nbformat_minor": 2
}
