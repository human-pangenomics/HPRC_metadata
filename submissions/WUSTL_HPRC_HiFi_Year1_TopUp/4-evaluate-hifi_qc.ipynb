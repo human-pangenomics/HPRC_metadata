{
 "cells": [
  {
   "cell_type": "code",
   "execution_count": 2,
   "metadata": {},
   "outputs": [],
   "source": [
    "import pandas as pd"
   ]
  },
  {
   "cell_type": "code",
   "execution_count": 3,
   "metadata": {},
   "outputs": [],
   "source": [
    "hifi_df = pd.read_csv('hifi_qc/hifi_qc_samples_output_table.csv')\n",
    "hifi_qc = pd.concat([pd.read_csv(qc,sep='\\t') for qc in hifi_df['hifi_qc_summary'].tolist()])\n",
    "hifi_qc['sample_id'] = [sample.split('-')[0] for sample in hifi_qc['filename'].tolist()]\n",
    "# hifi_qc['coverage'] = [bp/3.1 for bp in hifi_qc['total_Gbp'].tolist()]"
   ]
  },
  {
   "cell_type": "code",
   "execution_count": 4,
   "metadata": {},
   "outputs": [],
   "source": [
    "hifi_qc.drop(columns=['all_kinetics_flag', 'keep_kinetics_flag', 'hifi_kinetics_tag', 'PP_PRIMROSE', 'fi_tag', 'ri_tag','fp_tag', 'rp_tag'],inplace=True)"
   ]
  },
  {
   "cell_type": "code",
   "execution_count": 5,
   "metadata": {},
   "outputs": [
    {
     "data": {
      "text/html": [
       "<div>\n",
       "<style scoped>\n",
       "    .dataframe tbody tr th:only-of-type {\n",
       "        vertical-align: middle;\n",
       "    }\n",
       "\n",
       "    .dataframe tbody tr th {\n",
       "        vertical-align: top;\n",
       "    }\n",
       "\n",
       "    .dataframe thead th {\n",
       "        text-align: right;\n",
       "    }\n",
       "</style>\n",
       "<table border=\"1\" class=\"dataframe\">\n",
       "  <thead>\n",
       "    <tr style=\"text-align: right;\">\n",
       "      <th></th>\n",
       "      <th>sample_id</th>\n",
       "      <th>coverage</th>\n",
       "    </tr>\n",
       "  </thead>\n",
       "  <tbody>\n",
       "    <tr>\n",
       "      <th>0</th>\n",
       "      <td>HG00621</td>\n",
       "      <td>10.480645</td>\n",
       "    </tr>\n",
       "    <tr>\n",
       "      <th>1</th>\n",
       "      <td>HG00673</td>\n",
       "      <td>12.529032</td>\n",
       "    </tr>\n",
       "    <tr>\n",
       "      <th>2</th>\n",
       "      <td>HG00741</td>\n",
       "      <td>14.332258</td>\n",
       "    </tr>\n",
       "    <tr>\n",
       "      <th>3</th>\n",
       "      <td>HG01071</td>\n",
       "      <td>16.629032</td>\n",
       "    </tr>\n",
       "    <tr>\n",
       "      <th>4</th>\n",
       "      <td>HG01175</td>\n",
       "      <td>16.432258</td>\n",
       "    </tr>\n",
       "    <tr>\n",
       "      <th>5</th>\n",
       "      <td>HG01928</td>\n",
       "      <td>20.054839</td>\n",
       "    </tr>\n",
       "    <tr>\n",
       "      <th>6</th>\n",
       "      <td>HG01952</td>\n",
       "      <td>9.219355</td>\n",
       "    </tr>\n",
       "    <tr>\n",
       "      <th>7</th>\n",
       "      <td>HG01978</td>\n",
       "      <td>8.364516</td>\n",
       "    </tr>\n",
       "    <tr>\n",
       "      <th>8</th>\n",
       "      <td>HG02148</td>\n",
       "      <td>14.851613</td>\n",
       "    </tr>\n",
       "  </tbody>\n",
       "</table>\n",
       "</div>"
      ],
      "text/plain": [
       "  sample_id   coverage\n",
       "0   HG00621  10.480645\n",
       "1   HG00673  12.529032\n",
       "2   HG00741  14.332258\n",
       "3   HG01071  16.629032\n",
       "4   HG01175  16.432258\n",
       "5   HG01928  20.054839\n",
       "6   HG01952   9.219355\n",
       "7   HG01978   8.364516\n",
       "8   HG02148  14.851613"
      ]
     },
     "execution_count": 5,
     "metadata": {},
     "output_type": "execute_result"
    }
   ],
   "source": [
    "hifi_qc.groupby('sample_id')['total_Gbp'].sum().div(3.1).reset_index(name='coverage')"
   ]
  },
  {
   "cell_type": "code",
   "execution_count": 6,
   "metadata": {},
   "outputs": [],
   "source": [
    "hifi_qc.to_csv('WUSTL_HPRC_HiFi_Year1_TopUp_sample_file_hifi_qc.csv',index=False)"
   ]
  }
 ],
 "metadata": {
  "kernelspec": {
   "display_name": "Python 3",
   "language": "python",
   "name": "python3"
  },
  "language_info": {
   "codemirror_mode": {
    "name": "ipython",
    "version": 3
   },
   "file_extension": ".py",
   "mimetype": "text/x-python",
   "name": "python",
   "nbconvert_exporter": "python",
   "pygments_lexer": "ipython3",
   "version": "3.10.12"
  }
 },
 "nbformat": 4,
 "nbformat_minor": 2
}
