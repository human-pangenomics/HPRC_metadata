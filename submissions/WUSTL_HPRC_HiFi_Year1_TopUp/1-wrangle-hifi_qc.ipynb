{
 "cells": [
  {
   "cell_type": "code",
   "execution_count": 1,
   "metadata": {},
   "outputs": [],
   "source": [
    "import pandas as pd\n",
    "import glob"
   ]
  },
  {
   "cell_type": "code",
   "execution_count": 2,
   "metadata": {},
   "outputs": [],
   "source": [
    "wustl_hifi_y1_topup = pd.read_csv('WUSTL_HiFi_Year1_TopUp.csv',header=None)"
   ]
  },
  {
   "cell_type": "code",
   "execution_count": 4,
   "metadata": {},
   "outputs": [],
   "source": [
    "wustl_hifi_y1_topup = wustl_hifi_y1_topup[wustl_hifi_y1_topup[0].str.contains('hifi_reads')]"
   ]
  },
  {
   "cell_type": "code",
   "execution_count": 7,
   "metadata": {},
   "outputs": [
    {
     "name": "stderr",
     "output_type": "stream",
     "text": [
      "/data/tmp/ipykernel_3707471/867823722.py:1: SettingWithCopyWarning: \n",
      "A value is trying to be set on a copy of a slice from a DataFrame.\n",
      "Try using .loc[row_indexer,col_indexer] = value instead\n",
      "\n",
      "See the caveats in the documentation: https://pandas.pydata.org/pandas-docs/stable/user_guide/indexing.html#returning-a-view-versus-a-copy\n",
      "  wustl_hifi_y1_topup['sample_id'] = [sample.split('/')[-3] for sample in wustl_hifi_y1_topup[0].tolist()]\n"
     ]
    }
   ],
   "source": [
    "wustl_hifi_y1_topup['sample_id'] = [sample.split('/')[-3] for sample in wustl_hifi_y1_topup[0].tolist()]"
   ]
  },
  {
   "cell_type": "code",
   "execution_count": 10,
   "metadata": {},
   "outputs": [
    {
     "name": "stderr",
     "output_type": "stream",
     "text": [
      "/data/tmp/ipykernel_3707471/2922584672.py:9: SettingWithCopyWarning: \n",
      "A value is trying to be set on a copy of a slice from a DataFrame.\n",
      "Try using .loc[row_indexer,col_indexer] = value instead\n",
      "\n",
      "See the caveats in the documentation: https://pandas.pydata.org/pandas-docs/stable/user_guide/indexing.html#returning-a-view-versus-a-copy\n",
      "  wustl_hifi_y1_topup['other_reads'] = other_reads\n",
      "/data/tmp/ipykernel_3707471/2922584672.py:10: SettingWithCopyWarning: \n",
      "A value is trying to be set on a copy of a slice from a DataFrame.\n",
      "Try using .loc[row_indexer,col_indexer] = value instead\n",
      "\n",
      "See the caveats in the documentation: https://pandas.pydata.org/pandas-docs/stable/user_guide/indexing.html#returning-a-view-versus-a-copy\n",
      "  wustl_hifi_y1_topup['perform_methylation_check'] = 'true'\n"
     ]
    }
   ],
   "source": [
    "other_reads = []\n",
    "for sample in [sample.split('/')[-3] for sample in wustl_hifi_y1_topup[0].tolist()]:\n",
    "\tother_reads_path = glob.glob('/private/groups/hprc/human-pangenomics/1000G_local/child/cram_to_bam/'+sample+'/*/*/*/*')\n",
    "\tif other_reads_path == []:\n",
    "\t\tother_reads_path = glob.glob('/private/groups/hprc/1000G_local/child/fastq/' + sample + '.*')\n",
    "\t\tother_reads.append([other_reads_path[0]])\n",
    "\telse:\n",
    "\t\tother_reads.append([other_reads_path[0]])\n",
    "wustl_hifi_y1_topup['other_reads'] = other_reads\n",
    "wustl_hifi_y1_topup['perform_methylation_check'] = 'true'\n"
   ]
  },
  {
   "cell_type": "code",
   "execution_count": 13,
   "metadata": {},
   "outputs": [
    {
     "name": "stderr",
     "output_type": "stream",
     "text": [
      "/data/tmp/ipykernel_3707471/3322837941.py:1: SettingWithCopyWarning: \n",
      "A value is trying to be set on a copy of a slice from a DataFrame\n",
      "\n",
      "See the caveats in the documentation: https://pandas.pydata.org/pandas-docs/stable/user_guide/indexing.html#returning-a-view-versus-a-copy\n",
      "  wustl_hifi_y1_topup.rename(columns={0:'hifi_reads'},inplace=True)\n"
     ]
    }
   ],
   "source": [
    "wustl_hifi_y1_topup.rename(columns={0:'hifi_reads'},inplace=True)"
   ]
  },
  {
   "cell_type": "code",
   "execution_count": 18,
   "metadata": {},
   "outputs": [
    {
     "name": "stderr",
     "output_type": "stream",
     "text": [
      "/data/tmp/ipykernel_3707471/481055905.py:1: SettingWithCopyWarning: \n",
      "A value is trying to be set on a copy of a slice from a DataFrame.\n",
      "Try using .loc[row_indexer,col_indexer] = value instead\n",
      "\n",
      "See the caveats in the documentation: https://pandas.pydata.org/pandas-docs/stable/user_guide/indexing.html#returning-a-view-versus-a-copy\n",
      "  wustl_hifi_y1_topup['sample_id'] = ['-'.join(item) for item in zip(wustl_hifi_y1_topup['sample_id'].tolist(), [sample.split('/')[-1].split('.')[0] for sample in wustl_hifi_y1_topup['hifi_reads'].tolist()])]\n"
     ]
    }
   ],
   "source": [
    "wustl_hifi_y1_topup['sample_id'] = ['-'.join(item) for item in zip(wustl_hifi_y1_topup['sample_id'].tolist(), [sample.split('/')[-1].split('.')[0] for sample in wustl_hifi_y1_topup['hifi_reads'].tolist()])]"
   ]
  },
  {
   "cell_type": "code",
   "execution_count": 20,
   "metadata": {},
   "outputs": [],
   "source": [
    "wustl_hifi_y1_topup[['sample_id','hifi_reads', 'other_reads', 'perform_methylation_check']].to_csv('hifi_qc/hifi_qc_sample_files.csv', index=False)"
   ]
  }
 ],
 "metadata": {
  "kernelspec": {
   "display_name": "Python 3",
   "language": "python",
   "name": "python3"
  },
  "language_info": {
   "codemirror_mode": {
    "name": "ipython",
    "version": 3
   },
   "file_extension": ".py",
   "mimetype": "text/x-python",
   "name": "python",
   "nbconvert_exporter": "python",
   "pygments_lexer": "ipython3",
   "version": "3.10.14"
  }
 },
 "nbformat": 4,
 "nbformat_minor": 2
}
