{
 "cells": [
  {
   "cell_type": "code",
   "execution_count": 9,
   "metadata": {},
   "outputs": [],
   "source": [
    "import pandas as pd"
   ]
  },
  {
   "cell_type": "code",
   "execution_count": 10,
   "metadata": {},
   "outputs": [],
   "source": [
    "# metadata\n",
    "wustl_hifi = pd.read_csv('sra_biosample_WUSTL_HiFi_Y4_metadata.tsv', sep='\\t')\n",
    "# readstats\n",
    "wustl_readstats = pd.read_csv('WUSTL_HPRC_HiFi_sample_file_hifi_qc_aggregate.csv')\n",
    "wustl_readstats['filename'] = ['_'.join(sample.split('_')[1:]) for sample in wustl_readstats.filename.tolist()]\n",
    "wustl_y4 = pd.merge(wustl_readstats, wustl_hifi, on='filename', how='inner')#on='id', how='inner')\n",
    "assert wustl_hifi.shape[0] == wustl_readstats.shape[0] == wustl_y4.shape[0]\n",
    "# aws\n",
    "wustl_aws = pd.read_csv('WUSTL_HPRC_HiFi_Y4.transfer_ec2.csv',header=None)\n",
    "wustl_aws['filename'] = [sample.split('/')[-1] for sample in wustl_aws[1].tolist()]\n",
    "wustl_aws.rename(columns={1: 'path'}, inplace=True)\n",
    "# merge\n",
    "wustl_assembly = pd.merge(wustl_y4, wustl_aws, on='filename', how='inner')\n",
    "wustl_assembly.drop(columns=[0], inplace=True)\n",
    "wustl_sra_meta = pd.read_csv('metadata-14529157-processed-ok.tsv',sep='\\t')\n",
    "wustl_assembly = pd.merge(wustl_assembly,wustl_sra_meta[['filename','accession']], on='filename', how='inner')\n",
    "assert wustl_hifi.shape[0] == wustl_readstats.shape[0] == wustl_y4.shape[0] == wustl_assembly.shape[0] == wustl_sra_meta.shape[0]"
   ]
  },
  {
   "cell_type": "code",
   "execution_count": null,
   "metadata": {},
   "outputs": [],
   "source": [
    "wustl_assembly.to_csv('WUSTL_HPRC_HiFi_Year4_final_table.csv',index=False)"
   ]
  }
 ],
 "metadata": {
  "kernelspec": {
   "display_name": "Python 3",
   "language": "python",
   "name": "python3"
  },
  "language_info": {
   "codemirror_mode": {
    "name": "ipython",
    "version": 3
   },
   "file_extension": ".py",
   "mimetype": "text/x-python",
   "name": "python",
   "nbconvert_exporter": "python",
   "pygments_lexer": "ipython3",
   "version": "3.10.12"
  }
 },
 "nbformat": 4,
 "nbformat_minor": 2
}
