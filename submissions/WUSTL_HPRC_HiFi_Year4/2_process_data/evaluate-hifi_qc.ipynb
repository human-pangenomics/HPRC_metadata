{
 "cells": [
  {
   "cell_type": "code",
   "execution_count": 1,
   "metadata": {},
   "outputs": [],
   "source": [
    "import pandas as pd"
   ]
  },
  {
   "cell_type": "code",
   "execution_count": 2,
   "metadata": {},
   "outputs": [],
   "source": [
    "# Requires the HPRC HiFi QC WDL to be run and then the hprc_intermediate_assembly/hpc/update_table_with_outputs.py script to create the hifi_samples_output_table.csv\n",
    "output_df = pd.read_csv('hifi_qc/hifi_samples_output_table.csv')\n",
    "output_df['aggregate-sample_id'] = [sample.split('_')[0] for sample in output_df['sample_id'].tolist()]"
   ]
  },
  {
   "cell_type": "code",
   "execution_count": 9,
   "metadata": {},
   "outputs": [],
   "source": [
    "# Compare HPRC HiFi QC theoretical coverage to HPRC Pangenome Y4 Working Group expected coverage\n",
    "pangenome_df = pd.read_csv('/private/groups/hprc/human-pangenomics/HPRC_metadata/data/production/Pangenome_HiFi_Libraries_Year4 - Totals_by_Sample.csv')"
   ]
  },
  {
   "cell_type": "code",
   "execution_count": 10,
   "metadata": {},
   "outputs": [
    {
     "name": "stdout",
     "output_type": "stream",
     "text": [
      "NA20809 59.17096774193548\n"
     ]
    }
   ],
   "source": [
    "# Create a the post_sra_metadata qc data dictionary and flag low coverage samples\n",
    "output_dict = {sample:[] for sample in output_df['aggregate-sample_id'].tolist()}\n",
    "for data in output_df[['aggregate-sample_id','hifi_qc_wf.hifi_qc_summary']].values:\n",
    "\toutput_dict[data[0]].append(pd.read_csv(data[1],sep='\\t'))\n",
    "\n",
    "for k,v in output_dict.items():\n",
    "\toutput_dict[k] = pd.concat(v)\n",
    "\toutput_dict[k]['theoretical_coverage'] = [data/3.1 for data in output_dict[k]['total_Gbp'].tolist()]\n",
    "\ttheoretical_coverage = output_dict[k]['theoretical_coverage'].sum()\n",
    "\tassert round(theoretical_coverage,1) == pangenome_df[pangenome_df['Sample ID'].isin([k])]['Coverage'].tolist()[0]\n",
    "\tif theoretical_coverage < 60:\n",
    "\t\tprint(k, theoretical_coverage)\n",
    "\n",
    "readstats = pd.concat(output_dict.values())\n",
    "readstats['sample_ID'] = [sample.split('_')[0] for sample in readstats['filename'].tolist()]\n",
    "readstats.to_csv('../1_metadata/WUSTL_HPRC_HiFi_Year4_post_sra_metadata.csv',index=False)"
   ]
  }
 ],
 "metadata": {
  "kernelspec": {
   "display_name": "Python 3",
   "language": "python",
   "name": "python3"
  },
  "language_info": {
   "codemirror_mode": {
    "name": "ipython",
    "version": 3
   },
   "file_extension": ".py",
   "mimetype": "text/x-python",
   "name": "python",
   "nbconvert_exporter": "python",
   "pygments_lexer": "ipython3",
   "version": "3.10.12"
  }
 },
 "nbformat": 4,
 "nbformat_minor": 2
}
