{
 "cells": [
  {
   "cell_type": "code",
   "execution_count": 1,
   "metadata": {},
   "outputs": [],
   "source": [
    "import pandas as pd"
   ]
  },
  {
   "cell_type": "code",
   "execution_count": 2,
   "metadata": {},
   "outputs": [],
   "source": [
    "# metadata\n",
    "ont_metadata = pd.read_csv('sra_biosample_UCSC_HPRC_nanopore_Year4.csv')\n",
    "\n",
    "# aws\n",
    "ont_aws = pd.read_csv('UCSC_HPRC_nanopore_Year4.transfer_ec2.csv',header=None)\n",
    "\n",
    "ont_aws['filename'] = [sample.split('/')[-1] for sample in ont_aws[1].tolist()]\n",
    "ont_aws.rename(columns={1: 'path'}, inplace=True)\n",
    "\n",
    "# readstats\n",
    "ont_readstats = pd.read_csv('UCSC_HPRC_ONT_Year4_sample_file_ont_qc_aggregate.csv')\n",
    "\n",
    "ont_readstats['filename'] = [sample.split('/')[-1] for sample in ont_readstats['input_reads_1'].tolist()]\n",
    "ont_readstats = ont_readstats[['filename','ntsm_score',\n",
    " 'read_N50',\n",
    " 'Gb',\n",
    " 'coverage',\n",
    " '100kb+',\n",
    " '200kb+',\n",
    " '300kb+',\n",
    " '400kb+',\n",
    " '500kb+',\n",
    " '1Mb+',\n",
    " 'whales',\n",
    " 'q5',\n",
    " 'q10',\n",
    " 'q15',\n",
    " 'q20',\n",
    " 'q25']]\n",
    "\n",
    "ont_readstats['filename'] = [file_name.replace('GM', 'NA') for file_name in ont_readstats['filename'].tolist()]\n",
    "ont_readstats['filename'] = [file_name.replace('PG', 'HG') for file_name in ont_readstats['filename'].tolist()]\n",
    "ont_readstats['filename'] = ont_readstats['filename'].str.rstrip(\"']\")\n",
    "\n"
   ]
  },
  {
   "cell_type": "code",
   "execution_count": 3,
   "metadata": {},
   "outputs": [],
   "source": [
    "ont_y4 = pd.merge(ont_metadata, ont_aws, on='filename', how='inner')\n",
    "ont_y4.drop(columns=[0], inplace=True)\n",
    "ont_y4['filename'] = [file_name.replace('GM', 'NA') for file_name in ont_y4['filename'].tolist()]\n",
    "ont_y4['filename'] = [file_name.replace('PG', 'HG') for file_name in ont_y4['filename'].tolist()]\n",
    "\n",
    "ont_y4['filename'] = ont_y4['filename'].str.rstrip(\"']\")\n"
   ]
  },
  {
   "cell_type": "code",
   "execution_count": 4,
   "metadata": {},
   "outputs": [],
   "source": [
    "ont_assembly = pd.merge(ont_y4, ont_readstats, on='filename', how='inner')"
   ]
  },
  {
   "cell_type": "code",
   "execution_count": 5,
   "metadata": {},
   "outputs": [
    {
     "data": {
      "text/plain": [
       "(388, 40)"
      ]
     },
     "execution_count": 5,
     "metadata": {},
     "output_type": "execute_result"
    }
   ],
   "source": [
    "ont_assembly.shape"
   ]
  },
  {
   "cell_type": "code",
   "execution_count": 6,
   "metadata": {},
   "outputs": [],
   "source": [
    "ont_sra_meta = pd.read_csv('metadata-14553482-processed-ok.tsv',sep='\\t')"
   ]
  },
  {
   "cell_type": "code",
   "execution_count": 7,
   "metadata": {},
   "outputs": [],
   "source": [
    "ont_assembly = pd.merge(ont_assembly,ont_sra_meta[['filename','accession']], on='filename', how='inner')"
   ]
  },
  {
   "cell_type": "code",
   "execution_count": 12,
   "metadata": {},
   "outputs": [],
   "source": [
    "ont_assembly.to_csv('UCSC_HPRC_nanopore_Year4_final_table.csv',index=False)"
   ]
  },
  {
   "cell_type": "code",
   "execution_count": 13,
   "metadata": {},
   "outputs": [
    {
     "data": {
      "text/plain": [
       "(388, 41)"
      ]
     },
     "execution_count": 13,
     "metadata": {},
     "output_type": "execute_result"
    }
   ],
   "source": [
    "ont_assembly.shape"
   ]
  }
 ],
 "metadata": {
  "kernelspec": {
   "display_name": "Python 3",
   "language": "python",
   "name": "python3"
  },
  "language_info": {
   "codemirror_mode": {
    "name": "ipython",
    "version": 3
   },
   "file_extension": ".py",
   "mimetype": "text/x-python",
   "name": "python",
   "nbconvert_exporter": "python",
   "pygments_lexer": "ipython3",
   "version": "3.10.12"
  }
 },
 "nbformat": 4,
 "nbformat_minor": 2
}
