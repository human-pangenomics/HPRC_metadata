{
 "cells": [
  {
   "cell_type": "code",
   "execution_count": 1,
   "metadata": {},
   "outputs": [],
   "source": [
    "import numpy as np\n",
    "import pandas as pd\n",
    "pd.set_option('display.max_columns', 500)\n",
    "pd.set_option('display.width', 1000)"
   ]
  },
  {
   "cell_type": "code",
   "execution_count": 2,
   "metadata": {},
   "outputs": [],
   "source": [
    "# import data\n",
    "hprc_pacbio_hifi = pd.read_csv('/private/groups/hprc/human-pangenomics/documentation-metadata/HPRC_metadata/data/hprc-data-explorer-tables/HPRC_PacBio_HiFi.tsv',sep='\\t')"
   ]
  },
  {
   "cell_type": "code",
   "execution_count": 3,
   "metadata": {},
   "outputs": [],
   "source": [
    "# WUSTL HPRC HiFi Y2 TopUp\n",
    "sra_identifiers = pd.read_csv('/private/groups/hprc/human-pangenomics/documentation-metadata/HPRC_metadata/submissions/WUSTL_HPRC_HiFi_Year2_TopUp/metadata-14704558-processed-ok.tsv',sep='\\t')\n",
    "\n",
    "post_sra = pd.read_csv('/private/groups/hprc/human-pangenomics/documentation-metadata/HPRC_metadata/submissions/WUSTL_HPRC_HiFi_Year2_TopUp/sra_biosample_WUSTL_Y2_TopUp.tsv',sep='\\t')\n",
    "\n",
    "post_qc = pd.read_csv('/private/groups/hprc/human-pangenomics/documentation-metadata/HPRC_metadata/submissions/WUSTL_HPRC_HiFi_Year2_TopUp/WUSTL_HPRC_HiFi_Year2_TopUp_sample_file_hifi_qc.csv')\n",
    "\n",
    "post_qc.drop(columns=['filename'],inplace=True)\n",
    "post_qc.rename(columns={'bam_file':'filename'},inplace=True)\n",
    "\n",
    "metadata = pd.read_csv('/private/groups/hprc/human-pangenomics/documentation-metadata/HPRC_metadata/submissions/WUSTL_HPRC_HiFi_Year2_TopUp/HPRC_WUSTL_Y2_PacBio_HiFi_TopUp_Metadata_Submission_v0.2.tsv',sep='\\t')\n",
    "\n",
    "release = pd.read_csv('/private/groups/hprc/human-pangenomics/documentation-metadata/HPRC_metadata/submissions/WUSTL_HPRC_HiFi_Year2_TopUp/WUSTL_HiFi_Year2_TopUp.transfer.csv',header=None)\n",
    "release['filename'] = [filename.split('/')[-1] for filename in release[1].tolist()]\n",
    "release.rename(columns={1:'path'},inplace=True)"
   ]
  },
  {
   "cell_type": "code",
   "execution_count": 4,
   "metadata": {},
   "outputs": [],
   "source": [
    "data_table = pd.merge(post_qc, post_sra, on='filename')"
   ]
  },
  {
   "cell_type": "code",
   "execution_count": 5,
   "metadata": {},
   "outputs": [],
   "source": [
    "assert data_table.shape[0] == post_qc.shape[0] == post_sra.shape[0]"
   ]
  },
  {
   "cell_type": "code",
   "execution_count": 12,
   "metadata": {},
   "outputs": [],
   "source": [
    "data_table = pd.merge(data_table, \n",
    "\t\t\t\t\t  release[['filename','path']], on='filename', how='inner')\n",
    "\n",
    "data_table['data_type'] = 'unaligned reads'\n",
    "data_table['DeepConsensus_version'] = np.nan\n",
    "data_table['notes'] = np.nan\n",
    "\n",
    "data_table = pd.merge(sra_identifiers[['filename','accession','study']], data_table, on='filename', how='inner')"
   ]
  },
  {
   "cell_type": "code",
   "execution_count": 17,
   "metadata": {},
   "outputs": [],
   "source": [
    "data_table['sample_ID'] = [sample_id.split('_')[0] for sample_id in data_table['library_ID'].tolist()]"
   ]
  },
  {
   "cell_type": "code",
   "execution_count": 18,
   "metadata": {},
   "outputs": [],
   "source": [
    "data_table = data_table[list(hprc_pacbio_hifi)]"
   ]
  },
  {
   "cell_type": "code",
   "execution_count": 21,
   "metadata": {},
   "outputs": [],
   "source": [
    "# List of example columns (from the metadata sheet)\n",
    "\n",
    "# Check for missing columns in the new data\n",
    "missing_columns = [col for col in list(hprc_pacbio_hifi) if col not in data_table.columns]\n",
    "\n",
    "# Check for extra columns in the new data\n",
    "extra_columns = [col for col in data_table.columns if col not in list(hprc_pacbio_hifi)]\n",
    "\n",
    "assert missing_columns == extra_columns"
   ]
  },
  {
   "cell_type": "code",
   "execution_count": 23,
   "metadata": {},
   "outputs": [],
   "source": [
    "data_table.to_csv('WUSTL_HiFi_Y2_TopUp_final_table.csv',index=False)"
   ]
  },
  {
   "cell_type": "code",
   "execution_count": 24,
   "metadata": {},
   "outputs": [],
   "source": [
    "hprc_pacbio_hifi = pd.concat([hprc_pacbio_hifi, data_table])"
   ]
  },
  {
   "cell_type": "code",
   "execution_count": null,
   "metadata": {},
   "outputs": [],
   "source": [
    "hprc_pacbio_hifi.to_csv('/private/groups/hprc/human-pangenomics/documentation-metadata/HPRC_metadata/data/hprc-data-explorer-tables/HPRC_PacBio_HiFi.tsv',sep='\\t', index=False)"
   ]
  }
 ],
 "metadata": {
  "kernelspec": {
   "display_name": "Python 3",
   "language": "python",
   "name": "python3"
  },
  "language_info": {
   "codemirror_mode": {
    "name": "ipython",
    "version": 3
   },
   "file_extension": ".py",
   "mimetype": "text/x-python",
   "name": "python",
   "nbconvert_exporter": "python",
   "pygments_lexer": "ipython3",
   "version": "3.10.12"
  }
 },
 "nbformat": 4,
 "nbformat_minor": 2
}
