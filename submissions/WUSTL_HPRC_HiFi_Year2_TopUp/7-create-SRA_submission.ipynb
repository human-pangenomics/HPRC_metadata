{
 "cells": [
  {
   "cell_type": "code",
   "execution_count": 4,
   "metadata": {},
   "outputs": [],
   "source": [
    "import pandas as pd\n",
    "# Reset the options to default\n",
    "# Set the maximum number of columns to display\n",
    "pd.set_option('display.max_columns', 500)\n",
    "\n",
    "# Set the maximum number of rows to display\n",
    "pd.set_option('display.max_rows', None)"
   ]
  },
  {
   "cell_type": "code",
   "execution_count": 5,
   "metadata": {},
   "outputs": [],
   "source": [
    "hprc_biosample = pd.read_csv('/private/groups/hprc/human-pangenomics/documentation-metadata/HPRC_metadata/data/production/hprc-production-biosample-table.tsv', sep='\\t')\n",
    "hprc_biosample.rename(columns={'Sample':'sample_ID'}, inplace=True)"
   ]
  },
  {
   "cell_type": "code",
   "execution_count": 7,
   "metadata": {},
   "outputs": [],
   "source": [
    "wustl_y2_topup_sra = pd.read_csv('HPRC_WUSTL_Y2_PacBio_HiFi_TopUp_Metadata_Submission_v0.2.tsv',sep='\\t')"
   ]
  },
  {
   "cell_type": "code",
   "execution_count": 8,
   "metadata": {},
   "outputs": [],
   "source": [
    "wustl_y2_topup_sra['sample_id'] = wustl_y2_topup_sra['sample_ID'] + '-' + wustl_y2_topup_sra['filename']\n",
    "wustl_y2_topup_sra['sample_id'] = [sample.split('.')[0] for sample in wustl_y2_topup_sra['sample_id'].tolist()]"
   ]
  },
  {
   "cell_type": "code",
   "execution_count": 9,
   "metadata": {},
   "outputs": [
    {
     "data": {
      "text/html": [
       "<div>\n",
       "<style scoped>\n",
       "    .dataframe tbody tr th:only-of-type {\n",
       "        vertical-align: middle;\n",
       "    }\n",
       "\n",
       "    .dataframe tbody tr th {\n",
       "        vertical-align: top;\n",
       "    }\n",
       "\n",
       "    .dataframe thead th {\n",
       "        text-align: right;\n",
       "    }\n",
       "</style>\n",
       "<table border=\"1\" class=\"dataframe\">\n",
       "  <thead>\n",
       "    <tr style=\"text-align: right;\">\n",
       "      <th></th>\n",
       "      <th>filename</th>\n",
       "      <th>filetype</th>\n",
       "      <th>sample_ID</th>\n",
       "      <th>library_ID</th>\n",
       "      <th>library_strategy</th>\n",
       "      <th>library_source</th>\n",
       "      <th>library_selection</th>\n",
       "      <th>library_layout</th>\n",
       "      <th>platform</th>\n",
       "      <th>instrument_model</th>\n",
       "      <th>design_description</th>\n",
       "      <th>md5sum</th>\n",
       "      <th>file_size</th>\n",
       "      <th>data_type</th>\n",
       "      <th>shear_method</th>\n",
       "      <th>size_selection</th>\n",
       "      <th>ccs_algorithm</th>\n",
       "      <th>primrose_version</th>\n",
       "      <th>polymerase_version</th>\n",
       "      <th>seq_plate_chemistry_version</th>\n",
       "      <th>generator_facility</th>\n",
       "      <th>generator_contact</th>\n",
       "      <th>notes</th>\n",
       "      <th>sample_id</th>\n",
       "    </tr>\n",
       "  </thead>\n",
       "  <tbody>\n",
       "    <tr>\n",
       "      <th>0</th>\n",
       "      <td>m84081_231112_030942_s3.hifi_reads.bc2078.bam</td>\n",
       "      <td>bam</td>\n",
       "      <td>HG00423</td>\n",
       "      <td>HG00423_lib1</td>\n",
       "      <td>WGS</td>\n",
       "      <td>GENOMIC</td>\n",
       "      <td>size fractionation</td>\n",
       "      <td>single</td>\n",
       "      <td>PACBIO_SMRT</td>\n",
       "      <td>PacBio Revio</td>\n",
       "      <td>HiFi sequencing of 20kb fractionated gDNA</td>\n",
       "      <td>68ad1c12ec126280fe2e611ec491616e</td>\n",
       "      <td>99061280</td>\n",
       "      <td>unaligned reads</td>\n",
       "      <td>Megaruptor 1</td>\n",
       "      <td>SageELF</td>\n",
       "      <td>7.0.0</td>\n",
       "      <td>1.4.0</td>\n",
       "      <td>Revio P1</td>\n",
       "      <td>Revio C1</td>\n",
       "      <td>Washington University</td>\n",
       "      <td>tgraves@wustl.edu</td>\n",
       "      <td>NaN</td>\n",
       "      <td>HG00423-m84081_231112_030942_s3</td>\n",
       "    </tr>\n",
       "    <tr>\n",
       "      <th>1</th>\n",
       "      <td>m84081_231117_211338_s4.hifi_reads.bc2086.bam</td>\n",
       "      <td>bam</td>\n",
       "      <td>HG00544</td>\n",
       "      <td>HG00544_lib1</td>\n",
       "      <td>WGS</td>\n",
       "      <td>GENOMIC</td>\n",
       "      <td>size fractionation</td>\n",
       "      <td>single</td>\n",
       "      <td>PACBIO_SMRT</td>\n",
       "      <td>PacBio Revio</td>\n",
       "      <td>HiFi sequencing of 20kb fractionated gDNA</td>\n",
       "      <td>86e418c55b6c71183553d0b95f33a22d</td>\n",
       "      <td>142063104</td>\n",
       "      <td>unaligned reads</td>\n",
       "      <td>Megaruptor 1</td>\n",
       "      <td>SageELF</td>\n",
       "      <td>7.0.0</td>\n",
       "      <td>1.4.0</td>\n",
       "      <td>Revio P1</td>\n",
       "      <td>Revio C1</td>\n",
       "      <td>Washington University</td>\n",
       "      <td>tgraves@wustl.edu</td>\n",
       "      <td>NaN</td>\n",
       "      <td>HG00544-m84081_231117_211338_s4</td>\n",
       "    </tr>\n",
       "    <tr>\n",
       "      <th>2</th>\n",
       "      <td>m84081_231119_032407_s4.hifi_reads.bc2086.bam</td>\n",
       "      <td>bam</td>\n",
       "      <td>HG00544</td>\n",
       "      <td>HG00544_lib1</td>\n",
       "      <td>WGS</td>\n",
       "      <td>GENOMIC</td>\n",
       "      <td>size fractionation</td>\n",
       "      <td>single</td>\n",
       "      <td>PACBIO_SMRT</td>\n",
       "      <td>PacBio Revio</td>\n",
       "      <td>HiFi sequencing of 20kb fractionated gDNA</td>\n",
       "      <td>b8eff4198cce77070b4699eba1351d72</td>\n",
       "      <td>136097776</td>\n",
       "      <td>unaligned reads</td>\n",
       "      <td>Megaruptor 1</td>\n",
       "      <td>SageELF</td>\n",
       "      <td>7.0.0</td>\n",
       "      <td>1.4.0</td>\n",
       "      <td>Revio P1</td>\n",
       "      <td>Revio C1</td>\n",
       "      <td>Washington University</td>\n",
       "      <td>tgraves@wustl.edu</td>\n",
       "      <td>NaN</td>\n",
       "      <td>HG00544-m84081_231119_032407_s4</td>\n",
       "    </tr>\n",
       "    <tr>\n",
       "      <th>3</th>\n",
       "      <td>m84081_231124_014115_s1.hifi_reads.bc2090.bam</td>\n",
       "      <td>bam</td>\n",
       "      <td>HG00609</td>\n",
       "      <td>HG00609_lib1</td>\n",
       "      <td>WGS</td>\n",
       "      <td>GENOMIC</td>\n",
       "      <td>size fractionation</td>\n",
       "      <td>single</td>\n",
       "      <td>PACBIO_SMRT</td>\n",
       "      <td>PacBio Revio</td>\n",
       "      <td>HiFi sequencing of 20kb fractionated gDNA</td>\n",
       "      <td>2f2407eaed8b62baa680f40dfe924292</td>\n",
       "      <td>146174368</td>\n",
       "      <td>unaligned reads</td>\n",
       "      <td>Megaruptor 1</td>\n",
       "      <td>SageELF</td>\n",
       "      <td>7.0.0</td>\n",
       "      <td>1.4.0</td>\n",
       "      <td>Revio P1</td>\n",
       "      <td>Revio C1</td>\n",
       "      <td>Washington University</td>\n",
       "      <td>tgraves@wustl.edu</td>\n",
       "      <td>NaN</td>\n",
       "      <td>HG00609-m84081_231124_014115_s1</td>\n",
       "    </tr>\n",
       "    <tr>\n",
       "      <th>4</th>\n",
       "      <td>m84081_231124_021221_s2.hifi_reads.bc2090.bam</td>\n",
       "      <td>bam</td>\n",
       "      <td>HG00609</td>\n",
       "      <td>HG00609_lib1</td>\n",
       "      <td>WGS</td>\n",
       "      <td>GENOMIC</td>\n",
       "      <td>size fractionation</td>\n",
       "      <td>single</td>\n",
       "      <td>PACBIO_SMRT</td>\n",
       "      <td>PacBio Revio</td>\n",
       "      <td>HiFi sequencing of 20kb fractionated gDNA</td>\n",
       "      <td>e21d8d79922f0c4299aec5f9f9169233</td>\n",
       "      <td>123286288</td>\n",
       "      <td>unaligned reads</td>\n",
       "      <td>Megaruptor 1</td>\n",
       "      <td>SageELF</td>\n",
       "      <td>7.0.0</td>\n",
       "      <td>1.4.0</td>\n",
       "      <td>Revio P1</td>\n",
       "      <td>Revio C1</td>\n",
       "      <td>Washington University</td>\n",
       "      <td>tgraves@wustl.edu</td>\n",
       "      <td>NaN</td>\n",
       "      <td>HG00609-m84081_231124_021221_s2</td>\n",
       "    </tr>\n",
       "  </tbody>\n",
       "</table>\n",
       "</div>"
      ],
      "text/plain": [
       "                                        filename filetype sample_ID  \\\n",
       "0  m84081_231112_030942_s3.hifi_reads.bc2078.bam      bam   HG00423   \n",
       "1  m84081_231117_211338_s4.hifi_reads.bc2086.bam      bam   HG00544   \n",
       "2  m84081_231119_032407_s4.hifi_reads.bc2086.bam      bam   HG00544   \n",
       "3  m84081_231124_014115_s1.hifi_reads.bc2090.bam      bam   HG00609   \n",
       "4  m84081_231124_021221_s2.hifi_reads.bc2090.bam      bam   HG00609   \n",
       "\n",
       "     library_ID library_strategy library_source   library_selection  \\\n",
       "0  HG00423_lib1              WGS        GENOMIC  size fractionation   \n",
       "1  HG00544_lib1              WGS        GENOMIC  size fractionation   \n",
       "2  HG00544_lib1              WGS        GENOMIC  size fractionation   \n",
       "3  HG00609_lib1              WGS        GENOMIC  size fractionation   \n",
       "4  HG00609_lib1              WGS        GENOMIC  size fractionation   \n",
       "\n",
       "  library_layout     platform instrument_model  \\\n",
       "0         single  PACBIO_SMRT     PacBio Revio   \n",
       "1         single  PACBIO_SMRT     PacBio Revio   \n",
       "2         single  PACBIO_SMRT     PacBio Revio   \n",
       "3         single  PACBIO_SMRT     PacBio Revio   \n",
       "4         single  PACBIO_SMRT     PacBio Revio   \n",
       "\n",
       "                          design_description  \\\n",
       "0  HiFi sequencing of 20kb fractionated gDNA   \n",
       "1  HiFi sequencing of 20kb fractionated gDNA   \n",
       "2  HiFi sequencing of 20kb fractionated gDNA   \n",
       "3  HiFi sequencing of 20kb fractionated gDNA   \n",
       "4  HiFi sequencing of 20kb fractionated gDNA   \n",
       "\n",
       "                             md5sum  file_size        data_type  shear_method  \\\n",
       "0  68ad1c12ec126280fe2e611ec491616e   99061280  unaligned reads  Megaruptor 1   \n",
       "1  86e418c55b6c71183553d0b95f33a22d  142063104  unaligned reads  Megaruptor 1   \n",
       "2  b8eff4198cce77070b4699eba1351d72  136097776  unaligned reads  Megaruptor 1   \n",
       "3  2f2407eaed8b62baa680f40dfe924292  146174368  unaligned reads  Megaruptor 1   \n",
       "4  e21d8d79922f0c4299aec5f9f9169233  123286288  unaligned reads  Megaruptor 1   \n",
       "\n",
       "  size_selection ccs_algorithm primrose_version polymerase_version  \\\n",
       "0        SageELF         7.0.0            1.4.0           Revio P1   \n",
       "1        SageELF         7.0.0            1.4.0           Revio P1   \n",
       "2        SageELF         7.0.0            1.4.0           Revio P1   \n",
       "3        SageELF         7.0.0            1.4.0           Revio P1   \n",
       "4        SageELF         7.0.0            1.4.0           Revio P1   \n",
       "\n",
       "  seq_plate_chemistry_version     generator_facility  generator_contact  \\\n",
       "0                    Revio C1  Washington University  tgraves@wustl.edu   \n",
       "1                    Revio C1  Washington University  tgraves@wustl.edu   \n",
       "2                    Revio C1  Washington University  tgraves@wustl.edu   \n",
       "3                    Revio C1  Washington University  tgraves@wustl.edu   \n",
       "4                    Revio C1  Washington University  tgraves@wustl.edu   \n",
       "\n",
       "   notes                        sample_id  \n",
       "0    NaN  HG00423-m84081_231112_030942_s3  \n",
       "1    NaN  HG00544-m84081_231117_211338_s4  \n",
       "2    NaN  HG00544-m84081_231119_032407_s4  \n",
       "3    NaN  HG00609-m84081_231124_014115_s1  \n",
       "4    NaN  HG00609-m84081_231124_021221_s2  "
      ]
     },
     "execution_count": 9,
     "metadata": {},
     "output_type": "execute_result"
    }
   ],
   "source": [
    "wustl_y2_topup_sra.head()"
   ]
  },
  {
   "cell_type": "code",
   "execution_count": 10,
   "metadata": {},
   "outputs": [
    {
     "name": "stdout",
     "output_type": "stream",
     "text": [
      "Missing columns: ['biosample_accession', 'title', 'assembly']\n"
     ]
    }
   ],
   "source": [
    "# List of column names from your metadata sheet\n",
    "metadata_columns = [\n",
    "    'filename', 'library_ID', 'library_strategy', 'library_source', \n",
    "    'library_selection', 'library_layout', 'platform', 'instrument_model', \n",
    "    'design_description', 'data_type', 'shear_method', 'size_selection', \n",
    "    'ccs_algorithm', 'polymerase_version', 'seq_plate_chemistry_version', \n",
    "    'generator_facility', 'generator_contact', 'biosample_accession', \n",
    "    'title', 'filetype', 'assembly'\n",
    "]\n",
    "\n",
    "# Assume you have another DataFrame named 'other_df'\n",
    "# Example: other_df = pd.read_csv('path_to_other_file.csv')\n",
    "\n",
    "# Check if the metadata columns are present in the other DataFrame\n",
    "missing_columns = [col for col in metadata_columns if col not in wustl_y2_topup_sra.columns]\n",
    "\n",
    "# Output the missing columns\n",
    "print(\"Missing columns:\", missing_columns)\n"
   ]
  },
  {
   "cell_type": "code",
   "execution_count": 11,
   "metadata": {},
   "outputs": [],
   "source": [
    "wustl_y2_topup_output_df = pd.read_csv('/private/groups/hprc/human-pangenomics/HPRC_metadata/submissions/WUSTL_HPRC_HiFi_Year2_TopUp/hifi_qc/hifi_qc_samples_output_table.csv')"
   ]
  },
  {
   "cell_type": "code",
   "execution_count": 12,
   "metadata": {},
   "outputs": [],
   "source": [
    "wustl_y2_topup_sra = wustl_y2_topup_sra[wustl_y2_topup_sra['sample_id'].isin(wustl_y2_topup_output_df['sample_id'].tolist())]"
   ]
  },
  {
   "cell_type": "code",
   "execution_count": 13,
   "metadata": {},
   "outputs": [],
   "source": [
    "assert wustl_y2_topup_output_df.shape[0] == wustl_y2_topup_sra.shape[0]"
   ]
  },
  {
   "cell_type": "code",
   "execution_count": 14,
   "metadata": {},
   "outputs": [],
   "source": [
    "wustl_y2_topup_sra['assembly'] = 'unaligned'"
   ]
  },
  {
   "cell_type": "code",
   "execution_count": 15,
   "metadata": {},
   "outputs": [],
   "source": [
    "wustl_y2_topup_sra = pd.merge(hprc_biosample, wustl_y2_topup_sra, on='sample_ID', how='inner')"
   ]
  },
  {
   "cell_type": "code",
   "execution_count": 17,
   "metadata": {},
   "outputs": [],
   "source": [
    "wustl_y2_topup_sra['title'] = 'PacBio HiFi sequencing of ' + wustl_y2_topup_sra['sample_ID']"
   ]
  },
  {
   "cell_type": "code",
   "execution_count": 18,
   "metadata": {},
   "outputs": [],
   "source": [
    "wustl_y2_topup_sra.rename(columns={'Accession':'biosample_accession'},inplace=True)"
   ]
  },
  {
   "cell_type": "code",
   "execution_count": 19,
   "metadata": {},
   "outputs": [],
   "source": [
    "wustl_y2_topup_sra = wustl_y2_topup_sra[metadata_columns]"
   ]
  },
  {
   "cell_type": "code",
   "execution_count": 20,
   "metadata": {},
   "outputs": [
    {
     "name": "stderr",
     "output_type": "stream",
     "text": [
      "/data/tmp/ipykernel_2885231/3082112261.py:1: SettingWithCopyWarning: \n",
      "A value is trying to be set on a copy of a slice from a DataFrame.\n",
      "Try using .loc[row_indexer,col_indexer] = value instead\n",
      "\n",
      "See the caveats in the documentation: https://pandas.pydata.org/pandas-docs/stable/user_guide/indexing.html#returning-a-view-versus-a-copy\n",
      "  wustl_y2_topup_sra['instrument_model'] = 'Revio'\n"
     ]
    }
   ],
   "source": [
    "wustl_y2_topup_sra['instrument_model'] = 'Revio'"
   ]
  },
  {
   "cell_type": "code",
   "execution_count": 23,
   "metadata": {},
   "outputs": [
    {
     "name": "stderr",
     "output_type": "stream",
     "text": [
      "/data/tmp/ipykernel_2885231/2734037585.py:1: SettingWithCopyWarning: \n",
      "A value is trying to be set on a copy of a slice from a DataFrame.\n",
      "Try using .loc[row_indexer,col_indexer] = value instead\n",
      "\n",
      "See the caveats in the documentation: https://pandas.pydata.org/pandas-docs/stable/user_guide/indexing.html#returning-a-view-versus-a-copy\n",
      "  wustl_y2_topup_sra['library_ID'] = wustl_y2_topup_sra['library_ID'] + '_' + wustl_y2_topup_sra['filename']\n"
     ]
    }
   ],
   "source": [
    "wustl_y2_topup_sra['library_ID'] = wustl_y2_topup_sra['library_ID'] + '_' + wustl_y2_topup_sra['filename']"
   ]
  },
  {
   "cell_type": "code",
   "execution_count": 26,
   "metadata": {},
   "outputs": [
    {
     "name": "stderr",
     "output_type": "stream",
     "text": [
      "/data/tmp/ipykernel_2885231/1454983533.py:1: SettingWithCopyWarning: \n",
      "A value is trying to be set on a copy of a slice from a DataFrame.\n",
      "Try using .loc[row_indexer,col_indexer] = value instead\n",
      "\n",
      "See the caveats in the documentation: https://pandas.pydata.org/pandas-docs/stable/user_guide/indexing.html#returning-a-view-versus-a-copy\n",
      "  wustl_y2_topup_sra['library_layout'] = 'single'\n"
     ]
    }
   ],
   "source": [
    "wustl_y2_topup_sra['library_layout'] = 'single'"
   ]
  },
  {
   "cell_type": "code",
   "execution_count": 28,
   "metadata": {},
   "outputs": [
    {
     "name": "stderr",
     "output_type": "stream",
     "text": [
      "/data/tmp/ipykernel_2885231/1428921730.py:1: SettingWithCopyWarning: \n",
      "A value is trying to be set on a copy of a slice from a DataFrame.\n",
      "Try using .loc[row_indexer,col_indexer] = value instead\n",
      "\n",
      "See the caveats in the documentation: https://pandas.pydata.org/pandas-docs/stable/user_guide/indexing.html#returning-a-view-versus-a-copy\n",
      "  wustl_y2_topup_sra['library_ID'] = [library_id.split('.')[0] for library_id in wustl_y2_topup_sra['library_ID'].tolist()]\n"
     ]
    }
   ],
   "source": [
    "wustl_y2_topup_sra['library_ID'] = [library_id.split('.')[0] for library_id in wustl_y2_topup_sra['library_ID'].tolist()]"
   ]
  },
  {
   "cell_type": "code",
   "execution_count": 30,
   "metadata": {},
   "outputs": [],
   "source": [
    "wustl_y2_topup_sra.to_csv('sra_biosample_WUSTL_Y2_TopUp.tsv',index=False, sep='\\t')"
   ]
  },
  {
   "cell_type": "code",
   "execution_count": null,
   "metadata": {},
   "outputs": [],
   "source": []
  }
 ],
 "metadata": {
  "kernelspec": {
   "display_name": "Python 3",
   "language": "python",
   "name": "python3"
  },
  "language_info": {
   "codemirror_mode": {
    "name": "ipython",
    "version": 3
   },
   "file_extension": ".py",
   "mimetype": "text/x-python",
   "name": "python",
   "nbconvert_exporter": "python",
   "pygments_lexer": "ipython3",
   "version": "3.10.12"
  }
 },
 "nbformat": 4,
 "nbformat_minor": 2
}
