{
 "cells": [
  {
   "cell_type": "code",
   "execution_count": 1,
   "metadata": {},
   "outputs": [],
   "source": [
    "import pandas as pd"
   ]
  },
  {
   "cell_type": "code",
   "execution_count": 2,
   "metadata": {},
   "outputs": [],
   "source": [
    "ru_y3_topoff_sub = pd.read_csv('/private/groups/hprc/human-pangenomics/HPRC_metadata/submissions/RU_Y3_topoff/hifi_qc/hifi_qc_samples_output_table.csv') # submission file\n"
   ]
  },
  {
   "cell_type": "code",
   "execution_count": 9,
   "metadata": {},
   "outputs": [],
   "source": [
    "def aws_working(file_paths):\n",
    "\tnew_path_list = []\n",
    "\tfor data in file_paths:\n",
    "\t\tsample_id = data.split('/')[-3]\n",
    "\t\tnew_path = f\"s3://human-pangenomics/working/HPRC/{sample_id}/raw_data/PacBio_HiFi/{data.split('/')[-1]}\"\n",
    "\t\tnew_path_list.append(new_path)\n",
    "\treturn new_path_list\n",
    "ru_y3_topoff_working = aws_working(ru_y3_topoff_sub['hifi_reads'].tolist())"
   ]
  },
  {
   "cell_type": "code",
   "execution_count": 10,
   "metadata": {},
   "outputs": [],
   "source": [
    "aws_df = pd.DataFrame(ru_y3_topoff_sub['hifi_reads'])\n",
    "aws_df['release'] = ru_y3_topoff_working"
   ]
  },
  {
   "cell_type": "code",
   "execution_count": 11,
   "metadata": {},
   "outputs": [
    {
     "data": {
      "text/plain": [
       "['s3://human-pangenomics/working/HPRC/HG00658/raw_data/PacBio_HiFi/m/8/4/0/9/1/_/2/3/0/9/0/5/_/1/9/2/6/4/2/_/s/1/./h/i/f/i/_/r/e/a/d/s/./b/c/1/0/1/5/./b/a/m',\n",
       " 's3://human-pangenomics/working/HPRC/HG00658/raw_data/PacBio_HiFi/m/8/4/0/9/1/_/2/3/0/9/0/5/_/1/9/2/6/4/2/_/s/1/./h/i/f/i/_/r/e/a/d/s/./b/c/1/0/1/6/./b/a/m',\n",
       " 's3://human-pangenomics/working/HPRC/HG00658/raw_data/PacBio_HiFi/m/8/4/0/9/1/_/2/3/0/9/0/5/_/1/9/2/6/4/2/_/s/1/./h/i/f/i/_/r/e/a/d/s/./b/c/1/0/1/8/./b/a/m',\n",
       " 's3://human-pangenomics/working/HPRC/HG00658/raw_data/PacBio_HiFi/m/8/4/0/9/1/_/2/3/0/9/0/5/_/1/9/2/6/4/2/_/s/1/./h/i/f/i/_/r/e/a/d/s/./b/c/1/0/1/9/./b/a/m',\n",
       " 's3://human-pangenomics/working/HPRC/HG00658/raw_data/PacBio_HiFi/m/8/4/0/9/1/_/2/3/0/9/0/5/_/1/9/5/7/0/1/_/s/2/./h/i/f/i/_/r/e/a/d/s/./b/c/1/0/1/5/./b/a/m',\n",
       " 's3://human-pangenomics/working/HPRC/HG00658/raw_data/PacBio_HiFi/m/8/4/0/9/1/_/2/3/0/9/0/5/_/1/9/5/7/0/1/_/s/2/./h/i/f/i/_/r/e/a/d/s/./b/c/1/0/1/6/./b/a/m',\n",
       " 's3://human-pangenomics/working/HPRC/HG00658/raw_data/PacBio_HiFi/m/8/4/0/9/1/_/2/3/0/9/0/5/_/1/9/5/7/0/1/_/s/2/./h/i/f/i/_/r/e/a/d/s/./b/c/1/0/1/8/./b/a/m',\n",
       " 's3://human-pangenomics/working/HPRC/HG00658/raw_data/PacBio_HiFi/m/8/4/0/9/1/_/2/3/0/9/0/5/_/1/9/5/7/0/1/_/s/2/./h/i/f/i/_/r/e/a/d/s/./b/c/1/0/1/9/./b/a/m',\n",
       " 's3://human-pangenomics/working/HPRC/HG00658/raw_data/PacBio_HiFi/m/8/4/0/9/1/_/2/3/0/9/0/5/_/2/0/2/8/0/7/_/s/3/./h/i/f/i/_/r/e/a/d/s/./b/c/1/0/1/5/./b/a/m',\n",
       " 's3://human-pangenomics/working/HPRC/HG00658/raw_data/PacBio_HiFi/m/8/4/0/9/1/_/2/3/0/9/0/5/_/2/0/2/8/0/7/_/s/3/./h/i/f/i/_/r/e/a/d/s/./b/c/1/0/1/6/./b/a/m',\n",
       " 's3://human-pangenomics/working/HPRC/HG00658/raw_data/PacBio_HiFi/m/8/4/0/9/1/_/2/3/0/9/0/5/_/2/0/2/8/0/7/_/s/3/./h/i/f/i/_/r/e/a/d/s/./b/c/1/0/1/8/./b/a/m',\n",
       " 's3://human-pangenomics/working/HPRC/HG00658/raw_data/PacBio_HiFi/m/8/4/0/9/1/_/2/3/0/9/0/5/_/2/0/2/8/0/7/_/s/3/./h/i/f/i/_/r/e/a/d/s/./b/c/1/0/1/9/./b/a/m',\n",
       " 's3://human-pangenomics/working/HPRC/HG01150/raw_data/PacBio_HiFi/m/8/4/0/9/1/_/2/3/0/9/0/5/_/1/9/2/6/4/2/_/s/1/./h/i/f/i/_/r/e/a/d/s/./b/c/1/0/1/5/./b/a/m',\n",
       " 's3://human-pangenomics/working/HPRC/HG01150/raw_data/PacBio_HiFi/m/8/4/0/9/1/_/2/3/0/9/0/5/_/1/9/2/6/4/2/_/s/1/./h/i/f/i/_/r/e/a/d/s/./b/c/1/0/1/6/./b/a/m',\n",
       " 's3://human-pangenomics/working/HPRC/HG01150/raw_data/PacBio_HiFi/m/8/4/0/9/1/_/2/3/0/9/0/5/_/1/9/2/6/4/2/_/s/1/./h/i/f/i/_/r/e/a/d/s/./b/c/1/0/1/8/./b/a/m',\n",
       " 's3://human-pangenomics/working/HPRC/HG01150/raw_data/PacBio_HiFi/m/8/4/0/9/1/_/2/3/0/9/0/5/_/1/9/2/6/4/2/_/s/1/./h/i/f/i/_/r/e/a/d/s/./b/c/1/0/1/9/./b/a/m',\n",
       " 's3://human-pangenomics/working/HPRC/HG01150/raw_data/PacBio_HiFi/m/8/4/0/9/1/_/2/3/0/9/0/5/_/1/9/5/7/0/1/_/s/2/./h/i/f/i/_/r/e/a/d/s/./b/c/1/0/1/5/./b/a/m',\n",
       " 's3://human-pangenomics/working/HPRC/HG01150/raw_data/PacBio_HiFi/m/8/4/0/9/1/_/2/3/0/9/0/5/_/1/9/5/7/0/1/_/s/2/./h/i/f/i/_/r/e/a/d/s/./b/c/1/0/1/6/./b/a/m',\n",
       " 's3://human-pangenomics/working/HPRC/HG01150/raw_data/PacBio_HiFi/m/8/4/0/9/1/_/2/3/0/9/0/5/_/1/9/5/7/0/1/_/s/2/./h/i/f/i/_/r/e/a/d/s/./b/c/1/0/1/8/./b/a/m',\n",
       " 's3://human-pangenomics/working/HPRC/HG01150/raw_data/PacBio_HiFi/m/8/4/0/9/1/_/2/3/0/9/0/5/_/1/9/5/7/0/1/_/s/2/./h/i/f/i/_/r/e/a/d/s/./b/c/1/0/1/9/./b/a/m',\n",
       " 's3://human-pangenomics/working/HPRC/HG01150/raw_data/PacBio_HiFi/m/8/4/0/9/1/_/2/3/0/9/0/5/_/2/0/2/8/0/7/_/s/3/./h/i/f/i/_/r/e/a/d/s/./b/c/1/0/1/5/./b/a/m',\n",
       " 's3://human-pangenomics/working/HPRC/HG01150/raw_data/PacBio_HiFi/m/8/4/0/9/1/_/2/3/0/9/0/5/_/2/0/2/8/0/7/_/s/3/./h/i/f/i/_/r/e/a/d/s/./b/c/1/0/1/6/./b/a/m',\n",
       " 's3://human-pangenomics/working/HPRC/HG01150/raw_data/PacBio_HiFi/m/8/4/0/9/1/_/2/3/0/9/0/5/_/2/0/2/8/0/7/_/s/3/./h/i/f/i/_/r/e/a/d/s/./b/c/1/0/1/8/./b/a/m',\n",
       " 's3://human-pangenomics/working/HPRC/HG01150/raw_data/PacBio_HiFi/m/8/4/0/9/1/_/2/3/0/9/0/5/_/2/0/2/8/0/7/_/s/3/./h/i/f/i/_/r/e/a/d/s/./b/c/1/0/1/9/./b/a/m',\n",
       " 's3://human-pangenomics/working/HPRC/HG01150/raw_data/PacBio_HiFi/m/8/4/0/9/1/_/2/3/1/0/0/4/_/1/9/2/0/4/3/_/s/3/./h/i/f/i/_/r/e/a/d/s/./b/c/1/0/1/6/./b/a/m',\n",
       " 's3://human-pangenomics/working/HPRC/HG01150/raw_data/PacBio_HiFi/m/8/4/0/9/1/_/2/3/1/0/0/4/_/1/9/2/0/4/3/_/s/3/./h/i/f/i/_/r/e/a/d/s/./b/c/1/0/1/9/./b/a/m',\n",
       " 's3://human-pangenomics/working/HPRC/HG01252/raw_data/PacBio_HiFi/m/8/4/0/9/1/_/2/3/0/9/0/5/_/2/0/5/9/1/3/_/s/4/./h/i/f/i/_/r/e/a/d/s/./b/c/1/0/1/7/./b/a/m',\n",
       " 's3://human-pangenomics/working/HPRC/HG01252/raw_data/PacBio_HiFi/m/8/4/0/9/1/_/2/3/0/9/0/5/_/2/0/5/9/1/3/_/s/4/./h/i/f/i/_/r/e/a/d/s/./b/c/1/0/2/0/./b/a/m',\n",
       " 's3://human-pangenomics/working/HPRC/HG01530/raw_data/PacBio_HiFi/m/8/4/0/9/1/_/2/3/1/2/0/8/_/1/9/4/7/1/6/_/s/4/./h/i/f/i/_/r/e/a/d/s/./b/c/1/0/0/8/./b/a/m',\n",
       " 's3://human-pangenomics/working/HPRC/HG01530/raw_data/PacBio_HiFi/m/8/4/0/9/1/_/2/3/1/2/0/8/_/1/9/4/7/1/6/_/s/4/./h/i/f/i/_/r/e/a/d/s/./b/c/1/0/2/1/./b/a/m',\n",
       " 's3://human-pangenomics/working/HPRC/HG01530/raw_data/PacBio_HiFi/m/8/4/0/9/1/_/2/3/1/2/0/8/_/2/0/1/8/2/2/_/s/1/./h/i/f/i/_/r/e/a/d/s/./b/c/1/0/1/1/./b/a/m',\n",
       " 's3://human-pangenomics/working/HPRC/HG01530/raw_data/PacBio_HiFi/m/8/4/0/9/1/_/2/3/1/2/0/8/_/2/0/1/8/2/2/_/s/1/./h/i/f/i/_/r/e/a/d/s/./b/c/1/0/2/1/./b/a/m',\n",
       " 's3://human-pangenomics/working/HPRC/HG01530/raw_data/PacBio_HiFi/m/8/4/0/9/1/_/2/3/1/2/0/8/_/2/0/4/9/2/8/_/s/2/./h/i/f/i/_/r/e/a/d/s/./b/c/1/0/1/8/./b/a/m',\n",
       " 's3://human-pangenomics/working/HPRC/HG01530/raw_data/PacBio_HiFi/m/8/4/0/9/1/_/2/3/1/2/0/8/_/2/0/4/9/2/8/_/s/2/./h/i/f/i/_/r/e/a/d/s/./b/c/1/0/2/1/./b/a/m',\n",
       " 's3://human-pangenomics/working/HPRC/HG01784/raw_data/PacBio_HiFi/m/8/4/0/9/1/_/2/3/1/1/2/0/_/1/8/2/8/2/9/_/s/1/./h/i/f/i/_/r/e/a/d/s/./b/c/1/0/1/7/./b/a/m',\n",
       " 's3://human-pangenomics/working/HPRC/HG01784/raw_data/PacBio_HiFi/m/8/4/0/9/1/_/2/3/1/1/2/0/_/1/8/2/8/2/9/_/s/1/./h/i/f/i/_/r/e/a/d/s/./b/c/1/0/1/9/./b/a/m',\n",
       " 's3://human-pangenomics/working/HPRC/HG01940/raw_data/PacBio_HiFi/m/8/4/0/9/1/_/2/4/0/1/1/0/_/1/9/1/7/1/3/_/s/4/./h/i/f/i/_/r/e/a/d/s/./b/c/1/0/1/0/./b/a/m',\n",
       " 's3://human-pangenomics/working/HPRC/HG01960/raw_data/PacBio_HiFi/m/8/4/0/9/1/_/2/3/0/8/1/7/_/1/5/0/2/4/6/_/s/3/./h/i/f/i/_/r/e/a/d/s/./b/c/1/0/1/2/./b/a/m',\n",
       " 's3://human-pangenomics/working/HPRC/HG01960/raw_data/PacBio_HiFi/m/8/4/0/9/1/_/2/3/0/8/1/7/_/1/5/0/2/4/6/_/s/3/./h/i/f/i/_/r/e/a/d/s/./b/c/1/0/1/5/./b/a/m',\n",
       " 's3://human-pangenomics/working/HPRC/HG01969/raw_data/PacBio_HiFi/m/8/4/0/9/1/_/2/4/0/1/1/0/_/2/0/1/8/4/1/_/s/2/./h/i/f/i/_/r/e/a/d/s/./b/c/1/0/0/2/./b/a/m',\n",
       " 's3://human-pangenomics/working/HPRC/HG02391/raw_data/PacBio_HiFi/m/8/4/0/9/1/_/2/3/1/1/2/0/_/1/8/5/9/3/5/_/s/2/./h/i/f/i/_/r/e/a/d/s/./b/c/1/0/1/0/./b/a/m',\n",
       " 's3://human-pangenomics/working/HPRC/HG02391/raw_data/PacBio_HiFi/m/8/4/0/9/1/_/2/3/1/1/2/0/_/1/8/5/9/3/5/_/s/2/./h/i/f/i/_/r/e/a/d/s/./b/c/1/0/1/6/./b/a/m',\n",
       " 's3://human-pangenomics/working/HPRC/HG02514/raw_data/PacBio_HiFi/m/8/4/0/9/1/_/2/4/0/1/1/0/_/1/9/4/7/3/5/_/s/1/./h/i/f/i/_/r/e/a/d/s/./b/c/1/0/0/1/./b/a/m',\n",
       " 's3://human-pangenomics/working/HPRC/HG02841/raw_data/PacBio_HiFi/m/8/4/0/9/1/_/2/3/0/9/0/5/_/1/9/2/6/4/2/_/s/1/./h/i/f/i/_/r/e/a/d/s/./b/c/1/0/1/5/./b/a/m',\n",
       " 's3://human-pangenomics/working/HPRC/HG02841/raw_data/PacBio_HiFi/m/8/4/0/9/1/_/2/3/0/9/0/5/_/1/9/2/6/4/2/_/s/1/./h/i/f/i/_/r/e/a/d/s/./b/c/1/0/1/6/./b/a/m',\n",
       " 's3://human-pangenomics/working/HPRC/HG02841/raw_data/PacBio_HiFi/m/8/4/0/9/1/_/2/3/0/9/0/5/_/1/9/2/6/4/2/_/s/1/./h/i/f/i/_/r/e/a/d/s/./b/c/1/0/1/8/./b/a/m',\n",
       " 's3://human-pangenomics/working/HPRC/HG02841/raw_data/PacBio_HiFi/m/8/4/0/9/1/_/2/3/0/9/0/5/_/1/9/2/6/4/2/_/s/1/./h/i/f/i/_/r/e/a/d/s/./b/c/1/0/1/9/./b/a/m',\n",
       " 's3://human-pangenomics/working/HPRC/HG02841/raw_data/PacBio_HiFi/m/8/4/0/9/1/_/2/3/0/9/0/5/_/1/9/5/7/0/1/_/s/2/./h/i/f/i/_/r/e/a/d/s/./b/c/1/0/1/5/./b/a/m',\n",
       " 's3://human-pangenomics/working/HPRC/HG02841/raw_data/PacBio_HiFi/m/8/4/0/9/1/_/2/3/0/9/0/5/_/1/9/5/7/0/1/_/s/2/./h/i/f/i/_/r/e/a/d/s/./b/c/1/0/1/6/./b/a/m',\n",
       " 's3://human-pangenomics/working/HPRC/HG02841/raw_data/PacBio_HiFi/m/8/4/0/9/1/_/2/3/0/9/0/5/_/1/9/5/7/0/1/_/s/2/./h/i/f/i/_/r/e/a/d/s/./b/c/1/0/1/8/./b/a/m',\n",
       " 's3://human-pangenomics/working/HPRC/HG02841/raw_data/PacBio_HiFi/m/8/4/0/9/1/_/2/3/0/9/0/5/_/1/9/5/7/0/1/_/s/2/./h/i/f/i/_/r/e/a/d/s/./b/c/1/0/1/9/./b/a/m',\n",
       " 's3://human-pangenomics/working/HPRC/HG02841/raw_data/PacBio_HiFi/m/8/4/0/9/1/_/2/3/0/9/0/5/_/2/0/2/8/0/7/_/s/3/./h/i/f/i/_/r/e/a/d/s/./b/c/1/0/1/5/./b/a/m',\n",
       " 's3://human-pangenomics/working/HPRC/HG02841/raw_data/PacBio_HiFi/m/8/4/0/9/1/_/2/3/0/9/0/5/_/2/0/2/8/0/7/_/s/3/./h/i/f/i/_/r/e/a/d/s/./b/c/1/0/1/6/./b/a/m',\n",
       " 's3://human-pangenomics/working/HPRC/HG02841/raw_data/PacBio_HiFi/m/8/4/0/9/1/_/2/3/0/9/0/5/_/2/0/2/8/0/7/_/s/3/./h/i/f/i/_/r/e/a/d/s/./b/c/1/0/1/8/./b/a/m',\n",
       " 's3://human-pangenomics/working/HPRC/HG02841/raw_data/PacBio_HiFi/m/8/4/0/9/1/_/2/3/0/9/0/5/_/2/0/2/8/0/7/_/s/3/./h/i/f/i/_/r/e/a/d/s/./b/c/1/0/1/9/./b/a/m',\n",
       " 's3://human-pangenomics/working/HPRC/HG02984/raw_data/PacBio_HiFi/m/8/4/0/9/1/_/2/3/1/0/0/4/_/1/9/2/0/4/3/_/s/3/./h/i/f/i/_/r/e/a/d/s/./b/c/1/0/1/6/./b/a/m',\n",
       " 's3://human-pangenomics/working/HPRC/HG02984/raw_data/PacBio_HiFi/m/8/4/0/9/1/_/2/3/1/0/0/4/_/1/9/2/0/4/3/_/s/3/./h/i/f/i/_/r/e/a/d/s/./b/c/1/0/1/9/./b/a/m',\n",
       " 's3://human-pangenomics/working/HPRC/HG03050/raw_data/PacBio_HiFi/m/8/4/0/9/1/_/2/3/0/9/0/5/_/2/0/5/9/1/3/_/s/4/./h/i/f/i/_/r/e/a/d/s/./b/c/1/0/1/7/./b/a/m',\n",
       " 's3://human-pangenomics/working/HPRC/HG03050/raw_data/PacBio_HiFi/m/8/4/0/9/1/_/2/3/0/9/0/5/_/2/0/5/9/1/3/_/s/4/./h/i/f/i/_/r/e/a/d/s/./b/c/1/0/2/0/./b/a/m',\n",
       " 's3://human-pangenomics/working/HPRC/HG03458/raw_data/PacBio_HiFi/m/8/4/0/9/1/_/2/3/1/2/0/8/_/2/0/1/8/2/2/_/s/1/./h/i/f/i/_/r/e/a/d/s/./b/c/1/0/1/1/./b/a/m',\n",
       " 's3://human-pangenomics/working/HPRC/HG03458/raw_data/PacBio_HiFi/m/8/4/0/9/1/_/2/3/1/2/0/8/_/2/0/1/8/2/2/_/s/1/./h/i/f/i/_/r/e/a/d/s/./b/c/1/0/2/1/./b/a/m',\n",
       " 's3://human-pangenomics/working/HPRC/HG03470/raw_data/PacBio_HiFi/m/8/4/0/9/1/_/2/3/0/7/0/5/_/1/7/4/2/5/6/_/s/2/./h/i/f/i/_/r/e/a/d/s/./b/c/1/0/0/2/./b/a/m',\n",
       " 's3://human-pangenomics/working/HPRC/HG03470/raw_data/PacBio_HiFi/m/8/4/0/9/1/_/2/3/0/7/0/5/_/1/7/4/2/5/6/_/s/2/./h/i/f/i/_/r/e/a/d/s/./b/c/1/0/0/3/./b/a/m',\n",
       " 's3://human-pangenomics/working/HPRC/HG03470/raw_data/PacBio_HiFi/m/8/4/0/9/1/_/2/3/0/7/0/5/_/1/7/4/2/5/6/_/s/2/./h/i/f/i/_/r/e/a/d/s/./b/c/1/0/0/9/./b/a/m',\n",
       " 's3://human-pangenomics/working/HPRC/HG03470/raw_data/PacBio_HiFi/m/8/4/0/9/1/_/2/3/0/7/0/5/_/1/8/4/5/0/8/_/s/4/./h/i/f/i/_/r/e/a/d/s/./b/c/1/0/0/2/./b/a/m',\n",
       " 's3://human-pangenomics/working/HPRC/HG03470/raw_data/PacBio_HiFi/m/8/4/0/9/1/_/2/3/0/7/0/5/_/1/8/4/5/0/8/_/s/4/./h/i/f/i/_/r/e/a/d/s/./b/c/1/0/0/3/./b/a/m',\n",
       " 's3://human-pangenomics/working/HPRC/HG03470/raw_data/PacBio_HiFi/m/8/4/0/9/1/_/2/3/0/7/0/5/_/1/8/4/5/0/8/_/s/4/./h/i/f/i/_/r/e/a/d/s/./b/c/1/0/0/9/./b/a/m',\n",
       " 's3://human-pangenomics/working/HPRC/HG03742/raw_data/PacBio_HiFi/m/8/4/0/9/1/_/2/3/1/1/2/0/_/1/9/3/0/4/1/_/s/3/./h/i/f/i/_/r/e/a/d/s/./b/c/1/0/1/2/./b/a/m',\n",
       " 's3://human-pangenomics/working/HPRC/HG03742/raw_data/PacBio_HiFi/m/8/4/0/9/1/_/2/3/1/1/2/0/_/1/9/3/0/4/1/_/s/3/./h/i/f/i/_/r/e/a/d/s/./b/c/1/0/2/0/./b/a/m',\n",
       " 's3://human-pangenomics/working/HPRC/NA18570/raw_data/PacBio_HiFi/m/8/4/0/9/1/_/2/3/1/1/2/0/_/1/9/3/0/4/1/_/s/3/./h/i/f/i/_/r/e/a/d/s/./b/c/1/0/1/2/./b/a/m',\n",
       " 's3://human-pangenomics/working/HPRC/NA18570/raw_data/PacBio_HiFi/m/8/4/0/9/1/_/2/3/1/1/2/0/_/1/9/3/0/4/1/_/s/3/./h/i/f/i/_/r/e/a/d/s/./b/c/1/0/2/0/./b/a/m',\n",
       " 's3://human-pangenomics/working/HPRC/NA19087/raw_data/PacBio_HiFi/m/8/4/0/9/1/_/2/3/1/1/2/0/_/1/8/5/9/3/5/_/s/2/./h/i/f/i/_/r/e/a/d/s/./b/c/1/0/1/0/./b/a/m',\n",
       " 's3://human-pangenomics/working/HPRC/NA19087/raw_data/PacBio_HiFi/m/8/4/0/9/1/_/2/3/1/1/2/0/_/1/8/5/9/3/5/_/s/2/./h/i/f/i/_/r/e/a/d/s/./b/c/1/0/1/6/./b/a/m',\n",
       " 's3://human-pangenomics/working/HPRC/NA19159/raw_data/PacBio_HiFi/m/8/4/0/9/1/_/2/3/0/8/1/7/_/1/5/0/2/4/6/_/s/3/./h/i/f/i/_/r/e/a/d/s/./b/c/1/0/1/2/./b/a/m',\n",
       " 's3://human-pangenomics/working/HPRC/NA19159/raw_data/PacBio_HiFi/m/8/4/0/9/1/_/2/3/0/8/1/7/_/1/5/0/2/4/6/_/s/3/./h/i/f/i/_/r/e/a/d/s/./b/c/1/0/1/5/./b/a/m',\n",
       " 's3://human-pangenomics/working/HPRC/NA19185/raw_data/PacBio_HiFi/m/8/4/0/9/1/_/2/3/1/1/2/0/_/1/8/2/8/2/9/_/s/1/./h/i/f/i/_/r/e/a/d/s/./b/c/1/0/1/7/./b/a/m',\n",
       " 's3://human-pangenomics/working/HPRC/NA19185/raw_data/PacBio_HiFi/m/8/4/0/9/1/_/2/3/1/1/2/0/_/1/8/2/8/2/9/_/s/1/./h/i/f/i/_/r/e/a/d/s/./b/c/1/0/1/9/./b/a/m',\n",
       " 's3://human-pangenomics/working/HPRC/NA19338/raw_data/PacBio_HiFi/m/8/4/0/9/1/_/2/3/0/7/0/5/_/1/7/4/2/5/6/_/s/2/./h/i/f/i/_/r/e/a/d/s/./b/c/1/0/0/2/./b/a/m',\n",
       " 's3://human-pangenomics/working/HPRC/NA19338/raw_data/PacBio_HiFi/m/8/4/0/9/1/_/2/3/0/7/0/5/_/1/7/4/2/5/6/_/s/2/./h/i/f/i/_/r/e/a/d/s/./b/c/1/0/0/3/./b/a/m',\n",
       " 's3://human-pangenomics/working/HPRC/NA19338/raw_data/PacBio_HiFi/m/8/4/0/9/1/_/2/3/0/7/0/5/_/1/7/4/2/5/6/_/s/2/./h/i/f/i/_/r/e/a/d/s/./b/c/1/0/0/9/./b/a/m',\n",
       " 's3://human-pangenomics/working/HPRC/NA19338/raw_data/PacBio_HiFi/m/8/4/0/9/1/_/2/3/0/7/0/5/_/1/8/4/5/0/8/_/s/4/./h/i/f/i/_/r/e/a/d/s/./b/c/1/0/0/2/./b/a/m',\n",
       " 's3://human-pangenomics/working/HPRC/NA19338/raw_data/PacBio_HiFi/m/8/4/0/9/1/_/2/3/0/7/0/5/_/1/8/4/5/0/8/_/s/4/./h/i/f/i/_/r/e/a/d/s/./b/c/1/0/0/3/./b/a/m',\n",
       " 's3://human-pangenomics/working/HPRC/NA19338/raw_data/PacBio_HiFi/m/8/4/0/9/1/_/2/3/0/7/0/5/_/1/8/4/5/0/8/_/s/4/./h/i/f/i/_/r/e/a/d/s/./b/c/1/0/0/9/./b/a/m',\n",
       " 's3://human-pangenomics/working/HPRC/NA19338/raw_data/PacBio_HiFi/m/8/4/0/9/1/_/2/3/1/1/2/0/_/1/7/5/8/0/0/_/s/4/./h/i/f/i/_/r/e/a/d/s/./b/c/1/0/0/2/./b/a/m',\n",
       " 's3://human-pangenomics/working/HPRC/NA19338/raw_data/PacBio_HiFi/m/8/4/0/9/1/_/2/3/1/1/2/0/_/1/7/5/8/0/0/_/s/4/./h/i/f/i/_/r/e/a/d/s/./b/c/1/0/1/5/./b/a/m',\n",
       " 's3://human-pangenomics/working/HPRC/NA19391/raw_data/PacBio_HiFi/m/8/4/0/9/1/_/2/3/1/1/2/0/_/1/7/5/8/0/0/_/s/4/./h/i/f/i/_/r/e/a/d/s/./b/c/1/0/0/2/./b/a/m',\n",
       " 's3://human-pangenomics/working/HPRC/NA19391/raw_data/PacBio_HiFi/m/8/4/0/9/1/_/2/3/1/1/2/0/_/1/7/5/8/0/0/_/s/4/./h/i/f/i/_/r/e/a/d/s/./b/c/1/0/1/5/./b/a/m',\n",
       " 's3://human-pangenomics/working/HPRC/NA19468/raw_data/PacBio_HiFi/m/8/4/0/9/1/_/2/3/1/2/0/8/_/1/9/4/7/1/6/_/s/4/./h/i/f/i/_/r/e/a/d/s/./b/c/1/0/0/8/./b/a/m',\n",
       " 's3://human-pangenomics/working/HPRC/NA19468/raw_data/PacBio_HiFi/m/8/4/0/9/1/_/2/3/1/2/0/8/_/1/9/4/7/1/6/_/s/4/./h/i/f/i/_/r/e/a/d/s/./b/c/1/0/2/1/./b/a/m',\n",
       " 's3://human-pangenomics/working/HPRC/NA19468/raw_data/PacBio_HiFi/m/8/4/0/9/1/_/2/3/1/2/1/1/_/2/1/5/7/4/6/_/s/3/./h/i/f/i/_/r/e/a/d/s/./b/c/1/0/0/8/./b/a/m',\n",
       " 's3://human-pangenomics/working/HPRC/NA19468/raw_data/PacBio_HiFi/m/8/4/0/9/1/_/2/3/1/2/1/1/_/2/1/5/7/4/6/_/s/3/./h/i/f/i/_/r/e/a/d/s/./b/c/1/0/1/8/./b/a/m',\n",
       " 's3://human-pangenomics/working/HPRC/NA20799/raw_data/PacBio_HiFi/m/8/4/0/9/1/_/2/3/1/2/0/8/_/2/0/4/9/2/8/_/s/2/./h/i/f/i/_/r/e/a/d/s/./b/c/1/0/1/8/./b/a/m',\n",
       " 's3://human-pangenomics/working/HPRC/NA20799/raw_data/PacBio_HiFi/m/8/4/0/9/1/_/2/3/1/2/0/8/_/2/0/4/9/2/8/_/s/2/./h/i/f/i/_/r/e/a/d/s/./b/c/1/0/2/1/./b/a/m',\n",
       " 's3://human-pangenomics/working/HPRC/NA20799/raw_data/PacBio_HiFi/m/8/4/0/9/1/_/2/3/1/2/1/1/_/2/1/5/7/4/6/_/s/3/./h/i/f/i/_/r/e/a/d/s/./b/c/1/0/0/8/./b/a/m',\n",
       " 's3://human-pangenomics/working/HPRC/NA20799/raw_data/PacBio_HiFi/m/8/4/0/9/1/_/2/3/1/2/1/1/_/2/1/5/7/4/6/_/s/3/./h/i/f/i/_/r/e/a/d/s/./b/c/1/0/1/8/./b/a/m']"
      ]
     },
     "execution_count": 11,
     "metadata": {},
     "output_type": "execute_result"
    }
   ],
   "source": [
    "ru_y3_topoff_working"
   ]
  },
  {
   "cell_type": "code",
   "execution_count": 17,
   "metadata": {},
   "outputs": [],
   "source": [
    "aws_df.to_csv('RU_Y3_topoff.transfer.csv', header=None, index=None)"
   ]
  },
  {
   "cell_type": "code",
   "execution_count": null,
   "metadata": {},
   "outputs": [],
   "source": []
  }
 ],
 "metadata": {
  "kernelspec": {
   "display_name": "Python 3",
   "language": "python",
   "name": "python3"
  },
  "language_info": {
   "codemirror_mode": {
    "name": "ipython",
    "version": 3
   },
   "file_extension": ".py",
   "mimetype": "text/x-python",
   "name": "python",
   "nbconvert_exporter": "python",
   "pygments_lexer": "ipython3",
   "version": "3.10.14"
  }
 },
 "nbformat": 4,
 "nbformat_minor": 2
}
