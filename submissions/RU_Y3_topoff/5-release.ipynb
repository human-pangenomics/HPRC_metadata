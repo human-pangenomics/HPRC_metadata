{
 "cells": [
  {
   "cell_type": "code",
   "execution_count": 2,
   "metadata": {},
   "outputs": [],
   "source": [
    "import pandas as pd"
   ]
  },
  {
   "cell_type": "code",
   "execution_count": 3,
   "metadata": {},
   "outputs": [],
   "source": [
    "ru_y3_topoff_sub = pd.read_csv('/private/groups/hprc/human-pangenomics/HPRC_metadata/submissions/RU_Y3_topoff/hifi_qc/hifi_qc_samples_output_table.csv') # submission file\n"
   ]
  },
  {
   "cell_type": "code",
   "execution_count": 11,
   "metadata": {},
   "outputs": [],
   "source": [
    "def aws_working(file_paths):\n",
    "\tnew_path_list = []\n",
    "\tfor data in file_paths:\n",
    "\t\tsample_id = data.split('/')[-3]\n",
    "\t\tnew_path = f\"s3://human-pangenomics/working/HPRC/{sample_id}/raw_data/PacBio_HiFi/{'/'.join(data.split('/')[-2:])}\"\n",
    "\t\tnew_path_list.append(new_path)\n",
    "\treturn new_path_list\n",
    "ru_y3_topoff_working = aws_working(ru_y3_topoff_sub['hifi_reads'].tolist())"
   ]
  },
  {
   "cell_type": "code",
   "execution_count": 14,
   "metadata": {},
   "outputs": [],
   "source": [
    "aws_df = pd.DataFrame(ru_y3_topoff_sub['hifi_reads'])\n",
    "aws_df['release'] = ru_y3_topoff_working"
   ]
  },
  {
   "cell_type": "code",
   "execution_count": 15,
   "metadata": {},
   "outputs": [
    {
     "data": {
      "text/html": [
       "<div>\n",
       "<style scoped>\n",
       "    .dataframe tbody tr th:only-of-type {\n",
       "        vertical-align: middle;\n",
       "    }\n",
       "\n",
       "    .dataframe tbody tr th {\n",
       "        vertical-align: top;\n",
       "    }\n",
       "\n",
       "    .dataframe thead th {\n",
       "        text-align: right;\n",
       "    }\n",
       "</style>\n",
       "<table border=\"1\" class=\"dataframe\">\n",
       "  <thead>\n",
       "    <tr style=\"text-align: right;\">\n",
       "      <th></th>\n",
       "      <th>hifi_reads</th>\n",
       "      <th>release</th>\n",
       "    </tr>\n",
       "  </thead>\n",
       "  <tbody>\n",
       "    <tr>\n",
       "      <th>0</th>\n",
       "      <td>s3://human-pangenomics/submissions/573E04D5-CD...</td>\n",
       "      <td>s3://human-pangenomics/working/HPRC/HG00658/ra...</td>\n",
       "    </tr>\n",
       "    <tr>\n",
       "      <th>1</th>\n",
       "      <td>s3://human-pangenomics/submissions/573E04D5-CD...</td>\n",
       "      <td>s3://human-pangenomics/working/HPRC/HG00658/ra...</td>\n",
       "    </tr>\n",
       "    <tr>\n",
       "      <th>2</th>\n",
       "      <td>s3://human-pangenomics/submissions/573E04D5-CD...</td>\n",
       "      <td>s3://human-pangenomics/working/HPRC/HG00658/ra...</td>\n",
       "    </tr>\n",
       "    <tr>\n",
       "      <th>3</th>\n",
       "      <td>s3://human-pangenomics/submissions/573E04D5-CD...</td>\n",
       "      <td>s3://human-pangenomics/working/HPRC/HG00658/ra...</td>\n",
       "    </tr>\n",
       "    <tr>\n",
       "      <th>4</th>\n",
       "      <td>s3://human-pangenomics/submissions/573E04D5-CD...</td>\n",
       "      <td>s3://human-pangenomics/working/HPRC/HG00658/ra...</td>\n",
       "    </tr>\n",
       "    <tr>\n",
       "      <th>...</th>\n",
       "      <td>...</td>\n",
       "      <td>...</td>\n",
       "    </tr>\n",
       "    <tr>\n",
       "      <th>90</th>\n",
       "      <td>s3://human-pangenomics/submissions/573E04D5-CD...</td>\n",
       "      <td>s3://human-pangenomics/working/HPRC/NA19468/ra...</td>\n",
       "    </tr>\n",
       "    <tr>\n",
       "      <th>91</th>\n",
       "      <td>s3://human-pangenomics/submissions/573E04D5-CD...</td>\n",
       "      <td>s3://human-pangenomics/working/HPRC/NA20799/ra...</td>\n",
       "    </tr>\n",
       "    <tr>\n",
       "      <th>92</th>\n",
       "      <td>s3://human-pangenomics/submissions/573E04D5-CD...</td>\n",
       "      <td>s3://human-pangenomics/working/HPRC/NA20799/ra...</td>\n",
       "    </tr>\n",
       "    <tr>\n",
       "      <th>93</th>\n",
       "      <td>s3://human-pangenomics/submissions/573E04D5-CD...</td>\n",
       "      <td>s3://human-pangenomics/working/HPRC/NA20799/ra...</td>\n",
       "    </tr>\n",
       "    <tr>\n",
       "      <th>94</th>\n",
       "      <td>s3://human-pangenomics/submissions/573E04D5-CD...</td>\n",
       "      <td>s3://human-pangenomics/working/HPRC/NA20799/ra...</td>\n",
       "    </tr>\n",
       "  </tbody>\n",
       "</table>\n",
       "<p>95 rows × 2 columns</p>\n",
       "</div>"
      ],
      "text/plain": [
       "                                           hifi_reads  \\\n",
       "0   s3://human-pangenomics/submissions/573E04D5-CD...   \n",
       "1   s3://human-pangenomics/submissions/573E04D5-CD...   \n",
       "2   s3://human-pangenomics/submissions/573E04D5-CD...   \n",
       "3   s3://human-pangenomics/submissions/573E04D5-CD...   \n",
       "4   s3://human-pangenomics/submissions/573E04D5-CD...   \n",
       "..                                                ...   \n",
       "90  s3://human-pangenomics/submissions/573E04D5-CD...   \n",
       "91  s3://human-pangenomics/submissions/573E04D5-CD...   \n",
       "92  s3://human-pangenomics/submissions/573E04D5-CD...   \n",
       "93  s3://human-pangenomics/submissions/573E04D5-CD...   \n",
       "94  s3://human-pangenomics/submissions/573E04D5-CD...   \n",
       "\n",
       "                                              release  \n",
       "0   s3://human-pangenomics/working/HPRC/HG00658/ra...  \n",
       "1   s3://human-pangenomics/working/HPRC/HG00658/ra...  \n",
       "2   s3://human-pangenomics/working/HPRC/HG00658/ra...  \n",
       "3   s3://human-pangenomics/working/HPRC/HG00658/ra...  \n",
       "4   s3://human-pangenomics/working/HPRC/HG00658/ra...  \n",
       "..                                                ...  \n",
       "90  s3://human-pangenomics/working/HPRC/NA19468/ra...  \n",
       "91  s3://human-pangenomics/working/HPRC/NA20799/ra...  \n",
       "92  s3://human-pangenomics/working/HPRC/NA20799/ra...  \n",
       "93  s3://human-pangenomics/working/HPRC/NA20799/ra...  \n",
       "94  s3://human-pangenomics/working/HPRC/NA20799/ra...  \n",
       "\n",
       "[95 rows x 2 columns]"
      ]
     },
     "execution_count": 15,
     "metadata": {},
     "output_type": "execute_result"
    }
   ],
   "source": [
    "aws_df.to_csv('')"
   ]
  }
 ],
 "metadata": {
  "kernelspec": {
   "display_name": "Python 3",
   "language": "python",
   "name": "python3"
  },
  "language_info": {
   "codemirror_mode": {
    "name": "ipython",
    "version": 3
   },
   "file_extension": ".py",
   "mimetype": "text/x-python",
   "name": "python",
   "nbconvert_exporter": "python",
   "pygments_lexer": "ipython3",
   "version": "3.10.14"
  }
 },
 "nbformat": 4,
 "nbformat_minor": 2
}
