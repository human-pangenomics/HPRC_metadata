{
 "cells": [
  {
   "cell_type": "code",
   "execution_count": 13,
   "metadata": {},
   "outputs": [],
   "source": [
    "import pandas as pd"
   ]
  },
  {
   "cell_type": "code",
   "execution_count": 19,
   "metadata": {},
   "outputs": [],
   "source": [
    "hifi_df = pd.read_csv('hifi_qc/hifi_qc_samples_output_table.csv')\n",
    "hifi_qc = pd.concat([pd.read_csv(qc,sep='\\t') for qc in hifi_df['hifi_qc_summary'].tolist()])\n",
    "hifi_qc['sample_id'] = [sample.split('-')[0] for sample in hifi_qc['filename'].tolist()]\n",
    "# hifi_qc['coverage'] = [bp/3.1 for bp in hifi_qc['total_Gbp'].tolist()]"
   ]
  },
  {
   "cell_type": "code",
   "execution_count": 21,
   "metadata": {},
   "outputs": [],
   "source": [
    "hifi_qc.drop(columns=['all_kinetics_flag', 'keep_kinetics_flag', 'hifi_kinetics_tag', 'PP_PRIMROSE', 'fi_tag', 'ri_tag','fp_tag', 'rp_tag'],inplace=True)"
   ]
  },
  {
   "cell_type": "code",
   "execution_count": 23,
   "metadata": {},
   "outputs": [],
   "source": [
    "hifi_qc.to_csv('RU_Y3_topoff_sample_file_hifi_qc.csv',index=False)"
   ]
  },
  {
   "cell_type": "code",
   "execution_count": null,
   "metadata": {},
   "outputs": [],
   "source": []
  }
 ],
 "metadata": {
  "kernelspec": {
   "display_name": "Python 3",
   "language": "python",
   "name": "python3"
  },
  "language_info": {
   "codemirror_mode": {
    "name": "ipython",
    "version": 3
   },
   "file_extension": ".py",
   "mimetype": "text/x-python",
   "name": "python",
   "nbconvert_exporter": "python",
   "pygments_lexer": "ipython3",
   "version": "3.10.14"
  }
 },
 "nbformat": 4,
 "nbformat_minor": 2
}
