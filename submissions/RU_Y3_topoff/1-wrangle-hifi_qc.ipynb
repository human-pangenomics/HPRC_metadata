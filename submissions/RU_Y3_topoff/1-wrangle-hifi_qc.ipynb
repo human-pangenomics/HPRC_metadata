{
 "cells": [
  {
   "cell_type": "code",
   "execution_count": 21,
   "metadata": {},
   "outputs": [],
   "source": [
    "import pandas as pd\n",
    "import glob"
   ]
  },
  {
   "cell_type": "code",
   "execution_count": 22,
   "metadata": {},
   "outputs": [],
   "source": [
    "ru_y3_topoff = pd.read_csv('RU_Y3_topoff.csv',header=None)"
   ]
  },
  {
   "cell_type": "code",
   "execution_count": 23,
   "metadata": {},
   "outputs": [],
   "source": [
    "ru_y3_topoff = ru_y3_topoff[ru_y3_topoff[0].str.contains('hifi_reads')]"
   ]
  },
  {
   "cell_type": "code",
   "execution_count": 24,
   "metadata": {},
   "outputs": [
    {
     "data": {
      "text/plain": [
       "array([['s3://human-pangenomics/submissions/573E04D5-CDDE-43B8-94D9-D00DD7B471AB--RU_Y3_topoff/HG00658/hifi_reads/m84091_230905_192642_s1.hifi_reads.bc1015.bam'],\n",
       "       ['s3://human-pangenomics/submissions/573E04D5-CDDE-43B8-94D9-D00DD7B471AB--RU_Y3_topoff/HG00658/hifi_reads/m84091_230905_192642_s1.hifi_reads.bc1016.bam'],\n",
       "       ['s3://human-pangenomics/submissions/573E04D5-CDDE-43B8-94D9-D00DD7B471AB--RU_Y3_topoff/HG00658/hifi_reads/m84091_230905_192642_s1.hifi_reads.bc1018.bam'],\n",
       "       ['s3://human-pangenomics/submissions/573E04D5-CDDE-43B8-94D9-D00DD7B471AB--RU_Y3_topoff/HG00658/hifi_reads/m84091_230905_192642_s1.hifi_reads.bc1019.bam'],\n",
       "       ['s3://human-pangenomics/submissions/573E04D5-CDDE-43B8-94D9-D00DD7B471AB--RU_Y3_topoff/HG00658/hifi_reads/m84091_230905_192642_s1.hifi_reads.unassigned.bam'],\n",
       "       ['s3://human-pangenomics/submissions/573E04D5-CDDE-43B8-94D9-D00DD7B471AB--RU_Y3_topoff/HG00658/hifi_reads/m84091_230905_195701_s2.hifi_reads.bc1015.bam'],\n",
       "       ['s3://human-pangenomics/submissions/573E04D5-CDDE-43B8-94D9-D00DD7B471AB--RU_Y3_topoff/HG00658/hifi_reads/m84091_230905_195701_s2.hifi_reads.bc1016.bam'],\n",
       "       ['s3://human-pangenomics/submissions/573E04D5-CDDE-43B8-94D9-D00DD7B471AB--RU_Y3_topoff/HG00658/hifi_reads/m84091_230905_195701_s2.hifi_reads.bc1018.bam'],\n",
       "       ['s3://human-pangenomics/submissions/573E04D5-CDDE-43B8-94D9-D00DD7B471AB--RU_Y3_topoff/HG00658/hifi_reads/m84091_230905_195701_s2.hifi_reads.bc1019.bam'],\n",
       "       ['s3://human-pangenomics/submissions/573E04D5-CDDE-43B8-94D9-D00DD7B471AB--RU_Y3_topoff/HG00658/hifi_reads/m84091_230905_195701_s2.hifi_reads.unassigned.bam'],\n",
       "       ['s3://human-pangenomics/submissions/573E04D5-CDDE-43B8-94D9-D00DD7B471AB--RU_Y3_topoff/HG00658/hifi_reads/m84091_230905_202807_s3.hifi_reads.bc1015.bam'],\n",
       "       ['s3://human-pangenomics/submissions/573E04D5-CDDE-43B8-94D9-D00DD7B471AB--RU_Y3_topoff/HG00658/hifi_reads/m84091_230905_202807_s3.hifi_reads.bc1016.bam'],\n",
       "       ['s3://human-pangenomics/submissions/573E04D5-CDDE-43B8-94D9-D00DD7B471AB--RU_Y3_topoff/HG00658/hifi_reads/m84091_230905_202807_s3.hifi_reads.bc1018.bam'],\n",
       "       ['s3://human-pangenomics/submissions/573E04D5-CDDE-43B8-94D9-D00DD7B471AB--RU_Y3_topoff/HG00658/hifi_reads/m84091_230905_202807_s3.hifi_reads.bc1019.bam'],\n",
       "       ['s3://human-pangenomics/submissions/573E04D5-CDDE-43B8-94D9-D00DD7B471AB--RU_Y3_topoff/HG00658/hifi_reads/m84091_230905_202807_s3.hifi_reads.unassigned.bam'],\n",
       "       ['s3://human-pangenomics/submissions/573E04D5-CDDE-43B8-94D9-D00DD7B471AB--RU_Y3_topoff/HG01150/hifi_reads/m84091_230905_192642_s1.hifi_reads.bc1015.bam'],\n",
       "       ['s3://human-pangenomics/submissions/573E04D5-CDDE-43B8-94D9-D00DD7B471AB--RU_Y3_topoff/HG01150/hifi_reads/m84091_230905_192642_s1.hifi_reads.bc1016.bam'],\n",
       "       ['s3://human-pangenomics/submissions/573E04D5-CDDE-43B8-94D9-D00DD7B471AB--RU_Y3_topoff/HG01150/hifi_reads/m84091_230905_192642_s1.hifi_reads.bc1018.bam'],\n",
       "       ['s3://human-pangenomics/submissions/573E04D5-CDDE-43B8-94D9-D00DD7B471AB--RU_Y3_topoff/HG01150/hifi_reads/m84091_230905_192642_s1.hifi_reads.bc1019.bam'],\n",
       "       ['s3://human-pangenomics/submissions/573E04D5-CDDE-43B8-94D9-D00DD7B471AB--RU_Y3_topoff/HG01150/hifi_reads/m84091_230905_192642_s1.hifi_reads.unassigned.bam'],\n",
       "       ['s3://human-pangenomics/submissions/573E04D5-CDDE-43B8-94D9-D00DD7B471AB--RU_Y3_topoff/HG01150/hifi_reads/m84091_230905_195701_s2.hifi_reads.bc1015.bam'],\n",
       "       ['s3://human-pangenomics/submissions/573E04D5-CDDE-43B8-94D9-D00DD7B471AB--RU_Y3_topoff/HG01150/hifi_reads/m84091_230905_195701_s2.hifi_reads.bc1016.bam'],\n",
       "       ['s3://human-pangenomics/submissions/573E04D5-CDDE-43B8-94D9-D00DD7B471AB--RU_Y3_topoff/HG01150/hifi_reads/m84091_230905_195701_s2.hifi_reads.bc1018.bam'],\n",
       "       ['s3://human-pangenomics/submissions/573E04D5-CDDE-43B8-94D9-D00DD7B471AB--RU_Y3_topoff/HG01150/hifi_reads/m84091_230905_195701_s2.hifi_reads.bc1019.bam'],\n",
       "       ['s3://human-pangenomics/submissions/573E04D5-CDDE-43B8-94D9-D00DD7B471AB--RU_Y3_topoff/HG01150/hifi_reads/m84091_230905_195701_s2.hifi_reads.unassigned.bam'],\n",
       "       ['s3://human-pangenomics/submissions/573E04D5-CDDE-43B8-94D9-D00DD7B471AB--RU_Y3_topoff/HG01150/hifi_reads/m84091_230905_202807_s3.hifi_reads.bc1015.bam'],\n",
       "       ['s3://human-pangenomics/submissions/573E04D5-CDDE-43B8-94D9-D00DD7B471AB--RU_Y3_topoff/HG01150/hifi_reads/m84091_230905_202807_s3.hifi_reads.bc1016.bam'],\n",
       "       ['s3://human-pangenomics/submissions/573E04D5-CDDE-43B8-94D9-D00DD7B471AB--RU_Y3_topoff/HG01150/hifi_reads/m84091_230905_202807_s3.hifi_reads.bc1018.bam'],\n",
       "       ['s3://human-pangenomics/submissions/573E04D5-CDDE-43B8-94D9-D00DD7B471AB--RU_Y3_topoff/HG01150/hifi_reads/m84091_230905_202807_s3.hifi_reads.bc1019.bam'],\n",
       "       ['s3://human-pangenomics/submissions/573E04D5-CDDE-43B8-94D9-D00DD7B471AB--RU_Y3_topoff/HG01150/hifi_reads/m84091_230905_202807_s3.hifi_reads.unassigned.bam'],\n",
       "       ['s3://human-pangenomics/submissions/573E04D5-CDDE-43B8-94D9-D00DD7B471AB--RU_Y3_topoff/HG01150/hifi_reads/m84091_231004_192043_s3.hifi_reads.bc1016.bam'],\n",
       "       ['s3://human-pangenomics/submissions/573E04D5-CDDE-43B8-94D9-D00DD7B471AB--RU_Y3_topoff/HG01150/hifi_reads/m84091_231004_192043_s3.hifi_reads.bc1019.bam'],\n",
       "       ['s3://human-pangenomics/submissions/573E04D5-CDDE-43B8-94D9-D00DD7B471AB--RU_Y3_topoff/HG01150/hifi_reads/m84091_231004_192043_s3.hifi_reads.unassigned.bam'],\n",
       "       ['s3://human-pangenomics/submissions/573E04D5-CDDE-43B8-94D9-D00DD7B471AB--RU_Y3_topoff/HG01252/hifi_reads/m84091_230905_205913_s4.hifi_reads.bc1017.bam'],\n",
       "       ['s3://human-pangenomics/submissions/573E04D5-CDDE-43B8-94D9-D00DD7B471AB--RU_Y3_topoff/HG01252/hifi_reads/m84091_230905_205913_s4.hifi_reads.bc1020.bam'],\n",
       "       ['s3://human-pangenomics/submissions/573E04D5-CDDE-43B8-94D9-D00DD7B471AB--RU_Y3_topoff/HG01252/hifi_reads/m84091_230905_205913_s4.hifi_reads.unassigned.bam'],\n",
       "       ['s3://human-pangenomics/submissions/573E04D5-CDDE-43B8-94D9-D00DD7B471AB--RU_Y3_topoff/HG01530/hifi_reads/m84091_231208_194716_s4.hifi_reads.bc1008.bam'],\n",
       "       ['s3://human-pangenomics/submissions/573E04D5-CDDE-43B8-94D9-D00DD7B471AB--RU_Y3_topoff/HG01530/hifi_reads/m84091_231208_194716_s4.hifi_reads.bc1021.bam'],\n",
       "       ['s3://human-pangenomics/submissions/573E04D5-CDDE-43B8-94D9-D00DD7B471AB--RU_Y3_topoff/HG01530/hifi_reads/m84091_231208_194716_s4.hifi_reads.unassigned.bam'],\n",
       "       ['s3://human-pangenomics/submissions/573E04D5-CDDE-43B8-94D9-D00DD7B471AB--RU_Y3_topoff/HG01530/hifi_reads/m84091_231208_201822_s1.hifi_reads.bc1011.bam'],\n",
       "       ['s3://human-pangenomics/submissions/573E04D5-CDDE-43B8-94D9-D00DD7B471AB--RU_Y3_topoff/HG01530/hifi_reads/m84091_231208_201822_s1.hifi_reads.bc1021.bam'],\n",
       "       ['s3://human-pangenomics/submissions/573E04D5-CDDE-43B8-94D9-D00DD7B471AB--RU_Y3_topoff/HG01530/hifi_reads/m84091_231208_201822_s1.hifi_reads.unassigned.bam'],\n",
       "       ['s3://human-pangenomics/submissions/573E04D5-CDDE-43B8-94D9-D00DD7B471AB--RU_Y3_topoff/HG01530/hifi_reads/m84091_231208_204928_s2.hifi_reads.bc1018.bam'],\n",
       "       ['s3://human-pangenomics/submissions/573E04D5-CDDE-43B8-94D9-D00DD7B471AB--RU_Y3_topoff/HG01530/hifi_reads/m84091_231208_204928_s2.hifi_reads.bc1021.bam'],\n",
       "       ['s3://human-pangenomics/submissions/573E04D5-CDDE-43B8-94D9-D00DD7B471AB--RU_Y3_topoff/HG01530/hifi_reads/m84091_231208_204928_s2.hifi_reads.unassigned.bam'],\n",
       "       ['s3://human-pangenomics/submissions/573E04D5-CDDE-43B8-94D9-D00DD7B471AB--RU_Y3_topoff/HG01784/hifi_reads/m84091_231120_182829_s1.hifi_reads.bc1017.bam'],\n",
       "       ['s3://human-pangenomics/submissions/573E04D5-CDDE-43B8-94D9-D00DD7B471AB--RU_Y3_topoff/HG01784/hifi_reads/m84091_231120_182829_s1.hifi_reads.bc1019.bam'],\n",
       "       ['s3://human-pangenomics/submissions/573E04D5-CDDE-43B8-94D9-D00DD7B471AB--RU_Y3_topoff/HG01784/hifi_reads/m84091_231120_182829_s1.hifi_reads.unassigned.bam'],\n",
       "       ['s3://human-pangenomics/submissions/573E04D5-CDDE-43B8-94D9-D00DD7B471AB--RU_Y3_topoff/HG01940/hifi_reads/m84091_240110_191713_s4.hifi_reads.bc1010.bam'],\n",
       "       ['s3://human-pangenomics/submissions/573E04D5-CDDE-43B8-94D9-D00DD7B471AB--RU_Y3_topoff/HG01940/hifi_reads/m84091_240110_191713_s4.hifi_reads.unassigned.bam'],\n",
       "       ['s3://human-pangenomics/submissions/573E04D5-CDDE-43B8-94D9-D00DD7B471AB--RU_Y3_topoff/HG01960/hifi_reads/m84091_230817_150246_s3.hifi_reads.bc1012.bam'],\n",
       "       ['s3://human-pangenomics/submissions/573E04D5-CDDE-43B8-94D9-D00DD7B471AB--RU_Y3_topoff/HG01960/hifi_reads/m84091_230817_150246_s3.hifi_reads.bc1015.bam'],\n",
       "       ['s3://human-pangenomics/submissions/573E04D5-CDDE-43B8-94D9-D00DD7B471AB--RU_Y3_topoff/HG01960/hifi_reads/m84091_230817_150246_s3.hifi_reads.unassigned.bam'],\n",
       "       ['s3://human-pangenomics/submissions/573E04D5-CDDE-43B8-94D9-D00DD7B471AB--RU_Y3_topoff/HG01969/hifi_reads/m84091_240110_201841_s2.hifi_reads.bc1002.bam'],\n",
       "       ['s3://human-pangenomics/submissions/573E04D5-CDDE-43B8-94D9-D00DD7B471AB--RU_Y3_topoff/HG01969/hifi_reads/m84091_240110_201841_s2.hifi_reads.unassigned.bam'],\n",
       "       ['s3://human-pangenomics/submissions/573E04D5-CDDE-43B8-94D9-D00DD7B471AB--RU_Y3_topoff/HG02391/hifi_reads/m84091_231120_185935_s2.hifi_reads.bc1010.bam'],\n",
       "       ['s3://human-pangenomics/submissions/573E04D5-CDDE-43B8-94D9-D00DD7B471AB--RU_Y3_topoff/HG02391/hifi_reads/m84091_231120_185935_s2.hifi_reads.bc1016.bam'],\n",
       "       ['s3://human-pangenomics/submissions/573E04D5-CDDE-43B8-94D9-D00DD7B471AB--RU_Y3_topoff/HG02391/hifi_reads/m84091_231120_185935_s2.hifi_reads.unassigned.bam'],\n",
       "       ['s3://human-pangenomics/submissions/573E04D5-CDDE-43B8-94D9-D00DD7B471AB--RU_Y3_topoff/HG02514/hifi_reads/m84091_240110_194735_s1.hifi_reads.bc1001.bam'],\n",
       "       ['s3://human-pangenomics/submissions/573E04D5-CDDE-43B8-94D9-D00DD7B471AB--RU_Y3_topoff/HG02514/hifi_reads/m84091_240110_194735_s1.hifi_reads.unassigned.bam'],\n",
       "       ['s3://human-pangenomics/submissions/573E04D5-CDDE-43B8-94D9-D00DD7B471AB--RU_Y3_topoff/HG02841/hifi_reads/m84091_230905_192642_s1.hifi_reads.bc1015.bam'],\n",
       "       ['s3://human-pangenomics/submissions/573E04D5-CDDE-43B8-94D9-D00DD7B471AB--RU_Y3_topoff/HG02841/hifi_reads/m84091_230905_192642_s1.hifi_reads.bc1016.bam'],\n",
       "       ['s3://human-pangenomics/submissions/573E04D5-CDDE-43B8-94D9-D00DD7B471AB--RU_Y3_topoff/HG02841/hifi_reads/m84091_230905_192642_s1.hifi_reads.bc1018.bam'],\n",
       "       ['s3://human-pangenomics/submissions/573E04D5-CDDE-43B8-94D9-D00DD7B471AB--RU_Y3_topoff/HG02841/hifi_reads/m84091_230905_192642_s1.hifi_reads.bc1019.bam'],\n",
       "       ['s3://human-pangenomics/submissions/573E04D5-CDDE-43B8-94D9-D00DD7B471AB--RU_Y3_topoff/HG02841/hifi_reads/m84091_230905_192642_s1.hifi_reads.unassigned.bam'],\n",
       "       ['s3://human-pangenomics/submissions/573E04D5-CDDE-43B8-94D9-D00DD7B471AB--RU_Y3_topoff/HG02841/hifi_reads/m84091_230905_195701_s2.hifi_reads.bc1015.bam'],\n",
       "       ['s3://human-pangenomics/submissions/573E04D5-CDDE-43B8-94D9-D00DD7B471AB--RU_Y3_topoff/HG02841/hifi_reads/m84091_230905_195701_s2.hifi_reads.bc1016.bam'],\n",
       "       ['s3://human-pangenomics/submissions/573E04D5-CDDE-43B8-94D9-D00DD7B471AB--RU_Y3_topoff/HG02841/hifi_reads/m84091_230905_195701_s2.hifi_reads.bc1018.bam'],\n",
       "       ['s3://human-pangenomics/submissions/573E04D5-CDDE-43B8-94D9-D00DD7B471AB--RU_Y3_topoff/HG02841/hifi_reads/m84091_230905_195701_s2.hifi_reads.bc1019.bam'],\n",
       "       ['s3://human-pangenomics/submissions/573E04D5-CDDE-43B8-94D9-D00DD7B471AB--RU_Y3_topoff/HG02841/hifi_reads/m84091_230905_195701_s2.hifi_reads.unassigned.bam'],\n",
       "       ['s3://human-pangenomics/submissions/573E04D5-CDDE-43B8-94D9-D00DD7B471AB--RU_Y3_topoff/HG02841/hifi_reads/m84091_230905_202807_s3.hifi_reads.bc1015.bam'],\n",
       "       ['s3://human-pangenomics/submissions/573E04D5-CDDE-43B8-94D9-D00DD7B471AB--RU_Y3_topoff/HG02841/hifi_reads/m84091_230905_202807_s3.hifi_reads.bc1016.bam'],\n",
       "       ['s3://human-pangenomics/submissions/573E04D5-CDDE-43B8-94D9-D00DD7B471AB--RU_Y3_topoff/HG02841/hifi_reads/m84091_230905_202807_s3.hifi_reads.bc1018.bam'],\n",
       "       ['s3://human-pangenomics/submissions/573E04D5-CDDE-43B8-94D9-D00DD7B471AB--RU_Y3_topoff/HG02841/hifi_reads/m84091_230905_202807_s3.hifi_reads.bc1019.bam'],\n",
       "       ['s3://human-pangenomics/submissions/573E04D5-CDDE-43B8-94D9-D00DD7B471AB--RU_Y3_topoff/HG02841/hifi_reads/m84091_230905_202807_s3.hifi_reads.unassigned.bam'],\n",
       "       ['s3://human-pangenomics/submissions/573E04D5-CDDE-43B8-94D9-D00DD7B471AB--RU_Y3_topoff/HG02984/hifi_reads/m84091_231004_192043_s3.hifi_reads.bc1016.bam'],\n",
       "       ['s3://human-pangenomics/submissions/573E04D5-CDDE-43B8-94D9-D00DD7B471AB--RU_Y3_topoff/HG02984/hifi_reads/m84091_231004_192043_s3.hifi_reads.bc1019.bam'],\n",
       "       ['s3://human-pangenomics/submissions/573E04D5-CDDE-43B8-94D9-D00DD7B471AB--RU_Y3_topoff/HG02984/hifi_reads/m84091_231004_192043_s3.hifi_reads.unassigned.bam'],\n",
       "       ['s3://human-pangenomics/submissions/573E04D5-CDDE-43B8-94D9-D00DD7B471AB--RU_Y3_topoff/HG03050/hifi_reads/m84091_230905_205913_s4.hifi_reads.bc1017.bam'],\n",
       "       ['s3://human-pangenomics/submissions/573E04D5-CDDE-43B8-94D9-D00DD7B471AB--RU_Y3_topoff/HG03050/hifi_reads/m84091_230905_205913_s4.hifi_reads.bc1020.bam'],\n",
       "       ['s3://human-pangenomics/submissions/573E04D5-CDDE-43B8-94D9-D00DD7B471AB--RU_Y3_topoff/HG03050/hifi_reads/m84091_230905_205913_s4.hifi_reads.unassigned.bam'],\n",
       "       ['s3://human-pangenomics/submissions/573E04D5-CDDE-43B8-94D9-D00DD7B471AB--RU_Y3_topoff/HG03458/hifi_reads/m84091_231208_201822_s1.hifi_reads.bc1011.bam'],\n",
       "       ['s3://human-pangenomics/submissions/573E04D5-CDDE-43B8-94D9-D00DD7B471AB--RU_Y3_topoff/HG03458/hifi_reads/m84091_231208_201822_s1.hifi_reads.bc1021.bam'],\n",
       "       ['s3://human-pangenomics/submissions/573E04D5-CDDE-43B8-94D9-D00DD7B471AB--RU_Y3_topoff/HG03458/hifi_reads/m84091_231208_201822_s1.hifi_reads.unassigned.bam'],\n",
       "       ['s3://human-pangenomics/submissions/573E04D5-CDDE-43B8-94D9-D00DD7B471AB--RU_Y3_topoff/HG03470/hifi_reads/m84091_230705_174256_s2.hifi_reads.bc1002.bam'],\n",
       "       ['s3://human-pangenomics/submissions/573E04D5-CDDE-43B8-94D9-D00DD7B471AB--RU_Y3_topoff/HG03470/hifi_reads/m84091_230705_174256_s2.hifi_reads.bc1003.bam'],\n",
       "       ['s3://human-pangenomics/submissions/573E04D5-CDDE-43B8-94D9-D00DD7B471AB--RU_Y3_topoff/HG03470/hifi_reads/m84091_230705_174256_s2.hifi_reads.bc1009.bam'],\n",
       "       ['s3://human-pangenomics/submissions/573E04D5-CDDE-43B8-94D9-D00DD7B471AB--RU_Y3_topoff/HG03470/hifi_reads/m84091_230705_174256_s2.hifi_reads.unassigned.bam'],\n",
       "       ['s3://human-pangenomics/submissions/573E04D5-CDDE-43B8-94D9-D00DD7B471AB--RU_Y3_topoff/HG03470/hifi_reads/m84091_230705_184508_s4.hifi_reads.bc1002.bam'],\n",
       "       ['s3://human-pangenomics/submissions/573E04D5-CDDE-43B8-94D9-D00DD7B471AB--RU_Y3_topoff/HG03470/hifi_reads/m84091_230705_184508_s4.hifi_reads.bc1003.bam'],\n",
       "       ['s3://human-pangenomics/submissions/573E04D5-CDDE-43B8-94D9-D00DD7B471AB--RU_Y3_topoff/HG03470/hifi_reads/m84091_230705_184508_s4.hifi_reads.bc1009.bam'],\n",
       "       ['s3://human-pangenomics/submissions/573E04D5-CDDE-43B8-94D9-D00DD7B471AB--RU_Y3_topoff/HG03470/hifi_reads/m84091_230705_184508_s4.hifi_reads.unassigned.bam'],\n",
       "       ['s3://human-pangenomics/submissions/573E04D5-CDDE-43B8-94D9-D00DD7B471AB--RU_Y3_topoff/HG03742/hifi_reads/m84091_231120_193041_s3.hifi_reads.bc1012.bam'],\n",
       "       ['s3://human-pangenomics/submissions/573E04D5-CDDE-43B8-94D9-D00DD7B471AB--RU_Y3_topoff/HG03742/hifi_reads/m84091_231120_193041_s3.hifi_reads.bc1020.bam'],\n",
       "       ['s3://human-pangenomics/submissions/573E04D5-CDDE-43B8-94D9-D00DD7B471AB--RU_Y3_topoff/HG03742/hifi_reads/m84091_231120_193041_s3.hifi_reads.unassigned.bam'],\n",
       "       ['s3://human-pangenomics/submissions/573E04D5-CDDE-43B8-94D9-D00DD7B471AB--RU_Y3_topoff/NA18570/hifi_reads/m84091_231120_193041_s3.hifi_reads.bc1012.bam'],\n",
       "       ['s3://human-pangenomics/submissions/573E04D5-CDDE-43B8-94D9-D00DD7B471AB--RU_Y3_topoff/NA18570/hifi_reads/m84091_231120_193041_s3.hifi_reads.bc1020.bam'],\n",
       "       ['s3://human-pangenomics/submissions/573E04D5-CDDE-43B8-94D9-D00DD7B471AB--RU_Y3_topoff/NA18570/hifi_reads/m84091_231120_193041_s3.hifi_reads.unassigned.bam'],\n",
       "       ['s3://human-pangenomics/submissions/573E04D5-CDDE-43B8-94D9-D00DD7B471AB--RU_Y3_topoff/NA19087/hifi_reads/m84091_231120_185935_s2.hifi_reads.bc1010.bam'],\n",
       "       ['s3://human-pangenomics/submissions/573E04D5-CDDE-43B8-94D9-D00DD7B471AB--RU_Y3_topoff/NA19087/hifi_reads/m84091_231120_185935_s2.hifi_reads.bc1016.bam'],\n",
       "       ['s3://human-pangenomics/submissions/573E04D5-CDDE-43B8-94D9-D00DD7B471AB--RU_Y3_topoff/NA19087/hifi_reads/m84091_231120_185935_s2.hifi_reads.unassigned.bam'],\n",
       "       ['s3://human-pangenomics/submissions/573E04D5-CDDE-43B8-94D9-D00DD7B471AB--RU_Y3_topoff/NA19159/hifi_reads/m84091_230817_150246_s3.hifi_reads.bc1012.bam'],\n",
       "       ['s3://human-pangenomics/submissions/573E04D5-CDDE-43B8-94D9-D00DD7B471AB--RU_Y3_topoff/NA19159/hifi_reads/m84091_230817_150246_s3.hifi_reads.bc1015.bam'],\n",
       "       ['s3://human-pangenomics/submissions/573E04D5-CDDE-43B8-94D9-D00DD7B471AB--RU_Y3_topoff/NA19159/hifi_reads/m84091_230817_150246_s3.hifi_reads.unassigned.bam'],\n",
       "       ['s3://human-pangenomics/submissions/573E04D5-CDDE-43B8-94D9-D00DD7B471AB--RU_Y3_topoff/NA19185/hifi_reads/m84091_231120_182829_s1.hifi_reads.bc1017.bam'],\n",
       "       ['s3://human-pangenomics/submissions/573E04D5-CDDE-43B8-94D9-D00DD7B471AB--RU_Y3_topoff/NA19185/hifi_reads/m84091_231120_182829_s1.hifi_reads.bc1019.bam'],\n",
       "       ['s3://human-pangenomics/submissions/573E04D5-CDDE-43B8-94D9-D00DD7B471AB--RU_Y3_topoff/NA19185/hifi_reads/m84091_231120_182829_s1.hifi_reads.unassigned.bam'],\n",
       "       ['s3://human-pangenomics/submissions/573E04D5-CDDE-43B8-94D9-D00DD7B471AB--RU_Y3_topoff/NA19338/hifi_reads/m84091_230705_174256_s2.hifi_reads.bc1002.bam'],\n",
       "       ['s3://human-pangenomics/submissions/573E04D5-CDDE-43B8-94D9-D00DD7B471AB--RU_Y3_topoff/NA19338/hifi_reads/m84091_230705_174256_s2.hifi_reads.bc1003.bam'],\n",
       "       ['s3://human-pangenomics/submissions/573E04D5-CDDE-43B8-94D9-D00DD7B471AB--RU_Y3_topoff/NA19338/hifi_reads/m84091_230705_174256_s2.hifi_reads.bc1009.bam'],\n",
       "       ['s3://human-pangenomics/submissions/573E04D5-CDDE-43B8-94D9-D00DD7B471AB--RU_Y3_topoff/NA19338/hifi_reads/m84091_230705_174256_s2.hifi_reads.unassigned.bam'],\n",
       "       ['s3://human-pangenomics/submissions/573E04D5-CDDE-43B8-94D9-D00DD7B471AB--RU_Y3_topoff/NA19338/hifi_reads/m84091_230705_184508_s4.hifi_reads.bc1002.bam'],\n",
       "       ['s3://human-pangenomics/submissions/573E04D5-CDDE-43B8-94D9-D00DD7B471AB--RU_Y3_topoff/NA19338/hifi_reads/m84091_230705_184508_s4.hifi_reads.bc1003.bam'],\n",
       "       ['s3://human-pangenomics/submissions/573E04D5-CDDE-43B8-94D9-D00DD7B471AB--RU_Y3_topoff/NA19338/hifi_reads/m84091_230705_184508_s4.hifi_reads.bc1009.bam'],\n",
       "       ['s3://human-pangenomics/submissions/573E04D5-CDDE-43B8-94D9-D00DD7B471AB--RU_Y3_topoff/NA19338/hifi_reads/m84091_230705_184508_s4.hifi_reads.unassigned.bam'],\n",
       "       ['s3://human-pangenomics/submissions/573E04D5-CDDE-43B8-94D9-D00DD7B471AB--RU_Y3_topoff/NA19338/hifi_reads/m84091_231120_175800_s4.hifi_reads.bc1002.bam'],\n",
       "       ['s3://human-pangenomics/submissions/573E04D5-CDDE-43B8-94D9-D00DD7B471AB--RU_Y3_topoff/NA19338/hifi_reads/m84091_231120_175800_s4.hifi_reads.bc1015.bam'],\n",
       "       ['s3://human-pangenomics/submissions/573E04D5-CDDE-43B8-94D9-D00DD7B471AB--RU_Y3_topoff/NA19338/hifi_reads/m84091_231120_175800_s4.hifi_reads.unassigned.bam'],\n",
       "       ['s3://human-pangenomics/submissions/573E04D5-CDDE-43B8-94D9-D00DD7B471AB--RU_Y3_topoff/NA19391/hifi_reads/m84091_231120_175800_s4.hifi_reads.bc1002.bam'],\n",
       "       ['s3://human-pangenomics/submissions/573E04D5-CDDE-43B8-94D9-D00DD7B471AB--RU_Y3_topoff/NA19391/hifi_reads/m84091_231120_175800_s4.hifi_reads.bc1015.bam'],\n",
       "       ['s3://human-pangenomics/submissions/573E04D5-CDDE-43B8-94D9-D00DD7B471AB--RU_Y3_topoff/NA19391/hifi_reads/m84091_231120_175800_s4.hifi_reads.unassigned.bam'],\n",
       "       ['s3://human-pangenomics/submissions/573E04D5-CDDE-43B8-94D9-D00DD7B471AB--RU_Y3_topoff/NA19468/hifi_reads/m84091_231208_194716_s4.hifi_reads.bc1008.bam'],\n",
       "       ['s3://human-pangenomics/submissions/573E04D5-CDDE-43B8-94D9-D00DD7B471AB--RU_Y3_topoff/NA19468/hifi_reads/m84091_231208_194716_s4.hifi_reads.bc1021.bam'],\n",
       "       ['s3://human-pangenomics/submissions/573E04D5-CDDE-43B8-94D9-D00DD7B471AB--RU_Y3_topoff/NA19468/hifi_reads/m84091_231208_194716_s4.hifi_reads.unassigned.bam'],\n",
       "       ['s3://human-pangenomics/submissions/573E04D5-CDDE-43B8-94D9-D00DD7B471AB--RU_Y3_topoff/NA19468/hifi_reads/m84091_231211_215746_s3.hifi_reads.bc1008.bam'],\n",
       "       ['s3://human-pangenomics/submissions/573E04D5-CDDE-43B8-94D9-D00DD7B471AB--RU_Y3_topoff/NA19468/hifi_reads/m84091_231211_215746_s3.hifi_reads.bc1018.bam'],\n",
       "       ['s3://human-pangenomics/submissions/573E04D5-CDDE-43B8-94D9-D00DD7B471AB--RU_Y3_topoff/NA19468/hifi_reads/m84091_231211_215746_s3.hifi_reads.unassigned.bam'],\n",
       "       ['s3://human-pangenomics/submissions/573E04D5-CDDE-43B8-94D9-D00DD7B471AB--RU_Y3_topoff/NA20799/hifi_reads/m84091_231208_204928_s2.hifi_reads.bc1018.bam'],\n",
       "       ['s3://human-pangenomics/submissions/573E04D5-CDDE-43B8-94D9-D00DD7B471AB--RU_Y3_topoff/NA20799/hifi_reads/m84091_231208_204928_s2.hifi_reads.bc1021.bam'],\n",
       "       ['s3://human-pangenomics/submissions/573E04D5-CDDE-43B8-94D9-D00DD7B471AB--RU_Y3_topoff/NA20799/hifi_reads/m84091_231208_204928_s2.hifi_reads.unassigned.bam'],\n",
       "       ['s3://human-pangenomics/submissions/573E04D5-CDDE-43B8-94D9-D00DD7B471AB--RU_Y3_topoff/NA20799/hifi_reads/m84091_231211_215746_s3.hifi_reads.bc1008.bam'],\n",
       "       ['s3://human-pangenomics/submissions/573E04D5-CDDE-43B8-94D9-D00DD7B471AB--RU_Y3_topoff/NA20799/hifi_reads/m84091_231211_215746_s3.hifi_reads.bc1018.bam'],\n",
       "       ['s3://human-pangenomics/submissions/573E04D5-CDDE-43B8-94D9-D00DD7B471AB--RU_Y3_topoff/NA20799/hifi_reads/m84091_231211_215746_s3.hifi_reads.unassigned.bam']],\n",
       "      dtype=object)"
      ]
     },
     "execution_count": 24,
     "metadata": {},
     "output_type": "execute_result"
    }
   ],
   "source": [
    "ru_y3_topoff = ru_y3_topoff[ru_y3_topoff[0].str.contains('unassigned')]"
   ]
  },
  {
   "cell_type": "code",
   "execution_count": 12,
   "metadata": {},
   "outputs": [],
   "source": [
    "other_reads = []\n",
    "for sample in [sample.split('/')[-3] for sample in ru_y3_topoff[0].tolist()]:\n",
    "\tother_reads_path = glob.glob('/private/groups/hprc/human-pangenomics/1000G_local/child/cram_to_bam/'+sample+'/*/*/*/*')\n",
    "\tif other_reads_path == []:\n",
    "\t\tother_reads_path = glob.glob('/private/groups/hprc/1000G_local/child/fastq/' + sample + '.*')\n",
    "\t\tother_reads.append([other_reads_path[0]])\n",
    "\telse:\n",
    "\t\tother_reads.append([other_reads_path[0]])\n",
    "ru_y3_topoff['other_reads'] = other_reads\n",
    "ru_y3_topoff['perform_methylation_check'] = 'true'\n"
   ]
  },
  {
   "cell_type": "code",
   "execution_count": 13,
   "metadata": {},
   "outputs": [],
   "source": [
    "ru_y3_topoff['sample_id'] = [sample.split('/')[-1] for sample in ru_y3_topoff[0].tolist()]"
   ]
  },
  {
   "cell_type": "code",
   "execution_count": 14,
   "metadata": {},
   "outputs": [],
   "source": [
    "ru_y3_topoff.rename(columns={0:'hifi_reads'},inplace=True)"
   ]
  },
  {
   "cell_type": "code",
   "execution_count": 20,
   "metadata": {},
   "outputs": [],
   "source": [
    "ru_y3_topoff[['sample_id','hifi_reads', 'other_reads', 'perform_methylation_check']].to_csv('hifi_qc/hifi_qc_sample_files.csv', index=False)"
   ]
  }
 ],
 "metadata": {
  "kernelspec": {
   "display_name": "Python 3",
   "language": "python",
   "name": "python3"
  },
  "language_info": {
   "codemirror_mode": {
    "name": "ipython",
    "version": 3
   },
   "file_extension": ".py",
   "mimetype": "text/x-python",
   "name": "python",
   "nbconvert_exporter": "python",
   "pygments_lexer": "ipython3",
   "version": "3.10.14"
  }
 },
 "nbformat": 4,
 "nbformat_minor": 2
}
