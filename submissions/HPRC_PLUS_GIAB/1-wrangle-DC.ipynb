{
 "cells": [
  {
   "cell_type": "code",
   "execution_count": 1,
   "metadata": {},
   "outputs": [],
   "source": [
    "import ast\n",
    "import pandas as pd"
   ]
  },
  {
   "cell_type": "code",
   "execution_count": 2,
   "metadata": {},
   "outputs": [],
   "source": [
    "hprc_plus_giab = pd.read_csv('HPRC_PLUS_GIAB.csv',header=None)"
   ]
  },
  {
   "cell_type": "code",
   "execution_count": 3,
   "metadata": {},
   "outputs": [],
   "source": [
    "hprc_plus_giab['sample'] = [sample.split('/')[-2] for sample in hprc_plus_giab[0].tolist()]\n",
    "hprc_plus_giab['bam_file'] = [sample.split('/')[-1] for sample in hprc_plus_giab[0].tolist()]"
   ]
  },
  {
   "cell_type": "code",
   "execution_count": 4,
   "metadata": {},
   "outputs": [],
   "source": [
    "hprc_plus_giab['sample_id'] = hprc_plus_giab['sample'] + '-' + hprc_plus_giab['bam_file']"
   ]
  },
  {
   "cell_type": "code",
   "execution_count": 5,
   "metadata": {},
   "outputs": [],
   "source": [
    "hprc_plus_giab.rename(columns={0:'hifi_reads'},inplace=True)"
   ]
  },
  {
   "cell_type": "code",
   "execution_count": 16,
   "metadata": {},
   "outputs": [
    {
     "name": "stderr",
     "output_type": "stream",
     "text": [
      "/data/tmp/ipykernel_2137846/2567034038.py:15: SettingWithCopyWarning: \n",
      "A value is trying to be set on a copy of a slice from a DataFrame.\n",
      "Try using .loc[row_indexer,col_indexer] = value instead\n",
      "\n",
      "See the caveats in the documentation: https://pandas.pydata.org/pandas-docs/stable/user_guide/indexing.html#returning-a-view-versus-a-copy\n",
      "  hprc_plus_giab_HG002['other_reads'] = hprc_plus_giab_HG002.apply(lambda row: new_list, axis=1)\n"
     ]
    }
   ],
   "source": [
    "# s3://human-pangenomics/working/HPRC_PLUS/HG002/raw_data/Illumina/child/HG002_HiSeq30x_subsampled_R1.fastq.gz, s3://human-pangenomics/working/HPRC_PLUS/HG002/raw_data/Illumina/child/HG002_HiSeq30x_subsampled_R2.fastq.gz\n",
    "hprc_plus_giab_HG002 = hprc_plus_giab[hprc_plus_giab['sample'].isin(['HG002'])]\n",
    "\n",
    "# # Initialize 'other_reads' column if it doesn't exist\n",
    "# if 'other_reads' not in hprc_plus_giab_HG002.columns:\n",
    "#     hprc_plus_giab_HG002['other_reads'] = [[] for _ in range(len(hprc_plus_giab_HG002))]\n",
    "\n",
    "new_list = ['s3://human-pangenomics/working/HPRC_PLUS/HG002/raw_data/Illumina/child/HG002_HiSeq30x_subsampled_R1.fastq.gz', 's3://human-pangenomics/working/HPRC_PLUS/HG002/raw_data/Illumina/child/HG002_HiSeq30x_subsampled_R2.fastq.gz'] \n",
    "#* hprc_plus_giab_HG002.shape[0]\n",
    "\n",
    "# Now add the new list to each entry\n",
    "# hprc_plus_giab_HG002['other_reads'] = hprc_plus_giab_HG002['other_reads'].apply(lambda x: x + )\n",
    "\n",
    "\n",
    "hprc_plus_giab_HG002['other_reads'] = hprc_plus_giab_HG002.apply(lambda row: new_list, axis=1)\n"
   ]
  },
  {
   "cell_type": "code",
   "execution_count": 17,
   "metadata": {},
   "outputs": [
    {
     "data": {
      "text/plain": [
       "array([[list(['s3://human-pangenomics/working/HPRC_PLUS/HG002/raw_data/Illumina/child/HG002_HiSeq30x_subsampled_R1.fastq.gz', 's3://human-pangenomics/working/HPRC_PLUS/HG002/raw_data/Illumina/child/HG002_HiSeq30x_subsampled_R2.fastq.gz'])],\n",
       "       [list(['s3://human-pangenomics/working/HPRC_PLUS/HG002/raw_data/Illumina/child/HG002_HiSeq30x_subsampled_R1.fastq.gz', 's3://human-pangenomics/working/HPRC_PLUS/HG002/raw_data/Illumina/child/HG002_HiSeq30x_subsampled_R2.fastq.gz'])],\n",
       "       [list(['s3://human-pangenomics/working/HPRC_PLUS/HG002/raw_data/Illumina/child/HG002_HiSeq30x_subsampled_R1.fastq.gz', 's3://human-pangenomics/working/HPRC_PLUS/HG002/raw_data/Illumina/child/HG002_HiSeq30x_subsampled_R2.fastq.gz'])],\n",
       "       [list(['s3://human-pangenomics/working/HPRC_PLUS/HG002/raw_data/Illumina/child/HG002_HiSeq30x_subsampled_R1.fastq.gz', 's3://human-pangenomics/working/HPRC_PLUS/HG002/raw_data/Illumina/child/HG002_HiSeq30x_subsampled_R2.fastq.gz'])],\n",
       "       [list(['s3://human-pangenomics/working/HPRC_PLUS/HG002/raw_data/Illumina/child/HG002_HiSeq30x_subsampled_R1.fastq.gz', 's3://human-pangenomics/working/HPRC_PLUS/HG002/raw_data/Illumina/child/HG002_HiSeq30x_subsampled_R2.fastq.gz'])],\n",
       "       [list(['s3://human-pangenomics/working/HPRC_PLUS/HG002/raw_data/Illumina/child/HG002_HiSeq30x_subsampled_R1.fastq.gz', 's3://human-pangenomics/working/HPRC_PLUS/HG002/raw_data/Illumina/child/HG002_HiSeq30x_subsampled_R2.fastq.gz'])],\n",
       "       [list(['s3://human-pangenomics/working/HPRC_PLUS/HG002/raw_data/Illumina/child/HG002_HiSeq30x_subsampled_R1.fastq.gz', 's3://human-pangenomics/working/HPRC_PLUS/HG002/raw_data/Illumina/child/HG002_HiSeq30x_subsampled_R2.fastq.gz'])],\n",
       "       [list(['s3://human-pangenomics/working/HPRC_PLUS/HG002/raw_data/Illumina/child/HG002_HiSeq30x_subsampled_R1.fastq.gz', 's3://human-pangenomics/working/HPRC_PLUS/HG002/raw_data/Illumina/child/HG002_HiSeq30x_subsampled_R2.fastq.gz'])]],\n",
       "      dtype=object)"
      ]
     },
     "execution_count": 17,
     "metadata": {},
     "output_type": "execute_result"
    }
   ],
   "source": [
    "hprc_plus_giab_HG002[['other_reads']].values"
   ]
  },
  {
   "cell_type": "code",
   "execution_count": 19,
   "metadata": {},
   "outputs": [
    {
     "name": "stderr",
     "output_type": "stream",
     "text": [
      "/data/tmp/ipykernel_2137846/3866103358.py:12: SettingWithCopyWarning: \n",
      "A value is trying to be set on a copy of a slice from a DataFrame.\n",
      "Try using .loc[row_indexer,col_indexer] = value instead\n",
      "\n",
      "See the caveats in the documentation: https://pandas.pydata.org/pandas-docs/stable/user_guide/indexing.html#returning-a-view-versus-a-copy\n",
      "  hprc_plus_giab_HG005['other_reads'] = hprc_plus_giab_HG005.apply(lambda row: new_list, axis=1)\n"
     ]
    }
   ],
   "source": [
    "\n",
    "hprc_plus_giab_HG005 = hprc_plus_giab[hprc_plus_giab['sample'].isin(['HG005'])]\n",
    "\n",
    "# Initialize 'other_reads' column if it doesn't exist\n",
    "# if 'other_reads' not in hprc_plus_giab_HG005.columns:\n",
    "    # hprc_plus_giab_HG005['other_reads'] = [[] for _ in range(len(hprc_plus_giab_HG005))]\n",
    "\n",
    "# Now add the new list to each entry\n",
    "new_list =  [\"s3://human-pangenomics/working/HPRC_PLUS/HG005/raw_data/Illumina/child/5A1-24481579/5A1_S5_L001_R1_001.fastq.gz\", \"s3://human-pangenomics/working/HPRC_PLUS/HG005/raw_data/Illumina/child/5A1-24481579/5A1_S5_L001_R2_001.fastq.gz\", \"s3://human-pangenomics/working/HPRC_PLUS/HG005/raw_data/Illumina/child/5A1-24481579/5A1_S5_L002_R1_001.fastq.gz\", \"s3://human-pangenomics/working/HPRC_PLUS/HG005/raw_data/Illumina/child/5A1-24481579/5A1_S5_L002_R2_001.fastq.gz\", \"s3://human-pangenomics/working/HPRC_PLUS/HG005/raw_data/Illumina/child/5A2-24481580/5A2_S6_L001_R1_001.fastq.gz\", \"s3://human-pangenomics/working/HPRC_PLUS/HG005/raw_data/Illumina/child/5A2-24481580/5A2_S6_L001_R2_001.fastq.gz\", \"s3://human-pangenomics/working/HPRC_PLUS/HG005/raw_data/Illumina/child/5A2-24481580/5A2_S6_L002_R1_001.fastq.gz\", \"s3://human-pangenomics/working/HPRC_PLUS/HG005/raw_data/Illumina/child/5A2-24481580/5A2_S6_L002_R2_001.fastq.gz\", \"s3://human-pangenomics/working/HPRC_PLUS/HG005/raw_data/Illumina/child/5B1-24481581/5B1_S7_L001_R1_001.fastq.gz\", \"s3://human-pangenomics/working/HPRC_PLUS/HG005/raw_data/Illumina/child/5B1-24481581/5B1_S7_L001_R2_001.fastq.gz\", \"s3://human-pangenomics/working/HPRC_PLUS/HG005/raw_data/Illumina/child/5B1-24481581/5B1_S7_L002_R1_001.fastq.gz\", \"s3://human-pangenomics/working/HPRC_PLUS/HG005/raw_data/Illumina/child/5B1-24481581/5B1_S7_L002_R2_001.fastq.gz\", \"s3://human-pangenomics/working/HPRC_PLUS/HG005/raw_data/Illumina/child/5B2-24481582/5B2_S8_L001_R1_001.fastq.gz\", \"s3://human-pangenomics/working/HPRC_PLUS/HG005/raw_data/Illumina/child/5B2-24481582/5B2_S8_L001_R2_001.fastq.gz\", \"s3://human-pangenomics/working/HPRC_PLUS/HG005/raw_data/Illumina/child/5B2-24481582/5B2_S8_L002_R1_001.fastq.gz\", \"s3://human-pangenomics/working/HPRC_PLUS/HG005/raw_data/Illumina/child/5B2-24481582/5B2_S8_L002_R2_001.fastq.gz\", \"s3://human-pangenomics/working/HPRC_PLUS/HG005/raw_data/Illumina/child/5C1-24481583/5C1_S9_L001_R1_001.fastq.gz\", \"s3://human-pangenomics/working/HPRC_PLUS/HG005/raw_data/Illumina/child/5C1-24481583/5C1_S9_L001_R2_001.fastq.gz\", \"s3://human-pangenomics/working/HPRC_PLUS/HG005/raw_data/Illumina/child/5C1-24481583/5C1_S9_L002_R1_001.fastq.gz\", \"s3://human-pangenomics/working/HPRC_PLUS/HG005/raw_data/Illumina/child/5C1-24481583/5C1_S9_L002_R2_001.fastq.gz\", \"s3://human-pangenomics/working/HPRC_PLUS/HG005/raw_data/Illumina/child/5C2-24481584/5C2_S10_L001_R1_001.fastq.gz\", \"s3://human-pangenomics/working/HPRC_PLUS/HG005/raw_data/Illumina/child/5C2-24481584/5C2_S10_L001_R2_001.fastq.gz\", \"s3://human-pangenomics/working/HPRC_PLUS/HG005/raw_data/Illumina/child/5C2-24481584/5C2_S10_L002_R1_001.fastq.gz\", \"s3://human-pangenomics/working/HPRC_PLUS/HG005/raw_data/Illumina/child/5C2-24481584/5C2_S10_L002_R2_001.fastq.gz\", \"s3://human-pangenomics/working/HPRC_PLUS/HG005/raw_data/Illumina/child/5D1-24481585/5D1_S11_L001_R1_001.fastq.gz\", \"s3://human-pangenomics/working/HPRC_PLUS/HG005/raw_data/Illumina/child/5D1-24481585/5D1_S11_L001_R2_001.fastq.gz\", \"s3://human-pangenomics/working/HPRC_PLUS/HG005/raw_data/Illumina/child/5D1-24481585/5D1_S11_L002_R1_001.fastq.gz\", \"s3://human-pangenomics/working/HPRC_PLUS/HG005/raw_data/Illumina/child/5D1-24481585/5D1_S11_L002_R2_001.fastq.gz\", \"s3://human-pangenomics/working/HPRC_PLUS/HG005/raw_data/Illumina/child/5D2-24481586/5D2_S12_L001_R1_001.fastq.gz\", \"s3://human-pangenomics/working/HPRC_PLUS/HG005/raw_data/Illumina/child/5D2-24481586/5D2_S12_L001_R2_001.fastq.gz\", \"s3://human-pangenomics/working/HPRC_PLUS/HG005/raw_data/Illumina/child/5D2-24481586/5D2_S12_L002_R1_001.fastq.gz\", \"s3://human-pangenomics/working/HPRC_PLUS/HG005/raw_data/Illumina/child/5D2-24481586/5D2_S12_L002_R2_001.fastq.gz\", \"s3://human-pangenomics/working/HPRC_PLUS/HG005/raw_data/Illumina/child/5F1-24481575/5F1_S1_L001_R1_001.fastq.gz\", \"s3://human-pangenomics/working/HPRC_PLUS/HG005/raw_data/Illumina/child/5F1-24481575/5F1_S1_L001_R2_001.fastq.gz\", \"s3://human-pangenomics/working/HPRC_PLUS/HG005/raw_data/Illumina/child/5F1-24481575/5F1_S1_L002_R1_001.fastq.gz\", \"s3://human-pangenomics/working/HPRC_PLUS/HG005/raw_data/Illumina/child/5F1-24481575/5F1_S1_L002_R2_001.fastq.gz\", \"s3://human-pangenomics/working/HPRC_PLUS/HG005/raw_data/Illumina/child/5F2-24481576/5F2_S2_L001_R1_001.fastq.gz\", \"s3://human-pangenomics/working/HPRC_PLUS/HG005/raw_data/Illumina/child/5F2-24481576/5F2_S2_L001_R2_001.fastq.gz\", \"s3://human-pangenomics/working/HPRC_PLUS/HG005/raw_data/Illumina/child/5F2-24481576/5F2_S2_L002_R1_001.fastq.gz\", \"s3://human-pangenomics/working/HPRC_PLUS/HG005/raw_data/Illumina/child/5F2-24481576/5F2_S2_L002_R2_001.fastq.gz\", \"s3://human-pangenomics/working/HPRC_PLUS/HG005/raw_data/Illumina/child/5L1-24481577/5L1_S3_L001_R1_001.fastq.gz\", \"s3://human-pangenomics/working/HPRC_PLUS/HG005/raw_data/Illumina/child/5L1-24481577/5L1_S3_L001_R2_001.fastq.gz\", \"s3://human-pangenomics/working/HPRC_PLUS/HG005/raw_data/Illumina/child/5L1-24481577/5L1_S3_L002_R1_001.fastq.gz\", \"s3://human-pangenomics/working/HPRC_PLUS/HG005/raw_data/Illumina/child/5L1-24481577/5L1_S3_L002_R2_001.fastq.gz\", \"s3://human-pangenomics/working/HPRC_PLUS/HG005/raw_data/Illumina/child/5L2-24481578/5L2_S4_L001_R1_001.fastq.gz\", \"s3://human-pangenomics/working/HPRC_PLUS/HG005/raw_data/Illumina/child/5L2-24481578/5L2_S4_L001_R2_001.fastq.gz\", \"s3://human-pangenomics/working/HPRC_PLUS/HG005/raw_data/Illumina/child/5L2-24481578/5L2_S4_L002_R1_001.fastq.gz\", \"s3://human-pangenomics/working/HPRC_PLUS/HG005/raw_data/Illumina/child/5L2-24481578/5L2_S4_L002_R2_001.fastq.gz\"]\n",
    "\n",
    "#* hprc_plus_giab_HG005.shape[0]\n",
    "\n",
    "hprc_plus_giab_HG005['other_reads'] = hprc_plus_giab_HG005.apply(lambda row: new_list, axis=1)\n"
   ]
  },
  {
   "cell_type": "code",
   "execution_count": 20,
   "metadata": {},
   "outputs": [],
   "source": [
    "hprc_plus_giab = pd.concat([hprc_plus_giab_HG002, hprc_plus_giab_HG005])"
   ]
  },
  {
   "cell_type": "code",
   "execution_count": 54,
   "metadata": {},
   "outputs": [],
   "source": [
    "# hprc_plus_giab['other_reads'] = hprc_plus_giab['other_reads'].apply(lambda x: x if isinstance(x, list) else [x])"
   ]
  },
  {
   "cell_type": "code",
   "execution_count": 21,
   "metadata": {},
   "outputs": [],
   "source": [
    "hprc_plus_giab['sample_id'] = hprc_plus_giab['sample'] + '-' + hprc_plus_giab['bam_file']\n",
    "hprc_plus_giab['perform_methylation_check'] = 'false'"
   ]
  },
  {
   "cell_type": "code",
   "execution_count": 22,
   "metadata": {},
   "outputs": [],
   "source": [
    "hprc_plus_giab = hprc_plus_giab[['sample_id','hifi_reads','other_reads','perform_methylation_check']]\n"
   ]
  },
  {
   "cell_type": "code",
   "execution_count": 23,
   "metadata": {},
   "outputs": [
    {
     "data": {
      "text/plain": [
       "['s3://human-pangenomics/working/HPRC_PLUS/HG002/raw_data/Illumina/child/HG002_HiSeq30x_subsampled_R1.fastq.gz',\n",
       " 's3://human-pangenomics/working/HPRC_PLUS/HG002/raw_data/Illumina/child/HG002_HiSeq30x_subsampled_R2.fastq.gz']"
      ]
     },
     "execution_count": 23,
     "metadata": {},
     "output_type": "execute_result"
    }
   ],
   "source": [
    "hprc_plus_giab['other_reads'].tolist()[0]"
   ]
  },
  {
   "cell_type": "code",
   "execution_count": 24,
   "metadata": {},
   "outputs": [],
   "source": [
    "hprc_plus_giab.to_csv('hifi_qc/hifi_qc_sample_files.csv',index=False)"
   ]
  }
 ],
 "metadata": {
  "kernelspec": {
   "display_name": "Python 3",
   "language": "python",
   "name": "python3"
  },
  "language_info": {
   "codemirror_mode": {
    "name": "ipython",
    "version": 3
   },
   "file_extension": ".py",
   "mimetype": "text/x-python",
   "name": "python",
   "nbconvert_exporter": "python",
   "pygments_lexer": "ipython3",
   "version": "3.10.14"
  }
 },
 "nbformat": 4,
 "nbformat_minor": 2
}
