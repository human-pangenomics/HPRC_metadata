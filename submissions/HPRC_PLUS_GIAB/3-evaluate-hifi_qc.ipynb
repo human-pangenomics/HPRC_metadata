{
 "cells": [
  {
   "cell_type": "code",
   "execution_count": 1,
   "metadata": {},
   "outputs": [],
   "source": [
    "import pandas as pd"
   ]
  },
  {
   "cell_type": "code",
   "execution_count": 2,
   "metadata": {},
   "outputs": [],
   "source": [
    "hifi_df = pd.read_csv('hifi_qc/hifi_qc_samples_output_table.csv')\n",
    "hifi_qc = pd.concat([pd.read_csv(qc,sep='\\t') for qc in hifi_df['hifi_qc_summary'].tolist()])\n",
    "hifi_qc['sample_id'] = [sample.split('-')[0] for sample in hifi_qc['filename'].tolist()]\n",
    "# hifi_qc['coverage'] = [bp/3.1 for bp in hifi_qc['total_Gbp'].tolist()]"
   ]
  },
  {
   "cell_type": "code",
   "execution_count": 4,
   "metadata": {},
   "outputs": [],
   "source": [
    "# hifi_qc.drop(columns=['all_kinetics_flag', 'keep_kinetics_flag', 'hifi_kinetics_tag', 'PP_PRIMROSE', 'fi_tag', 'ri_tag','fp_tag', 'rp_tag'],inplace=True)"
   ]
  },
  {
   "cell_type": "code",
   "execution_count": 9,
   "metadata": {},
   "outputs": [
    {
     "data": {
      "text/plain": [
       "Counter({'HG002': 8, 'HG005': 7})"
      ]
     },
     "execution_count": 9,
     "metadata": {},
     "output_type": "execute_result"
    }
   ],
   "source": [
    "import collections\n",
    "collections.Counter(hifi_qc['sample_id'].tolist())"
   ]
  },
  {
   "cell_type": "code",
   "execution_count": 14,
   "metadata": {},
   "outputs": [
    {
     "name": "stderr",
     "output_type": "stream",
     "text": [
      "/data/tmp/ipykernel_3056156/2666925040.py:2: SettingWithCopyWarning: \n",
      "A value is trying to be set on a copy of a slice from a DataFrame.\n",
      "Try using .loc[row_indexer,col_indexer] = value instead\n",
      "\n",
      "See the caveats in the documentation: https://pandas.pydata.org/pandas-docs/stable/user_guide/indexing.html#returning-a-view-versus-a-copy\n",
      "  hifi_qc_hg002['filename'] = [filename.split('-')[-1] for filename in hifi_qc_hg002['filename'].tolist()]\n"
     ]
    }
   ],
   "source": [
    "hifi_qc_hg002 = hifi_qc[hifi_qc['sample_id'].isin(['HG002'])]\n",
    "hifi_qc_hg002['filename'] = [filename.split('-')[-1] for filename in hifi_qc_hg002['filename'].tolist()]"
   ]
  },
  {
   "cell_type": "code",
   "execution_count": 22,
   "metadata": {},
   "outputs": [
    {
     "data": {
      "text/html": [
       "<div>\n",
       "<style scoped>\n",
       "    .dataframe tbody tr th:only-of-type {\n",
       "        vertical-align: middle;\n",
       "    }\n",
       "\n",
       "    .dataframe tbody tr th {\n",
       "        vertical-align: top;\n",
       "    }\n",
       "\n",
       "    .dataframe thead th {\n",
       "        text-align: right;\n",
       "    }\n",
       "</style>\n",
       "<table border=\"1\" class=\"dataframe\">\n",
       "  <thead>\n",
       "    <tr style=\"text-align: right;\">\n",
       "      <th></th>\n",
       "      <th>sample_id</th>\n",
       "      <th>coverage</th>\n",
       "    </tr>\n",
       "  </thead>\n",
       "  <tbody>\n",
       "    <tr>\n",
       "      <th>0</th>\n",
       "      <td>HG002</td>\n",
       "      <td>58.096774</td>\n",
       "    </tr>\n",
       "  </tbody>\n",
       "</table>\n",
       "</div>"
      ],
      "text/plain": [
       "  sample_id   coverage\n",
       "0     HG002  58.096774"
      ]
     },
     "execution_count": 22,
     "metadata": {},
     "output_type": "execute_result"
    }
   ],
   "source": [
    "hifi_qc_hg002[hifi_qc_hg002['filename'].isin(['m64011_190830_220126.dc.q20.fastq.gz', 'm64011_190901_095311.dc.q20.fastq.gz',\n",
    "\t\t\t\t\t\t\t\t\t\t\t   'm64012_190920_173625.dc.q20.fastq.gz','m64012_190921_234837.dc.q20.fastq.gz',\n",
    "\t\t\t\t\t\t\t\t\t\t\t   'm64011_190714_120746.dc.q20.fastq.gz', 'm64011_190728_111204.dc.q20.fastq.gz'])].groupby('sample_id')['total_Gbp'].sum().div(3.1).reset_index(name='coverage')\n",
    "\n",
    "# hifi_qc.groupby('sample_id')['total_Gbp'].sum().div(3.1).reset_index(name='coverage')"
   ]
  },
  {
   "cell_type": "code",
   "execution_count": 6,
   "metadata": {},
   "outputs": [
    {
     "data": {
      "text/html": [
       "<div>\n",
       "<style scoped>\n",
       "    .dataframe tbody tr th:only-of-type {\n",
       "        vertical-align: middle;\n",
       "    }\n",
       "\n",
       "    .dataframe tbody tr th {\n",
       "        vertical-align: top;\n",
       "    }\n",
       "\n",
       "    .dataframe thead th {\n",
       "        text-align: right;\n",
       "    }\n",
       "</style>\n",
       "<table border=\"1\" class=\"dataframe\">\n",
       "  <thead>\n",
       "    <tr style=\"text-align: right;\">\n",
       "      <th></th>\n",
       "      <th>sample_id</th>\n",
       "      <th>coverage</th>\n",
       "    </tr>\n",
       "  </thead>\n",
       "  <tbody>\n",
       "    <tr>\n",
       "      <th>0</th>\n",
       "      <td>HG002</td>\n",
       "      <td>78.777419</td>\n",
       "    </tr>\n",
       "    <tr>\n",
       "      <th>1</th>\n",
       "      <td>HG005</td>\n",
       "      <td>56.861290</td>\n",
       "    </tr>\n",
       "  </tbody>\n",
       "</table>\n",
       "</div>"
      ],
      "text/plain": [
       "  sample_id   coverage\n",
       "0     HG002  78.777419\n",
       "1     HG005  56.861290"
      ]
     },
     "execution_count": 6,
     "metadata": {},
     "output_type": "execute_result"
    }
   ],
   "source": [
    "hifi_qc.groupby('sample_id')['total_Gbp'].sum().div(3.1).reset_index(name='coverage')"
   ]
  },
  {
   "cell_type": "code",
   "execution_count": null,
   "metadata": {},
   "outputs": [],
   "source": [
    "hifi_qc.groupby('sample_id')['total_Gbp'].sum().div(3.1).reset_index(name='coverage')"
   ]
  }
 ],
 "metadata": {
  "kernelspec": {
   "display_name": "Python 3",
   "language": "python",
   "name": "python3"
  },
  "language_info": {
   "codemirror_mode": {
    "name": "ipython",
    "version": 3
   },
   "file_extension": ".py",
   "mimetype": "text/x-python",
   "name": "python",
   "nbconvert_exporter": "python",
   "pygments_lexer": "ipython3",
   "version": "3.10.12"
  }
 },
 "nbformat": 4,
 "nbformat_minor": 2
}
