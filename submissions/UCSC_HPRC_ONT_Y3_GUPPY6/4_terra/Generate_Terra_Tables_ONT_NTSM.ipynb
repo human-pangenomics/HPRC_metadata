{
 "cells": [
  {
   "cell_type": "markdown",
   "metadata": {},
   "source": [
    "# Create Data Tables For ONT Data QC<a class=\"tocSkip\">\n",
    "\n",
    "**This notebook automatically reads in data stored in the AnVIL_HPRC workspace's bucket and generates data table so the data can be run through QC (NTSM and Coverage's WDLs)**\n",
    "\n",
    "**Jeltje changed this in Feb 2023 to output per-file tables instead of per-sample**\n",
    "\n",
    "**Below are the steps taken in this notebook:**\n",
    "1. Import Statements & Global Variable Definitions\n",
    "2. Define Functions\n",
    "3. Read In Sample Names\n",
    "4. Create Dataframe Of Files\n",
    "5. Write data frame to data tables"
   ]
  },
  {
   "cell_type": "markdown",
   "metadata": {},
   "source": [
    "# Import Statements & Global Variable Definitions"
   ]
  },
  {
   "cell_type": "markdown",
   "metadata": {},
   "source": [
    "## Installs"
   ]
  },
  {
   "cell_type": "code",
   "execution_count": 1,
   "metadata": {},
   "outputs": [],
   "source": [
    "%%capture\n",
    "%pip install gcsfs\n",
    "## capture CANNOT have comments above it\n",
    "## For reading CSVs stored in Google Cloud (without downloading them first)\n",
    "## May need to restart kernel after install "
   ]
  },
  {
   "cell_type": "code",
   "execution_count": 2,
   "metadata": {},
   "outputs": [],
   "source": [
    "%%capture\n",
    "%pip install terra-pandas\n",
    "#%pip install --upgrade --no-cache-dir --force-reinstall terra-pandas\n",
    "%pip install --upgrade --no-cache-dir  --force-reinstall git+https://github.com/DataBiosphere/terra-notebook-utils\n",
    "## For reading/writing data tables into pandas data frames\n",
    "## May need to restart kernel after install "
   ]
  },
  {
   "cell_type": "markdown",
   "metadata": {},
   "source": [
    "## Import Statements"
   ]
  },
  {
   "cell_type": "code",
   "execution_count": 1,
   "metadata": {},
   "outputs": [],
   "source": [
    "from firecloud import fiss\n",
    "import pandas as pd         \n",
    "import os                 \n",
    "import subprocess       \n",
    "import re                 \n",
    "import io\n",
    "import gcsfs\n",
    "\n",
    "from typing import Any, Callable, List, Optional\n",
    "from terra_notebook_utils import table, WORKSPACE_NAME, WORKSPACE_GOOGLE_PROJECT\n",
    "from terra_pandas import dataframe_to_table, table_to_dataframe"
   ]
  },
  {
   "cell_type": "markdown",
   "metadata": {},
   "source": [
    "## Global Variable Declarations\n",
    "Update this with project specific info"
   ]
  },
  {
   "cell_type": "code",
   "execution_count": 2,
   "metadata": {},
   "outputs": [
    {
     "name": "stdout",
     "output_type": "stream",
     "text": [
      "Billing project: human-pangenome-ucsc\n",
      "Workspace: HPRC_YEAR3_ONT_GUPPY6\n",
      "Workspace storage bucket: gs://fc-93c439d3-8a8a-4245-bc5c-f23140dcf2cf/\n"
     ]
    }
   ],
   "source": [
    "# AnVIL_HPRC WorkspaceBucket\n",
    "anvil_hprc_bucket       = \"gs://fc-4310e737-a388-4a10-8c9e-babe06aaf0cf/\"\n",
    "\n",
    "sample_info_fn = 'UCSC_HPRC_ONT_Y3_GUPPY6_samples.tsv' # a list of IDs,e.g. HG01243\n",
    "sample_info_fn_na = 'UCSC_HPRC_ONT_Y3_GUPPY6_samples_GM_NA.tsv' # a list of IDs,e.g. NA01243\n",
    "subm_key       = '79275EDA-C282-424A-9D5B-A8E876592893--UCSC_HPRC_ONT_Y3_GUPPY6'\n",
    "\n",
    "# Get the Google billing project name and workspace name for current workspace\n",
    "PROJECT = os.environ['WORKSPACE_NAMESPACE']\n",
    "WORKSPACE =os.path.basename(os.path.dirname(os.getcwd()))\n",
    "bucket = os.environ['WORKSPACE_BUCKET'] + \"/\"\n",
    "\n",
    "# Verify that we've captured the environment variables\n",
    "print(\"Billing project: \" + PROJECT)\n",
    "print(\"Workspace: \" + WORKSPACE)\n",
    "print(\"Workspace storage bucket: \" + bucket)"
   ]
  },
  {
   "cell_type": "markdown",
   "metadata": {},
   "source": [
    "# Function Definitions"
   ]
  },
  {
   "cell_type": "code",
   "execution_count": 3,
   "metadata": {
    "code_folding": []
   },
   "outputs": [],
   "source": [
    "def rtn_datatype_ls_for_subm(bucket_url, submission_key, data_type_subdir, file_type_ls):\n",
    "    '''Takes in:\n",
    "            * bucket_url (string): url of bucket to search (should be the AnVIL_HPRC bucket)\n",
    "                ex: \"gs://fc-4310e737-a388-4a10-8c9e-babe06aaf0cf/\"\n",
    "            * submission_key (string): the UUID plus the submission name to search\n",
    "                ex: \"5c68b972-8534-402f-9861-11c93558765f--UW_HPRC_HiFi_Y3\"\n",
    "            * data_type_subdir (string): name of the subfolder to search \n",
    "              (used when a submission has more than one data type.)\n",
    "                ex: \"PacBio_HiFi\" if the data is not in subfolders, pass \".\"\n",
    "            * file_type_ls (list of strings): file extensions to search for. Often a submission will \n",
    "              have more than one type of file that represents the same dataset. Be careful to not \n",
    "              include replicate data, however.\n",
    "                ex: \".hifi_reads.bam\"\n",
    "     then performs a list of the bucket, then returns a filtered list files.'''\n",
    "    \n",
    "    rtn_file_ls = []\n",
    "    \n",
    "    submission_path = str(bucket_url + \"submissions/\" + submission_key)\n",
    "    file_list_byt   = subprocess.run(['gsutil', '-u', 'human-pangenome-ucsc', 'ls', '-r', submission_path], \n",
    "                                     stdout=subprocess.PIPE)\n",
    "\n",
    "    file_list_str   = file_list_byt.stdout.decode('utf-8')\n",
    "    file_list       = file_list_str.split('\\n')  ## Pull out \"\\n\"\n",
    "   \n",
    "    ## filter out empty strings\n",
    "    file_list = [ elem for elem in file_list if elem != '']\n",
    "    \n",
    "    ## Pull from subdir type we are targeting\n",
    "    file_list = list(filter(lambda x:re.search(rf\"{data_type_subdir}\", x), file_list))\n",
    "    \n",
    "    for file_type in file_type_ls:\n",
    "    \n",
    "        ## Pull files of correct type (ex: ccs.bam)\n",
    "        file_list_by_type = list(filter(lambda x:re.search(rf\"{file_type}$\", x), file_list))\n",
    "\n",
    "        ## Add to list of files to return\n",
    "        rtn_file_ls += file_list_by_type\n",
    "\n",
    "    return rtn_file_ls    "
   ]
  },
  {
   "cell_type": "markdown",
   "metadata": {},
   "source": [
    "# Read In Sample Names"
   ]
  },
  {
   "cell_type": "code",
   "execution_count": 4,
   "metadata": {},
   "outputs": [
    {
     "data": {
      "text/html": [
       "<div>\n",
       "<style scoped>\n",
       "    .dataframe tbody tr th:only-of-type {\n",
       "        vertical-align: middle;\n",
       "    }\n",
       "\n",
       "    .dataframe tbody tr th {\n",
       "        vertical-align: top;\n",
       "    }\n",
       "\n",
       "    .dataframe thead th {\n",
       "        text-align: right;\n",
       "    }\n",
       "</style>\n",
       "<table border=\"1\" class=\"dataframe\">\n",
       "  <thead>\n",
       "    <tr style=\"text-align: right;\">\n",
       "      <th></th>\n",
       "      <th>sample_id</th>\n",
       "      <th>1000G</th>\n",
       "    </tr>\n",
       "  </thead>\n",
       "  <tbody>\n",
       "    <tr>\n",
       "      <th>0</th>\n",
       "      <td>GM18522</td>\n",
       "      <td>NA18522</td>\n",
       "    </tr>\n",
       "    <tr>\n",
       "      <th>1</th>\n",
       "      <td>GM18570</td>\n",
       "      <td>NA18570</td>\n",
       "    </tr>\n",
       "    <tr>\n",
       "      <th>2</th>\n",
       "      <td>GM18612</td>\n",
       "      <td>NA18612</td>\n",
       "    </tr>\n",
       "    <tr>\n",
       "      <th>3</th>\n",
       "      <td>GM18747</td>\n",
       "      <td>NA18747</td>\n",
       "    </tr>\n",
       "    <tr>\n",
       "      <th>4</th>\n",
       "      <td>GM18971</td>\n",
       "      <td>NA18971</td>\n",
       "    </tr>\n",
       "  </tbody>\n",
       "</table>\n",
       "</div>"
      ],
      "text/plain": [
       "  sample_id    1000G\n",
       "0   GM18522  NA18522\n",
       "1   GM18570  NA18570\n",
       "2   GM18612  NA18612\n",
       "3   GM18747  NA18747\n",
       "4   GM18971  NA18971"
      ]
     },
     "execution_count": 4,
     "metadata": {},
     "output_type": "execute_result"
    }
   ],
   "source": [
    "## This file (a list of sample IDs) should be stored in the Terra workspace (in the bucket) that is being used for \n",
    "## the submission you  are wrangling...\n",
    "sample_info_fp = os.path.join(bucket + sample_info_fn_na) \n",
    "\n",
    "sample_df = pd.read_csv(sample_info_fp, header=None, sep=\"\\t\")\n",
    "sample_df.rename(columns = {0:'sample_id',1:'1000G'}, inplace = True)\n",
    "sample_df.head()"
   ]
  },
  {
   "cell_type": "markdown",
   "metadata": {},
   "source": [
    "# Create Dataframe Of Files"
   ]
  },
  {
   "cell_type": "markdown",
   "metadata": {},
   "source": [
    "## Find the data"
   ]
  },
  {
   "cell_type": "code",
   "execution_count": 5,
   "metadata": {},
   "outputs": [
    {
     "data": {
      "text/plain": [
       "217"
      ]
     },
     "execution_count": 5,
     "metadata": {},
     "output_type": "execute_result"
    }
   ],
   "source": [
    "data_type_subdir = \".\"\n",
    "file_type_ls     = [\"pass.bam\"]\n",
    "\n",
    "## get a list of the files in submission (subm_key) that match the \n",
    "## data_type_subdir and file_type_ls\n",
    "file_ls  = rtn_datatype_ls_for_subm(anvil_hprc_bucket, subm_key, \n",
    "                                      data_type_subdir, file_type_ls)\n",
    "\n",
    "## Check that the number of files matches what we expect\n",
    "len(file_ls)"
   ]
  },
  {
   "cell_type": "markdown",
   "metadata": {},
   "source": [
    "## Add Sample Data To File Data Frame"
   ]
  },
  {
   "cell_type": "code",
   "execution_count": 6,
   "metadata": {},
   "outputs": [
    {
     "name": "stdout",
     "output_type": "stream",
     "text": [
      "217\n"
     ]
    },
    {
     "data": {
      "text/html": [
       "<div>\n",
       "<style scoped>\n",
       "    .dataframe tbody tr th:only-of-type {\n",
       "        vertical-align: middle;\n",
       "    }\n",
       "\n",
       "    .dataframe tbody tr th {\n",
       "        vertical-align: top;\n",
       "    }\n",
       "\n",
       "    .dataframe thead th {\n",
       "        text-align: right;\n",
       "    }\n",
       "</style>\n",
       "<table border=\"1\" class=\"dataframe\">\n",
       "  <thead>\n",
       "    <tr style=\"text-align: right;\">\n",
       "      <th></th>\n",
       "      <th>ONT_pass_bam</th>\n",
       "      <th>sample</th>\n",
       "      <th>1000G</th>\n",
       "    </tr>\n",
       "  </thead>\n",
       "  <tbody>\n",
       "    <tr>\n",
       "      <th>0</th>\n",
       "      <td>gs://fc-4310e737-a388-4a10-8c9e-babe06aaf0cf/s...</td>\n",
       "      <td>GM18522</td>\n",
       "      <td>NA18522</td>\n",
       "    </tr>\n",
       "    <tr>\n",
       "      <th>1</th>\n",
       "      <td>gs://fc-4310e737-a388-4a10-8c9e-babe06aaf0cf/s...</td>\n",
       "      <td>GM18522</td>\n",
       "      <td>NA18522</td>\n",
       "    </tr>\n",
       "    <tr>\n",
       "      <th>2</th>\n",
       "      <td>gs://fc-4310e737-a388-4a10-8c9e-babe06aaf0cf/s...</td>\n",
       "      <td>GM18522</td>\n",
       "      <td>NA18522</td>\n",
       "    </tr>\n",
       "    <tr>\n",
       "      <th>3</th>\n",
       "      <td>gs://fc-4310e737-a388-4a10-8c9e-babe06aaf0cf/s...</td>\n",
       "      <td>GM18570</td>\n",
       "      <td>NA18570</td>\n",
       "    </tr>\n",
       "    <tr>\n",
       "      <th>4</th>\n",
       "      <td>gs://fc-4310e737-a388-4a10-8c9e-babe06aaf0cf/s...</td>\n",
       "      <td>GM18570</td>\n",
       "      <td>NA18570</td>\n",
       "    </tr>\n",
       "  </tbody>\n",
       "</table>\n",
       "</div>"
      ],
      "text/plain": [
       "                                        ONT_pass_bam   sample    1000G\n",
       "0  gs://fc-4310e737-a388-4a10-8c9e-babe06aaf0cf/s...  GM18522  NA18522\n",
       "1  gs://fc-4310e737-a388-4a10-8c9e-babe06aaf0cf/s...  GM18522  NA18522\n",
       "2  gs://fc-4310e737-a388-4a10-8c9e-babe06aaf0cf/s...  GM18522  NA18522\n",
       "3  gs://fc-4310e737-a388-4a10-8c9e-babe06aaf0cf/s...  GM18570  NA18570\n",
       "4  gs://fc-4310e737-a388-4a10-8c9e-babe06aaf0cf/s...  GM18570  NA18570"
      ]
     },
     "execution_count": 6,
     "metadata": {},
     "output_type": "execute_result"
    }
   ],
   "source": [
    "filedict = dict()\n",
    "\n",
    "for f in file_ls:\n",
    "    for s in sample_df.sample_id:\n",
    "        if re.search(s,f):\n",
    "            filedict[f] = s\n",
    "            break            \n",
    "print(len(filedict))\n",
    "file_df = pd.DataFrame.from_dict(filedict.items())\n",
    "file_df.columns = ['ONT_pass_bam', 'sample']\n",
    "file_df = file_df.merge(sample_df, left_on='sample', right_on='sample_id')\n",
    "file_df = file_df[['ONT_pass_bam', 'sample', '1000G' ]]\n",
    "file_df.head()\n"
   ]
  },
  {
   "cell_type": "markdown",
   "metadata": {},
   "source": [
    "## Add 1000G data (for NTSM run)"
   ]
  },
  {
   "cell_type": "code",
   "execution_count": 44,
   "metadata": {},
   "outputs": [],
   "source": [
    "## Read in 1000G data from another workspace\n",
    "## We will be using this to compare against out submission to make sure that\n",
    "## the data comes from the same samples\n",
    "#thousand_genomes_df = table_to_dataframe(\"sample\", \n",
    "#                                        workspace=\"1000G-high-coverage-2019\", \n",
    "#                                       workspace_namespace=\"anvil-datastorage\")\n",
    "#thousand_genomes_df.head()\n",
    "## Use the 1kg library name (i.e. HG00621) as the index (that matches our sample name)\n",
    "#thousand_genomes_df.set_index('library_name', inplace=True)\n",
    "\n",
    "## We only need the cram file (represents 30X Ilmn dataset)\n",
    "#thousand_genomes_df = thousand_genomes_df[['cram']]\n",
    "\n",
    "## name the column to be a bit more descriptive\n",
    "#thousand_genomes_df.rename(columns = {'cram':'1000g_cram'}, inplace = True)\n",
    "\n",
    "## Sometimes some of the samples are not present in the 1000g file\n",
    "#addSamples = list(set(file_df['sample']) - set(thousand_genomes_df.index.tolist()))\n",
    "#print('missing:', addSamples)"
   ]
  },
  {
   "cell_type": "code",
   "execution_count": 7,
   "metadata": {},
   "outputs": [
    {
     "name": "stdout",
     "output_type": "stream",
     "text": [
      "missing: []\n"
     ]
    },
    {
     "data": {
      "text/html": [
       "<div>\n",
       "<style scoped>\n",
       "    .dataframe tbody tr th:only-of-type {\n",
       "        vertical-align: middle;\n",
       "    }\n",
       "\n",
       "    .dataframe tbody tr th {\n",
       "        vertical-align: top;\n",
       "    }\n",
       "\n",
       "    .dataframe thead th {\n",
       "        text-align: right;\n",
       "    }\n",
       "</style>\n",
       "<table border=\"1\" class=\"dataframe\">\n",
       "  <thead>\n",
       "    <tr style=\"text-align: right;\">\n",
       "      <th></th>\n",
       "      <th>read_1_fastq</th>\n",
       "      <th>read_2_fastq</th>\n",
       "      <th>fastq_list</th>\n",
       "    </tr>\n",
       "    <tr>\n",
       "      <th>participant_id</th>\n",
       "      <th></th>\n",
       "      <th></th>\n",
       "      <th></th>\n",
       "    </tr>\n",
       "  </thead>\n",
       "  <tbody>\n",
       "    <tr>\n",
       "      <th>HG00096</th>\n",
       "      <td>gs://fc-47de7dae-e8e6-429c-b760-b4ba49136eee/1...</td>\n",
       "      <td>gs://fc-47de7dae-e8e6-429c-b760-b4ba49136eee/1...</td>\n",
       "      <td>[gs://fc-47de7dae-e8e6-429c-b760-b4ba49136eee/...</td>\n",
       "    </tr>\n",
       "    <tr>\n",
       "      <th>HG00097</th>\n",
       "      <td>gs://fc-47de7dae-e8e6-429c-b760-b4ba49136eee/1...</td>\n",
       "      <td>gs://fc-47de7dae-e8e6-429c-b760-b4ba49136eee/1...</td>\n",
       "      <td>[gs://fc-47de7dae-e8e6-429c-b760-b4ba49136eee/...</td>\n",
       "    </tr>\n",
       "    <tr>\n",
       "      <th>HG00099</th>\n",
       "      <td>gs://fc-47de7dae-e8e6-429c-b760-b4ba49136eee/1...</td>\n",
       "      <td>gs://fc-47de7dae-e8e6-429c-b760-b4ba49136eee/1...</td>\n",
       "      <td>[gs://fc-47de7dae-e8e6-429c-b760-b4ba49136eee/...</td>\n",
       "    </tr>\n",
       "    <tr>\n",
       "      <th>HG00100</th>\n",
       "      <td>gs://fc-47de7dae-e8e6-429c-b760-b4ba49136eee/1...</td>\n",
       "      <td>gs://fc-47de7dae-e8e6-429c-b760-b4ba49136eee/1...</td>\n",
       "      <td>[gs://fc-47de7dae-e8e6-429c-b760-b4ba49136eee/...</td>\n",
       "    </tr>\n",
       "    <tr>\n",
       "      <th>HG00101</th>\n",
       "      <td>gs://fc-47de7dae-e8e6-429c-b760-b4ba49136eee/1...</td>\n",
       "      <td>gs://fc-47de7dae-e8e6-429c-b760-b4ba49136eee/1...</td>\n",
       "      <td>[gs://fc-47de7dae-e8e6-429c-b760-b4ba49136eee/...</td>\n",
       "    </tr>\n",
       "    <tr>\n",
       "      <th>...</th>\n",
       "      <td>...</td>\n",
       "      <td>...</td>\n",
       "      <td>...</td>\n",
       "    </tr>\n",
       "    <tr>\n",
       "      <th>NA21137</th>\n",
       "      <td>gs://fc-47de7dae-e8e6-429c-b760-b4ba49136eee/1...</td>\n",
       "      <td>gs://fc-47de7dae-e8e6-429c-b760-b4ba49136eee/1...</td>\n",
       "      <td>[gs://fc-47de7dae-e8e6-429c-b760-b4ba49136eee/...</td>\n",
       "    </tr>\n",
       "    <tr>\n",
       "      <th>NA21141</th>\n",
       "      <td>gs://fc-47de7dae-e8e6-429c-b760-b4ba49136eee/1...</td>\n",
       "      <td>gs://fc-47de7dae-e8e6-429c-b760-b4ba49136eee/1...</td>\n",
       "      <td>[gs://fc-47de7dae-e8e6-429c-b760-b4ba49136eee/...</td>\n",
       "    </tr>\n",
       "    <tr>\n",
       "      <th>NA21142</th>\n",
       "      <td>gs://fc-47de7dae-e8e6-429c-b760-b4ba49136eee/1...</td>\n",
       "      <td>gs://fc-47de7dae-e8e6-429c-b760-b4ba49136eee/1...</td>\n",
       "      <td>[gs://fc-47de7dae-e8e6-429c-b760-b4ba49136eee/...</td>\n",
       "    </tr>\n",
       "    <tr>\n",
       "      <th>NA21143</th>\n",
       "      <td>gs://fc-47de7dae-e8e6-429c-b760-b4ba49136eee/1...</td>\n",
       "      <td>gs://fc-47de7dae-e8e6-429c-b760-b4ba49136eee/1...</td>\n",
       "      <td>[gs://fc-47de7dae-e8e6-429c-b760-b4ba49136eee/...</td>\n",
       "    </tr>\n",
       "    <tr>\n",
       "      <th>NA21144</th>\n",
       "      <td>gs://fc-47de7dae-e8e6-429c-b760-b4ba49136eee/1...</td>\n",
       "      <td>gs://fc-47de7dae-e8e6-429c-b760-b4ba49136eee/1...</td>\n",
       "      <td>[gs://fc-47de7dae-e8e6-429c-b760-b4ba49136eee/...</td>\n",
       "    </tr>\n",
       "  </tbody>\n",
       "</table>\n",
       "<p>3202 rows × 3 columns</p>\n",
       "</div>"
      ],
      "text/plain": [
       "                                                     read_1_fastq  \\\n",
       "participant_id                                                      \n",
       "HG00096         gs://fc-47de7dae-e8e6-429c-b760-b4ba49136eee/1...   \n",
       "HG00097         gs://fc-47de7dae-e8e6-429c-b760-b4ba49136eee/1...   \n",
       "HG00099         gs://fc-47de7dae-e8e6-429c-b760-b4ba49136eee/1...   \n",
       "HG00100         gs://fc-47de7dae-e8e6-429c-b760-b4ba49136eee/1...   \n",
       "HG00101         gs://fc-47de7dae-e8e6-429c-b760-b4ba49136eee/1...   \n",
       "...                                                           ...   \n",
       "NA21137         gs://fc-47de7dae-e8e6-429c-b760-b4ba49136eee/1...   \n",
       "NA21141         gs://fc-47de7dae-e8e6-429c-b760-b4ba49136eee/1...   \n",
       "NA21142         gs://fc-47de7dae-e8e6-429c-b760-b4ba49136eee/1...   \n",
       "NA21143         gs://fc-47de7dae-e8e6-429c-b760-b4ba49136eee/1...   \n",
       "NA21144         gs://fc-47de7dae-e8e6-429c-b760-b4ba49136eee/1...   \n",
       "\n",
       "                                                     read_2_fastq  \\\n",
       "participant_id                                                      \n",
       "HG00096         gs://fc-47de7dae-e8e6-429c-b760-b4ba49136eee/1...   \n",
       "HG00097         gs://fc-47de7dae-e8e6-429c-b760-b4ba49136eee/1...   \n",
       "HG00099         gs://fc-47de7dae-e8e6-429c-b760-b4ba49136eee/1...   \n",
       "HG00100         gs://fc-47de7dae-e8e6-429c-b760-b4ba49136eee/1...   \n",
       "HG00101         gs://fc-47de7dae-e8e6-429c-b760-b4ba49136eee/1...   \n",
       "...                                                           ...   \n",
       "NA21137         gs://fc-47de7dae-e8e6-429c-b760-b4ba49136eee/1...   \n",
       "NA21141         gs://fc-47de7dae-e8e6-429c-b760-b4ba49136eee/1...   \n",
       "NA21142         gs://fc-47de7dae-e8e6-429c-b760-b4ba49136eee/1...   \n",
       "NA21143         gs://fc-47de7dae-e8e6-429c-b760-b4ba49136eee/1...   \n",
       "NA21144         gs://fc-47de7dae-e8e6-429c-b760-b4ba49136eee/1...   \n",
       "\n",
       "                                                       fastq_list  \n",
       "participant_id                                                     \n",
       "HG00096         [gs://fc-47de7dae-e8e6-429c-b760-b4ba49136eee/...  \n",
       "HG00097         [gs://fc-47de7dae-e8e6-429c-b760-b4ba49136eee/...  \n",
       "HG00099         [gs://fc-47de7dae-e8e6-429c-b760-b4ba49136eee/...  \n",
       "HG00100         [gs://fc-47de7dae-e8e6-429c-b760-b4ba49136eee/...  \n",
       "HG00101         [gs://fc-47de7dae-e8e6-429c-b760-b4ba49136eee/...  \n",
       "...                                                           ...  \n",
       "NA21137         [gs://fc-47de7dae-e8e6-429c-b760-b4ba49136eee/...  \n",
       "NA21141         [gs://fc-47de7dae-e8e6-429c-b760-b4ba49136eee/...  \n",
       "NA21142         [gs://fc-47de7dae-e8e6-429c-b760-b4ba49136eee/...  \n",
       "NA21143         [gs://fc-47de7dae-e8e6-429c-b760-b4ba49136eee/...  \n",
       "NA21144         [gs://fc-47de7dae-e8e6-429c-b760-b4ba49136eee/...  \n",
       "\n",
       "[3202 rows x 3 columns]"
      ]
     },
     "execution_count": 7,
     "metadata": {},
     "output_type": "execute_result"
    }
   ],
   "source": [
    "## Read in 1000G data from another workspace\n",
    "## instead of cram files (as before) we can use fastq file so we're not dependent\n",
    "## on the public hg18.fa file, which has been giving problems.\n",
    "## We will be using this to compare against out submission to make sure that\n",
    "## the data comes from the same samples\n",
    "\n",
    "t2t_reads_df = table_to_dataframe(\"participant\", \n",
    "                                 workspace_namespace=\"anvil-datastorage\", \n",
    "                                 workspace=\"AnVIL_T2T\")\n",
    "## Ensure that 1kg library id (i.e. HG00621) as the index (that matches our sample name)\n",
    "\n",
    "\n",
    "## We only need the fastq files (represents 30X Ilmn dataset)\n",
    "t2t_reads_df = t2t_reads_df[['read_1_fastq','read_2_fastq']]\n",
    "t2t_reads_df[\"fastq_list\"] = list(t2t_reads_df.values)\n",
    "\n",
    "## name the column to be a bit more descriptive\n",
    "#t2t_reads_df.rename(columns = {'read_1_fastq':'read_1_fastq_T2T'}, inplace = True)\n",
    "#t2t_reads_df.rename(columns = {'read_2_fastq':'read_2_fastq_T2T'}, inplace = True)\n",
    "\n",
    "\n",
    "## Sometimes some of the samples are not present in the 1000g file\n",
    "addSamples = list(set(file_df['1000G']) - set(t2t_reads_df.index.tolist()))\n",
    "print('missing:', addSamples)\n",
    "\n",
    "t2t_reads_df"
   ]
  },
  {
   "cell_type": "markdown",
   "metadata": {},
   "source": [
    "## If there are any missing samples"
   ]
  },
  {
   "cell_type": "code",
   "execution_count": 8,
   "metadata": {},
   "outputs": [
    {
     "ename": "KeyError",
     "evalue": "\"None of [Index(['GM18570', 'GM19159', 'GM20858', 'GM19468', 'GM18522', 'GM18612',\\n       'GM18983', 'GM19087', 'GM20752', 'GM18971', 'GM20905', 'GM19120',\\n       'GM19043', 'GM20805', 'GM20799', 'GM18747', 'GM19391', 'GM19338',\\n       'GM19185'],\\n      dtype='object', name='sample_id')] are in the [index]\"",
     "output_type": "error",
     "traceback": [
      "\u001b[0;31m---------------------------------------------------------------------------\u001b[0m",
      "\u001b[0;31mKeyError\u001b[0m                                  Traceback (most recent call last)",
      "Cell \u001b[0;32mIn[8], line 19\u001b[0m\n\u001b[1;32m     16\u001b[0m anvil_hprc_df\u001b[38;5;241m.\u001b[39mrename(columns \u001b[38;5;241m=\u001b[39m {\u001b[38;5;124m'\u001b[39m\u001b[38;5;124mhic\u001b[39m\u001b[38;5;124m'\u001b[39m:\u001b[38;5;124m'\u001b[39m\u001b[38;5;124m1000g_cram\u001b[39m\u001b[38;5;124m'\u001b[39m}, inplace \u001b[38;5;241m=\u001b[39m \u001b[38;5;28;01mTrue\u001b[39;00m)\n\u001b[1;32m     18\u001b[0m \u001b[38;5;66;03m# and concatenate the two\u001b[39;00m\n\u001b[0;32m---> 19\u001b[0m thousand_genomes_df \u001b[38;5;241m=\u001b[39m pd\u001b[38;5;241m.\u001b[39mconcat([\u001b[43manvil_hprc_df\u001b[49m\u001b[38;5;241;43m.\u001b[39;49m\u001b[43mloc\u001b[49m\u001b[43m[\u001b[49m\u001b[43maddSamples\u001b[49m\u001b[43m]\u001b[49m, thousand_genomes_df], ignore_index\u001b[38;5;241m=\u001b[39m\u001b[38;5;28;01mFalse\u001b[39;00m)\n\u001b[1;32m     21\u001b[0m \u001b[38;5;66;03m# check\u001b[39;00m\n\u001b[1;32m     22\u001b[0m \u001b[38;5;28mlist\u001b[39m(\u001b[38;5;28mset\u001b[39m(file_df[\u001b[38;5;124m'\u001b[39m\u001b[38;5;124msample\u001b[39m\u001b[38;5;124m'\u001b[39m]) \u001b[38;5;241m-\u001b[39m \u001b[38;5;28mset\u001b[39m(thousand_genomes_df\u001b[38;5;241m.\u001b[39mindex\u001b[38;5;241m.\u001b[39mtolist()))\n",
      "File \u001b[0;32m/opt/conda/lib/python3.10/site-packages/pandas/core/indexing.py:1073\u001b[0m, in \u001b[0;36m_LocationIndexer.__getitem__\u001b[0;34m(self, key)\u001b[0m\n\u001b[1;32m   1070\u001b[0m axis \u001b[38;5;241m=\u001b[39m \u001b[38;5;28mself\u001b[39m\u001b[38;5;241m.\u001b[39maxis \u001b[38;5;129;01mor\u001b[39;00m \u001b[38;5;241m0\u001b[39m\n\u001b[1;32m   1072\u001b[0m maybe_callable \u001b[38;5;241m=\u001b[39m com\u001b[38;5;241m.\u001b[39mapply_if_callable(key, \u001b[38;5;28mself\u001b[39m\u001b[38;5;241m.\u001b[39mobj)\n\u001b[0;32m-> 1073\u001b[0m \u001b[38;5;28;01mreturn\u001b[39;00m \u001b[38;5;28;43mself\u001b[39;49m\u001b[38;5;241;43m.\u001b[39;49m\u001b[43m_getitem_axis\u001b[49m\u001b[43m(\u001b[49m\u001b[43mmaybe_callable\u001b[49m\u001b[43m,\u001b[49m\u001b[43m \u001b[49m\u001b[43maxis\u001b[49m\u001b[38;5;241;43m=\u001b[39;49m\u001b[43maxis\u001b[49m\u001b[43m)\u001b[49m\n",
      "File \u001b[0;32m/opt/conda/lib/python3.10/site-packages/pandas/core/indexing.py:1301\u001b[0m, in \u001b[0;36m_LocIndexer._getitem_axis\u001b[0;34m(self, key, axis)\u001b[0m\n\u001b[1;32m   1298\u001b[0m     \u001b[38;5;28;01mif\u001b[39;00m \u001b[38;5;28mhasattr\u001b[39m(key, \u001b[38;5;124m\"\u001b[39m\u001b[38;5;124mndim\u001b[39m\u001b[38;5;124m\"\u001b[39m) \u001b[38;5;129;01mand\u001b[39;00m key\u001b[38;5;241m.\u001b[39mndim \u001b[38;5;241m>\u001b[39m \u001b[38;5;241m1\u001b[39m:\n\u001b[1;32m   1299\u001b[0m         \u001b[38;5;28;01mraise\u001b[39;00m \u001b[38;5;167;01mValueError\u001b[39;00m(\u001b[38;5;124m\"\u001b[39m\u001b[38;5;124mCannot index with multidimensional key\u001b[39m\u001b[38;5;124m\"\u001b[39m)\n\u001b[0;32m-> 1301\u001b[0m     \u001b[38;5;28;01mreturn\u001b[39;00m \u001b[38;5;28;43mself\u001b[39;49m\u001b[38;5;241;43m.\u001b[39;49m\u001b[43m_getitem_iterable\u001b[49m\u001b[43m(\u001b[49m\u001b[43mkey\u001b[49m\u001b[43m,\u001b[49m\u001b[43m \u001b[49m\u001b[43maxis\u001b[49m\u001b[38;5;241;43m=\u001b[39;49m\u001b[43maxis\u001b[49m\u001b[43m)\u001b[49m\n\u001b[1;32m   1303\u001b[0m \u001b[38;5;66;03m# nested tuple slicing\u001b[39;00m\n\u001b[1;32m   1304\u001b[0m \u001b[38;5;28;01mif\u001b[39;00m is_nested_tuple(key, labels):\n",
      "File \u001b[0;32m/opt/conda/lib/python3.10/site-packages/pandas/core/indexing.py:1239\u001b[0m, in \u001b[0;36m_LocIndexer._getitem_iterable\u001b[0;34m(self, key, axis)\u001b[0m\n\u001b[1;32m   1236\u001b[0m \u001b[38;5;28mself\u001b[39m\u001b[38;5;241m.\u001b[39m_validate_key(key, axis)\n\u001b[1;32m   1238\u001b[0m \u001b[38;5;66;03m# A collection of keys\u001b[39;00m\n\u001b[0;32m-> 1239\u001b[0m keyarr, indexer \u001b[38;5;241m=\u001b[39m \u001b[38;5;28;43mself\u001b[39;49m\u001b[38;5;241;43m.\u001b[39;49m\u001b[43m_get_listlike_indexer\u001b[49m\u001b[43m(\u001b[49m\u001b[43mkey\u001b[49m\u001b[43m,\u001b[49m\u001b[43m \u001b[49m\u001b[43maxis\u001b[49m\u001b[43m)\u001b[49m\n\u001b[1;32m   1240\u001b[0m \u001b[38;5;28;01mreturn\u001b[39;00m \u001b[38;5;28mself\u001b[39m\u001b[38;5;241m.\u001b[39mobj\u001b[38;5;241m.\u001b[39m_reindex_with_indexers(\n\u001b[1;32m   1241\u001b[0m     {axis: [keyarr, indexer]}, copy\u001b[38;5;241m=\u001b[39m\u001b[38;5;28;01mTrue\u001b[39;00m, allow_dups\u001b[38;5;241m=\u001b[39m\u001b[38;5;28;01mTrue\u001b[39;00m\n\u001b[1;32m   1242\u001b[0m )\n",
      "File \u001b[0;32m/opt/conda/lib/python3.10/site-packages/pandas/core/indexing.py:1432\u001b[0m, in \u001b[0;36m_LocIndexer._get_listlike_indexer\u001b[0;34m(self, key, axis)\u001b[0m\n\u001b[1;32m   1429\u001b[0m ax \u001b[38;5;241m=\u001b[39m \u001b[38;5;28mself\u001b[39m\u001b[38;5;241m.\u001b[39mobj\u001b[38;5;241m.\u001b[39m_get_axis(axis)\n\u001b[1;32m   1430\u001b[0m axis_name \u001b[38;5;241m=\u001b[39m \u001b[38;5;28mself\u001b[39m\u001b[38;5;241m.\u001b[39mobj\u001b[38;5;241m.\u001b[39m_get_axis_name(axis)\n\u001b[0;32m-> 1432\u001b[0m keyarr, indexer \u001b[38;5;241m=\u001b[39m \u001b[43max\u001b[49m\u001b[38;5;241;43m.\u001b[39;49m\u001b[43m_get_indexer_strict\u001b[49m\u001b[43m(\u001b[49m\u001b[43mkey\u001b[49m\u001b[43m,\u001b[49m\u001b[43m \u001b[49m\u001b[43maxis_name\u001b[49m\u001b[43m)\u001b[49m\n\u001b[1;32m   1434\u001b[0m \u001b[38;5;28;01mreturn\u001b[39;00m keyarr, indexer\n",
      "File \u001b[0;32m/opt/conda/lib/python3.10/site-packages/pandas/core/indexes/base.py:6070\u001b[0m, in \u001b[0;36mIndex._get_indexer_strict\u001b[0;34m(self, key, axis_name)\u001b[0m\n\u001b[1;32m   6067\u001b[0m \u001b[38;5;28;01melse\u001b[39;00m:\n\u001b[1;32m   6068\u001b[0m     keyarr, indexer, new_indexer \u001b[38;5;241m=\u001b[39m \u001b[38;5;28mself\u001b[39m\u001b[38;5;241m.\u001b[39m_reindex_non_unique(keyarr)\n\u001b[0;32m-> 6070\u001b[0m \u001b[38;5;28;43mself\u001b[39;49m\u001b[38;5;241;43m.\u001b[39;49m\u001b[43m_raise_if_missing\u001b[49m\u001b[43m(\u001b[49m\u001b[43mkeyarr\u001b[49m\u001b[43m,\u001b[49m\u001b[43m \u001b[49m\u001b[43mindexer\u001b[49m\u001b[43m,\u001b[49m\u001b[43m \u001b[49m\u001b[43maxis_name\u001b[49m\u001b[43m)\u001b[49m\n\u001b[1;32m   6072\u001b[0m keyarr \u001b[38;5;241m=\u001b[39m \u001b[38;5;28mself\u001b[39m\u001b[38;5;241m.\u001b[39mtake(indexer)\n\u001b[1;32m   6073\u001b[0m \u001b[38;5;28;01mif\u001b[39;00m \u001b[38;5;28misinstance\u001b[39m(key, Index):\n\u001b[1;32m   6074\u001b[0m     \u001b[38;5;66;03m# GH 42790 - Preserve name from an Index\u001b[39;00m\n",
      "File \u001b[0;32m/opt/conda/lib/python3.10/site-packages/pandas/core/indexes/base.py:6130\u001b[0m, in \u001b[0;36mIndex._raise_if_missing\u001b[0;34m(self, key, indexer, axis_name)\u001b[0m\n\u001b[1;32m   6128\u001b[0m     \u001b[38;5;28;01mif\u001b[39;00m use_interval_msg:\n\u001b[1;32m   6129\u001b[0m         key \u001b[38;5;241m=\u001b[39m \u001b[38;5;28mlist\u001b[39m(key)\n\u001b[0;32m-> 6130\u001b[0m     \u001b[38;5;28;01mraise\u001b[39;00m \u001b[38;5;167;01mKeyError\u001b[39;00m(\u001b[38;5;124mf\u001b[39m\u001b[38;5;124m\"\u001b[39m\u001b[38;5;124mNone of [\u001b[39m\u001b[38;5;132;01m{\u001b[39;00mkey\u001b[38;5;132;01m}\u001b[39;00m\u001b[38;5;124m] are in the [\u001b[39m\u001b[38;5;132;01m{\u001b[39;00maxis_name\u001b[38;5;132;01m}\u001b[39;00m\u001b[38;5;124m]\u001b[39m\u001b[38;5;124m\"\u001b[39m)\n\u001b[1;32m   6132\u001b[0m not_found \u001b[38;5;241m=\u001b[39m \u001b[38;5;28mlist\u001b[39m(ensure_index(key)[missing_mask\u001b[38;5;241m.\u001b[39mnonzero()[\u001b[38;5;241m0\u001b[39m]]\u001b[38;5;241m.\u001b[39munique())\n\u001b[1;32m   6133\u001b[0m \u001b[38;5;28;01mraise\u001b[39;00m \u001b[38;5;167;01mKeyError\u001b[39;00m(\u001b[38;5;124mf\u001b[39m\u001b[38;5;124m\"\u001b[39m\u001b[38;5;132;01m{\u001b[39;00mnot_found\u001b[38;5;132;01m}\u001b[39;00m\u001b[38;5;124m not in index\u001b[39m\u001b[38;5;124m\"\u001b[39m)\n",
      "\u001b[0;31mKeyError\u001b[0m: \"None of [Index(['GM18570', 'GM19159', 'GM20858', 'GM19468', 'GM18522', 'GM18612',\\n       'GM18983', 'GM19087', 'GM20752', 'GM18971', 'GM20905', 'GM19120',\\n       'GM19043', 'GM20805', 'GM20799', 'GM18747', 'GM19391', 'GM19338',\\n       'GM19185'],\\n      dtype='object', name='sample_id')] are in the [index]\""
     ]
    }
   ],
   "source": [
    "## For the missing files we're going to get genome info from anvil_HPRC\n",
    "## the data comes from the same samples\n",
    "anvil_hprc_df = table_to_dataframe(\"sample\", \n",
    "                                        workspace=\"AnVIL_HPRC\", \n",
    "                                        workspace_namespace=\"anvil-datastorage\")\n",
    "## sample_id is the index\n",
    "anvil_hprc_df = anvil_hprc_df[['child_ilmn', 'hic']]\n",
    "\n",
    "## we want the child_ilnm value for HG002 instead of the hic value\n",
    "anvil_hprc_df.loc[['HG002']]['hic'] = anvil_hprc_df.loc[['HG002']]['child_ilmn']\n",
    "\n",
    "## now only retain the one column\n",
    "anvil_hprc_df = anvil_hprc_df[['hic']]\n",
    "\n",
    "## name the column to match 1000genomes\n",
    "anvil_hprc_df.rename(columns = {'hic':'1000g_cram'}, inplace = True)\n",
    "\n",
    "# and concatenate the two\n",
    "thousand_genomes_df = pd.concat([anvil_hprc_df.loc[addSamples], thousand_genomes_df], ignore_index=False)\n",
    "\n",
    "# check\n",
    "list(set(file_df['sample']) - set(thousand_genomes_df.index.tolist()))"
   ]
  },
  {
   "cell_type": "code",
   "execution_count": 8,
   "metadata": {},
   "outputs": [
    {
     "data": {
      "text/html": [
       "<div>\n",
       "<style scoped>\n",
       "    .dataframe tbody tr th:only-of-type {\n",
       "        vertical-align: middle;\n",
       "    }\n",
       "\n",
       "    .dataframe tbody tr th {\n",
       "        vertical-align: top;\n",
       "    }\n",
       "\n",
       "    .dataframe thead th {\n",
       "        text-align: right;\n",
       "    }\n",
       "</style>\n",
       "<table border=\"1\" class=\"dataframe\">\n",
       "  <thead>\n",
       "    <tr style=\"text-align: right;\">\n",
       "      <th></th>\n",
       "      <th>ONT_pass_bam</th>\n",
       "      <th>sample</th>\n",
       "      <th>1000G</th>\n",
       "      <th>read_1_fastq</th>\n",
       "      <th>read_2_fastq</th>\n",
       "      <th>fastq_list</th>\n",
       "    </tr>\n",
       "  </thead>\n",
       "  <tbody>\n",
       "    <tr>\n",
       "      <th>0</th>\n",
       "      <td>gs://fc-4310e737-a388-4a10-8c9e-babe06aaf0cf/s...</td>\n",
       "      <td>GM18522</td>\n",
       "      <td>NA18522</td>\n",
       "      <td>gs://fc-47de7dae-e8e6-429c-b760-b4ba49136eee/1...</td>\n",
       "      <td>gs://fc-47de7dae-e8e6-429c-b760-b4ba49136eee/1...</td>\n",
       "      <td>[gs://fc-47de7dae-e8e6-429c-b760-b4ba49136eee/...</td>\n",
       "    </tr>\n",
       "    <tr>\n",
       "      <th>1</th>\n",
       "      <td>gs://fc-4310e737-a388-4a10-8c9e-babe06aaf0cf/s...</td>\n",
       "      <td>GM18522</td>\n",
       "      <td>NA18522</td>\n",
       "      <td>gs://fc-47de7dae-e8e6-429c-b760-b4ba49136eee/1...</td>\n",
       "      <td>gs://fc-47de7dae-e8e6-429c-b760-b4ba49136eee/1...</td>\n",
       "      <td>[gs://fc-47de7dae-e8e6-429c-b760-b4ba49136eee/...</td>\n",
       "    </tr>\n",
       "    <tr>\n",
       "      <th>2</th>\n",
       "      <td>gs://fc-4310e737-a388-4a10-8c9e-babe06aaf0cf/s...</td>\n",
       "      <td>GM18522</td>\n",
       "      <td>NA18522</td>\n",
       "      <td>gs://fc-47de7dae-e8e6-429c-b760-b4ba49136eee/1...</td>\n",
       "      <td>gs://fc-47de7dae-e8e6-429c-b760-b4ba49136eee/1...</td>\n",
       "      <td>[gs://fc-47de7dae-e8e6-429c-b760-b4ba49136eee/...</td>\n",
       "    </tr>\n",
       "    <tr>\n",
       "      <th>3</th>\n",
       "      <td>gs://fc-4310e737-a388-4a10-8c9e-babe06aaf0cf/s...</td>\n",
       "      <td>GM18570</td>\n",
       "      <td>NA18570</td>\n",
       "      <td>gs://fc-47de7dae-e8e6-429c-b760-b4ba49136eee/1...</td>\n",
       "      <td>gs://fc-47de7dae-e8e6-429c-b760-b4ba49136eee/1...</td>\n",
       "      <td>[gs://fc-47de7dae-e8e6-429c-b760-b4ba49136eee/...</td>\n",
       "    </tr>\n",
       "    <tr>\n",
       "      <th>4</th>\n",
       "      <td>gs://fc-4310e737-a388-4a10-8c9e-babe06aaf0cf/s...</td>\n",
       "      <td>GM18570</td>\n",
       "      <td>NA18570</td>\n",
       "      <td>gs://fc-47de7dae-e8e6-429c-b760-b4ba49136eee/1...</td>\n",
       "      <td>gs://fc-47de7dae-e8e6-429c-b760-b4ba49136eee/1...</td>\n",
       "      <td>[gs://fc-47de7dae-e8e6-429c-b760-b4ba49136eee/...</td>\n",
       "    </tr>\n",
       "  </tbody>\n",
       "</table>\n",
       "</div>"
      ],
      "text/plain": [
       "                                        ONT_pass_bam   sample    1000G  \\\n",
       "0  gs://fc-4310e737-a388-4a10-8c9e-babe06aaf0cf/s...  GM18522  NA18522   \n",
       "1  gs://fc-4310e737-a388-4a10-8c9e-babe06aaf0cf/s...  GM18522  NA18522   \n",
       "2  gs://fc-4310e737-a388-4a10-8c9e-babe06aaf0cf/s...  GM18522  NA18522   \n",
       "3  gs://fc-4310e737-a388-4a10-8c9e-babe06aaf0cf/s...  GM18570  NA18570   \n",
       "4  gs://fc-4310e737-a388-4a10-8c9e-babe06aaf0cf/s...  GM18570  NA18570   \n",
       "\n",
       "                                        read_1_fastq  \\\n",
       "0  gs://fc-47de7dae-e8e6-429c-b760-b4ba49136eee/1...   \n",
       "1  gs://fc-47de7dae-e8e6-429c-b760-b4ba49136eee/1...   \n",
       "2  gs://fc-47de7dae-e8e6-429c-b760-b4ba49136eee/1...   \n",
       "3  gs://fc-47de7dae-e8e6-429c-b760-b4ba49136eee/1...   \n",
       "4  gs://fc-47de7dae-e8e6-429c-b760-b4ba49136eee/1...   \n",
       "\n",
       "                                        read_2_fastq  \\\n",
       "0  gs://fc-47de7dae-e8e6-429c-b760-b4ba49136eee/1...   \n",
       "1  gs://fc-47de7dae-e8e6-429c-b760-b4ba49136eee/1...   \n",
       "2  gs://fc-47de7dae-e8e6-429c-b760-b4ba49136eee/1...   \n",
       "3  gs://fc-47de7dae-e8e6-429c-b760-b4ba49136eee/1...   \n",
       "4  gs://fc-47de7dae-e8e6-429c-b760-b4ba49136eee/1...   \n",
       "\n",
       "                                          fastq_list  \n",
       "0  [gs://fc-47de7dae-e8e6-429c-b760-b4ba49136eee/...  \n",
       "1  [gs://fc-47de7dae-e8e6-429c-b760-b4ba49136eee/...  \n",
       "2  [gs://fc-47de7dae-e8e6-429c-b760-b4ba49136eee/...  \n",
       "3  [gs://fc-47de7dae-e8e6-429c-b760-b4ba49136eee/...  \n",
       "4  [gs://fc-47de7dae-e8e6-429c-b760-b4ba49136eee/...  "
      ]
     },
     "execution_count": 8,
     "metadata": {},
     "output_type": "execute_result"
    }
   ],
   "source": [
    "## merge the two dataframes\n",
    "ntsm_df = pd.merge(\n",
    "    file_df,\n",
    "    t2t_reads_df,\n",
    "    left_on='1000G',\n",
    "    right_on='sample',\n",
    "    right_index=True)\n",
    "ntsm_df.head()"
   ]
  },
  {
   "cell_type": "code",
   "execution_count": 9,
   "metadata": {},
   "outputs": [
    {
     "name": "stdout",
     "output_type": "stream",
     "text": [
      "(217, 6) (217, 3)\n"
     ]
    }
   ],
   "source": [
    "print(ntsm_df.shape, file_df.shape)"
   ]
  },
  {
   "cell_type": "markdown",
   "metadata": {},
   "source": [
    "# Upload To Tables"
   ]
  },
  {
   "cell_type": "code",
   "execution_count": 10,
   "metadata": {},
   "outputs": [],
   "source": [
    "## Create tables for running NTSM and ReadStats\n",
    "dataframe_to_table(\"ntsm\",      ntsm_df, WORKSPACE, PROJECT)\n",
    "#dataframe_to_table(\"readstats\", file_df, WORKSPACE, PROJECT)"
   ]
  },
  {
   "cell_type": "code",
   "execution_count": null,
   "metadata": {},
   "outputs": [],
   "source": []
  }
 ],
 "metadata": {
  "kernelspec": {
   "display_name": "Python 3",
   "language": "python",
   "name": "python3"
  },
  "language_info": {
   "codemirror_mode": {
    "name": "ipython",
    "version": 3
   },
   "file_extension": ".py",
   "mimetype": "text/x-python",
   "name": "python",
   "nbconvert_exporter": "python",
   "pygments_lexer": "ipython3",
   "version": "3.10.11"
  },
  "toc": {
   "base_numbering": 1,
   "nav_menu": {},
   "number_sections": true,
   "sideBar": true,
   "skip_h1_title": false,
   "title_cell": "Table of Contents",
   "title_sidebar": "Contents",
   "toc_cell": false,
   "toc_position": {},
   "toc_section_display": true,
   "toc_window_display": false
  }
 },
 "nbformat": 4,
 "nbformat_minor": 2
}
