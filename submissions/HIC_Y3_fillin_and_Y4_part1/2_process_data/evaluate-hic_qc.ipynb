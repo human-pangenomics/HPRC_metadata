{
 "cells": [
  {
   "cell_type": "code",
   "execution_count": 2,
   "metadata": {},
   "outputs": [],
   "source": [
    "import pandas as pd"
   ]
  },
  {
   "cell_type": "code",
   "execution_count": 3,
   "metadata": {},
   "outputs": [],
   "source": [
    "sample_df_NA20503 = pd.read_csv('hic_sample_NA20503_output_table.csv')\n",
    "sample_df_NA20503['aggregate-sample_id'] = [sample.split('-')[0] for sample in sample_df_NA20503['sample_id'].tolist()]"
   ]
  },
  {
   "cell_type": "code",
   "execution_count": 4,
   "metadata": {},
   "outputs": [],
   "source": [
    "sample_df = pd.read_csv('hic_samples_output_table.csv')\n",
    "sample_df['aggregate-sample_id'] = [sample.split('-')[0] for sample in sample_df['sample_id'].tolist()]"
   ]
  },
  {
   "cell_type": "code",
   "execution_count": 5,
   "metadata": {},
   "outputs": [
    {
     "data": {
      "text/plain": [
       "array(['/private/groups/hprc/human-pangenomics/HPRC_metadata/submissions/Y4_HIC_part1/3_data_processing/NA20503-1_FC1_S3_L003_R1_001.fastq.gz/analysis/hic_qc_workflow_outputs/7b3e1770-d2be-449c-aa99-4146504000e9/NA20503-1_FC1_S3_L003_R1_001.fastq.gz.summary.tsv',\n",
       "       '/private/groups/hprc/human-pangenomics/HPRC_metadata/submissions/Y4_HIC_part1/3_data_processing/NA20503-1_FC1_S3_L003_R2_001.fastq.gz/analysis/hic_qc_workflow_outputs/68825072-4df9-4a66-bc3d-c604bd9a3c54/NA20503-1_FC1_S3_L003_R2_001.fastq.gz.summary.tsv',\n",
       "       '/private/groups/hprc/human-pangenomics/HPRC_metadata/submissions/Y4_HIC_part1/3_data_processing/NA20503-1_FC2_S3_L003_R1_001.fastq.gz/analysis/hic_qc_workflow_outputs/d21db776-9a5d-4a8e-9130-4ae9480ac2b2/NA20503-1_FC2_S3_L003_R1_001.fastq.gz.summary.tsv',\n",
       "       '/private/groups/hprc/human-pangenomics/HPRC_metadata/submissions/Y4_HIC_part1/3_data_processing/NA20503-1_FC2_S3_L003_R2_001.fastq.gz/analysis/hic_qc_workflow_outputs/f886f6d8-293d-4da3-83f1-c122a50720d1/NA20503-1_FC2_S3_L003_R2_001.fastq.gz.summary.tsv',\n",
       "       '/private/groups/hprc/human-pangenomics/HPRC_metadata/submissions/Y4_HIC_part1/3_data_processing/NA20503-2_FC1_S4_L003_R1_001.fastq.gz/analysis/hic_qc_workflow_outputs/21b20b83-f14f-4acc-a005-b7d69ad01d77/NA20503-2_FC1_S4_L003_R1_001.fastq.gz.summary.tsv',\n",
       "       '/private/groups/hprc/human-pangenomics/HPRC_metadata/submissions/Y4_HIC_part1/3_data_processing/NA20503-2_FC1_S4_L003_R2_001.fastq.gz/analysis/hic_qc_workflow_outputs/b06f079b-6e41-4903-99bd-295926001eef/NA20503-2_FC1_S4_L003_R2_001.fastq.gz.summary.tsv',\n",
       "       '/private/groups/hprc/human-pangenomics/HPRC_metadata/submissions/Y4_HIC_part1/3_data_processing/NA20503-2_FC2_S4_L003_R1_001.fastq.gz/analysis/hic_qc_workflow_outputs/b9dc3b6c-da94-49bc-813e-6b9ba9296197/NA20503-2_FC2_S4_L003_R1_001.fastq.gz.summary.tsv',\n",
       "       '/private/groups/hprc/human-pangenomics/HPRC_metadata/submissions/Y4_HIC_part1/3_data_processing/NA20503-2_FC2_S4_L003_R2_001.fastq.gz/analysis/hic_qc_workflow_outputs/a3be7313-5b50-45aa-af13-ce274402375d/NA20503-2_FC2_S4_L003_R2_001.fastq.gz.summary.tsv'],\n",
       "      dtype=object)"
      ]
     },
     "execution_count": 5,
     "metadata": {},
     "output_type": "execute_result"
    }
   ],
   "source": [
    "sample_df[sample_df['aggregate-sample_id'].isin(['NA20503'])]['hic_qc_wf.hic_qc_summary'].values"
   ]
  },
  {
   "cell_type": "code",
   "execution_count": 18,
   "metadata": {},
   "outputs": [
    {
     "data": {
      "text/plain": [
       "'/private/groups/hprc/human-pangenomics/HPRC_metadata/submissions/Y4_HIC_part1/3_data_processing/HG00126-1_FC1_S3_L004_R1_001.fastq.gz/analysis/hic_qc_workflow_outputs/009dccfe-378c-4eea-9850-fdae36daa110/HG00126-1_FC1_S3_L004_R1_001.fastq.gz_hic_vs_other.txt'"
      ]
     },
     "execution_count": 18,
     "metadata": {},
     "output_type": "execute_result"
    }
   ],
   "source": [
    "sample_df = sample_df.drop_duplicates('sample_id') #.shape # 594\n",
    "sample_df[sample_df['aggregate-sample_id'].isin(['HG00126'])]['hic_qc_wf.ntsm_eval'][0]"
   ]
  },
  {
   "cell_type": "code",
   "execution_count": 20,
   "metadata": {},
   "outputs": [
    {
     "data": {
      "text/plain": [
       "62"
      ]
     },
     "execution_count": 20,
     "metadata": {},
     "output_type": "execute_result"
    }
   ],
   "source": [
    "len(list(set(sample_df['aggregate-sample_id'].tolist())))"
   ]
  },
  {
   "cell_type": "code",
   "execution_count": 9,
   "metadata": {},
   "outputs": [
    {
     "data": {
      "text/plain": [
       "(366, 1)"
      ]
     },
     "execution_count": 9,
     "metadata": {},
     "output_type": "execute_result"
    }
   ],
   "source": [
    "hic_df = pd.read_csv('HIC_Y3_fillin_and_Y4_part1.csv',header=None)\n",
    "hic_df.shape"
   ]
  },
  {
   "cell_type": "code",
   "execution_count": 21,
   "metadata": {},
   "outputs": [
    {
     "name": "stdout",
     "output_type": "stream",
     "text": [
      "HG01940 26.200000000000003\n",
      "HG02015 17.98\n",
      "HG02735 28.28\n",
      "HG03583 28.24\n",
      "HG03611 0.0\n",
      "NA21110 20.48\n"
     ]
    }
   ],
   "source": [
    "output_dict = {sample:[] for sample in sample_df['aggregate-sample_id'].tolist()}\n",
    "for data in sample_df[['aggregate-sample_id','hic_qc_wf.hic_qc_summary']].values:\n",
    "\toutput_dict[data[0]].append(pd.read_csv(data[1],sep='\\t'))\n",
    "\n",
    "for k,v in output_dict.items():\n",
    "\t\n",
    "\toutput_dict[k] = pd.concat(v).drop_duplicates('file_name')\n",
    "\t# print(k, output_dict[k]['coverage'], output_dict[k]['ntsm_score'])\n",
    "\t\n",
    "\t# output_dict[k]['theoretical_coverage'] = [data/3.1 for data in output_dict[k]['total_Gbp'].tolist()]\n",
    "\t# theoretical_coverage = output_dict[k]['theoretical_coverage'].sum()\n",
    "\t# assert round(theoretical_coverage,1) == pangenome_df[pangenome_df['Sample ID'].isin([k])]['Coverage'].tolist()[0]\n",
    "\tif sum(output_dict[k]['coverage'].tolist()) < 30:\n",
    "\t\tprint(k,sum(output_dict[k]['coverage'].tolist()))\n",
    "\t\t\n",
    "\t\t# print(k, theoretical_coverage)"
   ]
  },
  {
   "cell_type": "code",
   "execution_count": 22,
   "metadata": {},
   "outputs": [],
   "source": [
    "output_df = pd.concat(output_dict.values())\n",
    "output_df['sample_ID'] = [sample.split('-')[0] for sample in output_df['file_name'].tolist()]"
   ]
  },
  {
   "cell_type": "code",
   "execution_count": 25,
   "metadata": {},
   "outputs": [],
   "source": [
    "output_df.to_csv('HIC_Y3_fillin_and_Y4_part1_sample_file_aggregate.csv',index=False)"
   ]
  },
  {
   "cell_type": "code",
   "execution_count": 30,
   "metadata": {},
   "outputs": [],
   "source": [
    "output_df = pd.read_csv('HIC_Y3_fillin_and_Y4_part1_sample_file_aggregate.csv')\n",
    "# output_df['sample_ID'].aggregate\n",
    "\n",
    "\n",
    "output_df.groupby('sample_ID')['coverage'].sum().reset_index().sort_values('coverage').to_csv('HIC_Y3_fillin_and_Y4_part1_sample_coverage.csv',index=False)"
   ]
  },
  {
   "cell_type": "code",
   "execution_count": 1,
   "metadata": {},
   "outputs": [],
   "source": [
    "import pandas as pd\n",
    "\n",
    "output_df = pd.read_csv('HIC_Y3_fillin_and_Y4_part1_sample_file_aggregate.csv')"
   ]
  },
  {
   "cell_type": "code",
   "execution_count": 9,
   "metadata": {},
   "outputs": [
    {
     "data": {
      "text/html": [
       "<div>\n",
       "<style scoped>\n",
       "    .dataframe tbody tr th:only-of-type {\n",
       "        vertical-align: middle;\n",
       "    }\n",
       "\n",
       "    .dataframe tbody tr th {\n",
       "        vertical-align: top;\n",
       "    }\n",
       "\n",
       "    .dataframe thead th {\n",
       "        text-align: right;\n",
       "    }\n",
       "</style>\n",
       "<table border=\"1\" class=\"dataframe\">\n",
       "  <thead>\n",
       "    <tr style=\"text-align: right;\">\n",
       "      <th></th>\n",
       "      <th>file_name</th>\n",
       "      <th>total_bp</th>\n",
       "      <th>coverage</th>\n",
       "      <th>ntsm_score</th>\n",
       "      <th>ntsm_result</th>\n",
       "      <th>sample_ID</th>\n",
       "    </tr>\n",
       "  </thead>\n",
       "  <tbody>\n",
       "    <tr>\n",
       "      <th>104</th>\n",
       "      <td>PG01192-1_S7_L001_R1_001.fastq.gz</td>\n",
       "      <td>50487274763</td>\n",
       "      <td>16.29</td>\n",
       "      <td>0.279172</td>\n",
       "      <td>Similar</td>\n",
       "      <td>PG01192</td>\n",
       "    </tr>\n",
       "    <tr>\n",
       "      <th>105</th>\n",
       "      <td>PG01192-1_S7_L001_R2_001.fastq.gz</td>\n",
       "      <td>50487274763</td>\n",
       "      <td>16.29</td>\n",
       "      <td>0.252458</td>\n",
       "      <td>Similar</td>\n",
       "      <td>PG01192</td>\n",
       "    </tr>\n",
       "    <tr>\n",
       "      <th>106</th>\n",
       "      <td>PG01192-2_S7_L002_R1_001.fastq.gz</td>\n",
       "      <td>60842911086</td>\n",
       "      <td>19.63</td>\n",
       "      <td>0.244302</td>\n",
       "      <td>Similar</td>\n",
       "      <td>PG01192</td>\n",
       "    </tr>\n",
       "    <tr>\n",
       "      <th>107</th>\n",
       "      <td>PG01192-2_S7_L002_R2_001.fastq.gz</td>\n",
       "      <td>60842911086</td>\n",
       "      <td>19.63</td>\n",
       "      <td>0.226754</td>\n",
       "      <td>Similar</td>\n",
       "      <td>PG01192</td>\n",
       "    </tr>\n",
       "    <tr>\n",
       "      <th>112</th>\n",
       "      <td>PG01261-1_S2_L001_R1_001.fastq.gz</td>\n",
       "      <td>113858604745</td>\n",
       "      <td>36.73</td>\n",
       "      <td>0.176353</td>\n",
       "      <td>Similar</td>\n",
       "      <td>PG01261</td>\n",
       "    </tr>\n",
       "    <tr>\n",
       "      <th>113</th>\n",
       "      <td>PG01261-1_S2_L001_R2_001.fastq.gz</td>\n",
       "      <td>113858604745</td>\n",
       "      <td>36.73</td>\n",
       "      <td>0.163687</td>\n",
       "      <td>Similar</td>\n",
       "      <td>PG01261</td>\n",
       "    </tr>\n",
       "    <tr>\n",
       "      <th>114</th>\n",
       "      <td>PG01261-2_S2_L002_R1_001.fastq.gz</td>\n",
       "      <td>60396447725</td>\n",
       "      <td>19.48</td>\n",
       "      <td>0.256517</td>\n",
       "      <td>Similar</td>\n",
       "      <td>PG01261</td>\n",
       "    </tr>\n",
       "    <tr>\n",
       "      <th>115</th>\n",
       "      <td>PG01261-2_S2_L002_R2_001.fastq.gz</td>\n",
       "      <td>60396447725</td>\n",
       "      <td>19.48</td>\n",
       "      <td>0.232618</td>\n",
       "      <td>Similar</td>\n",
       "      <td>PG01261</td>\n",
       "    </tr>\n",
       "    <tr>\n",
       "      <th>128</th>\n",
       "      <td>PG01960-1_S3_L001_R1_001.fastq.gz</td>\n",
       "      <td>30702431662</td>\n",
       "      <td>9.90</td>\n",
       "      <td>0.465040</td>\n",
       "      <td>Similar</td>\n",
       "      <td>PG01960</td>\n",
       "    </tr>\n",
       "    <tr>\n",
       "      <th>129</th>\n",
       "      <td>PG01960-1_S3_L001_R2_001.fastq.gz</td>\n",
       "      <td>30702431662</td>\n",
       "      <td>9.90</td>\n",
       "      <td>0.419896</td>\n",
       "      <td>Similar</td>\n",
       "      <td>PG01960</td>\n",
       "    </tr>\n",
       "    <tr>\n",
       "      <th>130</th>\n",
       "      <td>PG01960-2_S3_L002_R1_001.fastq.gz</td>\n",
       "      <td>26523678349</td>\n",
       "      <td>8.56</td>\n",
       "      <td>0.448195</td>\n",
       "      <td>Similar</td>\n",
       "      <td>PG01960</td>\n",
       "    </tr>\n",
       "    <tr>\n",
       "      <th>131</th>\n",
       "      <td>PG01960-2_S3_L002_R2_001.fastq.gz</td>\n",
       "      <td>26523678349</td>\n",
       "      <td>8.56</td>\n",
       "      <td>0.401277</td>\n",
       "      <td>Similar</td>\n",
       "      <td>PG01960</td>\n",
       "    </tr>\n",
       "    <tr>\n",
       "      <th>136</th>\n",
       "      <td>PG01975-1_S4_L001_R1_001.fastq.gz</td>\n",
       "      <td>33735008754</td>\n",
       "      <td>10.88</td>\n",
       "      <td>0.439404</td>\n",
       "      <td>Similar</td>\n",
       "      <td>PG01975</td>\n",
       "    </tr>\n",
       "    <tr>\n",
       "      <th>137</th>\n",
       "      <td>PG01975-1_S4_L001_R2_001.fastq.gz</td>\n",
       "      <td>33735008754</td>\n",
       "      <td>10.88</td>\n",
       "      <td>0.346324</td>\n",
       "      <td>Similar</td>\n",
       "      <td>PG01975</td>\n",
       "    </tr>\n",
       "    <tr>\n",
       "      <th>138</th>\n",
       "      <td>PG01975-2_S4_L002_R1_001.fastq.gz</td>\n",
       "      <td>45449986488</td>\n",
       "      <td>14.66</td>\n",
       "      <td>0.406998</td>\n",
       "      <td>Similar</td>\n",
       "      <td>PG01975</td>\n",
       "    </tr>\n",
       "    <tr>\n",
       "      <th>139</th>\n",
       "      <td>PG01975-2_S4_L002_R2_001.fastq.gz</td>\n",
       "      <td>45449986488</td>\n",
       "      <td>14.66</td>\n",
       "      <td>0.304342</td>\n",
       "      <td>Similar</td>\n",
       "      <td>PG01975</td>\n",
       "    </tr>\n",
       "    <tr>\n",
       "      <th>190</th>\n",
       "      <td>PG02841-1_S5_L001_R1_001.fastq.gz</td>\n",
       "      <td>32175246855</td>\n",
       "      <td>10.38</td>\n",
       "      <td>0.488242</td>\n",
       "      <td>Similar</td>\n",
       "      <td>PG02841</td>\n",
       "    </tr>\n",
       "    <tr>\n",
       "      <th>191</th>\n",
       "      <td>PG02841-1_S5_L001_R2_001.fastq.gz</td>\n",
       "      <td>32175246855</td>\n",
       "      <td>10.38</td>\n",
       "      <td>0.407016</td>\n",
       "      <td>Similar</td>\n",
       "      <td>PG02841</td>\n",
       "    </tr>\n",
       "    <tr>\n",
       "      <th>192</th>\n",
       "      <td>PG02841-2_S5_L002_R1_001.fastq.gz</td>\n",
       "      <td>41551546102</td>\n",
       "      <td>13.40</td>\n",
       "      <td>0.437549</td>\n",
       "      <td>Similar</td>\n",
       "      <td>PG02841</td>\n",
       "    </tr>\n",
       "    <tr>\n",
       "      <th>193</th>\n",
       "      <td>PG02841-2_S5_L002_R2_001.fastq.gz</td>\n",
       "      <td>41551546102</td>\n",
       "      <td>13.40</td>\n",
       "      <td>0.381989</td>\n",
       "      <td>Similar</td>\n",
       "      <td>PG02841</td>\n",
       "    </tr>\n",
       "    <tr>\n",
       "      <th>194</th>\n",
       "      <td>PG02984-1_S6_L001_R1_001.fastq.gz</td>\n",
       "      <td>33601463750</td>\n",
       "      <td>10.84</td>\n",
       "      <td>0.450685</td>\n",
       "      <td>Similar</td>\n",
       "      <td>PG02984</td>\n",
       "    </tr>\n",
       "    <tr>\n",
       "      <th>195</th>\n",
       "      <td>PG02984-1_S6_L001_R2_001.fastq.gz</td>\n",
       "      <td>33601463750</td>\n",
       "      <td>10.84</td>\n",
       "      <td>0.367731</td>\n",
       "      <td>Similar</td>\n",
       "      <td>PG02984</td>\n",
       "    </tr>\n",
       "    <tr>\n",
       "      <th>196</th>\n",
       "      <td>PG02984-2_S6_L002_R1_001.fastq.gz</td>\n",
       "      <td>30110076480</td>\n",
       "      <td>9.71</td>\n",
       "      <td>0.466494</td>\n",
       "      <td>Similar</td>\n",
       "      <td>PG02984</td>\n",
       "    </tr>\n",
       "    <tr>\n",
       "      <th>197</th>\n",
       "      <td>PG02984-2_S6_L002_R2_001.fastq.gz</td>\n",
       "      <td>30110076480</td>\n",
       "      <td>9.71</td>\n",
       "      <td>0.348519</td>\n",
       "      <td>Similar</td>\n",
       "      <td>PG02984</td>\n",
       "    </tr>\n",
       "  </tbody>\n",
       "</table>\n",
       "</div>"
      ],
      "text/plain": [
       "                             file_name      total_bp  coverage  ntsm_score  \\\n",
       "104  PG01192-1_S7_L001_R1_001.fastq.gz   50487274763     16.29    0.279172   \n",
       "105  PG01192-1_S7_L001_R2_001.fastq.gz   50487274763     16.29    0.252458   \n",
       "106  PG01192-2_S7_L002_R1_001.fastq.gz   60842911086     19.63    0.244302   \n",
       "107  PG01192-2_S7_L002_R2_001.fastq.gz   60842911086     19.63    0.226754   \n",
       "112  PG01261-1_S2_L001_R1_001.fastq.gz  113858604745     36.73    0.176353   \n",
       "113  PG01261-1_S2_L001_R2_001.fastq.gz  113858604745     36.73    0.163687   \n",
       "114  PG01261-2_S2_L002_R1_001.fastq.gz   60396447725     19.48    0.256517   \n",
       "115  PG01261-2_S2_L002_R2_001.fastq.gz   60396447725     19.48    0.232618   \n",
       "128  PG01960-1_S3_L001_R1_001.fastq.gz   30702431662      9.90    0.465040   \n",
       "129  PG01960-1_S3_L001_R2_001.fastq.gz   30702431662      9.90    0.419896   \n",
       "130  PG01960-2_S3_L002_R1_001.fastq.gz   26523678349      8.56    0.448195   \n",
       "131  PG01960-2_S3_L002_R2_001.fastq.gz   26523678349      8.56    0.401277   \n",
       "136  PG01975-1_S4_L001_R1_001.fastq.gz   33735008754     10.88    0.439404   \n",
       "137  PG01975-1_S4_L001_R2_001.fastq.gz   33735008754     10.88    0.346324   \n",
       "138  PG01975-2_S4_L002_R1_001.fastq.gz   45449986488     14.66    0.406998   \n",
       "139  PG01975-2_S4_L002_R2_001.fastq.gz   45449986488     14.66    0.304342   \n",
       "190  PG02841-1_S5_L001_R1_001.fastq.gz   32175246855     10.38    0.488242   \n",
       "191  PG02841-1_S5_L001_R2_001.fastq.gz   32175246855     10.38    0.407016   \n",
       "192  PG02841-2_S5_L002_R1_001.fastq.gz   41551546102     13.40    0.437549   \n",
       "193  PG02841-2_S5_L002_R2_001.fastq.gz   41551546102     13.40    0.381989   \n",
       "194  PG02984-1_S6_L001_R1_001.fastq.gz   33601463750     10.84    0.450685   \n",
       "195  PG02984-1_S6_L001_R2_001.fastq.gz   33601463750     10.84    0.367731   \n",
       "196  PG02984-2_S6_L002_R1_001.fastq.gz   30110076480      9.71    0.466494   \n",
       "197  PG02984-2_S6_L002_R2_001.fastq.gz   30110076480      9.71    0.348519   \n",
       "\n",
       "    ntsm_result sample_ID  \n",
       "104     Similar   PG01192  \n",
       "105     Similar   PG01192  \n",
       "106     Similar   PG01192  \n",
       "107     Similar   PG01192  \n",
       "112     Similar   PG01261  \n",
       "113     Similar   PG01261  \n",
       "114     Similar   PG01261  \n",
       "115     Similar   PG01261  \n",
       "128     Similar   PG01960  \n",
       "129     Similar   PG01960  \n",
       "130     Similar   PG01960  \n",
       "131     Similar   PG01960  \n",
       "136     Similar   PG01975  \n",
       "137     Similar   PG01975  \n",
       "138     Similar   PG01975  \n",
       "139     Similar   PG01975  \n",
       "190     Similar   PG02841  \n",
       "191     Similar   PG02841  \n",
       "192     Similar   PG02841  \n",
       "193     Similar   PG02841  \n",
       "194     Similar   PG02984  \n",
       "195     Similar   PG02984  \n",
       "196     Similar   PG02984  \n",
       "197     Similar   PG02984  "
      ]
     },
     "execution_count": 9,
     "metadata": {},
     "output_type": "execute_result"
    }
   ],
   "source": [
    "output_df[output_df['sample_ID'].isin(['PG01192', 'PG01261', 'PG01960', 'PG01975', 'PG02841', 'PG02984'])]"
   ]
  }
 ],
 "metadata": {
  "kernelspec": {
   "display_name": "Python 3",
   "language": "python",
   "name": "python3"
  },
  "language_info": {
   "codemirror_mode": {
    "name": "ipython",
    "version": 3
   },
   "file_extension": ".py",
   "mimetype": "text/x-python",
   "name": "python",
   "nbconvert_exporter": "python",
   "pygments_lexer": "ipython3",
   "version": "3.10.12"
  }
 },
 "nbformat": 4,
 "nbformat_minor": 2
}
