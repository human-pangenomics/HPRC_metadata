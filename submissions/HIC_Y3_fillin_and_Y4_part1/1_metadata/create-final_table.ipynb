{
 "cells": [
  {
   "cell_type": "code",
   "execution_count": 2,
   "metadata": {},
   "outputs": [],
   "source": [
    "import pandas as pd"
   ]
  },
  {
   "cell_type": "code",
   "execution_count": 4,
   "metadata": {},
   "outputs": [],
   "source": [
    "# metadata\n",
    "hic_metadata = pd.read_csv('sra_biosample_HIC_Y3_fillin_and_Y4_part1.csv')\n",
    "\n",
    "# aws\n",
    "hic_aws = pd.read_csv('HIC_Y3_fillin_and_Y4_part1.transfer_ec2.csv',header=None)\n",
    "\n",
    "hic_aws['filename'] = [sample.split('/')[-1] for sample in hic_aws[1].tolist()]\n",
    "hic_aws.rename(columns={1: 'path'}, inplace=True)\n",
    "\n",
    "hic_y4 = pd.merge(hic_metadata, hic_aws, on='filename', how='inner')\n",
    "hic_y4.drop(columns=[0], inplace=True)\n"
   ]
  },
  {
   "cell_type": "code",
   "execution_count": 6,
   "metadata": {},
   "outputs": [],
   "source": [
    "hic_readstats = pd.read_csv('HIC_Y3_fillin_and_Y4_part1_sample_file_aggregate.csv')\n",
    "hic_readstats.rename(columns={'file_name': 'filename'}, inplace=True)"
   ]
  },
  {
   "cell_type": "code",
   "execution_count": 7,
   "metadata": {},
   "outputs": [],
   "source": [
    "hic_readstats['filename'] = [file_name.replace('GM', 'NA') for file_name in hic_readstats['filename'].tolist()]\n",
    "hic_readstats['filename'] = [file_name.replace('PG', 'HG') for file_name in hic_readstats['filename'].tolist()]\n",
    "\n",
    "hic_readstats['sample_ID'] = [file_name.replace('GM', 'NA') for file_name in hic_readstats['sample_ID'].tolist()]\n",
    "hic_readstats['sample_ID'] = [file_name.replace('PG', 'HG') for file_name in hic_readstats['sample_ID'].tolist()]"
   ]
  },
  {
   "cell_type": "code",
   "execution_count": 8,
   "metadata": {},
   "outputs": [],
   "source": [
    "hic_assembly = pd.merge(hic_y4, hic_readstats, on='filename', how='inner')"
   ]
  },
  {
   "cell_type": "code",
   "execution_count": 12,
   "metadata": {},
   "outputs": [
    {
     "data": {
      "text/plain": [
       "(356, 23)"
      ]
     },
     "execution_count": 12,
     "metadata": {},
     "output_type": "execute_result"
    }
   ],
   "source": [
    "hic_assembly.shape"
   ]
  },
  {
   "cell_type": "code",
   "execution_count": 13,
   "metadata": {},
   "outputs": [],
   "source": [
    "hic_assembly.to_csv('HIC_Y3_fillin_and_Y4_part1_final_table.csv',index=False)"
   ]
  },
  {
   "cell_type": "markdown",
   "metadata": {},
   "source": [
    "hic_assembly.shape"
   ]
  }
 ],
 "metadata": {
  "kernelspec": {
   "display_name": "Python 3",
   "language": "python",
   "name": "python3"
  },
  "language_info": {
   "codemirror_mode": {
    "name": "ipython",
    "version": 3
   },
   "file_extension": ".py",
   "mimetype": "text/x-python",
   "name": "python",
   "nbconvert_exporter": "python",
   "pygments_lexer": "ipython3",
   "version": "3.10.12"
  }
 },
 "nbformat": 4,
 "nbformat_minor": 2
}
