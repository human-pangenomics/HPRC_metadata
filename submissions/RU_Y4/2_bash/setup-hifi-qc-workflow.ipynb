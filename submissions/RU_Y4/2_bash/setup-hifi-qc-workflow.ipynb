{
 "cells": [
  {
   "cell_type": "code",
   "execution_count": 6,
   "metadata": {},
   "outputs": [],
   "source": [
    "import pandas as pd"
   ]
  },
  {
   "cell_type": "code",
   "execution_count": 7,
   "metadata": {},
   "outputs": [],
   "source": [
    "sample_file_df = pd.read_csv('RU_Y4.csv', header=None)\n",
    "sample_file_df.columns = ['hifi']"
   ]
  },
  {
   "cell_type": "code",
   "execution_count": 8,
   "metadata": {},
   "outputs": [],
   "source": [
    "sample_file_df['sample_id']=[sample_id.split('/')[5] for sample_id in sample_file_df['hifi'].tolist()]"
   ]
  },
  {
   "cell_type": "code",
   "execution_count": 9,
   "metadata": {},
   "outputs": [],
   "source": [
    "sample_file_df = sample_file_df.groupby('sample_id')['hifi'].agg(list).reset_index()"
   ]
  },
  {
   "cell_type": "code",
   "execution_count": 10,
   "metadata": {},
   "outputs": [],
   "source": [
    "sample_file_df.to_csv('../hifi_qc/hifi_sample_data.csv',index=False)"
   ]
  },
  {
   "cell_type": "code",
   "execution_count": 11,
   "metadata": {},
   "outputs": [],
   "source": [
    "input_mappings = pd.DataFrame(columns=['input','type','value'])\n",
    "input_mappings['input'] = ['hifi_qc_wf.hifi_reads', 'hifi_qc_wf.sample_id', 'hifi_qc_wf.other_reads']\n",
    "input_mappings['type'] = ['array', 'scalar', 'array']\n",
    "input_mappings['value'] = ['$input.hifi','$input.sample_id','$input.ilmn']"
   ]
  },
  {
   "cell_type": "code",
   "execution_count": 5,
   "metadata": {},
   "outputs": [],
   "source": [
    "# input_mappings = pd.DataFrame(columns=['input','type'])\n",
    "# input_mappings['input'] = ['hifi_qc_wf.hifi_reads', 'hifi_qc_wf.sample_id']\n",
    "# input_mappings['type'] = ['array', 'scalar']\n",
    "# input_mappings['value'] = ['$input.hifi','$input.sample_id']\n",
    "input_mappings.to_csv('../hifi_qc/hifi_qc_input_mapping.csv')"
   ]
  }
 ],
 "metadata": {
  "kernelspec": {
   "display_name": "base",
   "language": "python",
   "name": "python3"
  },
  "language_info": {
   "codemirror_mode": {
    "name": "ipython",
    "version": 3
   },
   "file_extension": ".py",
   "mimetype": "text/x-python",
   "name": "python",
   "nbconvert_exporter": "python",
   "pygments_lexer": "ipython3",
   "version": "3.12.2"
  }
 },
 "nbformat": 4,
 "nbformat_minor": 2
}
