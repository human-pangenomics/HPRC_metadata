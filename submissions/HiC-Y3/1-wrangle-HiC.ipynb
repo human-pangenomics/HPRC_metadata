{
 "cells": [
  {
   "cell_type": "code",
   "execution_count": 1,
   "metadata": {},
   "outputs": [],
   "source": [
    "import pandas as pd"
   ]
  },
  {
   "cell_type": "code",
   "execution_count": 2,
   "metadata": {},
   "outputs": [],
   "source": [
    "hic_y3 = pd.read_csv('Y3-HIC.csv', header=None)"
   ]
  },
  {
   "cell_type": "code",
   "execution_count": null,
   "metadata": {},
   "outputs": [],
   "source": [
    "hic_y3['filename'] = [filename.split('/')[-1] for filename in hic_y3[0].tolist()]\n",
    "hic_y3['filetype'] = 'fastq'\n",
    "hic_y3['sample_ID'] = [sample_id.split('-')[0] for sample_id in hic_y3['filename'].tolist()]\n",
    "# missing library_ID\n"
   ]
  },
  {
   "cell_type": "code",
   "execution_count": 3,
   "metadata": {},
   "outputs": [],
   "source": [
    "hic_y3['library_strategy'] = 'OmniC'\n",
    "hic_y3['library_source'] = 'B-Lymphocyte Cell Pellet'\n",
    "hic_y3['library_layout'] = 'paired'\n",
    "hic_y3['platform'] = 'ILLUMINA'\n",
    "hic_y3['instrument_model'] = 'Illumina NovaSeq 6000'\n",
    "hic_y3['design_description'] = 'Illumina Sequencing of Omni-C Libraries'\n",
    "hic_y3['data_type'] = 'unaligned'\n",
    "hic_y3['generator_facility'] = 'University of California Santa Cruz'\n",
    "hic_y3['generator_contact'] = 'wseligma@ucsc.edu'\n",
    "hic_y3['note'] = 'Libraries were generated at UCSC and sequenced by Illumina'"
   ]
  },
  {
   "cell_type": "code",
   "execution_count": 4,
   "metadata": {},
   "outputs": [],
   "source": [
    "hic_y3.drop(columns=[0], inplace=True)"
   ]
  },
  {
   "cell_type": "code",
   "execution_count": null,
   "metadata": {},
   "outputs": [],
   "source": [
    "hic_y3.to_csv('HPRC_Illumina_HiC_Metadata_HIC_Y3.csv', index=False)"
   ]
  }
 ],
 "metadata": {
  "kernelspec": {
   "display_name": "Python 3",
   "language": "python",
   "name": "python3"
  },
  "language_info": {
   "codemirror_mode": {
    "name": "ipython",
    "version": 3
   },
   "file_extension": ".py",
   "mimetype": "text/x-python",
   "name": "python",
   "nbconvert_exporter": "python",
   "pygments_lexer": "ipython3",
   "version": "3.10.14"
  }
 },
 "nbformat": 4,
 "nbformat_minor": 2
}
