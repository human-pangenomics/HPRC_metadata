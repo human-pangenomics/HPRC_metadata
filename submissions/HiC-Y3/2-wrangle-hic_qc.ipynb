{
 "cells": [
  {
   "cell_type": "code",
   "execution_count": 4,
   "metadata": {},
   "outputs": [],
   "source": [
    "import glob\n",
    "import pandas as pd"
   ]
  },
  {
   "cell_type": "code",
   "execution_count": 5,
   "metadata": {},
   "outputs": [],
   "source": [
    "hic_y3 = pd.read_csv('/private/groups/hprc/human-pangenomics/HPRC_metadata/submissions/HiC-Y3/Y3-HIC.csv',header=None)\n",
    "hic_y3['sample_id'] = [sample.split('/')[-4] for sample in hic_y3[0].tolist()]\n",
    "hic_y3['file_id'] =  [sample.split('/')[-1] for sample in hic_y3[0].tolist()]"
   ]
  },
  {
   "cell_type": "code",
   "execution_count": 6,
   "metadata": {},
   "outputs": [],
   "source": [
    "other_reads = []\n",
    "sample_list = []\n",
    "no_sample = []\n",
    "for sample in [sample.split('_')[0] for sample in hic_y3[~hic_y3['sample_id'].isin(['HG01443', 'HG02688'])]['sample_id'].tolist()]:\n",
    "\t# print(sample)\n",
    "\tother_reads_path = glob.glob('/private/groups/hprc/human-pangenomics/1000G_local/child/cram_to_bam/'+sample+'/*/*/*/*')\n",
    "\t# print(other_reads_path)\n",
    "\tif other_reads_path == []:\n",
    "\t\tother_reads_path = glob.glob('/private/groups/hprc/1000G_local/child/fastq/' + sample + '.*')\n",
    "\t\t# print(other_reads_path)\n",
    "\t\tif len(other_reads_path) != 0:\n",
    "\t\t\t# print(len(other_reads_path))\n",
    "\t\t\tother_reads.append([other_reads_path[0]])\n",
    "\t\t\tsample_list.append(sample)\n",
    "\t\telse:\n",
    "\t\t\n",
    "\t\t\tno_sample.append(sample)\n",
    "\telse:\n",
    "\t\t# print(other_reads)\n",
    "\t\tother_reads.append([other_reads_path[0]])\n",
    "\t\tsample_list.append(sample)\n",
    "# hic_y2 = hic_y2[~hic_y2['sample_id'].isin(['HG01443', 'HG02688'])]\n",
    "# hic_y2['other_reads'] = other_reads"
   ]
  },
  {
   "cell_type": "code",
   "execution_count": 7,
   "metadata": {},
   "outputs": [],
   "source": [
    "hic_y3['other_reads'] = other_reads"
   ]
  },
  {
   "cell_type": "code",
   "execution_count": 14,
   "metadata": {},
   "outputs": [],
   "source": [
    "hic_y3 = hic_y3[[0,'file_id','other_reads']]\n",
    "hic_y3.rename(columns={0:'hic_reads'},inplace=True)"
   ]
  },
  {
   "cell_type": "code",
   "execution_count": 19,
   "metadata": {},
   "outputs": [
    {
     "data": {
      "text/plain": [
       "(810, 3)"
      ]
     },
     "execution_count": 19,
     "metadata": {},
     "output_type": "execute_result"
    }
   ],
   "source": [
    "hic_y3.shape"
   ]
  },
  {
   "cell_type": "code",
   "execution_count": 18,
   "metadata": {},
   "outputs": [],
   "source": [
    "hic_y3[['file_id','hic_reads','other_reads']].to_csv('hic_qc/hic_sample_files.csv',index=False)"
   ]
  }
 ],
 "metadata": {
  "kernelspec": {
   "display_name": "Python 3",
   "language": "python",
   "name": "python3"
  },
  "language_info": {
   "codemirror_mode": {
    "name": "ipython",
    "version": 3
   },
   "file_extension": ".py",
   "mimetype": "text/x-python",
   "name": "python",
   "nbconvert_exporter": "python",
   "pygments_lexer": "ipython3",
   "version": "3.10.14"
  }
 },
 "nbformat": 4,
 "nbformat_minor": 2
}
