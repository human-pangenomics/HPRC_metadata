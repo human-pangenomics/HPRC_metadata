{
 "cells": [
  {
   "cell_type": "code",
   "execution_count": 26,
   "metadata": {},
   "outputs": [],
   "source": [
    "import pandas as pd"
   ]
  },
  {
   "cell_type": "code",
   "execution_count": 27,
   "metadata": {},
   "outputs": [],
   "source": [
    "post_sra = pd.read_csv('/private/groups/hprc/human-pangenomics/documentation-metadata/HPRC_metadata/submissions/HiC-Y3/metadata-14663396-processed-ok.tsv',sep='\\t')\n",
    "sra_ids = pd.read_csv('/private/groups/hprc/human-pangenomics/documentation-metadata/HPRC_metadata/submissions/HiC-Y3/metadata-14663396-processed-ok.tsv',sep='\\t')"
   ]
  },
  {
   "cell_type": "code",
   "execution_count": 28,
   "metadata": {},
   "outputs": [],
   "source": [
    "hic_file_df = pd.DataFrame(sra_ids['filename'].tolist() + sra_ids['filename2'].tolist())"
   ]
  },
  {
   "cell_type": "code",
   "execution_count": 29,
   "metadata": {},
   "outputs": [],
   "source": [
    "# Create a new DataFrame with the rows duplicated for filename2\n",
    "df_filename2 = sra_ids.copy()\n",
    "df_filename2['filename'] = df_filename2['filename2']\n",
    "\n",
    "# Combine the original and the new DataFrame, then drop filename2 column\n",
    "df_combined = pd.concat([sra_ids, df_filename2], ignore_index=True)\n",
    "df_combined = df_combined.drop(columns=['filename2'])\n",
    "\n",
    "# Display the resulting DataFrame\n",
    "# print(df_combined)"
   ]
  },
  {
   "cell_type": "code",
   "execution_count": 33,
   "metadata": {},
   "outputs": [],
   "source": [
    "hic_qc = pd.read_csv('/private/groups/hprc/human-pangenomics/documentation-metadata/HPRC_metadata/submissions/HiC-Y3/HIC_Y3_sample_file_hic_qc.csv')\n",
    "hic_qc.rename(columns={'file_name':'filename'},inplace=True)\n"
   ]
  },
  {
   "cell_type": "code",
   "execution_count": 36,
   "metadata": {},
   "outputs": [],
   "source": [
    "hic_df = pd.merge(df_combined, hic_qc, on='filename',how='inner')"
   ]
  },
  {
   "cell_type": "code",
   "execution_count": 40,
   "metadata": {},
   "outputs": [],
   "source": [
    "hic_df.drop(columns=['object_status'],inplace=True)"
   ]
  },
  {
   "cell_type": "code",
   "execution_count": 42,
   "metadata": {},
   "outputs": [
    {
     "data": {
      "text/html": [
       "<div>\n",
       "<style scoped>\n",
       "    .dataframe tbody tr th:only-of-type {\n",
       "        vertical-align: middle;\n",
       "    }\n",
       "\n",
       "    .dataframe tbody tr th {\n",
       "        vertical-align: top;\n",
       "    }\n",
       "\n",
       "    .dataframe thead th {\n",
       "        text-align: right;\n",
       "    }\n",
       "</style>\n",
       "<table border=\"1\" class=\"dataframe\">\n",
       "  <thead>\n",
       "    <tr style=\"text-align: right;\">\n",
       "      <th></th>\n",
       "      <th>accession</th>\n",
       "      <th>study</th>\n",
       "      <th>bioproject_accession</th>\n",
       "      <th>biosample_accession</th>\n",
       "      <th>filename</th>\n",
       "      <th>library_ID</th>\n",
       "      <th>library_strategy</th>\n",
       "      <th>library_source</th>\n",
       "      <th>platform</th>\n",
       "      <th>instrument_model</th>\n",
       "      <th>...</th>\n",
       "      <th>data_type</th>\n",
       "      <th>filetype</th>\n",
       "      <th>library_layout</th>\n",
       "      <th>library_selection</th>\n",
       "      <th>shear_method</th>\n",
       "      <th>title</th>\n",
       "      <th>total_bp</th>\n",
       "      <th>coverage</th>\n",
       "      <th>ntsm_score</th>\n",
       "      <th>ntsm_result</th>\n",
       "    </tr>\n",
       "  </thead>\n",
       "  <tbody>\n",
       "    <tr>\n",
       "      <th>0</th>\n",
       "      <td>SRR30242407</td>\n",
       "      <td>SRP305758</td>\n",
       "      <td>PRJNA701308</td>\n",
       "      <td>SAMN33758778</td>\n",
       "      <td>HG00099-1_S20_L001_R1_001.fastq.gz</td>\n",
       "      <td>HG00099-1_S20_L001</td>\n",
       "      <td>Hi-C</td>\n",
       "      <td>GENOMIC</td>\n",
       "      <td>ILLUMINA</td>\n",
       "      <td>Illumina NovaSeq 6000</td>\n",
       "      <td>...</td>\n",
       "      <td>unaligned reads</td>\n",
       "      <td>fastq</td>\n",
       "      <td>paired</td>\n",
       "      <td>RANDOM</td>\n",
       "      <td>no shear</td>\n",
       "      <td>Illumina Sequencing of Omni-C Libraries of HG0...</td>\n",
       "      <td>10451741673</td>\n",
       "      <td>3.37</td>\n",
       "      <td>0.631410</td>\n",
       "      <td>Similar</td>\n",
       "    </tr>\n",
       "    <tr>\n",
       "      <th>376</th>\n",
       "      <td>SRR30242407</td>\n",
       "      <td>SRP305758</td>\n",
       "      <td>PRJNA701308</td>\n",
       "      <td>SAMN33758778</td>\n",
       "      <td>HG00099-1_S20_L001_R2_001.fastq.gz</td>\n",
       "      <td>HG00099-1_S20_L001</td>\n",
       "      <td>Hi-C</td>\n",
       "      <td>GENOMIC</td>\n",
       "      <td>ILLUMINA</td>\n",
       "      <td>Illumina NovaSeq 6000</td>\n",
       "      <td>...</td>\n",
       "      <td>unaligned reads</td>\n",
       "      <td>fastq</td>\n",
       "      <td>paired</td>\n",
       "      <td>RANDOM</td>\n",
       "      <td>no shear</td>\n",
       "      <td>Illumina Sequencing of Omni-C Libraries of HG0...</td>\n",
       "      <td>10450847711</td>\n",
       "      <td>3.37</td>\n",
       "      <td>0.586367</td>\n",
       "      <td>Similar</td>\n",
       "    </tr>\n",
       "  </tbody>\n",
       "</table>\n",
       "<p>2 rows × 24 columns</p>\n",
       "</div>"
      ],
      "text/plain": [
       "       accession      study bioproject_accession biosample_accession  \\\n",
       "0    SRR30242407  SRP305758          PRJNA701308        SAMN33758778   \n",
       "376  SRR30242407  SRP305758          PRJNA701308        SAMN33758778   \n",
       "\n",
       "                               filename          library_ID library_strategy  \\\n",
       "0    HG00099-1_S20_L001_R1_001.fastq.gz  HG00099-1_S20_L001             Hi-C   \n",
       "376  HG00099-1_S20_L001_R2_001.fastq.gz  HG00099-1_S20_L001             Hi-C   \n",
       "\n",
       "    library_source  platform       instrument_model  ...        data_type  \\\n",
       "0          GENOMIC  ILLUMINA  Illumina NovaSeq 6000  ...  unaligned reads   \n",
       "376        GENOMIC  ILLUMINA  Illumina NovaSeq 6000  ...  unaligned reads   \n",
       "\n",
       "    filetype library_layout  library_selection shear_method  \\\n",
       "0      fastq         paired             RANDOM     no shear   \n",
       "376    fastq         paired             RANDOM     no shear   \n",
       "\n",
       "                                                 title     total_bp coverage  \\\n",
       "0    Illumina Sequencing of Omni-C Libraries of HG0...  10451741673     3.37   \n",
       "376  Illumina Sequencing of Omni-C Libraries of HG0...  10450847711     3.37   \n",
       "\n",
       "    ntsm_score ntsm_result  \n",
       "0     0.631410     Similar  \n",
       "376   0.586367     Similar  \n",
       "\n",
       "[2 rows x 24 columns]"
      ]
     },
     "execution_count": 42,
     "metadata": {},
     "output_type": "execute_result"
    }
   ],
   "source": [
    "hic_df.to_csv('/private/groups/hprc/human-pangenomics/documentation-metadata/HPRC_metadata/data/hprc-data-explorer-tables/HPRC_HiC.tsv',sep='\\t')"
   ]
  }
 ],
 "metadata": {
  "kernelspec": {
   "display_name": "Python 3",
   "language": "python",
   "name": "python3"
  },
  "language_info": {
   "codemirror_mode": {
    "name": "ipython",
    "version": 3
   },
   "file_extension": ".py",
   "mimetype": "text/x-python",
   "name": "python",
   "nbconvert_exporter": "python",
   "pygments_lexer": "ipython3",
   "version": "3.10.14"
  }
 },
 "nbformat": 4,
 "nbformat_minor": 2
}
