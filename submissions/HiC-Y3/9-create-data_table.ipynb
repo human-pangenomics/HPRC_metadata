{
 "cells": [
  {
   "cell_type": "code",
   "execution_count": 26,
   "metadata": {},
   "outputs": [],
   "source": [
    "import pandas as pd"
   ]
  },
  {
   "cell_type": "code",
   "execution_count": 27,
   "metadata": {},
   "outputs": [],
   "source": [
    "post_sra = pd.read_csv('/private/groups/hprc/human-pangenomics/documentation-metadata/HPRC_metadata/submissions/HiC-Y3/metadata-14663396-processed-ok.tsv',sep='\\t')\n",
    "sra_ids = pd.read_csv('/private/groups/hprc/human-pangenomics/documentation-metadata/HPRC_metadata/submissions/HiC-Y3/metadata-14663396-processed-ok.tsv',sep='\\t')"
   ]
  },
  {
   "cell_type": "code",
   "execution_count": 28,
   "metadata": {},
   "outputs": [],
   "source": [
    "hic_file_df = pd.DataFrame(sra_ids['filename'].tolist() + sra_ids['filename2'].tolist())"
   ]
  },
  {
   "cell_type": "code",
   "execution_count": 29,
   "metadata": {},
   "outputs": [],
   "source": [
    "# Create a new DataFrame with the rows duplicated for filename2\n",
    "df_filename2 = sra_ids.copy()\n",
    "df_filename2['filename'] = df_filename2['filename2']\n",
    "\n",
    "# Combine the original and the new DataFrame, then drop filename2 column\n",
    "df_combined = pd.concat([sra_ids, df_filename2], ignore_index=True)\n",
    "df_combined = df_combined.drop(columns=['filename2'])\n",
    "\n",
    "# Display the resulting DataFrame\n",
    "# print(df_combined)"
   ]
  },
  {
   "cell_type": "code",
   "execution_count": 33,
   "metadata": {},
   "outputs": [],
   "source": [
    "hic_qc = pd.read_csv('/private/groups/hprc/human-pangenomics/documentation-metadata/HPRC_metadata/submissions/HiC-Y3/HIC_Y3_sample_file_hic_qc.csv')\n",
    "hic_qc.rename(columns={'file_name':'filename'},inplace=True)\n"
   ]
  },
  {
   "cell_type": "code",
   "execution_count": 36,
   "metadata": {},
   "outputs": [],
   "source": [
    "hic_df = pd.merge(df_combined, hic_qc, on='filename',how='inner')"
   ]
  },
  {
   "cell_type": "code",
   "execution_count": 40,
   "metadata": {},
   "outputs": [],
   "source": [
    "hic_df.drop(columns=['object_status'],inplace=True)"
   ]
  },
  {
   "cell_type": "code",
   "execution_count": 44,
   "metadata": {},
   "outputs": [],
   "source": [
    "hic_df.to_csv('/private/groups/hprc/human-pangenomics/documentation-metadata/HPRC_metadata/data/hprc-data-explorer-tables/HPRC_HiC.tsv',sep='\\t',index=False)"
   ]
  }
 ],
 "metadata": {
  "kernelspec": {
   "display_name": "Python 3",
   "language": "python",
   "name": "python3"
  },
  "language_info": {
   "codemirror_mode": {
    "name": "ipython",
    "version": 3
   },
   "file_extension": ".py",
   "mimetype": "text/x-python",
   "name": "python",
   "nbconvert_exporter": "python",
   "pygments_lexer": "ipython3",
   "version": "3.10.14"
  }
 },
 "nbformat": 4,
 "nbformat_minor": 2
}
