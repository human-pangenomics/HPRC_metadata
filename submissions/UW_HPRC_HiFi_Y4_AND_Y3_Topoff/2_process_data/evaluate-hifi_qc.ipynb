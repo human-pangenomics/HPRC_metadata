{
 "cells": [
  {
   "cell_type": "code",
   "execution_count": 1,
   "metadata": {},
   "outputs": [],
   "source": [
    "import pandas as pd\n",
    "import glob"
   ]
  },
  {
   "cell_type": "code",
   "execution_count": 2,
   "metadata": {},
   "outputs": [
    {
     "data": {
      "text/plain": [
       "119"
      ]
     },
     "execution_count": 2,
     "metadata": {},
     "output_type": "execute_result"
    }
   ],
   "source": [
    "len(glob.glob('/private/groups/hprc/human-pangenomics/HPRC_metadata/submissions/UW_HPRC_HiFi_Y4_AND_Y3_Topoff/3_data_processing/batch1-hifi_qc/input_jsons/*.json'))"
   ]
  },
  {
   "cell_type": "code",
   "execution_count": 3,
   "metadata": {},
   "outputs": [
    {
     "data": {
      "text/html": [
       "<div>\n",
       "<style scoped>\n",
       "    .dataframe tbody tr th:only-of-type {\n",
       "        vertical-align: middle;\n",
       "    }\n",
       "\n",
       "    .dataframe tbody tr th {\n",
       "        vertical-align: top;\n",
       "    }\n",
       "\n",
       "    .dataframe thead th {\n",
       "        text-align: right;\n",
       "    }\n",
       "</style>\n",
       "<table border=\"1\" class=\"dataframe\">\n",
       "  <thead>\n",
       "    <tr style=\"text-align: right;\">\n",
       "      <th></th>\n",
       "      <th>Sample</th>\n",
       "      <th>Topoff Coverage (X)</th>\n",
       "      <th>Total Coverage (X)</th>\n",
       "    </tr>\n",
       "  </thead>\n",
       "  <tbody>\n",
       "    <tr>\n",
       "      <th>0</th>\n",
       "      <td>HG01891</td>\n",
       "      <td>21.2</td>\n",
       "      <td>64.2</td>\n",
       "    </tr>\n",
       "    <tr>\n",
       "      <th>1</th>\n",
       "      <td>HG02486</td>\n",
       "      <td>16.7</td>\n",
       "      <td>62.7</td>\n",
       "    </tr>\n",
       "    <tr>\n",
       "      <th>2</th>\n",
       "      <td>HG02559</td>\n",
       "      <td>15.5</td>\n",
       "      <td>63.5</td>\n",
       "    </tr>\n",
       "    <tr>\n",
       "      <th>3</th>\n",
       "      <td>HG02257</td>\n",
       "      <td>24.7</td>\n",
       "      <td>65.7</td>\n",
       "    </tr>\n",
       "    <tr>\n",
       "      <th>4</th>\n",
       "      <td>HG01358</td>\n",
       "      <td>NaN</td>\n",
       "      <td>43.0</td>\n",
       "    </tr>\n",
       "    <tr>\n",
       "      <th>...</th>\n",
       "      <td>...</td>\n",
       "      <td>...</td>\n",
       "      <td>...</td>\n",
       "    </tr>\n",
       "    <tr>\n",
       "      <th>145</th>\n",
       "      <td>HG03742</td>\n",
       "      <td>NaN</td>\n",
       "      <td>49.0</td>\n",
       "    </tr>\n",
       "    <tr>\n",
       "      <th>146</th>\n",
       "      <td>NA19043</td>\n",
       "      <td>12.1</td>\n",
       "      <td>60.5</td>\n",
       "    </tr>\n",
       "    <tr>\n",
       "      <th>147</th>\n",
       "      <td>NaN</td>\n",
       "      <td>NaN</td>\n",
       "      <td>NaN</td>\n",
       "    </tr>\n",
       "    <tr>\n",
       "      <th>148</th>\n",
       "      <td>NaN</td>\n",
       "      <td>NaN</td>\n",
       "      <td>NaN</td>\n",
       "    </tr>\n",
       "    <tr>\n",
       "      <th>149</th>\n",
       "      <td>NaN</td>\n",
       "      <td>NaN</td>\n",
       "      <td>NaN</td>\n",
       "    </tr>\n",
       "  </tbody>\n",
       "</table>\n",
       "<p>150 rows × 3 columns</p>\n",
       "</div>"
      ],
      "text/plain": [
       "      Sample  Topoff Coverage (X)  Total Coverage (X)\n",
       "0    HG01891                 21.2                64.2\n",
       "1    HG02486                 16.7                62.7\n",
       "2    HG02559                 15.5                63.5\n",
       "3    HG02257                 24.7                65.7\n",
       "4    HG01358                  NaN                43.0\n",
       "..       ...                  ...                 ...\n",
       "145  HG03742                  NaN                49.0\n",
       "146  NA19043                 12.1                60.5\n",
       "147      NaN                  NaN                 NaN\n",
       "148      NaN                  NaN                 NaN\n",
       "149      NaN                  NaN                 NaN\n",
       "\n",
       "[150 rows x 3 columns]"
      ]
     },
     "execution_count": 3,
     "metadata": {},
     "output_type": "execute_result"
    }
   ],
   "source": [
    "topoff_df = pd.read_csv('/private/groups/hprc/human-pangenomics/HPRC_metadata/data/production/Pangenome_HiFi_Libraries_Year4 - Topoff_Sequencing.tsv',sep='\\t')\n",
    "topoff_df"
   ]
  },
  {
   "cell_type": "code",
   "execution_count": 4,
   "metadata": {},
   "outputs": [],
   "source": [
    "def hprc_qc_review(output_df):\n",
    "\tpangenome_df = pd.read_csv('/private/groups/hprc/human-pangenomics/HPRC_metadata/data/production/Pangenome_HiFi_Libraries_Year4 - Totals_by_Sample.csv')\n",
    "\ttopoff_df = pd.read_csv('/private/groups/hprc/human-pangenomics/HPRC_metadata/data/production/Pangenome_HiFi_Libraries_Year4 - Topoff_Sequencing.tsv',sep='\\t')\n",
    "\toutput_dict = {sample:[] for sample in output_df['aggregate-sample_id'].tolist()}\n",
    "\tfor data in output_df[['aggregate-sample_id','hifi_qc_wf.hifi_qc_summary']].values:\n",
    "\t\toutput_dict[data[0]].append(pd.read_csv(data[1],sep='\\t'))\n",
    "\n",
    "\tcoverage_dict = {}\n",
    "\tfor k,v in output_dict.items():\n",
    "\t\t\n",
    "\t\toutput_dict[k] = pd.concat(v)\n",
    "\t\toutput_dict[k]['theoretical_coverage'] = [data/3.1 for data in output_dict[k]['total_Gbp'].tolist()]\n",
    "\t\ttheoretical_coverage = output_dict[k]['theoretical_coverage'].sum()\n",
    "\t\t\n",
    "\t\t# +/- 1\n",
    "\t\tif pangenome_df[pangenome_df['Sample ID'].isin([k])]['Coverage'].tolist() != []:\n",
    "\t\t\tif round(theoretical_coverage,1) != pangenome_df[pangenome_df['Sample ID'].isin([k])]['Coverage'].tolist()[0]:\n",
    "\t\t\t\tprint(k, round(theoretical_coverage),  round(pangenome_df[pangenome_df['Sample ID'].isin([k])]['Coverage'].tolist()[0]))\n",
    "\t\t# else:\n",
    "\t\t# \tprint(k, round(theoretical_coverage,1))\n",
    "\t\t\n",
    "\t\t# # Topoff Coverage (X) not Total Coverage (X)\n",
    "\t\t# if topoff_df[topoff_df['Sample'].isin([k])]['Topoff Coverage (X)'].tolist() != []:\n",
    "\t\t# \tif round(theoretical_coverage,1) != topoff_df[topoff_df['Sample'].isin([k])]['Topoff Coverage (X)'].tolist()[0]:\n",
    "\t\t# \t\tprint(k, round(theoretical_coverage),  topoff_df[topoff_df['Sample'].isin([k])]['Topoff Coverage (X)'].tolist()[0])\n",
    "\t\t# # else:\n",
    "\t\t# \t# print(k, round(theoretical_coverage,1))\n",
    "\n",
    "\t\n",
    "\t\t# if theoretical_coverage < 60:\n",
    "\t\t# \tcoverage_dict[k] = theoretical_coverage\n",
    "\t\t\t# assert round(theoretical_coverage,1) == pangenome_df[pangenome_df['Sample ID'].isin([k])]['Coverage'].tolist()[0]\n",
    "\t\t\t# print(k, theoretical_coverage)\n",
    "\treturn output_dict, coverage_dict\n"
   ]
  },
  {
   "cell_type": "code",
   "execution_count": 5,
   "metadata": {},
   "outputs": [
    {
     "name": "stdout",
     "output_type": "stream",
     "text": [
      "(119, 11)\n",
      "HG00126 64 64\n",
      "HG00133 66 66\n",
      "HG00272 68 68\n",
      "HG00290 63 63\n",
      "HG01028 66 66\n",
      "HG03778 56 61\n",
      "HG04225 67 67\n",
      "NA19776 62 62\n"
     ]
    }
   ],
   "source": [
    "batch1_output_df = pd.read_csv('batch1-hifi_qc/hifi_samples_output_table.csv')\n",
    "print(batch1_output_df.shape)\n",
    "batch1_output_df['aggregate-sample_id'] = [sample.split('_')[0] for sample in batch1_output_df['sample_id'].tolist()]\n",
    "# print(batch1_output_df[batch1_output_df['aggregate-sample_id'].isin(['HG03778'])])\n",
    "batch1_output_dict, batch1_coverage_dict = hprc_qc_review(batch1_output_df)"
   ]
  },
  {
   "cell_type": "markdown",
   "metadata": {},
   "source": [
    "HG03778: 56 61 missing one file m84046_230731_200859_s2.hifi_reads.bc2095.bam\n",
    "HG01361: 38 13.5\n",
    "HG01123: 26 11.8\n"
   ]
  },
  {
   "cell_type": "code",
   "execution_count": 6,
   "metadata": {},
   "outputs": [
    {
     "name": "stdout",
     "output_type": "stream",
     "text": [
      "HG01361 38 14\n",
      "HG03017 17 17\n"
     ]
    }
   ],
   "source": [
    "batch2_output_df = pd.read_csv('batch2-hifi_qc/hifi_samples_output_table.csv')\n",
    "batch2_output_df['aggregate-sample_id'] = [sample.split('_')[0] for sample in batch2_output_df['sample_id'].tolist()]\n",
    "batch2_output_dict, batch2_coverage_dict = hprc_qc_review(batch2_output_df)"
   ]
  },
  {
   "cell_type": "code",
   "execution_count": 7,
   "metadata": {},
   "outputs": [
    {
     "data": {
      "text/plain": [
       "(0, 0)"
      ]
     },
     "execution_count": 7,
     "metadata": {},
     "output_type": "execute_result"
    }
   ],
   "source": [
    "batch2_coverage_df = pd.DataFrame.from_dict(batch2_coverage_dict, orient='index')\n",
    "batch2_coverage_df.shape # topoff in addition to deepconsensus (sequel). check y1-y3 (no y4). "
   ]
  },
  {
   "cell_type": "code",
   "execution_count": 8,
   "metadata": {},
   "outputs": [
    {
     "name": "stdout",
     "output_type": "stream",
     "text": [
      "HG01123 26 12\n"
     ]
    },
    {
     "data": {
      "text/html": [
       "<div>\n",
       "<style scoped>\n",
       "    .dataframe tbody tr th:only-of-type {\n",
       "        vertical-align: middle;\n",
       "    }\n",
       "\n",
       "    .dataframe tbody tr th {\n",
       "        vertical-align: top;\n",
       "    }\n",
       "\n",
       "    .dataframe thead th {\n",
       "        text-align: right;\n",
       "    }\n",
       "</style>\n",
       "<table border=\"1\" class=\"dataframe\">\n",
       "  <thead>\n",
       "    <tr style=\"text-align: right;\">\n",
       "      <th></th>\n",
       "    </tr>\n",
       "  </thead>\n",
       "  <tbody>\n",
       "  </tbody>\n",
       "</table>\n",
       "</div>"
      ],
      "text/plain": [
       "Empty DataFrame\n",
       "Columns: []\n",
       "Index: []"
      ]
     },
     "execution_count": 8,
     "metadata": {},
     "output_type": "execute_result"
    }
   ],
   "source": [
    "batch3_output_df = pd.read_csv('batch3-hifi_qc/hifi_samples_output_table.csv')\n",
    "batch3_output_df['aggregate-sample_id'] = [sample.split('_')[0] for sample in batch3_output_df['sample_id'].tolist()]\n",
    "batch3_output_dict, batch3_coverage_dict = hprc_qc_review(batch3_output_df)\n",
    "\n",
    "batch3_coverage_df = pd.DataFrame.from_dict(batch3_coverage_dict, orient='index')\n",
    "batch3_coverage_df # topoff in addition to deepconsensus (sequel). check y1-y3 (no y4). "
   ]
  },
  {
   "cell_type": "code",
   "execution_count": 9,
   "metadata": {},
   "outputs": [
    {
     "data": {
      "text/html": [
       "<div>\n",
       "<style scoped>\n",
       "    .dataframe tbody tr th:only-of-type {\n",
       "        vertical-align: middle;\n",
       "    }\n",
       "\n",
       "    .dataframe tbody tr th {\n",
       "        vertical-align: top;\n",
       "    }\n",
       "\n",
       "    .dataframe thead th {\n",
       "        text-align: right;\n",
       "    }\n",
       "</style>\n",
       "<table border=\"1\" class=\"dataframe\">\n",
       "  <thead>\n",
       "    <tr style=\"text-align: right;\">\n",
       "      <th></th>\n",
       "    </tr>\n",
       "  </thead>\n",
       "  <tbody>\n",
       "  </tbody>\n",
       "</table>\n",
       "</div>"
      ],
      "text/plain": [
       "Empty DataFrame\n",
       "Columns: []\n",
       "Index: []"
      ]
     },
     "execution_count": 9,
     "metadata": {},
     "output_type": "execute_result"
    }
   ],
   "source": [
    "batch4_output_df = pd.read_csv('batch4-hifi_qc/hifi_samples_output_table.csv')\n",
    "# print(batch4_output_df.shape)\n",
    "# print(batch4_output_df)\n",
    "batch4_output_df['aggregate-sample_id'] = [sample.split('_')[0] for sample in batch4_output_df['sample_id'].tolist()]\n",
    "# batch4_output_df\n",
    "batch4_output_dict, batch4_coverage_dict = hprc_qc_review(batch4_output_df)\n",
    "batch4_coverage_df = pd.DataFrame.from_dict(batch4_coverage_dict, orient='index')\n",
    "batch4_coverage_df # topoff in addition to deepconsensus (sequel). check y1-y3 (no y4). "
   ]
  },
  {
   "cell_type": "code",
   "execution_count": 10,
   "metadata": {},
   "outputs": [
    {
     "data": {
      "text/html": [
       "<div>\n",
       "<style scoped>\n",
       "    .dataframe tbody tr th:only-of-type {\n",
       "        vertical-align: middle;\n",
       "    }\n",
       "\n",
       "    .dataframe tbody tr th {\n",
       "        vertical-align: top;\n",
       "    }\n",
       "\n",
       "    .dataframe thead th {\n",
       "        text-align: right;\n",
       "    }\n",
       "</style>\n",
       "<table border=\"1\" class=\"dataframe\">\n",
       "  <thead>\n",
       "    <tr style=\"text-align: right;\">\n",
       "      <th></th>\n",
       "      <th>sample_id</th>\n",
       "      <th>hifi_reads</th>\n",
       "      <th>other_reads</th>\n",
       "      <th>perform_methylation_check</th>\n",
       "      <th>hifi_qc_wf.methylation_report</th>\n",
       "      <th>hifi_qc_wf.hifi_qc_summary</th>\n",
       "      <th>hifi_qc_wf.ntsm_eval</th>\n",
       "      <th>hifi_qc_wf.ext_ntsm_counts</th>\n",
       "      <th>hifi_qc_wf.hifi_ntsm_counts</th>\n",
       "      <th>hifi_qc_wf.hifi_readstat_report</th>\n",
       "      <th>hifi_qc_wf.hifi_readstat_tar</th>\n",
       "      <th>aggregate-sample_id</th>\n",
       "    </tr>\n",
       "  </thead>\n",
       "  <tbody>\n",
       "    <tr>\n",
       "      <th>63</th>\n",
       "      <td>HG03778_m84046_230727_225904_s1.hifi_reads.bc2...</td>\n",
       "      <td>s3://human-pangenomics/submissions/4f8c8e63-df...</td>\n",
       "      <td>['/private/groups/hprc/human-pangenomics/1000G...</td>\n",
       "      <td>True</td>\n",
       "      <td>['/private/groups/hprc/human-pangenomics/HPRC_...</td>\n",
       "      <td>/private/groups/hprc/human-pangenomics/HPRC_me...</td>\n",
       "      <td>/private/groups/hprc/human-pangenomics/HPRC_me...</td>\n",
       "      <td>/private/groups/hprc/human-pangenomics/HPRC_me...</td>\n",
       "      <td>/private/groups/hprc/human-pangenomics/HPRC_me...</td>\n",
       "      <td>/private/groups/hprc/human-pangenomics/HPRC_me...</td>\n",
       "      <td>/private/groups/hprc/human-pangenomics/HPRC_me...</td>\n",
       "      <td>HG03778</td>\n",
       "    </tr>\n",
       "    <tr>\n",
       "      <th>64</th>\n",
       "      <td>HG03778_m84046_230728_195023_s2.hifi_reads.bc2...</td>\n",
       "      <td>s3://human-pangenomics/submissions/4f8c8e63-df...</td>\n",
       "      <td>['/private/groups/hprc/human-pangenomics/1000G...</td>\n",
       "      <td>True</td>\n",
       "      <td>['/private/groups/hprc/human-pangenomics/HPRC_...</td>\n",
       "      <td>/private/groups/hprc/human-pangenomics/HPRC_me...</td>\n",
       "      <td>/private/groups/hprc/human-pangenomics/HPRC_me...</td>\n",
       "      <td>/private/groups/hprc/human-pangenomics/HPRC_me...</td>\n",
       "      <td>/private/groups/hprc/human-pangenomics/HPRC_me...</td>\n",
       "      <td>/private/groups/hprc/human-pangenomics/HPRC_me...</td>\n",
       "      <td>/private/groups/hprc/human-pangenomics/HPRC_me...</td>\n",
       "      <td>HG03778</td>\n",
       "    </tr>\n",
       "    <tr>\n",
       "      <th>65</th>\n",
       "      <td>HG03778_m84046_230728_202047_s3.hifi_reads.bc2...</td>\n",
       "      <td>s3://human-pangenomics/submissions/4f8c8e63-df...</td>\n",
       "      <td>['/private/groups/hprc/human-pangenomics/1000G...</td>\n",
       "      <td>True</td>\n",
       "      <td>['/private/groups/hprc/human-pangenomics/HPRC_...</td>\n",
       "      <td>/private/groups/hprc/human-pangenomics/HPRC_me...</td>\n",
       "      <td>/private/groups/hprc/human-pangenomics/HPRC_me...</td>\n",
       "      <td>/private/groups/hprc/human-pangenomics/HPRC_me...</td>\n",
       "      <td>/private/groups/hprc/human-pangenomics/HPRC_me...</td>\n",
       "      <td>/private/groups/hprc/human-pangenomics/HPRC_me...</td>\n",
       "      <td>/private/groups/hprc/human-pangenomics/HPRC_me...</td>\n",
       "      <td>HG03778</td>\n",
       "    </tr>\n",
       "    <tr>\n",
       "      <th>66</th>\n",
       "      <td>HG03778_m84046_230728_205153_s4.hifi_reads.bc2...</td>\n",
       "      <td>s3://human-pangenomics/submissions/4f8c8e63-df...</td>\n",
       "      <td>['/private/groups/hprc/human-pangenomics/1000G...</td>\n",
       "      <td>True</td>\n",
       "      <td>['/private/groups/hprc/human-pangenomics/HPRC_...</td>\n",
       "      <td>/private/groups/hprc/human-pangenomics/HPRC_me...</td>\n",
       "      <td>/private/groups/hprc/human-pangenomics/HPRC_me...</td>\n",
       "      <td>/private/groups/hprc/human-pangenomics/HPRC_me...</td>\n",
       "      <td>/private/groups/hprc/human-pangenomics/HPRC_me...</td>\n",
       "      <td>/private/groups/hprc/human-pangenomics/HPRC_me...</td>\n",
       "      <td>/private/groups/hprc/human-pangenomics/HPRC_me...</td>\n",
       "      <td>HG03778</td>\n",
       "    </tr>\n",
       "    <tr>\n",
       "      <th>67</th>\n",
       "      <td>HG03778_m84046_230731_200859_s2.hifi_reads.bc2...</td>\n",
       "      <td>s3://human-pangenomics/submissions/4f8c8e63-df...</td>\n",
       "      <td>['/private/groups/hprc/human-pangenomics/1000G...</td>\n",
       "      <td>True</td>\n",
       "      <td>['/private/groups/hprc/human-pangenomics/HPRC_...</td>\n",
       "      <td>/private/groups/hprc/human-pangenomics/HPRC_me...</td>\n",
       "      <td>/private/groups/hprc/human-pangenomics/HPRC_me...</td>\n",
       "      <td>/private/groups/hprc/human-pangenomics/HPRC_me...</td>\n",
       "      <td>/private/groups/hprc/human-pangenomics/HPRC_me...</td>\n",
       "      <td>/private/groups/hprc/human-pangenomics/HPRC_me...</td>\n",
       "      <td>/private/groups/hprc/human-pangenomics/HPRC_me...</td>\n",
       "      <td>HG03778</td>\n",
       "    </tr>\n",
       "  </tbody>\n",
       "</table>\n",
       "</div>"
      ],
      "text/plain": [
       "                                            sample_id  \\\n",
       "63  HG03778_m84046_230727_225904_s1.hifi_reads.bc2...   \n",
       "64  HG03778_m84046_230728_195023_s2.hifi_reads.bc2...   \n",
       "65  HG03778_m84046_230728_202047_s3.hifi_reads.bc2...   \n",
       "66  HG03778_m84046_230728_205153_s4.hifi_reads.bc2...   \n",
       "67  HG03778_m84046_230731_200859_s2.hifi_reads.bc2...   \n",
       "\n",
       "                                           hifi_reads  \\\n",
       "63  s3://human-pangenomics/submissions/4f8c8e63-df...   \n",
       "64  s3://human-pangenomics/submissions/4f8c8e63-df...   \n",
       "65  s3://human-pangenomics/submissions/4f8c8e63-df...   \n",
       "66  s3://human-pangenomics/submissions/4f8c8e63-df...   \n",
       "67  s3://human-pangenomics/submissions/4f8c8e63-df...   \n",
       "\n",
       "                                          other_reads  \\\n",
       "63  ['/private/groups/hprc/human-pangenomics/1000G...   \n",
       "64  ['/private/groups/hprc/human-pangenomics/1000G...   \n",
       "65  ['/private/groups/hprc/human-pangenomics/1000G...   \n",
       "66  ['/private/groups/hprc/human-pangenomics/1000G...   \n",
       "67  ['/private/groups/hprc/human-pangenomics/1000G...   \n",
       "\n",
       "    perform_methylation_check  \\\n",
       "63                       True   \n",
       "64                       True   \n",
       "65                       True   \n",
       "66                       True   \n",
       "67                       True   \n",
       "\n",
       "                        hifi_qc_wf.methylation_report  \\\n",
       "63  ['/private/groups/hprc/human-pangenomics/HPRC_...   \n",
       "64  ['/private/groups/hprc/human-pangenomics/HPRC_...   \n",
       "65  ['/private/groups/hprc/human-pangenomics/HPRC_...   \n",
       "66  ['/private/groups/hprc/human-pangenomics/HPRC_...   \n",
       "67  ['/private/groups/hprc/human-pangenomics/HPRC_...   \n",
       "\n",
       "                           hifi_qc_wf.hifi_qc_summary  \\\n",
       "63  /private/groups/hprc/human-pangenomics/HPRC_me...   \n",
       "64  /private/groups/hprc/human-pangenomics/HPRC_me...   \n",
       "65  /private/groups/hprc/human-pangenomics/HPRC_me...   \n",
       "66  /private/groups/hprc/human-pangenomics/HPRC_me...   \n",
       "67  /private/groups/hprc/human-pangenomics/HPRC_me...   \n",
       "\n",
       "                                 hifi_qc_wf.ntsm_eval  \\\n",
       "63  /private/groups/hprc/human-pangenomics/HPRC_me...   \n",
       "64  /private/groups/hprc/human-pangenomics/HPRC_me...   \n",
       "65  /private/groups/hprc/human-pangenomics/HPRC_me...   \n",
       "66  /private/groups/hprc/human-pangenomics/HPRC_me...   \n",
       "67  /private/groups/hprc/human-pangenomics/HPRC_me...   \n",
       "\n",
       "                           hifi_qc_wf.ext_ntsm_counts  \\\n",
       "63  /private/groups/hprc/human-pangenomics/HPRC_me...   \n",
       "64  /private/groups/hprc/human-pangenomics/HPRC_me...   \n",
       "65  /private/groups/hprc/human-pangenomics/HPRC_me...   \n",
       "66  /private/groups/hprc/human-pangenomics/HPRC_me...   \n",
       "67  /private/groups/hprc/human-pangenomics/HPRC_me...   \n",
       "\n",
       "                          hifi_qc_wf.hifi_ntsm_counts  \\\n",
       "63  /private/groups/hprc/human-pangenomics/HPRC_me...   \n",
       "64  /private/groups/hprc/human-pangenomics/HPRC_me...   \n",
       "65  /private/groups/hprc/human-pangenomics/HPRC_me...   \n",
       "66  /private/groups/hprc/human-pangenomics/HPRC_me...   \n",
       "67  /private/groups/hprc/human-pangenomics/HPRC_me...   \n",
       "\n",
       "                      hifi_qc_wf.hifi_readstat_report  \\\n",
       "63  /private/groups/hprc/human-pangenomics/HPRC_me...   \n",
       "64  /private/groups/hprc/human-pangenomics/HPRC_me...   \n",
       "65  /private/groups/hprc/human-pangenomics/HPRC_me...   \n",
       "66  /private/groups/hprc/human-pangenomics/HPRC_me...   \n",
       "67  /private/groups/hprc/human-pangenomics/HPRC_me...   \n",
       "\n",
       "                         hifi_qc_wf.hifi_readstat_tar aggregate-sample_id  \n",
       "63  /private/groups/hprc/human-pangenomics/HPRC_me...             HG03778  \n",
       "64  /private/groups/hprc/human-pangenomics/HPRC_me...             HG03778  \n",
       "65  /private/groups/hprc/human-pangenomics/HPRC_me...             HG03778  \n",
       "66  /private/groups/hprc/human-pangenomics/HPRC_me...             HG03778  \n",
       "67  /private/groups/hprc/human-pangenomics/HPRC_me...             HG03778  "
      ]
     },
     "execution_count": 10,
     "metadata": {},
     "output_type": "execute_result"
    }
   ],
   "source": [
    "output_df = pd.concat([batch1_output_df, batch2_output_df,batch3_output_df, batch4_output_df])\n",
    "# output_df[output_df['aggregate-sample_id'].isin(['HG02486'])]\n",
    "output_df[output_df['aggregate-sample_id'].isin(['HG03778'])]"
   ]
  },
  {
   "cell_type": "code",
   "execution_count": 18,
   "metadata": {},
   "outputs": [],
   "source": [
    "output_dict = {sample:[] for sample in output_df['aggregate-sample_id'].tolist()}\n",
    "for data in output_df[['aggregate-sample_id','hifi_qc_wf.hifi_qc_summary']].values:\n",
    "\toutput_dict[data[0]].append(pd.read_csv(data[1],sep='\\t'))\n",
    "\n",
    "for k,v in output_dict.items():\n",
    "\t\n",
    "\toutput_dict[k] = pd.concat(v)"
   ]
  },
  {
   "cell_type": "code",
   "execution_count": 23,
   "metadata": {},
   "outputs": [],
   "source": [
    "sample_file_df = pd.concat(output_dict.values())\n",
    "sample_file_df.to_csv('uw_y4_sample_file_hifi_qc_aggregate.csv',index=False)\n",
    "# "
   ]
  }
 ],
 "metadata": {
  "kernelspec": {
   "display_name": "Python 3",
   "language": "python",
   "name": "python3"
  },
  "language_info": {
   "codemirror_mode": {
    "name": "ipython",
    "version": 3
   },
   "file_extension": ".py",
   "mimetype": "text/x-python",
   "name": "python",
   "nbconvert_exporter": "python",
   "pygments_lexer": "ipython3",
   "version": "3.10.12"
  }
 },
 "nbformat": 4,
 "nbformat_minor": 2
}
