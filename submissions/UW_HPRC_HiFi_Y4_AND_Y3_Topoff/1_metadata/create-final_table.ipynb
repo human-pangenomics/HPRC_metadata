{
 "cells": [
  {
   "cell_type": "code",
   "execution_count": 2,
   "metadata": {},
   "outputs": [],
   "source": [
    "import pandas as pd"
   ]
  },
  {
   "cell_type": "code",
   "execution_count": 3,
   "metadata": {},
   "outputs": [],
   "source": [
    "# metadata\n",
    "uw_hifi = pd.read_csv('sra_biosample_UW_HiFi_Y4_AND_Y3_Topoff_metadata.tsv',sep='\\t')\n",
    "\n",
    "# aws\n",
    "uw_aws = pd.read_csv('UW_HPRC_HiFi_Y4_AND_Y3_Topoff.transfer_ec2.csv',header=None)\n",
    "uw_aws['filename'] = [sample.split('/')[-1] for sample in uw_aws[1].tolist()]\n",
    "uw_aws.rename(columns={1: 'path'}, inplace=True)\n",
    "\n",
    "# readstats\n",
    "uw_readstats = pd.read_csv('UW_HPRC_HiFi_Y4_AND_Y3_Topoff_sample_file_hifi_qc_aggregate.csv')\n",
    "uw_readstats['filename'] = ['_'.join(sample.split('_')[1:]) for sample in uw_readstats.filename.tolist()]\n",
    "# uw_readstats['filename'] = uw_readstats['filename'].str.replace(r'\\.bam$', '', regex=True)\n",
    "\n",
    "uw_y4 = pd.merge(uw_hifi, uw_aws, on='filename', how='inner')\n",
    "uw_y4.drop(columns=[0], inplace=True)\n",
    "\n",
    "uw_assembly = pd.merge(uw_y4, uw_readstats, on='filename',how='inner')\n",
    "\n",
    "uw_sra_meta = pd.read_csv('metadata-14548217-processed-ok.tsv',sep='\\t')\n",
    "uw_assembly = pd.merge(uw_assembly,uw_sra_meta[['filename','accession']], on='filename', how='inner')\n",
    "\n",
    "\n",
    "# note the PG identifier needs to be manually resolved\n",
    "assert uw_hifi.shape[0] == uw_readstats.shape[0] == uw_y4.shape[0] == uw_assembly.shape[0] == uw_sra_meta.shape[0]"
   ]
  },
  {
   "cell_type": "code",
   "execution_count": 5,
   "metadata": {},
   "outputs": [],
   "source": [
    "uw_aws['sample_ID'] = [sample.split('/')[5] for sample in uw_aws['path'].tolist()]"
   ]
  },
  {
   "cell_type": "code",
   "execution_count": 6,
   "metadata": {},
   "outputs": [
    {
     "data": {
      "text/html": [
       "<div>\n",
       "<style scoped>\n",
       "    .dataframe tbody tr th:only-of-type {\n",
       "        vertical-align: middle;\n",
       "    }\n",
       "\n",
       "    .dataframe tbody tr th {\n",
       "        vertical-align: top;\n",
       "    }\n",
       "\n",
       "    .dataframe thead th {\n",
       "        text-align: right;\n",
       "    }\n",
       "</style>\n",
       "<table border=\"1\" class=\"dataframe\">\n",
       "  <thead>\n",
       "    <tr style=\"text-align: right;\">\n",
       "      <th></th>\n",
       "      <th>0</th>\n",
       "      <th>path</th>\n",
       "      <th>filename</th>\n",
       "      <th>sample_ID</th>\n",
       "    </tr>\n",
       "  </thead>\n",
       "  <tbody>\n",
       "    <tr>\n",
       "      <th>0</th>\n",
       "      <td>s3://human-pangenomics/submissions/4f8c8e63-df...</td>\n",
       "      <td>s3://human-pangenomics/working/HPRC/HG00097/ra...</td>\n",
       "      <td>m84046_230716_051716_s3.fail_reads.bc2086.bam</td>\n",
       "      <td>HG00097</td>\n",
       "    </tr>\n",
       "    <tr>\n",
       "      <th>1</th>\n",
       "      <td>s3://human-pangenomics/submissions/4f8c8e63-df...</td>\n",
       "      <td>s3://human-pangenomics/working/HPRC/HG00097/ra...</td>\n",
       "      <td>m84046_230716_051716_s3.hifi_reads.bc2086.bam</td>\n",
       "      <td>HG00097</td>\n",
       "    </tr>\n",
       "    <tr>\n",
       "      <th>2</th>\n",
       "      <td>s3://human-pangenomics/submissions/4f8c8e63-df...</td>\n",
       "      <td>s3://human-pangenomics/working/HPRC/HG00097/ra...</td>\n",
       "      <td>m84046_230716_054822_s4.fail_reads.bc2086.bam</td>\n",
       "      <td>HG00097</td>\n",
       "    </tr>\n",
       "    <tr>\n",
       "      <th>3</th>\n",
       "      <td>s3://human-pangenomics/submissions/4f8c8e63-df...</td>\n",
       "      <td>s3://human-pangenomics/working/HPRC/HG00097/ra...</td>\n",
       "      <td>m84046_230716_054822_s4.hifi_reads.bc2086.bam</td>\n",
       "      <td>HG00097</td>\n",
       "    </tr>\n",
       "    <tr>\n",
       "      <th>4</th>\n",
       "      <td>s3://human-pangenomics/submissions/4f8c8e63-df...</td>\n",
       "      <td>s3://human-pangenomics/working/HPRC/HG00097/ra...</td>\n",
       "      <td>m84046_230718_223822_s1.fail_reads.bc2086.bam</td>\n",
       "      <td>HG00097</td>\n",
       "    </tr>\n",
       "  </tbody>\n",
       "</table>\n",
       "</div>"
      ],
      "text/plain": [
       "                                                   0  \\\n",
       "0  s3://human-pangenomics/submissions/4f8c8e63-df...   \n",
       "1  s3://human-pangenomics/submissions/4f8c8e63-df...   \n",
       "2  s3://human-pangenomics/submissions/4f8c8e63-df...   \n",
       "3  s3://human-pangenomics/submissions/4f8c8e63-df...   \n",
       "4  s3://human-pangenomics/submissions/4f8c8e63-df...   \n",
       "\n",
       "                                                path  \\\n",
       "0  s3://human-pangenomics/working/HPRC/HG00097/ra...   \n",
       "1  s3://human-pangenomics/working/HPRC/HG00097/ra...   \n",
       "2  s3://human-pangenomics/working/HPRC/HG00097/ra...   \n",
       "3  s3://human-pangenomics/working/HPRC/HG00097/ra...   \n",
       "4  s3://human-pangenomics/working/HPRC/HG00097/ra...   \n",
       "\n",
       "                                        filename sample_ID  \n",
       "0  m84046_230716_051716_s3.fail_reads.bc2086.bam   HG00097  \n",
       "1  m84046_230716_051716_s3.hifi_reads.bc2086.bam   HG00097  \n",
       "2  m84046_230716_054822_s4.fail_reads.bc2086.bam   HG00097  \n",
       "3  m84046_230716_054822_s4.hifi_reads.bc2086.bam   HG00097  \n",
       "4  m84046_230718_223822_s1.fail_reads.bc2086.bam   HG00097  "
      ]
     },
     "execution_count": 6,
     "metadata": {},
     "output_type": "execute_result"
    }
   ],
   "source": [
    "uw_assembly['sample_ID'] = [sample.split('.')[0] for sample in uw_assembly['library_ID'].tolist()]\n",
    "uw_assembly['sample_ID'] = [file_name.replace('GM', 'NA') for file_name in uw_assembly['sample_ID'].tolist()]\n",
    "uw_assembly['sample_ID'] = [file_name.replace('PG', 'HG') for file_name in uw_assembly['sample_ID'].tolist()]"
   ]
  },
  {
   "cell_type": "code",
   "execution_count": 10,
   "metadata": {},
   "outputs": [],
   "source": [
    "uw_assembly.to_csv('UW_HPRC_HiFi_Y4_AND_Y3_Topoff_final_table.csv',index=False)"
   ]
  }
 ],
 "metadata": {
  "kernelspec": {
   "display_name": "Python 3",
   "language": "python",
   "name": "python3"
  },
  "language_info": {
   "codemirror_mode": {
    "name": "ipython",
    "version": 3
   },
   "file_extension": ".py",
   "mimetype": "text/x-python",
   "name": "python",
   "nbconvert_exporter": "python",
   "pygments_lexer": "ipython3",
   "version": "3.10.12"
  }
 },
 "nbformat": 4,
 "nbformat_minor": 2
}
