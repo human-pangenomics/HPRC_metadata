{
 "cells": [
  {
   "cell_type": "code",
   "execution_count": 1,
   "id": "d76ce017-a8ce-4f2c-b907-b9f2738fb65b",
   "metadata": {},
   "outputs": [],
   "source": [
    "import plotly.graph_objects as go\n",
    "import pandas as pd"
   ]
  },
  {
   "cell_type": "markdown",
   "id": "93e69759-9a82-4f66-bded-254a640c3586",
   "metadata": {},
   "source": [
    "# NCBI BioProject"
   ]
  },
  {
   "cell_type": "markdown",
   "id": "59b638a9-ecff-48f0-af08-27ed99412071",
   "metadata": {},
   "source": [
    "## Demo"
   ]
  },
  {
   "cell_type": "code",
   "execution_count": 15,
   "id": "448e71af-8df5-4499-b5a9-edc71e9f6b75",
   "metadata": {},
   "outputs": [],
   "source": [
    "ncbi_bioproject_dict = {'PRJNA730823': {'title': 'Human Pangenome Reference Consortium',\n",
    "                                        'type': 'Umbrella',\n",
    "                                        'components':['PRJNA730822'],\n",
    "                                        'umbrella-bioproject':'main'\n",
    "                                        },\n",
    "                        'PRJNA730822': {'title': 'HPRC Assembly',\n",
    "                                        'type': 'Umbrella',\n",
    "                                        'components': ['PRJNA727229'],\n",
    "                                        'umbrella-bioproject':'PRJNA730823'\n",
    "                                       },\n",
    "                        'PRJNA727229' : {'title': 'Assembly of HG02257',\n",
    "                                        'type': 'Umbrella',\n",
    "                                         'components': ['PRJNA723016', 'PRJNA723017'],\n",
    "                                         'umbrella-bioproject':'PRJNA730822'\n",
    "                                        },\n",
    "                        'PRJNA723016' : {'title': 'Homo sapiens alternate pseudohaplotype genome sequencing',\n",
    "                                        'type': 'Genome Sequencing',\n",
    "                                         'description': 'Assembly of HG02257 Paternal Haplotype',\n",
    "                                         'assembly_level':'Contigs',\n",
    "                                         'umbrella-bioproject':'PRJNA727229'\n",
    "                                        },\n",
    "                        'PRJNA723017' : {'title': 'Homo sapiens principal pseudohaplotype genome sequencing',\n",
    "                                        'type': 'Genome Sequencing',\n",
    "                                         'description': 'Assembly of HG02257 Maternal Haplotype',\n",
    "                                         'assembly_level':'Scaffold',\n",
    "                                         'umbrella-bioproject':'PRJNA727229'\n",
    "                                        }\n",
    "                        }\n",
    "                       "
   ]
  },
  {
   "cell_type": "code",
   "execution_count": 16,
   "id": "0c0079d7-4a4d-4a61-9207-2a60dac28e8b",
   "metadata": {},
   "outputs": [
    {
     "name": "stdout",
     "output_type": "stream",
     "text": [
      "[{'source': 0, 'target': 1, 'value': 1}, {'source': 1, 'target': 2, 'value': 1}, {'source': 2, 'target': 3, 'value': 1}, {'source': 2, 'target': 4, 'value': 1}]\n"
     ]
    },
    {
     "data": {
      "application/vnd.plotly.v1+json": {
       "config": {
        "plotlyServerURL": "https://plot.ly"
       },
       "data": [
        {
         "link": {
          "source": [
           0,
           1,
           2,
           2
          ],
          "target": [
           1,
           2,
           3,
           4
          ],
          "value": [
           1,
           1,
           1,
           1
          ]
         },
         "node": {
          "color": "blue",
          "label": [
           "PRJNA730823",
           "PRJNA730822",
           "PRJNA727229",
           "PRJNA723016",
           "PRJNA723017"
          ],
          "line": {
           "color": "black",
           "width": 0.5
          },
          "pad": 15,
          "thickness": 20
         },
         "type": "sankey"
        }
       ],
       "layout": {
        "autosize": true,
        "font": {
         "color": "black",
         "size": 10
        },
        "plot_bgcolor": "black",
        "template": {
         "data": {
          "bar": [
           {
            "error_x": {
             "color": "#2a3f5f"
            },
            "error_y": {
             "color": "#2a3f5f"
            },
            "marker": {
             "line": {
              "color": "#E5ECF6",
              "width": 0.5
             },
             "pattern": {
              "fillmode": "overlay",
              "size": 10,
              "solidity": 0.2
             }
            },
            "type": "bar"
           }
          ],
          "barpolar": [
           {
            "marker": {
             "line": {
              "color": "#E5ECF6",
              "width": 0.5
             },
             "pattern": {
              "fillmode": "overlay",
              "size": 10,
              "solidity": 0.2
             }
            },
            "type": "barpolar"
           }
          ],
          "carpet": [
           {
            "aaxis": {
             "endlinecolor": "#2a3f5f",
             "gridcolor": "white",
             "linecolor": "white",
             "minorgridcolor": "white",
             "startlinecolor": "#2a3f5f"
            },
            "baxis": {
             "endlinecolor": "#2a3f5f",
             "gridcolor": "white",
             "linecolor": "white",
             "minorgridcolor": "white",
             "startlinecolor": "#2a3f5f"
            },
            "type": "carpet"
           }
          ],
          "choropleth": [
           {
            "colorbar": {
             "outlinewidth": 0,
             "ticks": ""
            },
            "type": "choropleth"
           }
          ],
          "contour": [
           {
            "colorbar": {
             "outlinewidth": 0,
             "ticks": ""
            },
            "colorscale": [
             [
              0,
              "#0d0887"
             ],
             [
              0.1111111111111111,
              "#46039f"
             ],
             [
              0.2222222222222222,
              "#7201a8"
             ],
             [
              0.3333333333333333,
              "#9c179e"
             ],
             [
              0.4444444444444444,
              "#bd3786"
             ],
             [
              0.5555555555555556,
              "#d8576b"
             ],
             [
              0.6666666666666666,
              "#ed7953"
             ],
             [
              0.7777777777777778,
              "#fb9f3a"
             ],
             [
              0.8888888888888888,
              "#fdca26"
             ],
             [
              1,
              "#f0f921"
             ]
            ],
            "type": "contour"
           }
          ],
          "contourcarpet": [
           {
            "colorbar": {
             "outlinewidth": 0,
             "ticks": ""
            },
            "type": "contourcarpet"
           }
          ],
          "heatmap": [
           {
            "colorbar": {
             "outlinewidth": 0,
             "ticks": ""
            },
            "colorscale": [
             [
              0,
              "#0d0887"
             ],
             [
              0.1111111111111111,
              "#46039f"
             ],
             [
              0.2222222222222222,
              "#7201a8"
             ],
             [
              0.3333333333333333,
              "#9c179e"
             ],
             [
              0.4444444444444444,
              "#bd3786"
             ],
             [
              0.5555555555555556,
              "#d8576b"
             ],
             [
              0.6666666666666666,
              "#ed7953"
             ],
             [
              0.7777777777777778,
              "#fb9f3a"
             ],
             [
              0.8888888888888888,
              "#fdca26"
             ],
             [
              1,
              "#f0f921"
             ]
            ],
            "type": "heatmap"
           }
          ],
          "heatmapgl": [
           {
            "colorbar": {
             "outlinewidth": 0,
             "ticks": ""
            },
            "colorscale": [
             [
              0,
              "#0d0887"
             ],
             [
              0.1111111111111111,
              "#46039f"
             ],
             [
              0.2222222222222222,
              "#7201a8"
             ],
             [
              0.3333333333333333,
              "#9c179e"
             ],
             [
              0.4444444444444444,
              "#bd3786"
             ],
             [
              0.5555555555555556,
              "#d8576b"
             ],
             [
              0.6666666666666666,
              "#ed7953"
             ],
             [
              0.7777777777777778,
              "#fb9f3a"
             ],
             [
              0.8888888888888888,
              "#fdca26"
             ],
             [
              1,
              "#f0f921"
             ]
            ],
            "type": "heatmapgl"
           }
          ],
          "histogram": [
           {
            "marker": {
             "pattern": {
              "fillmode": "overlay",
              "size": 10,
              "solidity": 0.2
             }
            },
            "type": "histogram"
           }
          ],
          "histogram2d": [
           {
            "colorbar": {
             "outlinewidth": 0,
             "ticks": ""
            },
            "colorscale": [
             [
              0,
              "#0d0887"
             ],
             [
              0.1111111111111111,
              "#46039f"
             ],
             [
              0.2222222222222222,
              "#7201a8"
             ],
             [
              0.3333333333333333,
              "#9c179e"
             ],
             [
              0.4444444444444444,
              "#bd3786"
             ],
             [
              0.5555555555555556,
              "#d8576b"
             ],
             [
              0.6666666666666666,
              "#ed7953"
             ],
             [
              0.7777777777777778,
              "#fb9f3a"
             ],
             [
              0.8888888888888888,
              "#fdca26"
             ],
             [
              1,
              "#f0f921"
             ]
            ],
            "type": "histogram2d"
           }
          ],
          "histogram2dcontour": [
           {
            "colorbar": {
             "outlinewidth": 0,
             "ticks": ""
            },
            "colorscale": [
             [
              0,
              "#0d0887"
             ],
             [
              0.1111111111111111,
              "#46039f"
             ],
             [
              0.2222222222222222,
              "#7201a8"
             ],
             [
              0.3333333333333333,
              "#9c179e"
             ],
             [
              0.4444444444444444,
              "#bd3786"
             ],
             [
              0.5555555555555556,
              "#d8576b"
             ],
             [
              0.6666666666666666,
              "#ed7953"
             ],
             [
              0.7777777777777778,
              "#fb9f3a"
             ],
             [
              0.8888888888888888,
              "#fdca26"
             ],
             [
              1,
              "#f0f921"
             ]
            ],
            "type": "histogram2dcontour"
           }
          ],
          "mesh3d": [
           {
            "colorbar": {
             "outlinewidth": 0,
             "ticks": ""
            },
            "type": "mesh3d"
           }
          ],
          "parcoords": [
           {
            "line": {
             "colorbar": {
              "outlinewidth": 0,
              "ticks": ""
             }
            },
            "type": "parcoords"
           }
          ],
          "pie": [
           {
            "automargin": true,
            "type": "pie"
           }
          ],
          "scatter": [
           {
            "fillpattern": {
             "fillmode": "overlay",
             "size": 10,
             "solidity": 0.2
            },
            "type": "scatter"
           }
          ],
          "scatter3d": [
           {
            "line": {
             "colorbar": {
              "outlinewidth": 0,
              "ticks": ""
             }
            },
            "marker": {
             "colorbar": {
              "outlinewidth": 0,
              "ticks": ""
             }
            },
            "type": "scatter3d"
           }
          ],
          "scattercarpet": [
           {
            "marker": {
             "colorbar": {
              "outlinewidth": 0,
              "ticks": ""
             }
            },
            "type": "scattercarpet"
           }
          ],
          "scattergeo": [
           {
            "marker": {
             "colorbar": {
              "outlinewidth": 0,
              "ticks": ""
             }
            },
            "type": "scattergeo"
           }
          ],
          "scattergl": [
           {
            "marker": {
             "colorbar": {
              "outlinewidth": 0,
              "ticks": ""
             }
            },
            "type": "scattergl"
           }
          ],
          "scattermapbox": [
           {
            "marker": {
             "colorbar": {
              "outlinewidth": 0,
              "ticks": ""
             }
            },
            "type": "scattermapbox"
           }
          ],
          "scatterpolar": [
           {
            "marker": {
             "colorbar": {
              "outlinewidth": 0,
              "ticks": ""
             }
            },
            "type": "scatterpolar"
           }
          ],
          "scatterpolargl": [
           {
            "marker": {
             "colorbar": {
              "outlinewidth": 0,
              "ticks": ""
             }
            },
            "type": "scatterpolargl"
           }
          ],
          "scatterternary": [
           {
            "marker": {
             "colorbar": {
              "outlinewidth": 0,
              "ticks": ""
             }
            },
            "type": "scatterternary"
           }
          ],
          "surface": [
           {
            "colorbar": {
             "outlinewidth": 0,
             "ticks": ""
            },
            "colorscale": [
             [
              0,
              "#0d0887"
             ],
             [
              0.1111111111111111,
              "#46039f"
             ],
             [
              0.2222222222222222,
              "#7201a8"
             ],
             [
              0.3333333333333333,
              "#9c179e"
             ],
             [
              0.4444444444444444,
              "#bd3786"
             ],
             [
              0.5555555555555556,
              "#d8576b"
             ],
             [
              0.6666666666666666,
              "#ed7953"
             ],
             [
              0.7777777777777778,
              "#fb9f3a"
             ],
             [
              0.8888888888888888,
              "#fdca26"
             ],
             [
              1,
              "#f0f921"
             ]
            ],
            "type": "surface"
           }
          ],
          "table": [
           {
            "cells": {
             "fill": {
              "color": "#EBF0F8"
             },
             "line": {
              "color": "white"
             }
            },
            "header": {
             "fill": {
              "color": "#C8D4E3"
             },
             "line": {
              "color": "white"
             }
            },
            "type": "table"
           }
          ]
         },
         "layout": {
          "annotationdefaults": {
           "arrowcolor": "#2a3f5f",
           "arrowhead": 0,
           "arrowwidth": 1
          },
          "autotypenumbers": "strict",
          "coloraxis": {
           "colorbar": {
            "outlinewidth": 0,
            "ticks": ""
           }
          },
          "colorscale": {
           "diverging": [
            [
             0,
             "#8e0152"
            ],
            [
             0.1,
             "#c51b7d"
            ],
            [
             0.2,
             "#de77ae"
            ],
            [
             0.3,
             "#f1b6da"
            ],
            [
             0.4,
             "#fde0ef"
            ],
            [
             0.5,
             "#f7f7f7"
            ],
            [
             0.6,
             "#e6f5d0"
            ],
            [
             0.7,
             "#b8e186"
            ],
            [
             0.8,
             "#7fbc41"
            ],
            [
             0.9,
             "#4d9221"
            ],
            [
             1,
             "#276419"
            ]
           ],
           "sequential": [
            [
             0,
             "#0d0887"
            ],
            [
             0.1111111111111111,
             "#46039f"
            ],
            [
             0.2222222222222222,
             "#7201a8"
            ],
            [
             0.3333333333333333,
             "#9c179e"
            ],
            [
             0.4444444444444444,
             "#bd3786"
            ],
            [
             0.5555555555555556,
             "#d8576b"
            ],
            [
             0.6666666666666666,
             "#ed7953"
            ],
            [
             0.7777777777777778,
             "#fb9f3a"
            ],
            [
             0.8888888888888888,
             "#fdca26"
            ],
            [
             1,
             "#f0f921"
            ]
           ],
           "sequentialminus": [
            [
             0,
             "#0d0887"
            ],
            [
             0.1111111111111111,
             "#46039f"
            ],
            [
             0.2222222222222222,
             "#7201a8"
            ],
            [
             0.3333333333333333,
             "#9c179e"
            ],
            [
             0.4444444444444444,
             "#bd3786"
            ],
            [
             0.5555555555555556,
             "#d8576b"
            ],
            [
             0.6666666666666666,
             "#ed7953"
            ],
            [
             0.7777777777777778,
             "#fb9f3a"
            ],
            [
             0.8888888888888888,
             "#fdca26"
            ],
            [
             1,
             "#f0f921"
            ]
           ]
          },
          "colorway": [
           "#636efa",
           "#EF553B",
           "#00cc96",
           "#ab63fa",
           "#FFA15A",
           "#19d3f3",
           "#FF6692",
           "#B6E880",
           "#FF97FF",
           "#FECB52"
          ],
          "font": {
           "color": "#2a3f5f"
          },
          "geo": {
           "bgcolor": "white",
           "lakecolor": "white",
           "landcolor": "#E5ECF6",
           "showlakes": true,
           "showland": true,
           "subunitcolor": "white"
          },
          "hoverlabel": {
           "align": "left"
          },
          "hovermode": "closest",
          "mapbox": {
           "style": "light"
          },
          "paper_bgcolor": "white",
          "plot_bgcolor": "#E5ECF6",
          "polar": {
           "angularaxis": {
            "gridcolor": "white",
            "linecolor": "white",
            "ticks": ""
           },
           "bgcolor": "#E5ECF6",
           "radialaxis": {
            "gridcolor": "white",
            "linecolor": "white",
            "ticks": ""
           }
          },
          "scene": {
           "xaxis": {
            "backgroundcolor": "#E5ECF6",
            "gridcolor": "white",
            "gridwidth": 2,
            "linecolor": "white",
            "showbackground": true,
            "ticks": "",
            "zerolinecolor": "white"
           },
           "yaxis": {
            "backgroundcolor": "#E5ECF6",
            "gridcolor": "white",
            "gridwidth": 2,
            "linecolor": "white",
            "showbackground": true,
            "ticks": "",
            "zerolinecolor": "white"
           },
           "zaxis": {
            "backgroundcolor": "#E5ECF6",
            "gridcolor": "white",
            "gridwidth": 2,
            "linecolor": "white",
            "showbackground": true,
            "ticks": "",
            "zerolinecolor": "white"
           }
          },
          "shapedefaults": {
           "line": {
            "color": "#2a3f5f"
           }
          },
          "ternary": {
           "aaxis": {
            "gridcolor": "white",
            "linecolor": "white",
            "ticks": ""
           },
           "baxis": {
            "gridcolor": "white",
            "linecolor": "white",
            "ticks": ""
           },
           "bgcolor": "#E5ECF6",
           "caxis": {
            "gridcolor": "white",
            "linecolor": "white",
            "ticks": ""
           }
          },
          "title": {
           "x": 0.05
          },
          "xaxis": {
           "automargin": true,
           "gridcolor": "white",
           "linecolor": "white",
           "ticks": "",
           "title": {
            "standoff": 15
           },
           "zerolinecolor": "white",
           "zerolinewidth": 2
          },
          "yaxis": {
           "automargin": true,
           "gridcolor": "white",
           "linecolor": "white",
           "ticks": "",
           "title": {
            "standoff": 15
           },
           "zerolinecolor": "white",
           "zerolinewidth": 2
          }
         }
        },
        "title": {
         "text": "NCBI BioProject Scope: PRJNA730822 HPRC Assembly Meta Flow"
        }
       }
      },
      "image/png": "[encoded data removed]",
      "text/html": [
       "<div>                            <div id=\"caf8f1d0-cd9a-43af-8a9b-b454df67ddae\" class=\"plotly-graph-div\" style=\"height:525px; width:100%;\"></div>            <script type=\"text/javascript\">                require([\"plotly\"], function(Plotly) {                    window.PLOTLYENV=window.PLOTLYENV || {};                                    if (document.getElementById(\"caf8f1d0-cd9a-43af-8a9b-b454df67ddae\")) {                    Plotly.newPlot(                        \"caf8f1d0-cd9a-43af-8a9b-b454df67ddae\",                        [{\"link\":{\"source\":[0,1,2,2],\"target\":[1,2,3,4],\"value\":[1,1,1,1]},\"node\":{\"color\":\"blue\",\"label\":[\"PRJNA730823\",\"PRJNA730822\",\"PRJNA727229\",\"PRJNA723016\",\"PRJNA723017\"],\"line\":{\"color\":\"black\",\"width\":0.5},\"pad\":15,\"thickness\":20},\"type\":\"sankey\"}],                        {\"template\":{\"data\":{\"histogram2dcontour\":[{\"type\":\"histogram2dcontour\",\"colorbar\":{\"outlinewidth\":0,\"ticks\":\"\"},\"colorscale\":[[0.0,\"#0d0887\"],[0.1111111111111111,\"#46039f\"],[0.2222222222222222,\"#7201a8\"],[0.3333333333333333,\"#9c179e\"],[0.4444444444444444,\"#bd3786\"],[0.5555555555555556,\"#d8576b\"],[0.6666666666666666,\"#ed7953\"],[0.7777777777777778,\"#fb9f3a\"],[0.8888888888888888,\"#fdca26\"],[1.0,\"#f0f921\"]]}],\"choropleth\":[{\"type\":\"choropleth\",\"colorbar\":{\"outlinewidth\":0,\"ticks\":\"\"}}],\"histogram2d\":[{\"type\":\"histogram2d\",\"colorbar\":{\"outlinewidth\":0,\"ticks\":\"\"},\"colorscale\":[[0.0,\"#0d0887\"],[0.1111111111111111,\"#46039f\"],[0.2222222222222222,\"#7201a8\"],[0.3333333333333333,\"#9c179e\"],[0.4444444444444444,\"#bd3786\"],[0.5555555555555556,\"#d8576b\"],[0.6666666666666666,\"#ed7953\"],[0.7777777777777778,\"#fb9f3a\"],[0.8888888888888888,\"#fdca26\"],[1.0,\"#f0f921\"]]}],\"heatmap\":[{\"type\":\"heatmap\",\"colorbar\":{\"outlinewidth\":0,\"ticks\":\"\"},\"colorscale\":[[0.0,\"#0d0887\"],[0.1111111111111111,\"#46039f\"],[0.2222222222222222,\"#7201a8\"],[0.3333333333333333,\"#9c179e\"],[0.4444444444444444,\"#bd3786\"],[0.5555555555555556,\"#d8576b\"],[0.6666666666666666,\"#ed7953\"],[0.7777777777777778,\"#fb9f3a\"],[0.8888888888888888,\"#fdca26\"],[1.0,\"#f0f921\"]]}],\"heatmapgl\":[{\"type\":\"heatmapgl\",\"colorbar\":{\"outlinewidth\":0,\"ticks\":\"\"},\"colorscale\":[[0.0,\"#0d0887\"],[0.1111111111111111,\"#46039f\"],[0.2222222222222222,\"#7201a8\"],[0.3333333333333333,\"#9c179e\"],[0.4444444444444444,\"#bd3786\"],[0.5555555555555556,\"#d8576b\"],[0.6666666666666666,\"#ed7953\"],[0.7777777777777778,\"#fb9f3a\"],[0.8888888888888888,\"#fdca26\"],[1.0,\"#f0f921\"]]}],\"contourcarpet\":[{\"type\":\"contourcarpet\",\"colorbar\":{\"outlinewidth\":0,\"ticks\":\"\"}}],\"contour\":[{\"type\":\"contour\",\"colorbar\":{\"outlinewidth\":0,\"ticks\":\"\"},\"colorscale\":[[0.0,\"#0d0887\"],[0.1111111111111111,\"#46039f\"],[0.2222222222222222,\"#7201a8\"],[0.3333333333333333,\"#9c179e\"],[0.4444444444444444,\"#bd3786\"],[0.5555555555555556,\"#d8576b\"],[0.6666666666666666,\"#ed7953\"],[0.7777777777777778,\"#fb9f3a\"],[0.8888888888888888,\"#fdca26\"],[1.0,\"#f0f921\"]]}],\"surface\":[{\"type\":\"surface\",\"colorbar\":{\"outlinewidth\":0,\"ticks\":\"\"},\"colorscale\":[[0.0,\"#0d0887\"],[0.1111111111111111,\"#46039f\"],[0.2222222222222222,\"#7201a8\"],[0.3333333333333333,\"#9c179e\"],[0.4444444444444444,\"#bd3786\"],[0.5555555555555556,\"#d8576b\"],[0.6666666666666666,\"#ed7953\"],[0.7777777777777778,\"#fb9f3a\"],[0.8888888888888888,\"#fdca26\"],[1.0,\"#f0f921\"]]}],\"mesh3d\":[{\"type\":\"mesh3d\",\"colorbar\":{\"outlinewidth\":0,\"ticks\":\"\"}}],\"scatter\":[{\"fillpattern\":{\"fillmode\":\"overlay\",\"size\":10,\"solidity\":0.2},\"type\":\"scatter\"}],\"parcoords\":[{\"type\":\"parcoords\",\"line\":{\"colorbar\":{\"outlinewidth\":0,\"ticks\":\"\"}}}],\"scatterpolargl\":[{\"type\":\"scatterpolargl\",\"marker\":{\"colorbar\":{\"outlinewidth\":0,\"ticks\":\"\"}}}],\"bar\":[{\"error_x\":{\"color\":\"#2a3f5f\"},\"error_y\":{\"color\":\"#2a3f5f\"},\"marker\":{\"line\":{\"color\":\"#E5ECF6\",\"width\":0.5},\"pattern\":{\"fillmode\":\"overlay\",\"size\":10,\"solidity\":0.2}},\"type\":\"bar\"}],\"scattergeo\":[{\"type\":\"scattergeo\",\"marker\":{\"colorbar\":{\"outlinewidth\":0,\"ticks\":\"\"}}}],\"scatterpolar\":[{\"type\":\"scatterpolar\",\"marker\":{\"colorbar\":{\"outlinewidth\":0,\"ticks\":\"\"}}}],\"histogram\":[{\"marker\":{\"pattern\":{\"fillmode\":\"overlay\",\"size\":10,\"solidity\":0.2}},\"type\":\"histogram\"}],\"scattergl\":[{\"type\":\"scattergl\",\"marker\":{\"colorbar\":{\"outlinewidth\":0,\"ticks\":\"\"}}}],\"scatter3d\":[{\"type\":\"scatter3d\",\"line\":{\"colorbar\":{\"outlinewidth\":0,\"ticks\":\"\"}},\"marker\":{\"colorbar\":{\"outlinewidth\":0,\"ticks\":\"\"}}}],\"scattermapbox\":[{\"type\":\"scattermapbox\",\"marker\":{\"colorbar\":{\"outlinewidth\":0,\"ticks\":\"\"}}}],\"scatterternary\":[{\"type\":\"scatterternary\",\"marker\":{\"colorbar\":{\"outlinewidth\":0,\"ticks\":\"\"}}}],\"scattercarpet\":[{\"type\":\"scattercarpet\",\"marker\":{\"colorbar\":{\"outlinewidth\":0,\"ticks\":\"\"}}}],\"carpet\":[{\"aaxis\":{\"endlinecolor\":\"#2a3f5f\",\"gridcolor\":\"white\",\"linecolor\":\"white\",\"minorgridcolor\":\"white\",\"startlinecolor\":\"#2a3f5f\"},\"baxis\":{\"endlinecolor\":\"#2a3f5f\",\"gridcolor\":\"white\",\"linecolor\":\"white\",\"minorgridcolor\":\"white\",\"startlinecolor\":\"#2a3f5f\"},\"type\":\"carpet\"}],\"table\":[{\"cells\":{\"fill\":{\"color\":\"#EBF0F8\"},\"line\":{\"color\":\"white\"}},\"header\":{\"fill\":{\"color\":\"#C8D4E3\"},\"line\":{\"color\":\"white\"}},\"type\":\"table\"}],\"barpolar\":[{\"marker\":{\"line\":{\"color\":\"#E5ECF6\",\"width\":0.5},\"pattern\":{\"fillmode\":\"overlay\",\"size\":10,\"solidity\":0.2}},\"type\":\"barpolar\"}],\"pie\":[{\"automargin\":true,\"type\":\"pie\"}]},\"layout\":{\"autotypenumbers\":\"strict\",\"colorway\":[\"#636efa\",\"#EF553B\",\"#00cc96\",\"#ab63fa\",\"#FFA15A\",\"#19d3f3\",\"#FF6692\",\"#B6E880\",\"#FF97FF\",\"#FECB52\"],\"font\":{\"color\":\"#2a3f5f\"},\"hovermode\":\"closest\",\"hoverlabel\":{\"align\":\"left\"},\"paper_bgcolor\":\"white\",\"plot_bgcolor\":\"#E5ECF6\",\"polar\":{\"bgcolor\":\"#E5ECF6\",\"angularaxis\":{\"gridcolor\":\"white\",\"linecolor\":\"white\",\"ticks\":\"\"},\"radialaxis\":{\"gridcolor\":\"white\",\"linecolor\":\"white\",\"ticks\":\"\"}},\"ternary\":{\"bgcolor\":\"#E5ECF6\",\"aaxis\":{\"gridcolor\":\"white\",\"linecolor\":\"white\",\"ticks\":\"\"},\"baxis\":{\"gridcolor\":\"white\",\"linecolor\":\"white\",\"ticks\":\"\"},\"caxis\":{\"gridcolor\":\"white\",\"linecolor\":\"white\",\"ticks\":\"\"}},\"coloraxis\":{\"colorbar\":{\"outlinewidth\":0,\"ticks\":\"\"}},\"colorscale\":{\"sequential\":[[0.0,\"#0d0887\"],[0.1111111111111111,\"#46039f\"],[0.2222222222222222,\"#7201a8\"],[0.3333333333333333,\"#9c179e\"],[0.4444444444444444,\"#bd3786\"],[0.5555555555555556,\"#d8576b\"],[0.6666666666666666,\"#ed7953\"],[0.7777777777777778,\"#fb9f3a\"],[0.8888888888888888,\"#fdca26\"],[1.0,\"#f0f921\"]],\"sequentialminus\":[[0.0,\"#0d0887\"],[0.1111111111111111,\"#46039f\"],[0.2222222222222222,\"#7201a8\"],[0.3333333333333333,\"#9c179e\"],[0.4444444444444444,\"#bd3786\"],[0.5555555555555556,\"#d8576b\"],[0.6666666666666666,\"#ed7953\"],[0.7777777777777778,\"#fb9f3a\"],[0.8888888888888888,\"#fdca26\"],[1.0,\"#f0f921\"]],\"diverging\":[[0,\"#8e0152\"],[0.1,\"#c51b7d\"],[0.2,\"#de77ae\"],[0.3,\"#f1b6da\"],[0.4,\"#fde0ef\"],[0.5,\"#f7f7f7\"],[0.6,\"#e6f5d0\"],[0.7,\"#b8e186\"],[0.8,\"#7fbc41\"],[0.9,\"#4d9221\"],[1,\"#276419\"]]},\"xaxis\":{\"gridcolor\":\"white\",\"linecolor\":\"white\",\"ticks\":\"\",\"title\":{\"standoff\":15},\"zerolinecolor\":\"white\",\"automargin\":true,\"zerolinewidth\":2},\"yaxis\":{\"gridcolor\":\"white\",\"linecolor\":\"white\",\"ticks\":\"\",\"title\":{\"standoff\":15},\"zerolinecolor\":\"white\",\"automargin\":true,\"zerolinewidth\":2},\"scene\":{\"xaxis\":{\"backgroundcolor\":\"#E5ECF6\",\"gridcolor\":\"white\",\"linecolor\":\"white\",\"showbackground\":true,\"ticks\":\"\",\"zerolinecolor\":\"white\",\"gridwidth\":2},\"yaxis\":{\"backgroundcolor\":\"#E5ECF6\",\"gridcolor\":\"white\",\"linecolor\":\"white\",\"showbackground\":true,\"ticks\":\"\",\"zerolinecolor\":\"white\",\"gridwidth\":2},\"zaxis\":{\"backgroundcolor\":\"#E5ECF6\",\"gridcolor\":\"white\",\"linecolor\":\"white\",\"showbackground\":true,\"ticks\":\"\",\"zerolinecolor\":\"white\",\"gridwidth\":2}},\"shapedefaults\":{\"line\":{\"color\":\"#2a3f5f\"}},\"annotationdefaults\":{\"arrowcolor\":\"#2a3f5f\",\"arrowhead\":0,\"arrowwidth\":1},\"geo\":{\"bgcolor\":\"white\",\"landcolor\":\"#E5ECF6\",\"subunitcolor\":\"white\",\"showland\":true,\"showlakes\":true,\"lakecolor\":\"white\"},\"title\":{\"x\":0.05},\"mapbox\":{\"style\":\"light\"}}},\"font\":{\"size\":10,\"color\":\"black\"},\"title\":{\"text\":\"NCBI BioProject Scope: PRJNA730822 HPRC Assembly Meta Flow\"},\"plot_bgcolor\":\"black\"},                        {\"responsive\": true}                    ).then(function(){\n",
       "                            \n",
       "var gd = document.getElementById('caf8f1d0-cd9a-43af-8a9b-b454df67ddae');\n",
       "var x = new MutationObserver(function (mutations, observer) {{\n",
       "        var display = window.getComputedStyle(gd).display;\n",
       "        if (!display || display === 'none') {{\n",
       "            console.log([gd, 'removed!']);\n",
       "            Plotly.purge(gd);\n",
       "            observer.disconnect();\n",
       "        }}\n",
       "}});\n",
       "\n",
       "// Listen for the removal of the full notebook cells\n",
       "var notebookContainer = gd.closest('#notebook-container');\n",
       "if (notebookContainer) {{\n",
       "    x.observe(notebookContainer, {childList: true});\n",
       "}}\n",
       "\n",
       "// Listen for the clearing of the current output cell\n",
       "var outputEl = gd.closest('.output');\n",
       "if (outputEl) {{\n",
       "    x.observe(outputEl, {childList: true});\n",
       "}}\n",
       "\n",
       "                        })                };                });            </script>        </div>"
      ]
     },
     "metadata": {},
     "output_type": "display_data"
    }
   ],
   "source": [
    "\n",
    "# Create a dictionary to map node names to indices\n",
    "node_indices = {node: idx for idx, node in enumerate(ncbi_bioproject_dict.keys())}\n",
    "\n",
    "# Create links for the Sankey diagram\n",
    "links = []\n",
    "for key, val in ncbi_bioproject_dict.items():\n",
    "    if 'components' in val:\n",
    "        source = node_indices[key]\n",
    "        for component in val['components']:\n",
    "            target = node_indices[component]\n",
    "            links.append({'source': source, 'target': target, 'value': 1})\n",
    "print(links)\n",
    "# Create nodes for the Sankey diagram\n",
    "nodes = [{'label': key} for key in ncbi_bioproject_dict.keys()]\n",
    "\n",
    "# Create Sankey diagram\n",
    "fig = go.Figure(data=[go.Sankey(\n",
    "    node=dict(\n",
    "        pad=15,\n",
    "        thickness=20,\n",
    "        line=dict(color=\"black\", width=0.5),\n",
    "        label=[node['label'] for node in nodes],\n",
    "        color=\"blue\",  # Set node color to blue\n",
    "        # font=dict(color=\"black\")  # Set node label font color to black\n",
    "    ),\n",
    "    link=dict(\n",
    "        source=[link['source'] for link in links],\n",
    "        target=[link['target'] for link in links],\n",
    "        value=[link['value'] for link in links]\n",
    "    )\n",
    ")])\n",
    "\n",
    "# Update layout\n",
    "fig.update_layout(\n",
    "    title=\"NCBI BioProject Scope: PRJNA730822 HPRC Assembly Meta Flow\",\n",
    "    font=dict(size=10, color=\"black\"),\n",
    "    plot_bgcolor=\"black\",\n",
    ")\n",
    "\n",
    "# Save the figure to an HTML file\n",
    "fig.write_html(\"PRJNA730822-SankeyNetwork.html\")\n",
    "fig.show()"
   ]
  },
  {
   "cell_type": "code",
   "execution_count": 12,
   "id": "7cc631aa-b650-4729-8c4a-aa8b3480966e",
   "metadata": {},
   "outputs": [
    {
     "data": {
      "text/html": [
       "<div>\n",
       "<style scoped>\n",
       "    .dataframe tbody tr th:only-of-type {\n",
       "        vertical-align: middle;\n",
       "    }\n",
       "\n",
       "    .dataframe tbody tr th {\n",
       "        vertical-align: top;\n",
       "    }\n",
       "\n",
       "    .dataframe thead th {\n",
       "        text-align: right;\n",
       "    }\n",
       "</style>\n",
       "<table border=\"1\" class=\"dataframe\">\n",
       "  <thead>\n",
       "    <tr style=\"text-align: right;\">\n",
       "      <th></th>\n",
       "      <th>title</th>\n",
       "      <th>type</th>\n",
       "      <th>components</th>\n",
       "      <th>umbrella-bioproject</th>\n",
       "      <th>description</th>\n",
       "      <th>assembly_level</th>\n",
       "    </tr>\n",
       "  </thead>\n",
       "  <tbody>\n",
       "    <tr>\n",
       "      <th>PRJNA730823</th>\n",
       "      <td>Human Pangenome Reference Consortium</td>\n",
       "      <td>Umbrella</td>\n",
       "      <td>[PRJNA730822]</td>\n",
       "      <td>main</td>\n",
       "      <td>NaN</td>\n",
       "      <td>NaN</td>\n",
       "    </tr>\n",
       "    <tr>\n",
       "      <th>PRJNA730822</th>\n",
       "      <td>HPRC Assembly</td>\n",
       "      <td>Umbrella</td>\n",
       "      <td>[PRJNA727229]</td>\n",
       "      <td>PRJNA730823</td>\n",
       "      <td>NaN</td>\n",
       "      <td>NaN</td>\n",
       "    </tr>\n",
       "    <tr>\n",
       "      <th>PRJNA727229</th>\n",
       "      <td>Assembly of HG02257</td>\n",
       "      <td>Umbrella</td>\n",
       "      <td>[PRJNA723016, PRJNA723017]</td>\n",
       "      <td>PRJNA730822</td>\n",
       "      <td>NaN</td>\n",
       "      <td>NaN</td>\n",
       "    </tr>\n",
       "    <tr>\n",
       "      <th>PRJNA723016</th>\n",
       "      <td>Homo sapiens alternate pseudohaplotype genome ...</td>\n",
       "      <td>Genome Sequencing</td>\n",
       "      <td>NaN</td>\n",
       "      <td>PRJNA727229</td>\n",
       "      <td>Assembly of HG02257 Paternal Haplotype</td>\n",
       "      <td>Contigs</td>\n",
       "    </tr>\n",
       "    <tr>\n",
       "      <th>PRJNA723017</th>\n",
       "      <td>Homo sapiens principal pseudohaplotype genome ...</td>\n",
       "      <td>Genome Sequencing</td>\n",
       "      <td>NaN</td>\n",
       "      <td>PRJNA727229</td>\n",
       "      <td>Assembly of HG02257 Maternal Haplotype</td>\n",
       "      <td>Scaffold</td>\n",
       "    </tr>\n",
       "  </tbody>\n",
       "</table>\n",
       "</div>"
      ],
      "text/plain": [
       "                                                         title  \\\n",
       "PRJNA730823               Human Pangenome Reference Consortium   \n",
       "PRJNA730822                                      HPRC Assembly   \n",
       "PRJNA727229                                Assembly of HG02257   \n",
       "PRJNA723016  Homo sapiens alternate pseudohaplotype genome ...   \n",
       "PRJNA723017  Homo sapiens principal pseudohaplotype genome ...   \n",
       "\n",
       "                          type                  components  \\\n",
       "PRJNA730823           Umbrella               [PRJNA730822]   \n",
       "PRJNA730822           Umbrella               [PRJNA727229]   \n",
       "PRJNA727229           Umbrella  [PRJNA723016, PRJNA723017]   \n",
       "PRJNA723016  Genome Sequencing                         NaN   \n",
       "PRJNA723017  Genome Sequencing                         NaN   \n",
       "\n",
       "            umbrella-bioproject                             description  \\\n",
       "PRJNA730823                main                                     NaN   \n",
       "PRJNA730822         PRJNA730823                                     NaN   \n",
       "PRJNA727229         PRJNA730822                                     NaN   \n",
       "PRJNA723016         PRJNA727229  Assembly of HG02257 Paternal Haplotype   \n",
       "PRJNA723017         PRJNA727229  Assembly of HG02257 Maternal Haplotype   \n",
       "\n",
       "            assembly_level  \n",
       "PRJNA730823            NaN  \n",
       "PRJNA730822            NaN  \n",
       "PRJNA727229            NaN  \n",
       "PRJNA723016        Contigs  \n",
       "PRJNA723017       Scaffold  "
      ]
     },
     "execution_count": 12,
     "metadata": {},
     "output_type": "execute_result"
    }
   ],
   "source": [
    "pd.DataFrame.from_dict(ncbi_bioproject_dict, orient='index')"
   ]
  },
  {
   "cell_type": "markdown",
   "id": "e8b9108f-a7db-407f-be81-d80efe1714a4",
   "metadata": {},
   "source": [
    "## Minimal Viable Product"
   ]
  },
  {
   "cell_type": "code",
   "execution_count": 185,
   "id": "5fee58e8-ef8b-4165-93dc-6c3737b9c806",
   "metadata": {},
   "outputs": [],
   "source": [
    "ncbi_bioproject_dict = {'PRJNA730823': {'title': 'Human Pangenome Reference Consortium',\n",
    "                                        'type': 'Umbrella',\n",
    "                                        'components':['PRJNA730822'],\n",
    "                                        'umbrella-bioproject':'main',\n",
    "                                        'Description': 'The Human Pangenome Reference Consortium aims to create a collection of high-quality reference genomes that represent the genetic diversity of the human population.'\n",
    "                                        },\n",
    "                        'PRJNA730822': {'title': 'HPRC Assembly',\n",
    "                                        'type': 'Umbrella',\n",
    "                                        'components': ['Bioproject-Assembly-Trio', 'Bioproject-Assembly-HiC-Phased'],\n",
    "                                        'umbrella-bioproject':'PRJNA730823',\n",
    "                                        'Description': 'This project contains assemblies generated for the Human Pangenome Reference Consortium (HPRC). The Human Pangenome Reference Consortium aims to create a collection of high-quality reference genomes that represent the genetic diversity of the human population.'\n",
    "                                       },\n",
    "                        \n",
    "                        'Bioproject-Assembly-Trio':{'title': 'Assembly of HG00621',\n",
    "                                               'type':'Umbrella',\n",
    "                                               'components':['Bioproject-Assembly-DataLevel-Maternal',\n",
    "                                                            'Bioproject-Assembly-DataLevel-Paternal'],\n",
    "                            'umbrella-bioproject': 'PRJNA730822',\n",
    "                            'Description':'HG00621 assembly generated by the Human Pangenome Reference Consortium'},\n",
    "                        \n",
    "                        'Bioproject-Assembly-DataLevel-Maternal':{'title': 'Assembly of HG00621 Maternal Haplotype',\n",
    "                            'type': 'Genome sequencing and assembly',\n",
    "                            'umbrella-bioproject': 'Bioproject-Assembly-Trio',\n",
    "                            'Description':'HG00621 maternal assembly generated by the Human Pangenome Reference Consortium using trio phasing.'},\n",
    "                        \n",
    "                        'Bioproject-Assembly-DataLevel-Paternal':{'title': 'Assembly of HG00621 Paternal Haplotype',\n",
    "                            'type': 'Genome sequencing and assembly',\n",
    "                            'umbrella-bioproject': 'Bioproject-Assembly-Trio',\n",
    "                            'Description':'HG00621 paternal assembly generated by the Human Pangenome Reference Consortium using trio phasing.'},\n",
    "\n",
    "\n",
    "\n",
    "                        'Bioproject-Assembly-HiC-Phased':{'title': 'Assembly of NA20905',\n",
    "                                               'type':'Umbrella',\n",
    "                                               'components':['Bioproject-Assembly-DataLevel-Haplotype1',\n",
    "                                                            'Bioproject-Assembly-DataLevel-Haplotype2'],\n",
    "                            'umbrella-bioproject': 'PRJNA730822',\n",
    "                            'Description':'NA20905 assembly generated by the Human Pangenome Reference Consortium.'},\n",
    "                        \n",
    "                        'Bioproject-Assembly-DataLevel-Haplotype1':{'title': 'Assembly of NA20905 Haplotype 1',\n",
    "                            'type': 'Genome sequencing and assembly',\n",
    "                            'umbrella-bioproject': 'Bioproject-Assembly-HiC-Phased',\n",
    "                            'Description':'NA20905 haplotype1 assembly generated by the Human Pangenome Reference Consortium using hic phasing. Mitochondrial sequences are included in haplotype 2. For male samples, chrY sequences are included in haplotype 1 and chrX sequences are included in haplotype 2.'},\n",
    "                        \n",
    "                        'Bioproject-Assembly-DataLevel-Haplotype2':{'title': 'Assembly of NA20905 Haplotype 2',\n",
    "                            'type': 'Genome sequencing and assembly',\n",
    "                            'umbrella-bioproject': 'Bioproject-Assembly-HiC-Phased',\n",
    "                            'Description':'NA20905 haplotype 2 assembly generated by the Human Pangenome Reference Consortium using hic phasing. Mitochondrial sequences are included in haplotype 2. For male samples, chrY sequences are included in haplotype 1 and chrX sequences are included in haplotype 2.'}\n",
    "                       \n",
    "                       }"
   ]
  },
  {
   "cell_type": "code",
   "execution_count": 188,
   "id": "b6def69a-be0b-4424-bb23-7e26527066b8",
   "metadata": {},
   "outputs": [
    {
     "data": {
      "application/vnd.plotly.v1+json": {
       "config": {
        "plotlyServerURL": "https://plot.ly"
       },
       "data": [
        {
         "link": {
          "source": [
           0,
           1,
           1,
           2,
           2,
           5,
           5
          ],
          "target": [
           1,
           2,
           5,
           3,
           4,
           6,
           7
          ],
          "value": [
           1,
           1,
           1,
           1,
           1,
           1,
           1
          ]
         },
         "node": {
          "color": "blue",
          "customdata": [
           "The Human Pangenome Reference Consortium aims to create a collection of high-quality reference genomes that represent the genetic diversity of the human population.",
           "This project contains assemblies generated for the Human Pangenome Reference Consortium (HPRC). The Human Pangenome Reference Consortium aims to create a collection of high-quality reference genomes that represent the genetic diversity of the human population.",
           "HG00621 assembly generated by the Human Pangenome Reference Consortium",
           "HG00621 maternal assembly generated by the Human Pangenome Reference Consortium using trio phasing.",
           "HG00621 paternal assembly generated by the Human Pangenome Reference Consortium using trio phasing.",
           "NA20905 assembly generated by the Human Pangenome Reference Consortium.",
           "NA20905 haplotype1 assembly generated by the Human Pangenome Reference Consortium using hic phasing. Mitochondrial sequences are included in haplotype 2. For male samples, chrY sequences are included in haplotype 1 and chrX sequences are included in haplotype 2.",
           "NA20905 haplotype 2 assembly generated by the Human Pangenome Reference Consortium using hic phasing. Mitochondrial sequences are included in haplotype 2. For male samples, chrY sequences are included in haplotype 1 and chrX sequences are included in haplotype 2."
          ],
          "hovertemplate": "%{label}<br>%{customdata}<extra></extra>",
          "label": [
           "Human Pangenome Reference Consortium",
           "HPRC Assembly",
           "Assembly of HG00621",
           "Assembly of HG00621 Maternal Haplotype",
           "Assembly of HG00621 Paternal Haplotype",
           "Assembly of NA20905",
           "Assembly of NA20905 Haplotype 1",
           "Assembly of NA20905 Haplotype 2"
          ],
          "line": {
           "color": "black",
           "width": 0.5
          },
          "pad": 15,
          "thickness": 20,
          "x": [
           0.009708737864077669,
           0.33559870550161813,
           0.6003236245954693,
           0.9902912621359223,
           0.9902912621359223,
           0.6022653721682848,
           0.9902912621359223,
           0.9902912621359223
          ],
          "y": [
           0.5321390671332951,
           0.33782238523605423,
           0.03194444841808735,
           0.09375000000000146,
           0.3645833333333346,
           0.7791666666666667,
           0.6354166666666674,
           0.9062500000000003
          ]
         },
         "type": "sankey"
        }
       ],
       "layout": {
        "autosize": true,
        "font": {
         "color": "black",
         "size": 10
        },
        "plot_bgcolor": "white",
        "template": {
         "data": {
          "bar": [
           {
            "error_x": {
             "color": "#2a3f5f"
            },
            "error_y": {
             "color": "#2a3f5f"
            },
            "marker": {
             "line": {
              "color": "#E5ECF6",
              "width": 0.5
             },
             "pattern": {
              "fillmode": "overlay",
              "size": 10,
              "solidity": 0.2
             }
            },
            "type": "bar"
           }
          ],
          "barpolar": [
           {
            "marker": {
             "line": {
              "color": "#E5ECF6",
              "width": 0.5
             },
             "pattern": {
              "fillmode": "overlay",
              "size": 10,
              "solidity": 0.2
             }
            },
            "type": "barpolar"
           }
          ],
          "carpet": [
           {
            "aaxis": {
             "endlinecolor": "#2a3f5f",
             "gridcolor": "white",
             "linecolor": "white",
             "minorgridcolor": "white",
             "startlinecolor": "#2a3f5f"
            },
            "baxis": {
             "endlinecolor": "#2a3f5f",
             "gridcolor": "white",
             "linecolor": "white",
             "minorgridcolor": "white",
             "startlinecolor": "#2a3f5f"
            },
            "type": "carpet"
           }
          ],
          "choropleth": [
           {
            "colorbar": {
             "outlinewidth": 0,
             "ticks": ""
            },
            "type": "choropleth"
           }
          ],
          "contour": [
           {
            "colorbar": {
             "outlinewidth": 0,
             "ticks": ""
            },
            "colorscale": [
             [
              0,
              "#0d0887"
             ],
             [
              0.1111111111111111,
              "#46039f"
             ],
             [
              0.2222222222222222,
              "#7201a8"
             ],
             [
              0.3333333333333333,
              "#9c179e"
             ],
             [
              0.4444444444444444,
              "#bd3786"
             ],
             [
              0.5555555555555556,
              "#d8576b"
             ],
             [
              0.6666666666666666,
              "#ed7953"
             ],
             [
              0.7777777777777778,
              "#fb9f3a"
             ],
             [
              0.8888888888888888,
              "#fdca26"
             ],
             [
              1,
              "#f0f921"
             ]
            ],
            "type": "contour"
           }
          ],
          "contourcarpet": [
           {
            "colorbar": {
             "outlinewidth": 0,
             "ticks": ""
            },
            "type": "contourcarpet"
           }
          ],
          "heatmap": [
           {
            "colorbar": {
             "outlinewidth": 0,
             "ticks": ""
            },
            "colorscale": [
             [
              0,
              "#0d0887"
             ],
             [
              0.1111111111111111,
              "#46039f"
             ],
             [
              0.2222222222222222,
              "#7201a8"
             ],
             [
              0.3333333333333333,
              "#9c179e"
             ],
             [
              0.4444444444444444,
              "#bd3786"
             ],
             [
              0.5555555555555556,
              "#d8576b"
             ],
             [
              0.6666666666666666,
              "#ed7953"
             ],
             [
              0.7777777777777778,
              "#fb9f3a"
             ],
             [
              0.8888888888888888,
              "#fdca26"
             ],
             [
              1,
              "#f0f921"
             ]
            ],
            "type": "heatmap"
           }
          ],
          "heatmapgl": [
           {
            "colorbar": {
             "outlinewidth": 0,
             "ticks": ""
            },
            "colorscale": [
             [
              0,
              "#0d0887"
             ],
             [
              0.1111111111111111,
              "#46039f"
             ],
             [
              0.2222222222222222,
              "#7201a8"
             ],
             [
              0.3333333333333333,
              "#9c179e"
             ],
             [
              0.4444444444444444,
              "#bd3786"
             ],
             [
              0.5555555555555556,
              "#d8576b"
             ],
             [
              0.6666666666666666,
              "#ed7953"
             ],
             [
              0.7777777777777778,
              "#fb9f3a"
             ],
             [
              0.8888888888888888,
              "#fdca26"
             ],
             [
              1,
              "#f0f921"
             ]
            ],
            "type": "heatmapgl"
           }
          ],
          "histogram": [
           {
            "marker": {
             "pattern": {
              "fillmode": "overlay",
              "size": 10,
              "solidity": 0.2
             }
            },
            "type": "histogram"
           }
          ],
          "histogram2d": [
           {
            "colorbar": {
             "outlinewidth": 0,
             "ticks": ""
            },
            "colorscale": [
             [
              0,
              "#0d0887"
             ],
             [
              0.1111111111111111,
              "#46039f"
             ],
             [
              0.2222222222222222,
              "#7201a8"
             ],
             [
              0.3333333333333333,
              "#9c179e"
             ],
             [
              0.4444444444444444,
              "#bd3786"
             ],
             [
              0.5555555555555556,
              "#d8576b"
             ],
             [
              0.6666666666666666,
              "#ed7953"
             ],
             [
              0.7777777777777778,
              "#fb9f3a"
             ],
             [
              0.8888888888888888,
              "#fdca26"
             ],
             [
              1,
              "#f0f921"
             ]
            ],
            "type": "histogram2d"
           }
          ],
          "histogram2dcontour": [
           {
            "colorbar": {
             "outlinewidth": 0,
             "ticks": ""
            },
            "colorscale": [
             [
              0,
              "#0d0887"
             ],
             [
              0.1111111111111111,
              "#46039f"
             ],
             [
              0.2222222222222222,
              "#7201a8"
             ],
             [
              0.3333333333333333,
              "#9c179e"
             ],
             [
              0.4444444444444444,
              "#bd3786"
             ],
             [
              0.5555555555555556,
              "#d8576b"
             ],
             [
              0.6666666666666666,
              "#ed7953"
             ],
             [
              0.7777777777777778,
              "#fb9f3a"
             ],
             [
              0.8888888888888888,
              "#fdca26"
             ],
             [
              1,
              "#f0f921"
             ]
            ],
            "type": "histogram2dcontour"
           }
          ],
          "mesh3d": [
           {
            "colorbar": {
             "outlinewidth": 0,
             "ticks": ""
            },
            "type": "mesh3d"
           }
          ],
          "parcoords": [
           {
            "line": {
             "colorbar": {
              "outlinewidth": 0,
              "ticks": ""
             }
            },
            "type": "parcoords"
           }
          ],
          "pie": [
           {
            "automargin": true,
            "type": "pie"
           }
          ],
          "scatter": [
           {
            "fillpattern": {
             "fillmode": "overlay",
             "size": 10,
             "solidity": 0.2
            },
            "type": "scatter"
           }
          ],
          "scatter3d": [
           {
            "line": {
             "colorbar": {
              "outlinewidth": 0,
              "ticks": ""
             }
            },
            "marker": {
             "colorbar": {
              "outlinewidth": 0,
              "ticks": ""
             }
            },
            "type": "scatter3d"
           }
          ],
          "scattercarpet": [
           {
            "marker": {
             "colorbar": {
              "outlinewidth": 0,
              "ticks": ""
             }
            },
            "type": "scattercarpet"
           }
          ],
          "scattergeo": [
           {
            "marker": {
             "colorbar": {
              "outlinewidth": 0,
              "ticks": ""
             }
            },
            "type": "scattergeo"
           }
          ],
          "scattergl": [
           {
            "marker": {
             "colorbar": {
              "outlinewidth": 0,
              "ticks": ""
             }
            },
            "type": "scattergl"
           }
          ],
          "scattermapbox": [
           {
            "marker": {
             "colorbar": {
              "outlinewidth": 0,
              "ticks": ""
             }
            },
            "type": "scattermapbox"
           }
          ],
          "scatterpolar": [
           {
            "marker": {
             "colorbar": {
              "outlinewidth": 0,
              "ticks": ""
             }
            },
            "type": "scatterpolar"
           }
          ],
          "scatterpolargl": [
           {
            "marker": {
             "colorbar": {
              "outlinewidth": 0,
              "ticks": ""
             }
            },
            "type": "scatterpolargl"
           }
          ],
          "scatterternary": [
           {
            "marker": {
             "colorbar": {
              "outlinewidth": 0,
              "ticks": ""
             }
            },
            "type": "scatterternary"
           }
          ],
          "surface": [
           {
            "colorbar": {
             "outlinewidth": 0,
             "ticks": ""
            },
            "colorscale": [
             [
              0,
              "#0d0887"
             ],
             [
              0.1111111111111111,
              "#46039f"
             ],
             [
              0.2222222222222222,
              "#7201a8"
             ],
             [
              0.3333333333333333,
              "#9c179e"
             ],
             [
              0.4444444444444444,
              "#bd3786"
             ],
             [
              0.5555555555555556,
              "#d8576b"
             ],
             [
              0.6666666666666666,
              "#ed7953"
             ],
             [
              0.7777777777777778,
              "#fb9f3a"
             ],
             [
              0.8888888888888888,
              "#fdca26"
             ],
             [
              1,
              "#f0f921"
             ]
            ],
            "type": "surface"
           }
          ],
          "table": [
           {
            "cells": {
             "fill": {
              "color": "#EBF0F8"
             },
             "line": {
              "color": "white"
             }
            },
            "header": {
             "fill": {
              "color": "#C8D4E3"
             },
             "line": {
              "color": "white"
             }
            },
            "type": "table"
           }
          ]
         },
         "layout": {
          "annotationdefaults": {
           "arrowcolor": "#2a3f5f",
           "arrowhead": 0,
           "arrowwidth": 1
          },
          "autotypenumbers": "strict",
          "coloraxis": {
           "colorbar": {
            "outlinewidth": 0,
            "ticks": ""
           }
          },
          "colorscale": {
           "diverging": [
            [
             0,
             "#8e0152"
            ],
            [
             0.1,
             "#c51b7d"
            ],
            [
             0.2,
             "#de77ae"
            ],
            [
             0.3,
             "#f1b6da"
            ],
            [
             0.4,
             "#fde0ef"
            ],
            [
             0.5,
             "#f7f7f7"
            ],
            [
             0.6,
             "#e6f5d0"
            ],
            [
             0.7,
             "#b8e186"
            ],
            [
             0.8,
             "#7fbc41"
            ],
            [
             0.9,
             "#4d9221"
            ],
            [
             1,
             "#276419"
            ]
           ],
           "sequential": [
            [
             0,
             "#0d0887"
            ],
            [
             0.1111111111111111,
             "#46039f"
            ],
            [
             0.2222222222222222,
             "#7201a8"
            ],
            [
             0.3333333333333333,
             "#9c179e"
            ],
            [
             0.4444444444444444,
             "#bd3786"
            ],
            [
             0.5555555555555556,
             "#d8576b"
            ],
            [
             0.6666666666666666,
             "#ed7953"
            ],
            [
             0.7777777777777778,
             "#fb9f3a"
            ],
            [
             0.8888888888888888,
             "#fdca26"
            ],
            [
             1,
             "#f0f921"
            ]
           ],
           "sequentialminus": [
            [
             0,
             "#0d0887"
            ],
            [
             0.1111111111111111,
             "#46039f"
            ],
            [
             0.2222222222222222,
             "#7201a8"
            ],
            [
             0.3333333333333333,
             "#9c179e"
            ],
            [
             0.4444444444444444,
             "#bd3786"
            ],
            [
             0.5555555555555556,
             "#d8576b"
            ],
            [
             0.6666666666666666,
             "#ed7953"
            ],
            [
             0.7777777777777778,
             "#fb9f3a"
            ],
            [
             0.8888888888888888,
             "#fdca26"
            ],
            [
             1,
             "#f0f921"
            ]
           ]
          },
          "colorway": [
           "#636efa",
           "#EF553B",
           "#00cc96",
           "#ab63fa",
           "#FFA15A",
           "#19d3f3",
           "#FF6692",
           "#B6E880",
           "#FF97FF",
           "#FECB52"
          ],
          "font": {
           "color": "#2a3f5f"
          },
          "geo": {
           "bgcolor": "white",
           "lakecolor": "white",
           "landcolor": "#E5ECF6",
           "showlakes": true,
           "showland": true,
           "subunitcolor": "white"
          },
          "hoverlabel": {
           "align": "left"
          },
          "hovermode": "closest",
          "mapbox": {
           "style": "light"
          },
          "paper_bgcolor": "white",
          "plot_bgcolor": "#E5ECF6",
          "polar": {
           "angularaxis": {
            "gridcolor": "white",
            "linecolor": "white",
            "ticks": ""
           },
           "bgcolor": "#E5ECF6",
           "radialaxis": {
            "gridcolor": "white",
            "linecolor": "white",
            "ticks": ""
           }
          },
          "scene": {
           "xaxis": {
            "backgroundcolor": "#E5ECF6",
            "gridcolor": "white",
            "gridwidth": 2,
            "linecolor": "white",
            "showbackground": true,
            "ticks": "",
            "zerolinecolor": "white"
           },
           "yaxis": {
            "backgroundcolor": "#E5ECF6",
            "gridcolor": "white",
            "gridwidth": 2,
            "linecolor": "white",
            "showbackground": true,
            "ticks": "",
            "zerolinecolor": "white"
           },
           "zaxis": {
            "backgroundcolor": "#E5ECF6",
            "gridcolor": "white",
            "gridwidth": 2,
            "linecolor": "white",
            "showbackground": true,
            "ticks": "",
            "zerolinecolor": "white"
           }
          },
          "shapedefaults": {
           "line": {
            "color": "#2a3f5f"
           }
          },
          "ternary": {
           "aaxis": {
            "gridcolor": "white",
            "linecolor": "white",
            "ticks": ""
           },
           "baxis": {
            "gridcolor": "white",
            "linecolor": "white",
            "ticks": ""
           },
           "bgcolor": "#E5ECF6",
           "caxis": {
            "gridcolor": "white",
            "linecolor": "white",
            "ticks": ""
           }
          },
          "title": {
           "x": 0.05
          },
          "xaxis": {
           "automargin": true,
           "gridcolor": "white",
           "linecolor": "white",
           "ticks": "",
           "title": {
            "standoff": 15
           },
           "zerolinecolor": "white",
           "zerolinewidth": 2
          },
          "yaxis": {
           "automargin": true,
           "gridcolor": "white",
           "linecolor": "white",
           "ticks": "",
           "title": {
            "standoff": 15
           },
           "zerolinecolor": "white",
           "zerolinewidth": 2
          }
         }
        },
        "title": {
         "text": "NCBI BioProject Example: PRJNA730822 HPRC Assembly Submission"
        }
       }
      },
      "image/png": "[encoded data removed]",
      "text/html": [
       "<div>                            <div id=\"9fee340b-43ce-4059-aa98-643d9a84a152\" class=\"plotly-graph-div\" style=\"height:525px; width:100%;\"></div>            <script type=\"text/javascript\">                require([\"plotly\"], function(Plotly) {                    window.PLOTLYENV=window.PLOTLYENV || {};                                    if (document.getElementById(\"9fee340b-43ce-4059-aa98-643d9a84a152\")) {                    Plotly.newPlot(                        \"9fee340b-43ce-4059-aa98-643d9a84a152\",                        [{\"link\":{\"source\":[0,1,1,2,2,5,5],\"target\":[1,2,5,3,4,6,7],\"value\":[1,1,1,1,1,1,1]},\"node\":{\"color\":\"blue\",\"customdata\":[\"The Human Pangenome Reference Consortium aims to create a collection of high-quality reference genomes that represent the genetic diversity of the human population.\",\"This project contains assemblies generated for the Human Pangenome Reference Consortium (HPRC). The Human Pangenome Reference Consortium aims to create a collection of high-quality reference genomes that represent the genetic diversity of the human population.\",\"HG00621 assembly generated by the Human Pangenome Reference Consortium\",\"HG00621 maternal assembly generated by the Human Pangenome Reference Consortium using trio phasing.\",\"HG00621 paternal assembly generated by the Human Pangenome Reference Consortium using trio phasing.\",\"NA20905 assembly generated by the Human Pangenome Reference Consortium.\",\"NA20905 haplotype1 assembly generated by the Human Pangenome Reference Consortium using hic phasing. Mitochondrial sequences are included in haplotype 2. For male samples, chrY sequences are included in haplotype 1 and chrX sequences are included in haplotype 2.\",\"NA20905 haplotype 2 assembly generated by the Human Pangenome Reference Consortium using hic phasing. Mitochondrial sequences are included in haplotype 2. For male samples, chrY sequences are included in haplotype 1 and chrX sequences are included in haplotype 2.\"],\"hovertemplate\":\"%{label}\\u003cbr\\u003e%{customdata}\\u003cextra\\u003e\\u003c\\u002fextra\\u003e\",\"label\":[\"Human Pangenome Reference Consortium\",\"HPRC Assembly\",\"Assembly of HG00621\",\"Assembly of HG00621 Maternal Haplotype\",\"Assembly of HG00621 Paternal Haplotype\",\"Assembly of NA20905\",\"Assembly of NA20905 Haplotype 1\",\"Assembly of NA20905 Haplotype 2\"],\"line\":{\"color\":\"black\",\"width\":0.5},\"pad\":15,\"thickness\":20},\"type\":\"sankey\"}],                        {\"template\":{\"data\":{\"histogram2dcontour\":[{\"type\":\"histogram2dcontour\",\"colorbar\":{\"outlinewidth\":0,\"ticks\":\"\"},\"colorscale\":[[0.0,\"#0d0887\"],[0.1111111111111111,\"#46039f\"],[0.2222222222222222,\"#7201a8\"],[0.3333333333333333,\"#9c179e\"],[0.4444444444444444,\"#bd3786\"],[0.5555555555555556,\"#d8576b\"],[0.6666666666666666,\"#ed7953\"],[0.7777777777777778,\"#fb9f3a\"],[0.8888888888888888,\"#fdca26\"],[1.0,\"#f0f921\"]]}],\"choropleth\":[{\"type\":\"choropleth\",\"colorbar\":{\"outlinewidth\":0,\"ticks\":\"\"}}],\"histogram2d\":[{\"type\":\"histogram2d\",\"colorbar\":{\"outlinewidth\":0,\"ticks\":\"\"},\"colorscale\":[[0.0,\"#0d0887\"],[0.1111111111111111,\"#46039f\"],[0.2222222222222222,\"#7201a8\"],[0.3333333333333333,\"#9c179e\"],[0.4444444444444444,\"#bd3786\"],[0.5555555555555556,\"#d8576b\"],[0.6666666666666666,\"#ed7953\"],[0.7777777777777778,\"#fb9f3a\"],[0.8888888888888888,\"#fdca26\"],[1.0,\"#f0f921\"]]}],\"heatmap\":[{\"type\":\"heatmap\",\"colorbar\":{\"outlinewidth\":0,\"ticks\":\"\"},\"colorscale\":[[0.0,\"#0d0887\"],[0.1111111111111111,\"#46039f\"],[0.2222222222222222,\"#7201a8\"],[0.3333333333333333,\"#9c179e\"],[0.4444444444444444,\"#bd3786\"],[0.5555555555555556,\"#d8576b\"],[0.6666666666666666,\"#ed7953\"],[0.7777777777777778,\"#fb9f3a\"],[0.8888888888888888,\"#fdca26\"],[1.0,\"#f0f921\"]]}],\"heatmapgl\":[{\"type\":\"heatmapgl\",\"colorbar\":{\"outlinewidth\":0,\"ticks\":\"\"},\"colorscale\":[[0.0,\"#0d0887\"],[0.1111111111111111,\"#46039f\"],[0.2222222222222222,\"#7201a8\"],[0.3333333333333333,\"#9c179e\"],[0.4444444444444444,\"#bd3786\"],[0.5555555555555556,\"#d8576b\"],[0.6666666666666666,\"#ed7953\"],[0.7777777777777778,\"#fb9f3a\"],[0.8888888888888888,\"#fdca26\"],[1.0,\"#f0f921\"]]}],\"contourcarpet\":[{\"type\":\"contourcarpet\",\"colorbar\":{\"outlinewidth\":0,\"ticks\":\"\"}}],\"contour\":[{\"type\":\"contour\",\"colorbar\":{\"outlinewidth\":0,\"ticks\":\"\"},\"colorscale\":[[0.0,\"#0d0887\"],[0.1111111111111111,\"#46039f\"],[0.2222222222222222,\"#7201a8\"],[0.3333333333333333,\"#9c179e\"],[0.4444444444444444,\"#bd3786\"],[0.5555555555555556,\"#d8576b\"],[0.6666666666666666,\"#ed7953\"],[0.7777777777777778,\"#fb9f3a\"],[0.8888888888888888,\"#fdca26\"],[1.0,\"#f0f921\"]]}],\"surface\":[{\"type\":\"surface\",\"colorbar\":{\"outlinewidth\":0,\"ticks\":\"\"},\"colorscale\":[[0.0,\"#0d0887\"],[0.1111111111111111,\"#46039f\"],[0.2222222222222222,\"#7201a8\"],[0.3333333333333333,\"#9c179e\"],[0.4444444444444444,\"#bd3786\"],[0.5555555555555556,\"#d8576b\"],[0.6666666666666666,\"#ed7953\"],[0.7777777777777778,\"#fb9f3a\"],[0.8888888888888888,\"#fdca26\"],[1.0,\"#f0f921\"]]}],\"mesh3d\":[{\"type\":\"mesh3d\",\"colorbar\":{\"outlinewidth\":0,\"ticks\":\"\"}}],\"scatter\":[{\"fillpattern\":{\"fillmode\":\"overlay\",\"size\":10,\"solidity\":0.2},\"type\":\"scatter\"}],\"parcoords\":[{\"type\":\"parcoords\",\"line\":{\"colorbar\":{\"outlinewidth\":0,\"ticks\":\"\"}}}],\"scatterpolargl\":[{\"type\":\"scatterpolargl\",\"marker\":{\"colorbar\":{\"outlinewidth\":0,\"ticks\":\"\"}}}],\"bar\":[{\"error_x\":{\"color\":\"#2a3f5f\"},\"error_y\":{\"color\":\"#2a3f5f\"},\"marker\":{\"line\":{\"color\":\"#E5ECF6\",\"width\":0.5},\"pattern\":{\"fillmode\":\"overlay\",\"size\":10,\"solidity\":0.2}},\"type\":\"bar\"}],\"scattergeo\":[{\"type\":\"scattergeo\",\"marker\":{\"colorbar\":{\"outlinewidth\":0,\"ticks\":\"\"}}}],\"scatterpolar\":[{\"type\":\"scatterpolar\",\"marker\":{\"colorbar\":{\"outlinewidth\":0,\"ticks\":\"\"}}}],\"histogram\":[{\"marker\":{\"pattern\":{\"fillmode\":\"overlay\",\"size\":10,\"solidity\":0.2}},\"type\":\"histogram\"}],\"scattergl\":[{\"type\":\"scattergl\",\"marker\":{\"colorbar\":{\"outlinewidth\":0,\"ticks\":\"\"}}}],\"scatter3d\":[{\"type\":\"scatter3d\",\"line\":{\"colorbar\":{\"outlinewidth\":0,\"ticks\":\"\"}},\"marker\":{\"colorbar\":{\"outlinewidth\":0,\"ticks\":\"\"}}}],\"scattermapbox\":[{\"type\":\"scattermapbox\",\"marker\":{\"colorbar\":{\"outlinewidth\":0,\"ticks\":\"\"}}}],\"scatterternary\":[{\"type\":\"scatterternary\",\"marker\":{\"colorbar\":{\"outlinewidth\":0,\"ticks\":\"\"}}}],\"scattercarpet\":[{\"type\":\"scattercarpet\",\"marker\":{\"colorbar\":{\"outlinewidth\":0,\"ticks\":\"\"}}}],\"carpet\":[{\"aaxis\":{\"endlinecolor\":\"#2a3f5f\",\"gridcolor\":\"white\",\"linecolor\":\"white\",\"minorgridcolor\":\"white\",\"startlinecolor\":\"#2a3f5f\"},\"baxis\":{\"endlinecolor\":\"#2a3f5f\",\"gridcolor\":\"white\",\"linecolor\":\"white\",\"minorgridcolor\":\"white\",\"startlinecolor\":\"#2a3f5f\"},\"type\":\"carpet\"}],\"table\":[{\"cells\":{\"fill\":{\"color\":\"#EBF0F8\"},\"line\":{\"color\":\"white\"}},\"header\":{\"fill\":{\"color\":\"#C8D4E3\"},\"line\":{\"color\":\"white\"}},\"type\":\"table\"}],\"barpolar\":[{\"marker\":{\"line\":{\"color\":\"#E5ECF6\",\"width\":0.5},\"pattern\":{\"fillmode\":\"overlay\",\"size\":10,\"solidity\":0.2}},\"type\":\"barpolar\"}],\"pie\":[{\"automargin\":true,\"type\":\"pie\"}]},\"layout\":{\"autotypenumbers\":\"strict\",\"colorway\":[\"#636efa\",\"#EF553B\",\"#00cc96\",\"#ab63fa\",\"#FFA15A\",\"#19d3f3\",\"#FF6692\",\"#B6E880\",\"#FF97FF\",\"#FECB52\"],\"font\":{\"color\":\"#2a3f5f\"},\"hovermode\":\"closest\",\"hoverlabel\":{\"align\":\"left\"},\"paper_bgcolor\":\"white\",\"plot_bgcolor\":\"#E5ECF6\",\"polar\":{\"bgcolor\":\"#E5ECF6\",\"angularaxis\":{\"gridcolor\":\"white\",\"linecolor\":\"white\",\"ticks\":\"\"},\"radialaxis\":{\"gridcolor\":\"white\",\"linecolor\":\"white\",\"ticks\":\"\"}},\"ternary\":{\"bgcolor\":\"#E5ECF6\",\"aaxis\":{\"gridcolor\":\"white\",\"linecolor\":\"white\",\"ticks\":\"\"},\"baxis\":{\"gridcolor\":\"white\",\"linecolor\":\"white\",\"ticks\":\"\"},\"caxis\":{\"gridcolor\":\"white\",\"linecolor\":\"white\",\"ticks\":\"\"}},\"coloraxis\":{\"colorbar\":{\"outlinewidth\":0,\"ticks\":\"\"}},\"colorscale\":{\"sequential\":[[0.0,\"#0d0887\"],[0.1111111111111111,\"#46039f\"],[0.2222222222222222,\"#7201a8\"],[0.3333333333333333,\"#9c179e\"],[0.4444444444444444,\"#bd3786\"],[0.5555555555555556,\"#d8576b\"],[0.6666666666666666,\"#ed7953\"],[0.7777777777777778,\"#fb9f3a\"],[0.8888888888888888,\"#fdca26\"],[1.0,\"#f0f921\"]],\"sequentialminus\":[[0.0,\"#0d0887\"],[0.1111111111111111,\"#46039f\"],[0.2222222222222222,\"#7201a8\"],[0.3333333333333333,\"#9c179e\"],[0.4444444444444444,\"#bd3786\"],[0.5555555555555556,\"#d8576b\"],[0.6666666666666666,\"#ed7953\"],[0.7777777777777778,\"#fb9f3a\"],[0.8888888888888888,\"#fdca26\"],[1.0,\"#f0f921\"]],\"diverging\":[[0,\"#8e0152\"],[0.1,\"#c51b7d\"],[0.2,\"#de77ae\"],[0.3,\"#f1b6da\"],[0.4,\"#fde0ef\"],[0.5,\"#f7f7f7\"],[0.6,\"#e6f5d0\"],[0.7,\"#b8e186\"],[0.8,\"#7fbc41\"],[0.9,\"#4d9221\"],[1,\"#276419\"]]},\"xaxis\":{\"gridcolor\":\"white\",\"linecolor\":\"white\",\"ticks\":\"\",\"title\":{\"standoff\":15},\"zerolinecolor\":\"white\",\"automargin\":true,\"zerolinewidth\":2},\"yaxis\":{\"gridcolor\":\"white\",\"linecolor\":\"white\",\"ticks\":\"\",\"title\":{\"standoff\":15},\"zerolinecolor\":\"white\",\"automargin\":true,\"zerolinewidth\":2},\"scene\":{\"xaxis\":{\"backgroundcolor\":\"#E5ECF6\",\"gridcolor\":\"white\",\"linecolor\":\"white\",\"showbackground\":true,\"ticks\":\"\",\"zerolinecolor\":\"white\",\"gridwidth\":2},\"yaxis\":{\"backgroundcolor\":\"#E5ECF6\",\"gridcolor\":\"white\",\"linecolor\":\"white\",\"showbackground\":true,\"ticks\":\"\",\"zerolinecolor\":\"white\",\"gridwidth\":2},\"zaxis\":{\"backgroundcolor\":\"#E5ECF6\",\"gridcolor\":\"white\",\"linecolor\":\"white\",\"showbackground\":true,\"ticks\":\"\",\"zerolinecolor\":\"white\",\"gridwidth\":2}},\"shapedefaults\":{\"line\":{\"color\":\"#2a3f5f\"}},\"annotationdefaults\":{\"arrowcolor\":\"#2a3f5f\",\"arrowhead\":0,\"arrowwidth\":1},\"geo\":{\"bgcolor\":\"white\",\"landcolor\":\"#E5ECF6\",\"subunitcolor\":\"white\",\"showland\":true,\"showlakes\":true,\"lakecolor\":\"white\"},\"title\":{\"x\":0.05},\"mapbox\":{\"style\":\"light\"}}},\"font\":{\"size\":10,\"color\":\"black\"},\"title\":{\"text\":\"NCBI BioProject Example: PRJNA730822 HPRC Assembly Submission\"},\"plot_bgcolor\":\"white\"},                        {\"responsive\": true}                    ).then(function(){\n",
       "                            \n",
       "var gd = document.getElementById('9fee340b-43ce-4059-aa98-643d9a84a152');\n",
       "var x = new MutationObserver(function (mutations, observer) {{\n",
       "        var display = window.getComputedStyle(gd).display;\n",
       "        if (!display || display === 'none') {{\n",
       "            console.log([gd, 'removed!']);\n",
       "            Plotly.purge(gd);\n",
       "            observer.disconnect();\n",
       "        }}\n",
       "}});\n",
       "\n",
       "// Listen for the removal of the full notebook cells\n",
       "var notebookContainer = gd.closest('#notebook-container');\n",
       "if (notebookContainer) {{\n",
       "    x.observe(notebookContainer, {childList: true});\n",
       "}}\n",
       "\n",
       "// Listen for the clearing of the current output cell\n",
       "var outputEl = gd.closest('.output');\n",
       "if (outputEl) {{\n",
       "    x.observe(outputEl, {childList: true});\n",
       "}}\n",
       "\n",
       "                        })                };                });            </script>        </div>"
      ]
     },
     "metadata": {},
     "output_type": "display_data"
    }
   ],
   "source": [
    "# Create dictionary to map node names to indices\n",
    "node_indices = {node: idx for idx, node in enumerate(ncbi_bioproject_dict.keys())}\n",
    "\n",
    "# Create links for the Sankey diagram\n",
    "links = []\n",
    "for key, val in ncbi_bioproject_dict.items():\n",
    "    if 'components' in val:\n",
    "        source = node_indices[key]\n",
    "        for component in val['components']:\n",
    "            target = node_indices[component]\n",
    "            links.append({'source': source, 'target': target, 'value': 1})\n",
    "\n",
    "# Create nodes for the Sankey diagram, including the descriptions\n",
    "nodes = [{'name': key, 'label': val['title'], 'Description': val['Description']} for key, val in ncbi_bioproject_dict.items()]\n",
    "\n",
    "# Create Sankey diagram\n",
    "fig = go.Figure(data=[go.Sankey(\n",
    "    node=dict(\n",
    "        pad=15,\n",
    "        thickness=20,\n",
    "        line=dict(color=\"black\", width=0.5),\n",
    "        label=[node['label'] for node in nodes],\n",
    "        color=\"blue\",\n",
    "        customdata=[node['Description'] for node in nodes],  # Adding custom data for hover\n",
    "        hovertemplate='%{label}<br>%{customdata}<extra></extra>'  # Custom hover template using the label and custom data\n",
    "    ),\n",
    "    link=dict(\n",
    "        source=[link['source'] for link in links],\n",
    "        target=[link['target'] for link in links],\n",
    "        value=[link['value'] for link in links]\n",
    "    )\n",
    ")])\n",
    "\n",
    "# Update layout\n",
    "fig.update_layout(\n",
    "    title=\"NCBI BioProject Example: PRJNA730822 HPRC Assembly Submission\",\n",
    "    font=dict(size=10, color=\"black\"),\n",
    "    plot_bgcolor=\"white\",\n",
    ")\n",
    "\n",
    "fig.show()"
   ]
  },
  {
   "cell_type": "markdown",
   "id": "22dc9ebc-bb69-4074-b444-db2b4e66008c",
   "metadata": {},
   "source": [
    "## Scale"
   ]
  },
  {
   "cell_type": "code",
   "execution_count": 94,
   "id": "eae6995b-9bad-404c-aab6-20e36448d0b0",
   "metadata": {},
   "outputs": [],
   "source": [
    "bioproject_df = pd.read_csv('../ncbi-bioproject/create-bioproject-identifiers/hprc-production-create-YR2_4-bioproject.tsv', sep='\\t')"
   ]
  },
  {
   "cell_type": "code",
   "execution_count": 175,
   "id": "d8a1447c-eb3f-4f08-aa1d-c84a7300f2f3",
   "metadata": {},
   "outputs": [],
   "source": [
    "ncbi_bioproject_dict = {'PRJNA730823': {'title': 'Human Pangenome Reference Consortium',\n",
    "                                        'type': 'Umbrella',\n",
    "                                        'components':['PRJNA730822'],\n",
    "                                        'umbrella-bioproject':'main',\n",
    "                                        'Description': 'The Human Pangenome Reference Consortium aims to create a collection of high-quality reference genomes that represent the genetic diversity of the human population.'\n",
    "                                        },\n",
    "                        'PRJNA730822': {'title': 'HPRC Assembly',\n",
    "                                        'type': 'Umbrella',\n",
    "                                        'components': [],\n",
    "                                        'umbrella-bioproject':'PRJNA730823',\n",
    "                                        'Description': 'This project contains assemblies generated for the Human Pangenome Reference Consortium (HPRC). The Human Pangenome Reference Consortium aims to create a collection of high-quality reference genomes that represent the genetic diversity of the human population.'\n",
    "                                       }\n",
    "                       }\n",
    "\n",
    "\n",
    "bioproject_trio_assembly_dict =  {'Bioproject-Assembly-Trio':{'title': 'Assembly of {sample_id}',\n",
    "                                               'type':'Umbrella',\n",
    "                                               'components':['Bioproject-Assembly-DataLevel-Maternal',\n",
    "                                                            'Bioproject-Assembly-DataLevel-Paternal'],\n",
    "                            'umbrella-bioproject': 'PRJNA730822',\n",
    "                            'Description':'{sample_id} assembly generated by the Human Pangenome Reference Consortium'},\n",
    "                        \n",
    "                        'Bioproject-Assembly-DataLevel-Maternal':{'title': 'Assembly of {sample_id} Maternal Haplotype',\n",
    "                            'type': 'Genome sequencing and assembly',\n",
    "                            'umbrella-bioproject': 'Bioproject-Assembly-Trio',\n",
    "                            'Description':'{sample_id} maternal assembly generated by the Human Pangenome Reference Consortium using trio phasing.'},\n",
    "                        \n",
    "                        'Bioproject-Assembly-DataLevel-Paternal':{'title': 'Assembly of {sample_id} Paternal Haplotype',\n",
    "                            'type': 'Genome sequencing and assembly',\n",
    "                            'umbrella-bioproject': 'Bioproject-Assembly-Trio',\n",
    "                            'Description':'{sample_id} paternal assembly generated by the Human Pangenome Reference Consortium using trio phasing.'}\n",
    "                            }\n",
    "\n",
    "\n",
    "bioproject_hic_phased_assembly_dict = {'Bioproject-Assembly-HiC-Phased':{'title': 'Assembly of {sample_id}',\n",
    "                                               'type':'Umbrella',\n",
    "                                               'components':['Bioproject-Assembly-DataLevel-Haplotype1',\n",
    "                                                            'Bioproject-Assembly-DataLevel-Haplotype2'],\n",
    "                            'umbrella-bioproject': 'PRJNA730822',\n",
    "                            'Description':'{sample_id} assembly generated by the Human Pangenome Reference Consortium.'},\n",
    "                        \n",
    "                        'Bioproject-Assembly-DataLevel-Haplotype1':{'title': 'Assembly of {sample_id} Haplotype 1',\n",
    "                            'type': 'Genome sequencing and assembly',\n",
    "                            'umbrella-bioproject': 'Bioproject-Assembly-HiC-Phased',\n",
    "                            'Description':'{sample_id} haplotype1 assembly generated by the Human Pangenome Reference Consortium using hic phasing. Mitochondrial sequences are included in haplotype 2. For male samples, chrY sequences are included in haplotype 1 and chrX sequences are included in haplotype 2.'},\n",
    "                        \n",
    "                        'Bioproject-Assembly-DataLevel-Haplotype2':{'title': 'Assembly of {sample_id} Haplotype 2',\n",
    "                            'type': 'Genome sequencing and assembly',\n",
    "                            'umbrella-bioproject': 'Bioproject-Assembly-HiC-Phased',\n",
    "                            'Description':'{sample_id} haplotype 2 assembly generated by the Human Pangenome Reference Consortium using hic phasing. Mitochondrial sequences are included in haplotype 2. For male samples, chrY sequences are included in haplotype 1 and chrX sequences are included in haplotype 2.'}\n",
    "                       \n",
    "                       }\n"
   ]
  },
  {
   "cell_type": "code",
   "execution_count": 139,
   "id": "f10eb87f-223d-4d48-aa50-3e62c5357b45",
   "metadata": {},
   "outputs": [],
   "source": [
    "def create_bioproject_assembly_dict(bioproject_template_dict, sample_id):\n",
    "    formatted_dict = {}\n",
    "    for key, value in bioproject_template_dict.items():\n",
    "        # Format the key\n",
    "        formatted_key = key.format(sample_id=sample_id)\n",
    "        formatted_dict[formatted_key] = {}\n",
    "\n",
    "        # Format the values, which may be strings or lists\n",
    "        for sub_key, sub_value in value.items():\n",
    "            if isinstance(sub_value, str):\n",
    "                formatted_dict[formatted_key][sub_key] = sub_value.format(sample_id=sample_id)\n",
    "            elif isinstance(sub_value, list):\n",
    "                # If it's a list, format each item in the list\n",
    "                formatted_dict[formatted_key][sub_key] = [item.format(sample_id=sample_id) for item in sub_value]\n",
    "\n",
    "    return formatted_dict"
   ]
  },
  {
   "cell_type": "code",
   "execution_count": 140,
   "id": "399445ad-56a5-444b-a0e7-f05638766f70",
   "metadata": {},
   "outputs": [],
   "source": [
    "trio_sample_list = [trio_sample for trio_sample in bioproject_sample['Sample'].tolist() if trio_sample.startswith('NA')]"
   ]
  },
  {
   "cell_type": "code",
   "execution_count": 179,
   "id": "fd6704cd-2b5a-440c-9532-9dd6737d8144",
   "metadata": {},
   "outputs": [],
   "source": [
    "\n",
    "bioproject_assembly_list = []\n",
    "\n",
    "bioproject_haplotype1_list = []\n",
    "bioproject_haplotype2_list = []\n",
    "\n",
    "bioproject_maternal_list = []\n",
    "bioproject_paternal_list = []\n",
    "\n",
    "for sample in bioproject_df['Sample'].tolist():\n",
    "    biosample_accession = bioproject_df[bioproject_df['Sample'].isin([sample])].Accession.tolist()[0]\n",
    "    \n",
    "    if sample.startswith('NA'):\n",
    "        \n",
    "        sample_bioproject_dict = create_bioproject_assembly_dict(bioproject_hic_phased_assembly_dict, sample)\n",
    "        \n",
    "        sample_bioproject = pd.DataFrame.from_dict(sample_bioproject_dict['Bioproject-Assembly-HiC-Phased'],orient='index').drop(labels=['components']).T\n",
    "        sample_bioproject['Accession'] = biosample_accession\n",
    "        sample_bioproject['Sample'] = sample\n",
    "        sample_bioproject['Organism']= 'Homo sapiens'\n",
    "        bioproject_assembly_list.append(sample_bioproject)\n",
    "\n",
    "        sample_hap1_bioproject = pd.DataFrame.from_dict(sample_bioproject_dict['Bioproject-Assembly-DataLevel-Haplotype1'], orient='index').T\n",
    "        sample_hap1_bioproject['Accession'] = biosample_accession\n",
    "        sample_hap1_bioproject['Sample'] = sample\n",
    "        sample_hap1_bioproject['Organism']= 'Homo sapiens'\n",
    "        bioproject_haplotype1_list.append(sample_hap1_bioproject)\n",
    "\n",
    "        sample_hap2_bioproject = pd.DataFrame.from_dict(sample_bioproject_dict['Bioproject-Assembly-DataLevel-Haplotype2'], orient='index').T\n",
    "        sample_hap2_bioproject['Accession'] = biosample_accession\n",
    "        sample_hap2_bioproject['Sample'] = sample\n",
    "        sample_hap2_bioproject['Organism']= 'Homo sapiens'\n",
    "        bioproject_haplotype2_list.append(sample_hap2_bioproject)\n",
    "        \n",
    "    \n",
    "    else:\n",
    "        \n",
    "        sample_bioproject_dict = create_bioproject_assembly_dict(bioproject_trio_assembly_dict, sample)\n",
    "        \n",
    "        sample_bioproject = pd.DataFrame.from_dict(sample_bioproject_dict['Bioproject-Assembly-Trio'],orient='index').drop(labels=['components']).T\n",
    "        sample_bioproject['Accession'] = biosample_accession\n",
    "        sample_bioproject['Sample'] = sample\n",
    "        sample_bioproject['Organism']= 'Homo sapiens'\n",
    "        bioproject_assembly_list.append(sample_bioproject)\n",
    "\n",
    "        sample_maternal_bioproject = pd.DataFrame.from_dict(sample_bioproject_dict['Bioproject-Assembly-DataLevel-Maternal'],orient='index').T\n",
    "        sample_maternal_bioproject['Accession'] = biosample_accession\n",
    "        sample_maternal_bioproject['Sample'] = sample\n",
    "        sample_maternal_bioproject['Organism']= 'Homo sapiens'\n",
    "        bioproject_maternal_list.append(sample_maternal_bioproject)\n",
    "\n",
    "\n",
    "        sample_paternal_bioproject = pd.DataFrame.from_dict(sample_bioproject_dict['Bioproject-Assembly-DataLevel-Paternal'],orient='index').T\n",
    "        sample_paternal_bioproject['Accession'] = biosample_accession\n",
    "        sample_paternal_bioproject['Sample'] = sample\n",
    "        sample_paternal_bioproject['Organism']= 'Homo sapiens'\n",
    "        bioproject_paternal_list.append(sample_paternal_bioproject)"
   ]
  },
  {
   "cell_type": "code",
   "execution_count": 180,
   "id": "23f40946-b1ba-4342-a283-82b8fc715c71",
   "metadata": {},
   "outputs": [],
   "source": [
    "bioproject_assembly_df = pd.concat(bioproject_assembly_list)\n",
    "bioproject_assembly_df.to_csv('../ncbi-bioproject/create-bioproject-identifiers/PRJNA730822-BioProject-Assemblies.tsv', sep='\\t')"
   ]
  },
  {
   "cell_type": "code",
   "execution_count": 181,
   "id": "8d520071-f79d-424d-9294-80a3fcab5013",
   "metadata": {},
   "outputs": [],
   "source": [
    "bioproject_maternal_df = pd.concat(bioproject_maternal_list)\n",
    "bioproject_maternal_df.to_csv('../ncbi-bioproject/create-bioproject-identifiers/PRJNA730822-BioProject-Assemblies-DataLevel-Haplotype-Maternal.tsv', sep='\\t')"
   ]
  },
  {
   "cell_type": "code",
   "execution_count": 182,
   "id": "ad36df0f-6dcf-4486-a367-2957ca76492f",
   "metadata": {},
   "outputs": [],
   "source": [
    "bioproject_paternal_df = pd.concat(bioproject_paternal_list)\n",
    "bioproject_paternal_df.to_csv('../ncbi-bioproject/create-bioproject-identifiers/PRJNA730822-BioProject-Assemblies-DataLevel-Haplotype-Paternal.tsv', sep='\\t')"
   ]
  },
  {
   "cell_type": "code",
   "execution_count": 183,
   "id": "2542e65a-09b0-43fa-a5ef-45aec0ade88b",
   "metadata": {},
   "outputs": [],
   "source": [
    "bioproject_hap1_df = pd.concat(bioproject_haplotype1_list)\n",
    "bioproject_hap1_df.to_csv('../ncbi-bioproject/create-bioproject-identifiers/PRJNA730822-BioProject-Assemblies-DataLevel-Haplotype-1.tsv', sep='\\t')"
   ]
  },
  {
   "cell_type": "code",
   "execution_count": 184,
   "id": "e376b249-face-4947-9fea-0ee684586e42",
   "metadata": {},
   "outputs": [],
   "source": [
    "bioproject_hap2_df = pd.concat(bioproject_haplotype2_list)\n",
    "bioproject_hap2_df.to_csv('../ncbi-bioproject/create-bioproject-identifiers/PRJNA730822-BioProject-Assemblies-DataLevel-Haplotype-2.tsv', sep='\\t')"
   ]
  },
  {
   "cell_type": "code",
   "execution_count": null,
   "id": "814b72e8-f5fe-4ee4-9a04-91e78cd9b321",
   "metadata": {},
   "outputs": [],
   "source": []
  },
  {
   "cell_type": "code",
   "execution_count": null,
   "id": "cda7717d-0c20-4c75-b739-969ab402eb77",
   "metadata": {},
   "outputs": [],
   "source": []
  },
  {
   "cell_type": "code",
   "execution_count": null,
   "id": "47389062-ed7f-479d-bc02-6c220524a7e6",
   "metadata": {},
   "outputs": [],
   "source": []
  },
  {
   "cell_type": "code",
   "execution_count": null,
   "id": "ff4e6a48-e46f-43a9-aef4-b00fa91092bc",
   "metadata": {},
   "outputs": [],
   "source": []
  },
  {
   "cell_type": "code",
   "execution_count": 88,
   "id": "a535b192-4ac4-4dbc-be49-456314355a3c",
   "metadata": {},
   "outputs": [
    {
     "name": "stdout",
     "output_type": "stream",
     "text": [
      "{'PRJNA730823': {'title': 'Human Pangenome Reference Consortium', 'type': 'Umbrella', 'components': ['PRJNA730822'], 'umbrella-bioproject': 'main', 'Description': 'The Human Pangenome Reference Consortium aims to create a collection of high-quality reference genomes that represent the genetic diversity of the human population.'}, 'PRJNA730822': {'title': 'HPRC Assembly', 'type': 'Umbrella', 'components': [], 'umbrella-bioproject': 'PRJNA730823', 'Description': 'This project contains assemblies generated for the Human Pangenome Reference Consortium (HPRC). The Human Pangenome Reference Consortium aims to create a collection of high-quality reference genomes that represent the genetic diversity of the human population.'}, 'Bioproject-Assembly-HiC-Phased-NA18522': {'title': 'Assembly of NA18522', 'type': 'Umbrella', 'components': ['Bioproject-Assembly-DataLevel-Haplotype1-', 'Bioproject-Assembly-DataLevel-Haplotype2'], 'umbrella-bioproject': 'PRJNA730822', 'Description': 'NA18522 assembly generated by the Human Pangenome Reference Consortium.'}, 'Bioproject-Assembly-DataLevel-Haplotype1': {'title': 'Assembly of NA18522 Haplotype 1', 'type': 'Genome sequencing and assembly', 'umbrella-bioproject': 'Bioproject-Assembly-HiC-Phased-NA18522', 'Description': 'NA18522 haplotype1 assembly generated by the Human Pangenome Reference Consortium using hic phasing. Mitochondrial sequences are included in haplotype 2. For male samples, chrY sequences are included in haplotype 1 and chrX sequences are included in haplotype 2.'}, 'Bioproject-Assembly-DataLevel-Haplotype2': {'title': 'Assembly of NA18522 Haplotype 2', 'type': 'Genome sequencing and assembly', 'umbrella-bioproject': 'Bioproject-Assembly-HiC-Phased-NA18522', 'Description': 'NA18522 haplotype 2 assembly generated by the Human Pangenome Reference Consortium using hic phasing. Mitochondrial sequences are included in haplotype 2. For male samples, chrY sequences are included in haplotype 1 and chrX sequences are included in haplotype 2.'}}\n"
     ]
    }
   ],
   "source": [
    "trio_sample_list = [trio_sample for trio_sample in bioproject_sample['Sample'].tolist() if trio_sample.startswith('NA')]\n",
    "\n",
    "for trio_sample in trio_sample_list:\n",
    "    ncbi_bioproject_dict.update(create_bioproject_assembly_dict(bioproject_hic_phased_assembly_dict, trio_sample))\n",
    "    print(ncbi_bioproject_dict)\n",
    "    break"
   ]
  },
  {
   "cell_type": "code",
   "execution_count": 81,
   "id": "06ccceaf-2c5c-4f3d-98d1-c9ca2875d145",
   "metadata": {},
   "outputs": [
    {
     "data": {
      "text/plain": [
       "{'Bioproject-Assembly-HiC-Phased-NA20905': {'title': 'Assembly of NA20905',\n",
       "  'type': 'Umbrella',\n",
       "  'components': ['Bioproject-Assembly-DataLevel-Haplotype1-',\n",
       "   'Bioproject-Assembly-DataLevel-Haplotype2'],\n",
       "  'umbrella-bioproject': 'PRJNA730822',\n",
       "  'Description': 'NA20905 assembly generated by the Human Pangenome Reference Consortium.'},\n",
       " 'Bioproject-Assembly-DataLevel-Haplotype1': {'title': 'Assembly of NA20905 Haplotype 1',\n",
       "  'type': 'Genome sequencing and assembly',\n",
       "  'umbrella-bioproject': 'Bioproject-Assembly-HiC-Phased-NA20905',\n",
       "  'Description': 'NA20905 haplotype1 assembly generated by the Human Pangenome Reference Consortium using hic phasing. Mitochondrial sequences are included in haplotype 2. For male samples, chrY sequences are included in haplotype 1 and chrX sequences are included in haplotype 2.'},\n",
       " 'Bioproject-Assembly-DataLevel-Haplotype2': {'title': 'Assembly of NA20905 Haplotype 2',\n",
       "  'type': 'Genome sequencing and assembly',\n",
       "  'umbrella-bioproject': 'Bioproject-Assembly-HiC-Phased-NA20905',\n",
       "  'Description': 'NA20905 haplotype 2 assembly generated by the Human Pangenome Reference Consortium using hic phasing. Mitochondrial sequences are included in haplotype 2. For male samples, chrY sequences are included in haplotype 1 and chrX sequences are included in haplotype 2.'}}"
      ]
     },
     "execution_count": 81,
     "metadata": {},
     "output_type": "execute_result"
    }
   ],
   "source": [
    "create_bioproject_assembly_dict(bioproject_hic_phased_assembly_dict, 'NA20905')"
   ]
  },
  {
   "cell_type": "code",
   "execution_count": 82,
   "id": "370a471e-1451-45d0-b151-21993e9253ef",
   "metadata": {},
   "outputs": [
    {
     "data": {
      "text/plain": [
       "{'Bioproject-Assembly-Trio-HG00621': {'title': 'Assembly of HG00621',\n",
       "  'type': 'Umbrella',\n",
       "  'components': ['Bioproject-Assembly-DataLevel-Maternal',\n",
       "   'Bioproject-Assembly-DataLevel-Paternal'],\n",
       "  'umbrella-bioproject': 'PRJNA730822',\n",
       "  'Description': 'HG00621 assembly generated by the Human Pangenome Reference Consortium'},\n",
       " 'Bioproject-Assembly-DataLevel-Maternal': {'title': 'Assembly of HG00621 Maternal Haplotype',\n",
       "  'type': 'Genome sequencing and assembly',\n",
       "  'umbrella-bioproject': 'Bioproject-Assembly-Trio-HG00621',\n",
       "  'Description': 'HG00621 maternal assembly generated by the Human Pangenome Reference Consortium using trio phasing.'},\n",
       " 'Bioproject-Assembly-DataLevel-Paternal': {'title': 'Assembly of HG00621 Paternal Haplotype',\n",
       "  'type': 'Genome sequencing and assembly',\n",
       "  'umbrella-bioproject': 'Bioproject-Assembly-Trio-HG00621',\n",
       "  'Description': 'HG00621 paternal assembly generated by the Human Pangenome Reference Consortium using trio phasing.'}}"
      ]
     },
     "execution_count": 82,
     "metadata": {},
     "output_type": "execute_result"
    }
   ],
   "source": [
    "create_bioproject_assembly_dict(bioproject_trio_assembly_dict, 'HG00621')"
   ]
  }
 ],
 "metadata": {
  "kernelspec": {
   "display_name": "Python 3 (ipykernel)",
   "language": "python",
   "name": "python3"
  },
  "language_info": {
   "codemirror_mode": {
    "name": "ipython",
    "version": 3
   },
   "file_extension": ".py",
   "mimetype": "text/x-python",
   "name": "python",
   "nbconvert_exporter": "python",
   "pygments_lexer": "ipython3",
   "version": "3.11.8"
  }
 },
 "nbformat": 4,
 "nbformat_minor": 5
}
