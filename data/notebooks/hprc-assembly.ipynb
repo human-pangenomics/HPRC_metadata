{
 "cells": [
  {
   "cell_type": "markdown",
   "id": "6c6d63e8-5aa5-42e0-b614-86b0ff0cacbc",
   "metadata": {},
   "source": [
    "On the genbank/bioproject side, here is what I have for to dos (in roughly the order I suggest you tackle them):\n",
    "\n",
    "go through an example genbank submission to familiarize yourself with the process\n",
    "review our existing bioprojects (for assemblies) to see if we need to request changes\n",
    "get a list of our existing bioprojects for assemblies and throw those up in github somewhere\n",
    "\n",
    "create a list of bioprojects that will need to be created\n",
    "all samples from Y2-4 will need new bioprojects, I believe\n",
    "our genbank curator may do this for us. if she does not, we may need instructions for that too.\n",
    "\n",
    "I seem to remember that creating bioprojects isn't too bad, but linking them can be a pill. That may not be true \n",
    "anymore, though.\n",
    "\n",
    "come up with a list of questions/requests for our genbank curator; things like:\n",
    "how upload assemblies for samples that already have assemblies?\n",
    "do we need to update the type of bioproject so it doesn't show \"pseudohaplotype\" anywhere?\n",
    "\n",
    "create instructions in confluence for uploading assemblies to genbank\n",
    "update the figure above in LucidCharts (or whatever) and put that on our GitHub\n",
    "this one is totally backburner, btw. I think it's a nice-to-have."
   ]
  },
  {
   "cell_type": "code",
   "execution_count": 1,
   "id": "7c6dfe4d-1b97-4441-8aac-dcb249afcd0d",
   "metadata": {},
   "outputs": [],
   "source": [
    "import re\n",
    "import collections\n",
    "import pandas as pd\n",
    "from Bio import Entrez\n",
    "import numpy as np\n",
    "import xml.etree.ElementTree as ET\n"
   ]
  },
  {
   "cell_type": "markdown",
   "id": "c7da5f97-ebd6-46b6-bac8-a417b666e852",
   "metadata": {},
   "source": [
    "```\n",
    "esearch -db bioproject -query PRJNA730822 | efetch -format runinfo -mode xml > PRJNA730822.xml\n",
    "```"
   ]
  },
  {
   "cell_type": "code",
   "execution_count": 13,
   "id": "219120e6-4fd2-485a-b0a3-07d2ccab6685",
   "metadata": {},
   "outputs": [],
   "source": [
    "# Set your email (required by NCBI)\n",
    "Entrez.email = \"apblair@ucsc.edu\"\n",
    "\n",
    "def get_bioproject_identifiers(biosample_id):\n",
    "    handle = Entrez.esearch(db=\"bioproject\", term=biosample_id)\n",
    "    record = Entrez.read(handle)\n",
    "    handle.close()\n",
    "    biosample_id = record['IdList'][0]\n",
    "    handle = Entrez.esummary(db=\"bioproject\", id=biosample_id)\n",
    "    summary_record = Entrez.read(handle)\n",
    "    handle.close()\n",
    "    bioproj_id = re.findall(r'\\bHG\\w+', summary_record['DocumentSummarySet']['DocumentSummary'][0]['Project_Title'])\n",
    "    if bioproj_id == []:\n",
    "        bioproj_id = re.findall(r'\\bNA\\w+', summary_record['DocumentSummarySet']['DocumentSummary'][0]['Project_Title'])\n",
    "    return bioproj_id, summary_record"
   ]
  },
  {
   "cell_type": "code",
   "execution_count": 14,
   "id": "9f3af0a6-f036-4acc-b84f-56f3ed675326",
   "metadata": {},
   "outputs": [],
   "source": [
    "# Path to your XML file\n",
    "xml_file = \"PRJNA730822.xml\"\n",
    "bioproject_umbrella_id = xml_file.split(\".xml\")[0]\n",
    "# Parse the XML file\n",
    "tree = ET.parse(xml_file)\n",
    "root = tree.getroot()"
   ]
  },
  {
   "cell_type": "code",
   "execution_count": 15,
   "id": "f16b0731-0dba-46ca-8a13-b2c4544ca7fb",
   "metadata": {},
   "outputs": [],
   "source": [
    "bioproject_idref_dict = {bioproject_umbrella_id:         \n",
    "    [link.find('ProjectIDRef').get('accession') for link in root.findall('.//ProjectLinks/Link')]}"
   ]
  },
  {
   "cell_type": "code",
   "execution_count": 18,
   "id": "4457c681-3798-4e1a-bd5f-1cb60ff02caa",
   "metadata": {},
   "outputs": [
    {
     "name": "stdout",
     "output_type": "stream",
     "text": [
      "{'PRJNA727229': None, 'PRJNA727233': None, 'PRJNA727234': None, 'PRJNA727235': None, 'PRJNA727236': None, 'PRJNA727241': None, 'PRJNA727242': None, 'PRJNA727244': None, 'PRJNA727245': None, 'PRJNA727246': None, 'PRJNA727248': None, 'PRJNA727250': None, 'PRJNA727251': None, 'PRJNA727252': None, 'PRJNA727254': None, 'PRJNA727255': None, 'PRJNA727256': None, 'PRJNA727257': None, 'PRJNA727258': None, 'PRJNA727259': None, 'PRJNA727260': None, 'PRJNA727262': None, 'PRJNA727263': None, 'PRJNA727265': None, 'PRJNA727266': None, 'PRJNA727267': None, 'PRJNA727268': None, 'PRJNA727269': None, 'PRJNA727270': None, 'PRJNA730822': None, 'PRJNA731866': None, 'PRJNA731869': None, 'PRJNA731875': None, 'PRJNA731877': None, 'PRJNA731878': None, 'PRJNA731883': None, 'PRJNA731884': None, 'PRJNA731885': None, 'PRJNA731886': None, 'PRJNA731888': None, 'PRJNA731889': None, 'PRJNA731891': None, 'PRJNA731892': None, 'PRJNA731893': None, 'PRJNA731895': None, 'PRJNA731896': None, 'PRJNA731901': None, 'PRJNA731902': None}\n",
      "PRJNA727270 [] Homo sapiens\n",
      "PRJNA730822 [] HPRC Assembly\n"
     ]
    }
   ],
   "source": [
    "bioproject_corriel_dict = {bioproj_assembly:None for bioproj_assembly in bioproject_idref_dict[bioproject_umbrella_id]}\n",
    "\n",
    "print(bioproject_corriel_dict)\n",
    "\n",
    "for bioproject_id in bioproject_idref_dict[xml_file.split(\".xml\")[0]]:\n",
    "    bioproj_id,  bioproject_summary_record = get_bioproject_identifiers(bioproject_id)\n",
    "    if bioproj_id == []:\n",
    "        print(bioproject_id, bioproj_id, bioproject_summary_record['DocumentSummarySet']['DocumentSummary'][0]['Project_Title'])\n",
    "    else:\n",
    "        bioproject_corriel_dict[bioproject_id] = bioproj_id[0]\n"
   ]
  },
  {
   "cell_type": "code",
   "execution_count": 21,
   "id": "e52717e0-e710-4ae7-9c58-4f3e8d8ffb17",
   "metadata": {},
   "outputs": [],
   "source": [
    "bioproject_corriel_dict['PRJNA727270'] = 'HG00735' # This project is a component of the HPRC Assembly"
   ]
  },
  {
   "cell_type": "code",
   "execution_count": 23,
   "id": "7450dba9-5bd0-415f-a7cc-e15a4bb0cf03",
   "metadata": {},
   "outputs": [],
   "source": [
    "bioproject_corriel_dict = {key: value for key, value in bioproject_corriel_dict.items() if value is not None}"
   ]
  },
  {
   "cell_type": "code",
   "execution_count": 55,
   "id": "c62bad2b-08c8-4311-b7ac-18bc21628244",
   "metadata": {},
   "outputs": [],
   "source": [
    "bioproject_corriel_df = pd.DataFrame.from_dict(bioproject_corriel_dict,orient='index')\n",
    "bioproject_corriel_ids = bioproject_corriel_df[0].tolist()"
   ]
  },
  {
   "cell_type": "code",
   "execution_count": 105,
   "id": "85325a44-bcf8-40a5-af56-af854f9e9cf6",
   "metadata": {},
   "outputs": [],
   "source": [
    "bioproject_corriel_df['BioProject-PRJNA730822-Umbrella'] = bioproject_corriel_df.index\n",
    "bioproject_corriel_df.columns=['Corriel-ID','BioProject-PRJNA730822-Umbrella']"
   ]
  },
  {
   "cell_type": "code",
   "execution_count": 109,
   "id": "0acfe7f0-b090-467d-8762-fa88aed5a4a5",
   "metadata": {},
   "outputs": [],
   "source": [
    "bioproject_corriel_df = bioproject_corriel_df.reset_index(drop=True)"
   ]
  },
  {
   "cell_type": "code",
   "execution_count": 113,
   "id": "eda1310f-aba4-4c7b-9097-daa1ab67d117",
   "metadata": {},
   "outputs": [],
   "source": [
    "bioproject_corriel_df.to_csv('ncbi-bioproject/PRJNA730822/PRJNA730822-BioProject-Umbrella-Corriel-IDs.tsv', sep='\\t',index=False)"
   ]
  },
  {
   "cell_type": "code",
   "execution_count": 77,
   "id": "4021cc1b-d0d6-4ca2-9c56-b16c072e60a7",
   "metadata": {},
   "outputs": [
    {
     "data": {
      "text/plain": [
       "47"
      ]
     },
     "execution_count": 77,
     "metadata": {},
     "output_type": "execute_result"
    }
   ],
   "source": [
    "len(bioproject_corriel_ids)"
   ]
  },
  {
   "cell_type": "code",
   "execution_count": 118,
   "id": "9cacfa84-305d-4622-a6e7-033d4da8e497",
   "metadata": {},
   "outputs": [],
   "source": [
    "hprc_production_df = pd.read_csv('production/hprc-production-biosample-table-20240409.tsv', sep='\\t')"
   ]
  },
  {
   "cell_type": "code",
   "execution_count": 117,
   "id": "f792e550-2f0a-4dd4-8787-78b9a1f0b975",
   "metadata": {},
   "outputs": [
    {
     "data": {
      "text/html": [
       "<div>\n",
       "<style scoped>\n",
       "    .dataframe tbody tr th:only-of-type {\n",
       "        vertical-align: middle;\n",
       "    }\n",
       "\n",
       "    .dataframe tbody tr th {\n",
       "        vertical-align: top;\n",
       "    }\n",
       "\n",
       "    .dataframe thead th {\n",
       "        text-align: right;\n",
       "    }\n",
       "</style>\n",
       "<table border=\"1\" class=\"dataframe\">\n",
       "  <thead>\n",
       "    <tr style=\"text-align: right;\">\n",
       "      <th></th>\n",
       "      <th>Sample</th>\n",
       "      <th>Accession</th>\n",
       "      <th>familyID</th>\n",
       "      <th>Subpopulation</th>\n",
       "      <th>Superpopulation</th>\n",
       "      <th>Production Year</th>\n",
       "    </tr>\n",
       "  </thead>\n",
       "  <tbody>\n",
       "    <tr>\n",
       "      <th>0</th>\n",
       "      <td>HG01891</td>\n",
       "      <td>SAMN17861236</td>\n",
       "      <td>BB05</td>\n",
       "      <td>ACB</td>\n",
       "      <td>AFR</td>\n",
       "      <td>YR1</td>\n",
       "    </tr>\n",
       "    <tr>\n",
       "      <th>1</th>\n",
       "      <td>HG02486</td>\n",
       "      <td>SAMN17861238</td>\n",
       "      <td>BB55</td>\n",
       "      <td>ACB</td>\n",
       "      <td>AFR</td>\n",
       "      <td>YR1</td>\n",
       "    </tr>\n",
       "    <tr>\n",
       "      <th>2</th>\n",
       "      <td>HG02559</td>\n",
       "      <td>SAMN17861239</td>\n",
       "      <td>BB68</td>\n",
       "      <td>ACB</td>\n",
       "      <td>AFR</td>\n",
       "      <td>YR1</td>\n",
       "    </tr>\n",
       "    <tr>\n",
       "      <th>3</th>\n",
       "      <td>HG02257</td>\n",
       "      <td>SAMN17861237</td>\n",
       "      <td>BB21</td>\n",
       "      <td>ACB</td>\n",
       "      <td>AFR</td>\n",
       "      <td>YR1</td>\n",
       "    </tr>\n",
       "    <tr>\n",
       "      <th>4</th>\n",
       "      <td>HG01358</td>\n",
       "      <td>SAMN17861234</td>\n",
       "      <td>CLM31</td>\n",
       "      <td>CLM</td>\n",
       "      <td>AMR</td>\n",
       "      <td>YR1</td>\n",
       "    </tr>\n",
       "  </tbody>\n",
       "</table>\n",
       "</div>"
      ],
      "text/plain": [
       "    Sample     Accession familyID Subpopulation Superpopulation  \\\n",
       "0  HG01891  SAMN17861236     BB05           ACB             AFR   \n",
       "1  HG02486  SAMN17861238     BB55           ACB             AFR   \n",
       "2  HG02559  SAMN17861239     BB68           ACB             AFR   \n",
       "3  HG02257  SAMN17861237     BB21           ACB             AFR   \n",
       "4  HG01358  SAMN17861234    CLM31           CLM             AMR   \n",
       "\n",
       "  Production Year  \n",
       "0             YR1  \n",
       "1             YR1  \n",
       "2             YR1  \n",
       "3             YR1  \n",
       "4             YR1  "
      ]
     },
     "execution_count": 117,
     "metadata": {},
     "output_type": "execute_result"
    }
   ],
   "source": [
    "hprc_production_biosample.head()"
   ]
  },
  {
   "cell_type": "code",
   "execution_count": 138,
   "id": "155bff51-9acf-4c84-9d77-6ebbcf7bd511",
   "metadata": {},
   "outputs": [
    {
     "data": {
      "text/plain": [
       "Counter({'YR4': 101, 'YR3': 69, 'YR2': 52, 'YR1': 30})"
      ]
     },
     "execution_count": 138,
     "metadata": {},
     "output_type": "execute_result"
    }
   ],
   "source": [
    "collections.Counter(hprc_production_biosample['Production Year'].tolist())"
   ]
  },
  {
   "cell_type": "code",
   "execution_count": 153,
   "id": "8194a95c-86e9-487a-9e90-421ddc72c4fb",
   "metadata": {},
   "outputs": [],
   "source": [
    "hprc_production_biosample[hprc_production_biosample['Production Year'].isin(['YR2',\\\n",
    "                                                                             'YR3',\\\n",
    "                                                                             'YR4'])].to_csv('ncbi-bioproject/create-bioproject-identifiers/hprc-production-create-YR2_4-bioproject-20240409.tsv', \n",
    "                                                                                             sep='\\t', index=False)"
   ]
  },
  {
   "cell_type": "code",
   "execution_count": null,
   "id": "54c5bc3b-30ec-4f03-81f9-438954297977",
   "metadata": {},
   "outputs": [],
   "source": [
    "hprc_production_biosample[hprc_production_biosample['Production Year'].isin(['YR1'])].Sample.tolist()"
   ]
  },
  {
   "cell_type": "code",
   "execution_count": 119,
   "id": "20eac6cd-c981-4990-a82c-5b6544160937",
   "metadata": {},
   "outputs": [],
   "source": [
    "hprc_production_assembly_df = hprc_production_df[hprc_production_df['Sample'].isin(bioproject_corriel_ids)]"
   ]
  },
  {
   "cell_type": "code",
   "execution_count": 147,
   "id": "f22a7716-ea5a-4874-bdfe-e9ce2828a912",
   "metadata": {},
   "outputs": [
    {
     "data": {
      "text/plain": [
       "['HG03471']"
      ]
     },
     "execution_count": 147,
     "metadata": {},
     "output_type": "execute_result"
    }
   ],
   "source": [
    "# HG03471 is not HPRC Production\n",
    "[sample for sample in hprc_production_biosample[hprc_production_biosample['Production Year'].isin(['YR1'])].Sample.tolist() \\\n",
    " if sample not in hprc_production_assembly_df['Sample'].tolist()]"
   ]
  },
  {
   "cell_type": "code",
   "execution_count": 120,
   "id": "56c43e46-b553-4cc7-b2ac-5c3e923ad505",
   "metadata": {},
   "outputs": [
    {
     "data": {
      "text/plain": [
       "Counter({'YR1': 29})"
      ]
     },
     "execution_count": 120,
     "metadata": {},
     "output_type": "execute_result"
    }
   ],
   "source": [
    "collections.Counter(hprc_production_assembly_df['Production Year'].tolist())"
   ]
  },
  {
   "cell_type": "code",
   "execution_count": 122,
   "id": "73636584-65d9-4671-80fe-4d4b82ab66b2",
   "metadata": {},
   "outputs": [
    {
     "data": {
      "text/plain": [
       "(29, 6)"
      ]
     },
     "execution_count": 122,
     "metadata": {},
     "output_type": "execute_result"
    }
   ],
   "source": [
    "hprc_production_assembly_df.shape"
   ]
  },
  {
   "cell_type": "code",
   "execution_count": 123,
   "id": "8cc6c5a9-1b50-4477-9286-2a0ce9a2b15e",
   "metadata": {},
   "outputs": [],
   "source": [
    "hprc_plus_df = pd.read_csv('hprc-plus/hprc-plus-CorriellIDs.tsv',sep='\\t')\n",
    "hprc_plus_ids = hprc_plus_df['HPRC-plus-CorriellIDs'].tolist()"
   ]
  },
  {
   "cell_type": "code",
   "execution_count": 124,
   "id": "ba9f7280-664e-401e-a434-7bfd9902b88a",
   "metadata": {},
   "outputs": [
    {
     "data": {
      "text/plain": [
       "23"
      ]
     },
     "execution_count": 124,
     "metadata": {},
     "output_type": "execute_result"
    }
   ],
   "source": [
    "len(hprc_plus_ids)"
   ]
  },
  {
   "cell_type": "code",
   "execution_count": 129,
   "id": "bf7aef52-aa53-4d19-a05d-e687cc70231b",
   "metadata": {},
   "outputs": [
    {
     "data": {
      "text/html": [
       "<div>\n",
       "<style scoped>\n",
       "    .dataframe tbody tr th:only-of-type {\n",
       "        vertical-align: middle;\n",
       "    }\n",
       "\n",
       "    .dataframe tbody tr th {\n",
       "        vertical-align: top;\n",
       "    }\n",
       "\n",
       "    .dataframe thead th {\n",
       "        text-align: right;\n",
       "    }\n",
       "</style>\n",
       "<table border=\"1\" class=\"dataframe\">\n",
       "  <thead>\n",
       "    <tr style=\"text-align: right;\">\n",
       "      <th></th>\n",
       "      <th>Corriel-ID</th>\n",
       "      <th>BioProject-PRJNA730822-Umbrella</th>\n",
       "    </tr>\n",
       "  </thead>\n",
       "  <tbody>\n",
       "    <tr>\n",
       "      <th>0</th>\n",
       "      <td>HG02257</td>\n",
       "      <td>PRJNA727229</td>\n",
       "    </tr>\n",
       "    <tr>\n",
       "      <th>1</th>\n",
       "      <td>HG02559</td>\n",
       "      <td>PRJNA727233</td>\n",
       "    </tr>\n",
       "    <tr>\n",
       "      <th>2</th>\n",
       "      <td>HG02486</td>\n",
       "      <td>PRJNA727234</td>\n",
       "    </tr>\n",
       "    <tr>\n",
       "      <th>3</th>\n",
       "      <td>HG01891</td>\n",
       "      <td>PRJNA727235</td>\n",
       "    </tr>\n",
       "    <tr>\n",
       "      <th>4</th>\n",
       "      <td>HG03516</td>\n",
       "      <td>PRJNA727236</td>\n",
       "    </tr>\n",
       "  </tbody>\n",
       "</table>\n",
       "</div>"
      ],
      "text/plain": [
       "  Corriel-ID BioProject-PRJNA730822-Umbrella\n",
       "0    HG02257                     PRJNA727229\n",
       "1    HG02559                     PRJNA727233\n",
       "2    HG02486                     PRJNA727234\n",
       "3    HG01891                     PRJNA727235\n",
       "4    HG03516                     PRJNA727236"
      ]
     },
     "execution_count": 129,
     "metadata": {},
     "output_type": "execute_result"
    }
   ],
   "source": [
    "bioproject_corriel_df.head()"
   ]
  },
  {
   "cell_type": "code",
   "execution_count": 133,
   "id": "509d185c-37d0-4af3-8119-4a5a6a45002c",
   "metadata": {},
   "outputs": [],
   "source": [
    "assembly_ids_missing_in_hprc_production = bioproject_corriel_df[bioproject_corriel_df['Corriel-ID'].isin([sample for sample in bioproject_corriel_ids if sample not in hprc_production_assembly_df['Sample'].tolist()])]['Corriel-ID'].tolist()"
   ]
  },
  {
   "cell_type": "code",
   "execution_count": 134,
   "id": "c89cefb4-6521-44f6-b258-23639eff6c93",
   "metadata": {},
   "outputs": [
    {
     "data": {
      "text/plain": [
       "18"
      ]
     },
     "execution_count": 134,
     "metadata": {},
     "output_type": "execute_result"
    }
   ],
   "source": [
    "len([sample for sample in assembly_ids_missing_in_hprc_production if sample in hprc_plus_ids])"
   ]
  },
  {
   "cell_type": "code",
   "execution_count": 135,
   "id": "8fa3aabb-439a-4964-8221-9bf8d8d018f4",
   "metadata": {},
   "outputs": [],
   "source": [
    "assert len(assembly_ids_missing_in_hprc_production) + hprc_production_assembly_df.shape[0] == len(bioproject_corriel_ids)"
   ]
  }
 ],
 "metadata": {
  "kernelspec": {
   "display_name": "Python 3 (ipykernel)",
   "language": "python",
   "name": "python3"
  },
  "language_info": {
   "codemirror_mode": {
    "name": "ipython",
    "version": 3
   },
   "file_extension": ".py",
   "mimetype": "text/x-python",
   "name": "python",
   "nbconvert_exporter": "python",
   "pygments_lexer": "ipython3",
   "version": "3.11.8"
  }
 },
 "nbformat": 4,
 "nbformat_minor": 5
}
