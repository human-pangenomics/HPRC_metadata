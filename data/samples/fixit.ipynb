{
 "cells": [
  {
   "cell_type": "code",
   "execution_count": 29,
   "metadata": {},
   "outputs": [],
   "source": [
    "import pandas as pd"
   ]
  },
  {
   "cell_type": "code",
   "execution_count": 40,
   "metadata": {},
   "outputs": [],
   "source": [
    "df = pd.read_csv('/private/home/apblair/HPRC_metadata/data/samples/hprc_metadata_sample_files_missing_1_submitter_HiFi.tsv',sep='\\t')\n",
    "df = df.drop(columns=['Unnamed: 0'])\n",
    "df.to_csv('/private/home/apblair/HPRC_metadata/data/samples/hprc_metadata_sample_files_missing_1_submitter_HiFi.tsv',sep='\\t',index=False)"
   ]
  }
 ],
 "metadata": {
  "language_info": {
   "name": "python"
  }
 },
 "nbformat": 4,
 "nbformat_minor": 2
}
